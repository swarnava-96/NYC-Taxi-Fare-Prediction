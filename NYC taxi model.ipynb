{
 "cells": [
  {
   "cell_type": "markdown",
   "id": "hydraulic-indie",
   "metadata": {},
   "source": [
    "# New York City Taxi Fare Prediction"
   ]
  },
  {
   "cell_type": "markdown",
   "id": "prerequisite-windows",
   "metadata": {},
   "source": [
    "### Reading the Dataset"
   ]
  },
  {
   "cell_type": "code",
   "execution_count": 1,
   "id": "incredible-chuck",
   "metadata": {},
   "outputs": [],
   "source": [
    "import pandas as pd"
   ]
  },
  {
   "cell_type": "code",
   "execution_count": 2,
   "id": "fiscal-withdrawal",
   "metadata": {},
   "outputs": [],
   "source": [
    "## This is a sample datasettaken from the main dataset\n",
    "data=pd.read_csv('taxifare.csv')"
   ]
  },
  {
   "cell_type": "code",
   "execution_count": 3,
   "id": "enhanced-glory",
   "metadata": {},
   "outputs": [],
   "source": [
    "## Taking a sample dataset from the main dataset\n",
    "df=data.sample(n=1200)"
   ]
  },
  {
   "cell_type": "code",
   "execution_count": 4,
   "id": "interracial-antarctica",
   "metadata": {},
   "outputs": [
    {
     "data": {
      "text/html": [
       "<div>\n",
       "<style scoped>\n",
       "    .dataframe tbody tr th:only-of-type {\n",
       "        vertical-align: middle;\n",
       "    }\n",
       "\n",
       "    .dataframe tbody tr th {\n",
       "        vertical-align: top;\n",
       "    }\n",
       "\n",
       "    .dataframe thead th {\n",
       "        text-align: right;\n",
       "    }\n",
       "</style>\n",
       "<table border=\"1\" class=\"dataframe\">\n",
       "  <thead>\n",
       "    <tr style=\"text-align: right;\">\n",
       "      <th></th>\n",
       "      <th>pickup_datetime</th>\n",
       "      <th>fare_amount</th>\n",
       "      <th>fare_class</th>\n",
       "      <th>pickup_longitude</th>\n",
       "      <th>pickup_latitude</th>\n",
       "      <th>dropoff_longitude</th>\n",
       "      <th>dropoff_latitude</th>\n",
       "      <th>passenger_count</th>\n",
       "    </tr>\n",
       "  </thead>\n",
       "  <tbody>\n",
       "    <tr>\n",
       "      <th>34415</th>\n",
       "      <td>2010-04-18 17:11:55 UTC</td>\n",
       "      <td>13.7</td>\n",
       "      <td>1</td>\n",
       "      <td>-73.961724</td>\n",
       "      <td>40.780550</td>\n",
       "      <td>-73.991512</td>\n",
       "      <td>40.763791</td>\n",
       "      <td>4</td>\n",
       "    </tr>\n",
       "    <tr>\n",
       "      <th>89191</th>\n",
       "      <td>2010-04-20 15:27:01 UTC</td>\n",
       "      <td>10.9</td>\n",
       "      <td>1</td>\n",
       "      <td>-73.965299</td>\n",
       "      <td>40.762866</td>\n",
       "      <td>-74.004577</td>\n",
       "      <td>40.742304</td>\n",
       "      <td>1</td>\n",
       "    </tr>\n",
       "    <tr>\n",
       "      <th>109367</th>\n",
       "      <td>2010-04-17 18:20:46 UTC</td>\n",
       "      <td>8.1</td>\n",
       "      <td>0</td>\n",
       "      <td>-73.995730</td>\n",
       "      <td>40.724783</td>\n",
       "      <td>-74.005154</td>\n",
       "      <td>40.739988</td>\n",
       "      <td>2</td>\n",
       "    </tr>\n",
       "    <tr>\n",
       "      <th>75143</th>\n",
       "      <td>2010-04-18 08:38:00 UTC</td>\n",
       "      <td>14.5</td>\n",
       "      <td>1</td>\n",
       "      <td>-73.930125</td>\n",
       "      <td>40.767052</td>\n",
       "      <td>-73.987828</td>\n",
       "      <td>40.747327</td>\n",
       "      <td>1</td>\n",
       "    </tr>\n",
       "    <tr>\n",
       "      <th>50595</th>\n",
       "      <td>2010-04-23 17:35:00 UTC</td>\n",
       "      <td>5.7</td>\n",
       "      <td>0</td>\n",
       "      <td>-73.987283</td>\n",
       "      <td>40.744778</td>\n",
       "      <td>-73.988727</td>\n",
       "      <td>40.755765</td>\n",
       "      <td>1</td>\n",
       "    </tr>\n",
       "  </tbody>\n",
       "</table>\n",
       "</div>"
      ],
      "text/plain": [
       "                pickup_datetime  fare_amount  fare_class  pickup_longitude  \\\n",
       "34415   2010-04-18 17:11:55 UTC         13.7           1        -73.961724   \n",
       "89191   2010-04-20 15:27:01 UTC         10.9           1        -73.965299   \n",
       "109367  2010-04-17 18:20:46 UTC          8.1           0        -73.995730   \n",
       "75143   2010-04-18 08:38:00 UTC         14.5           1        -73.930125   \n",
       "50595   2010-04-23 17:35:00 UTC          5.7           0        -73.987283   \n",
       "\n",
       "        pickup_latitude  dropoff_longitude  dropoff_latitude  passenger_count  \n",
       "34415         40.780550         -73.991512         40.763791                4  \n",
       "89191         40.762866         -74.004577         40.742304                1  \n",
       "109367        40.724783         -74.005154         40.739988                2  \n",
       "75143         40.767052         -73.987828         40.747327                1  \n",
       "50595         40.744778         -73.988727         40.755765                1  "
      ]
     },
     "execution_count": 4,
     "metadata": {},
     "output_type": "execute_result"
    }
   ],
   "source": [
    "df.head()"
   ]
  },
  {
   "cell_type": "code",
   "execution_count": 5,
   "id": "protected-declaration",
   "metadata": {},
   "outputs": [
    {
     "data": {
      "text/plain": [
       "(1200, 8)"
      ]
     },
     "execution_count": 5,
     "metadata": {},
     "output_type": "execute_result"
    }
   ],
   "source": [
    "df.shape"
   ]
  },
  {
   "cell_type": "code",
   "execution_count": 6,
   "id": "weekly-showcase",
   "metadata": {},
   "outputs": [
    {
     "name": "stdout",
     "output_type": "stream",
     "text": [
      "<class 'pandas.core.frame.DataFrame'>\n",
      "Int64Index: 1200 entries, 34415 to 67121\n",
      "Data columns (total 8 columns):\n",
      " #   Column             Non-Null Count  Dtype  \n",
      "---  ------             --------------  -----  \n",
      " 0   pickup_datetime    1200 non-null   object \n",
      " 1   fare_amount        1200 non-null   float64\n",
      " 2   fare_class         1200 non-null   int64  \n",
      " 3   pickup_longitude   1200 non-null   float64\n",
      " 4   pickup_latitude    1200 non-null   float64\n",
      " 5   dropoff_longitude  1200 non-null   float64\n",
      " 6   dropoff_latitude   1200 non-null   float64\n",
      " 7   passenger_count    1200 non-null   int64  \n",
      "dtypes: float64(5), int64(2), object(1)\n",
      "memory usage: 84.4+ KB\n"
     ]
    }
   ],
   "source": [
    "df.info()"
   ]
  },
  {
   "cell_type": "markdown",
   "id": "advanced-johns",
   "metadata": {},
   "source": [
    "### Feature Engineering"
   ]
  },
  {
   "cell_type": "code",
   "execution_count": 7,
   "id": "strategic-collectible",
   "metadata": {},
   "outputs": [],
   "source": [
    "import datetime"
   ]
  },
  {
   "cell_type": "markdown",
   "id": "executive-architecture",
   "metadata": {},
   "source": [
    "Converting 'pickup_datetime' into datetime and subtracting 4 hours since it is in UTC."
   ]
  },
  {
   "cell_type": "code",
   "execution_count": 8,
   "id": "rational-reconstruction",
   "metadata": {},
   "outputs": [],
   "source": [
    "df['pickup_datetime']=pd.to_datetime(df['pickup_datetime'])-datetime.timedelta(hours=4)"
   ]
  },
  {
   "cell_type": "code",
   "execution_count": 9,
   "id": "important-legend",
   "metadata": {},
   "outputs": [
    {
     "name": "stdout",
     "output_type": "stream",
     "text": [
      "<class 'pandas.core.frame.DataFrame'>\n",
      "Int64Index: 1200 entries, 34415 to 67121\n",
      "Data columns (total 8 columns):\n",
      " #   Column             Non-Null Count  Dtype              \n",
      "---  ------             --------------  -----              \n",
      " 0   pickup_datetime    1200 non-null   datetime64[ns, UTC]\n",
      " 1   fare_amount        1200 non-null   float64            \n",
      " 2   fare_class         1200 non-null   int64              \n",
      " 3   pickup_longitude   1200 non-null   float64            \n",
      " 4   pickup_latitude    1200 non-null   float64            \n",
      " 5   dropoff_longitude  1200 non-null   float64            \n",
      " 6   dropoff_latitude   1200 non-null   float64            \n",
      " 7   passenger_count    1200 non-null   int64              \n",
      "dtypes: datetime64[ns, UTC](1), float64(5), int64(2)\n",
      "memory usage: 84.4 KB\n"
     ]
    }
   ],
   "source": [
    "df.info()"
   ]
  },
  {
   "cell_type": "code",
   "execution_count": 10,
   "id": "simplified-albuquerque",
   "metadata": {},
   "outputs": [
    {
     "data": {
      "text/html": [
       "<div>\n",
       "<style scoped>\n",
       "    .dataframe tbody tr th:only-of-type {\n",
       "        vertical-align: middle;\n",
       "    }\n",
       "\n",
       "    .dataframe tbody tr th {\n",
       "        vertical-align: top;\n",
       "    }\n",
       "\n",
       "    .dataframe thead th {\n",
       "        text-align: right;\n",
       "    }\n",
       "</style>\n",
       "<table border=\"1\" class=\"dataframe\">\n",
       "  <thead>\n",
       "    <tr style=\"text-align: right;\">\n",
       "      <th></th>\n",
       "      <th>pickup_datetime</th>\n",
       "      <th>fare_amount</th>\n",
       "      <th>fare_class</th>\n",
       "      <th>pickup_longitude</th>\n",
       "      <th>pickup_latitude</th>\n",
       "      <th>dropoff_longitude</th>\n",
       "      <th>dropoff_latitude</th>\n",
       "      <th>passenger_count</th>\n",
       "    </tr>\n",
       "  </thead>\n",
       "  <tbody>\n",
       "    <tr>\n",
       "      <th>34415</th>\n",
       "      <td>2010-04-18 13:11:55+00:00</td>\n",
       "      <td>13.7</td>\n",
       "      <td>1</td>\n",
       "      <td>-73.961724</td>\n",
       "      <td>40.780550</td>\n",
       "      <td>-73.991512</td>\n",
       "      <td>40.763791</td>\n",
       "      <td>4</td>\n",
       "    </tr>\n",
       "    <tr>\n",
       "      <th>89191</th>\n",
       "      <td>2010-04-20 11:27:01+00:00</td>\n",
       "      <td>10.9</td>\n",
       "      <td>1</td>\n",
       "      <td>-73.965299</td>\n",
       "      <td>40.762866</td>\n",
       "      <td>-74.004577</td>\n",
       "      <td>40.742304</td>\n",
       "      <td>1</td>\n",
       "    </tr>\n",
       "    <tr>\n",
       "      <th>109367</th>\n",
       "      <td>2010-04-17 14:20:46+00:00</td>\n",
       "      <td>8.1</td>\n",
       "      <td>0</td>\n",
       "      <td>-73.995730</td>\n",
       "      <td>40.724783</td>\n",
       "      <td>-74.005154</td>\n",
       "      <td>40.739988</td>\n",
       "      <td>2</td>\n",
       "    </tr>\n",
       "    <tr>\n",
       "      <th>75143</th>\n",
       "      <td>2010-04-18 04:38:00+00:00</td>\n",
       "      <td>14.5</td>\n",
       "      <td>1</td>\n",
       "      <td>-73.930125</td>\n",
       "      <td>40.767052</td>\n",
       "      <td>-73.987828</td>\n",
       "      <td>40.747327</td>\n",
       "      <td>1</td>\n",
       "    </tr>\n",
       "    <tr>\n",
       "      <th>50595</th>\n",
       "      <td>2010-04-23 13:35:00+00:00</td>\n",
       "      <td>5.7</td>\n",
       "      <td>0</td>\n",
       "      <td>-73.987283</td>\n",
       "      <td>40.744778</td>\n",
       "      <td>-73.988727</td>\n",
       "      <td>40.755765</td>\n",
       "      <td>1</td>\n",
       "    </tr>\n",
       "  </tbody>\n",
       "</table>\n",
       "</div>"
      ],
      "text/plain": [
       "                 pickup_datetime  fare_amount  fare_class  pickup_longitude  \\\n",
       "34415  2010-04-18 13:11:55+00:00         13.7           1        -73.961724   \n",
       "89191  2010-04-20 11:27:01+00:00         10.9           1        -73.965299   \n",
       "109367 2010-04-17 14:20:46+00:00          8.1           0        -73.995730   \n",
       "75143  2010-04-18 04:38:00+00:00         14.5           1        -73.930125   \n",
       "50595  2010-04-23 13:35:00+00:00          5.7           0        -73.987283   \n",
       "\n",
       "        pickup_latitude  dropoff_longitude  dropoff_latitude  passenger_count  \n",
       "34415         40.780550         -73.991512         40.763791                4  \n",
       "89191         40.762866         -74.004577         40.742304                1  \n",
       "109367        40.724783         -74.005154         40.739988                2  \n",
       "75143         40.767052         -73.987828         40.747327                1  \n",
       "50595         40.744778         -73.988727         40.755765                1  "
      ]
     },
     "execution_count": 10,
     "metadata": {},
     "output_type": "execute_result"
    }
   ],
   "source": [
    "df.head()"
   ]
  },
  {
   "cell_type": "markdown",
   "id": "elegant-identity",
   "metadata": {},
   "source": [
    "Extracting Year,Month,Day,Hours and Minutes from 'pickup_datetime'"
   ]
  },
  {
   "cell_type": "code",
   "execution_count": 11,
   "id": "metallic-manitoba",
   "metadata": {},
   "outputs": [],
   "source": [
    "df['Year']=df['pickup_datetime'].dt.year\n",
    "df['Month']=df['pickup_datetime'].dt.month\n",
    "df['Day']=df['pickup_datetime'].dt.day\n",
    "df['Hours']=df['pickup_datetime'].dt.hour\n",
    "df['Minutes']=df['pickup_datetime'].dt.minute"
   ]
  },
  {
   "cell_type": "code",
   "execution_count": 12,
   "id": "healthy-school",
   "metadata": {},
   "outputs": [
    {
     "data": {
      "text/plain": [
       "(1200, 13)"
      ]
     },
     "execution_count": 12,
     "metadata": {},
     "output_type": "execute_result"
    }
   ],
   "source": [
    "df.shape"
   ]
  },
  {
   "cell_type": "code",
   "execution_count": 13,
   "id": "twenty-thing",
   "metadata": {},
   "outputs": [
    {
     "data": {
      "text/html": [
       "<div>\n",
       "<style scoped>\n",
       "    .dataframe tbody tr th:only-of-type {\n",
       "        vertical-align: middle;\n",
       "    }\n",
       "\n",
       "    .dataframe tbody tr th {\n",
       "        vertical-align: top;\n",
       "    }\n",
       "\n",
       "    .dataframe thead th {\n",
       "        text-align: right;\n",
       "    }\n",
       "</style>\n",
       "<table border=\"1\" class=\"dataframe\">\n",
       "  <thead>\n",
       "    <tr style=\"text-align: right;\">\n",
       "      <th></th>\n",
       "      <th>pickup_datetime</th>\n",
       "      <th>fare_amount</th>\n",
       "      <th>fare_class</th>\n",
       "      <th>pickup_longitude</th>\n",
       "      <th>pickup_latitude</th>\n",
       "      <th>dropoff_longitude</th>\n",
       "      <th>dropoff_latitude</th>\n",
       "      <th>passenger_count</th>\n",
       "      <th>Year</th>\n",
       "      <th>Month</th>\n",
       "      <th>Day</th>\n",
       "      <th>Hours</th>\n",
       "      <th>Minutes</th>\n",
       "    </tr>\n",
       "  </thead>\n",
       "  <tbody>\n",
       "    <tr>\n",
       "      <th>34415</th>\n",
       "      <td>2010-04-18 13:11:55+00:00</td>\n",
       "      <td>13.7</td>\n",
       "      <td>1</td>\n",
       "      <td>-73.961724</td>\n",
       "      <td>40.780550</td>\n",
       "      <td>-73.991512</td>\n",
       "      <td>40.763791</td>\n",
       "      <td>4</td>\n",
       "      <td>2010</td>\n",
       "      <td>4</td>\n",
       "      <td>18</td>\n",
       "      <td>13</td>\n",
       "      <td>11</td>\n",
       "    </tr>\n",
       "    <tr>\n",
       "      <th>89191</th>\n",
       "      <td>2010-04-20 11:27:01+00:00</td>\n",
       "      <td>10.9</td>\n",
       "      <td>1</td>\n",
       "      <td>-73.965299</td>\n",
       "      <td>40.762866</td>\n",
       "      <td>-74.004577</td>\n",
       "      <td>40.742304</td>\n",
       "      <td>1</td>\n",
       "      <td>2010</td>\n",
       "      <td>4</td>\n",
       "      <td>20</td>\n",
       "      <td>11</td>\n",
       "      <td>27</td>\n",
       "    </tr>\n",
       "    <tr>\n",
       "      <th>109367</th>\n",
       "      <td>2010-04-17 14:20:46+00:00</td>\n",
       "      <td>8.1</td>\n",
       "      <td>0</td>\n",
       "      <td>-73.995730</td>\n",
       "      <td>40.724783</td>\n",
       "      <td>-74.005154</td>\n",
       "      <td>40.739988</td>\n",
       "      <td>2</td>\n",
       "      <td>2010</td>\n",
       "      <td>4</td>\n",
       "      <td>17</td>\n",
       "      <td>14</td>\n",
       "      <td>20</td>\n",
       "    </tr>\n",
       "    <tr>\n",
       "      <th>75143</th>\n",
       "      <td>2010-04-18 04:38:00+00:00</td>\n",
       "      <td>14.5</td>\n",
       "      <td>1</td>\n",
       "      <td>-73.930125</td>\n",
       "      <td>40.767052</td>\n",
       "      <td>-73.987828</td>\n",
       "      <td>40.747327</td>\n",
       "      <td>1</td>\n",
       "      <td>2010</td>\n",
       "      <td>4</td>\n",
       "      <td>18</td>\n",
       "      <td>4</td>\n",
       "      <td>38</td>\n",
       "    </tr>\n",
       "    <tr>\n",
       "      <th>50595</th>\n",
       "      <td>2010-04-23 13:35:00+00:00</td>\n",
       "      <td>5.7</td>\n",
       "      <td>0</td>\n",
       "      <td>-73.987283</td>\n",
       "      <td>40.744778</td>\n",
       "      <td>-73.988727</td>\n",
       "      <td>40.755765</td>\n",
       "      <td>1</td>\n",
       "      <td>2010</td>\n",
       "      <td>4</td>\n",
       "      <td>23</td>\n",
       "      <td>13</td>\n",
       "      <td>35</td>\n",
       "    </tr>\n",
       "  </tbody>\n",
       "</table>\n",
       "</div>"
      ],
      "text/plain": [
       "                 pickup_datetime  fare_amount  fare_class  pickup_longitude  \\\n",
       "34415  2010-04-18 13:11:55+00:00         13.7           1        -73.961724   \n",
       "89191  2010-04-20 11:27:01+00:00         10.9           1        -73.965299   \n",
       "109367 2010-04-17 14:20:46+00:00          8.1           0        -73.995730   \n",
       "75143  2010-04-18 04:38:00+00:00         14.5           1        -73.930125   \n",
       "50595  2010-04-23 13:35:00+00:00          5.7           0        -73.987283   \n",
       "\n",
       "        pickup_latitude  dropoff_longitude  dropoff_latitude  passenger_count  \\\n",
       "34415         40.780550         -73.991512         40.763791                4   \n",
       "89191         40.762866         -74.004577         40.742304                1   \n",
       "109367        40.724783         -74.005154         40.739988                2   \n",
       "75143         40.767052         -73.987828         40.747327                1   \n",
       "50595         40.744778         -73.988727         40.755765                1   \n",
       "\n",
       "        Year  Month  Day  Hours  Minutes  \n",
       "34415   2010      4   18     13       11  \n",
       "89191   2010      4   20     11       27  \n",
       "109367  2010      4   17     14       20  \n",
       "75143   2010      4   18      4       38  \n",
       "50595   2010      4   23     13       35  "
      ]
     },
     "execution_count": 13,
     "metadata": {},
     "output_type": "execute_result"
    }
   ],
   "source": [
    "df.head()"
   ]
  },
  {
   "cell_type": "markdown",
   "id": "reserved-input",
   "metadata": {},
   "source": [
    "Creating an extra feature 'mornight' for AM/PM infos from 'pickup_datetime'."
   ]
  },
  {
   "cell_type": "code",
   "execution_count": 14,
   "id": "reduced-ceiling",
   "metadata": {},
   "outputs": [],
   "source": [
    "import numpy as np"
   ]
  },
  {
   "cell_type": "code",
   "execution_count": 15,
   "id": "preceding-instruction",
   "metadata": {},
   "outputs": [],
   "source": [
    "df['mornight']=np.where(df['Hours']<12,0,1)"
   ]
  },
  {
   "cell_type": "code",
   "execution_count": 16,
   "id": "annoying-forwarding",
   "metadata": {},
   "outputs": [
    {
     "data": {
      "text/html": [
       "<div>\n",
       "<style scoped>\n",
       "    .dataframe tbody tr th:only-of-type {\n",
       "        vertical-align: middle;\n",
       "    }\n",
       "\n",
       "    .dataframe tbody tr th {\n",
       "        vertical-align: top;\n",
       "    }\n",
       "\n",
       "    .dataframe thead th {\n",
       "        text-align: right;\n",
       "    }\n",
       "</style>\n",
       "<table border=\"1\" class=\"dataframe\">\n",
       "  <thead>\n",
       "    <tr style=\"text-align: right;\">\n",
       "      <th></th>\n",
       "      <th>pickup_datetime</th>\n",
       "      <th>fare_amount</th>\n",
       "      <th>fare_class</th>\n",
       "      <th>pickup_longitude</th>\n",
       "      <th>pickup_latitude</th>\n",
       "      <th>dropoff_longitude</th>\n",
       "      <th>dropoff_latitude</th>\n",
       "      <th>passenger_count</th>\n",
       "      <th>Year</th>\n",
       "      <th>Month</th>\n",
       "      <th>Day</th>\n",
       "      <th>Hours</th>\n",
       "      <th>Minutes</th>\n",
       "      <th>mornight</th>\n",
       "    </tr>\n",
       "  </thead>\n",
       "  <tbody>\n",
       "    <tr>\n",
       "      <th>34415</th>\n",
       "      <td>2010-04-18 13:11:55+00:00</td>\n",
       "      <td>13.7</td>\n",
       "      <td>1</td>\n",
       "      <td>-73.961724</td>\n",
       "      <td>40.780550</td>\n",
       "      <td>-73.991512</td>\n",
       "      <td>40.763791</td>\n",
       "      <td>4</td>\n",
       "      <td>2010</td>\n",
       "      <td>4</td>\n",
       "      <td>18</td>\n",
       "      <td>13</td>\n",
       "      <td>11</td>\n",
       "      <td>1</td>\n",
       "    </tr>\n",
       "    <tr>\n",
       "      <th>89191</th>\n",
       "      <td>2010-04-20 11:27:01+00:00</td>\n",
       "      <td>10.9</td>\n",
       "      <td>1</td>\n",
       "      <td>-73.965299</td>\n",
       "      <td>40.762866</td>\n",
       "      <td>-74.004577</td>\n",
       "      <td>40.742304</td>\n",
       "      <td>1</td>\n",
       "      <td>2010</td>\n",
       "      <td>4</td>\n",
       "      <td>20</td>\n",
       "      <td>11</td>\n",
       "      <td>27</td>\n",
       "      <td>0</td>\n",
       "    </tr>\n",
       "    <tr>\n",
       "      <th>109367</th>\n",
       "      <td>2010-04-17 14:20:46+00:00</td>\n",
       "      <td>8.1</td>\n",
       "      <td>0</td>\n",
       "      <td>-73.995730</td>\n",
       "      <td>40.724783</td>\n",
       "      <td>-74.005154</td>\n",
       "      <td>40.739988</td>\n",
       "      <td>2</td>\n",
       "      <td>2010</td>\n",
       "      <td>4</td>\n",
       "      <td>17</td>\n",
       "      <td>14</td>\n",
       "      <td>20</td>\n",
       "      <td>1</td>\n",
       "    </tr>\n",
       "    <tr>\n",
       "      <th>75143</th>\n",
       "      <td>2010-04-18 04:38:00+00:00</td>\n",
       "      <td>14.5</td>\n",
       "      <td>1</td>\n",
       "      <td>-73.930125</td>\n",
       "      <td>40.767052</td>\n",
       "      <td>-73.987828</td>\n",
       "      <td>40.747327</td>\n",
       "      <td>1</td>\n",
       "      <td>2010</td>\n",
       "      <td>4</td>\n",
       "      <td>18</td>\n",
       "      <td>4</td>\n",
       "      <td>38</td>\n",
       "      <td>0</td>\n",
       "    </tr>\n",
       "    <tr>\n",
       "      <th>50595</th>\n",
       "      <td>2010-04-23 13:35:00+00:00</td>\n",
       "      <td>5.7</td>\n",
       "      <td>0</td>\n",
       "      <td>-73.987283</td>\n",
       "      <td>40.744778</td>\n",
       "      <td>-73.988727</td>\n",
       "      <td>40.755765</td>\n",
       "      <td>1</td>\n",
       "      <td>2010</td>\n",
       "      <td>4</td>\n",
       "      <td>23</td>\n",
       "      <td>13</td>\n",
       "      <td>35</td>\n",
       "      <td>1</td>\n",
       "    </tr>\n",
       "  </tbody>\n",
       "</table>\n",
       "</div>"
      ],
      "text/plain": [
       "                 pickup_datetime  fare_amount  fare_class  pickup_longitude  \\\n",
       "34415  2010-04-18 13:11:55+00:00         13.7           1        -73.961724   \n",
       "89191  2010-04-20 11:27:01+00:00         10.9           1        -73.965299   \n",
       "109367 2010-04-17 14:20:46+00:00          8.1           0        -73.995730   \n",
       "75143  2010-04-18 04:38:00+00:00         14.5           1        -73.930125   \n",
       "50595  2010-04-23 13:35:00+00:00          5.7           0        -73.987283   \n",
       "\n",
       "        pickup_latitude  dropoff_longitude  dropoff_latitude  passenger_count  \\\n",
       "34415         40.780550         -73.991512         40.763791                4   \n",
       "89191         40.762866         -74.004577         40.742304                1   \n",
       "109367        40.724783         -74.005154         40.739988                2   \n",
       "75143         40.767052         -73.987828         40.747327                1   \n",
       "50595         40.744778         -73.988727         40.755765                1   \n",
       "\n",
       "        Year  Month  Day  Hours  Minutes  mornight  \n",
       "34415   2010      4   18     13       11         1  \n",
       "89191   2010      4   20     11       27         0  \n",
       "109367  2010      4   17     14       20         1  \n",
       "75143   2010      4   18      4       38         0  \n",
       "50595   2010      4   23     13       35         1  "
      ]
     },
     "execution_count": 16,
     "metadata": {},
     "output_type": "execute_result"
    }
   ],
   "source": [
    "df.head()"
   ]
  },
  {
   "cell_type": "markdown",
   "id": "equipped-instrumentation",
   "metadata": {},
   "source": [
    "Dropping the 'pickup_datetime' feature since it is not required now."
   ]
  },
  {
   "cell_type": "code",
   "execution_count": 17,
   "id": "complete-awareness",
   "metadata": {},
   "outputs": [],
   "source": [
    "df.drop('pickup_datetime',axis=1,inplace= True)"
   ]
  },
  {
   "cell_type": "code",
   "execution_count": 18,
   "id": "effective-robert",
   "metadata": {},
   "outputs": [
    {
     "data": {
      "text/html": [
       "<div>\n",
       "<style scoped>\n",
       "    .dataframe tbody tr th:only-of-type {\n",
       "        vertical-align: middle;\n",
       "    }\n",
       "\n",
       "    .dataframe tbody tr th {\n",
       "        vertical-align: top;\n",
       "    }\n",
       "\n",
       "    .dataframe thead th {\n",
       "        text-align: right;\n",
       "    }\n",
       "</style>\n",
       "<table border=\"1\" class=\"dataframe\">\n",
       "  <thead>\n",
       "    <tr style=\"text-align: right;\">\n",
       "      <th></th>\n",
       "      <th>fare_amount</th>\n",
       "      <th>fare_class</th>\n",
       "      <th>pickup_longitude</th>\n",
       "      <th>pickup_latitude</th>\n",
       "      <th>dropoff_longitude</th>\n",
       "      <th>dropoff_latitude</th>\n",
       "      <th>passenger_count</th>\n",
       "      <th>Year</th>\n",
       "      <th>Month</th>\n",
       "      <th>Day</th>\n",
       "      <th>Hours</th>\n",
       "      <th>Minutes</th>\n",
       "      <th>mornight</th>\n",
       "    </tr>\n",
       "  </thead>\n",
       "  <tbody>\n",
       "    <tr>\n",
       "      <th>34415</th>\n",
       "      <td>13.7</td>\n",
       "      <td>1</td>\n",
       "      <td>-73.961724</td>\n",
       "      <td>40.780550</td>\n",
       "      <td>-73.991512</td>\n",
       "      <td>40.763791</td>\n",
       "      <td>4</td>\n",
       "      <td>2010</td>\n",
       "      <td>4</td>\n",
       "      <td>18</td>\n",
       "      <td>13</td>\n",
       "      <td>11</td>\n",
       "      <td>1</td>\n",
       "    </tr>\n",
       "    <tr>\n",
       "      <th>89191</th>\n",
       "      <td>10.9</td>\n",
       "      <td>1</td>\n",
       "      <td>-73.965299</td>\n",
       "      <td>40.762866</td>\n",
       "      <td>-74.004577</td>\n",
       "      <td>40.742304</td>\n",
       "      <td>1</td>\n",
       "      <td>2010</td>\n",
       "      <td>4</td>\n",
       "      <td>20</td>\n",
       "      <td>11</td>\n",
       "      <td>27</td>\n",
       "      <td>0</td>\n",
       "    </tr>\n",
       "    <tr>\n",
       "      <th>109367</th>\n",
       "      <td>8.1</td>\n",
       "      <td>0</td>\n",
       "      <td>-73.995730</td>\n",
       "      <td>40.724783</td>\n",
       "      <td>-74.005154</td>\n",
       "      <td>40.739988</td>\n",
       "      <td>2</td>\n",
       "      <td>2010</td>\n",
       "      <td>4</td>\n",
       "      <td>17</td>\n",
       "      <td>14</td>\n",
       "      <td>20</td>\n",
       "      <td>1</td>\n",
       "    </tr>\n",
       "    <tr>\n",
       "      <th>75143</th>\n",
       "      <td>14.5</td>\n",
       "      <td>1</td>\n",
       "      <td>-73.930125</td>\n",
       "      <td>40.767052</td>\n",
       "      <td>-73.987828</td>\n",
       "      <td>40.747327</td>\n",
       "      <td>1</td>\n",
       "      <td>2010</td>\n",
       "      <td>4</td>\n",
       "      <td>18</td>\n",
       "      <td>4</td>\n",
       "      <td>38</td>\n",
       "      <td>0</td>\n",
       "    </tr>\n",
       "    <tr>\n",
       "      <th>50595</th>\n",
       "      <td>5.7</td>\n",
       "      <td>0</td>\n",
       "      <td>-73.987283</td>\n",
       "      <td>40.744778</td>\n",
       "      <td>-73.988727</td>\n",
       "      <td>40.755765</td>\n",
       "      <td>1</td>\n",
       "      <td>2010</td>\n",
       "      <td>4</td>\n",
       "      <td>23</td>\n",
       "      <td>13</td>\n",
       "      <td>35</td>\n",
       "      <td>1</td>\n",
       "    </tr>\n",
       "  </tbody>\n",
       "</table>\n",
       "</div>"
      ],
      "text/plain": [
       "        fare_amount  fare_class  pickup_longitude  pickup_latitude  \\\n",
       "34415          13.7           1        -73.961724        40.780550   \n",
       "89191          10.9           1        -73.965299        40.762866   \n",
       "109367          8.1           0        -73.995730        40.724783   \n",
       "75143          14.5           1        -73.930125        40.767052   \n",
       "50595           5.7           0        -73.987283        40.744778   \n",
       "\n",
       "        dropoff_longitude  dropoff_latitude  passenger_count  Year  Month  \\\n",
       "34415          -73.991512         40.763791                4  2010      4   \n",
       "89191          -74.004577         40.742304                1  2010      4   \n",
       "109367         -74.005154         40.739988                2  2010      4   \n",
       "75143          -73.987828         40.747327                1  2010      4   \n",
       "50595          -73.988727         40.755765                1  2010      4   \n",
       "\n",
       "        Day  Hours  Minutes  mornight  \n",
       "34415    18     13       11         1  \n",
       "89191    20     11       27         0  \n",
       "109367   17     14       20         1  \n",
       "75143    18      4       38         0  \n",
       "50595    23     13       35         1  "
      ]
     },
     "execution_count": 18,
     "metadata": {},
     "output_type": "execute_result"
    }
   ],
   "source": [
    "df.head()"
   ]
  },
  {
   "cell_type": "code",
   "execution_count": 19,
   "id": "round-overhead",
   "metadata": {},
   "outputs": [
    {
     "data": {
      "text/plain": [
       "array([1, 0], dtype=int64)"
      ]
     },
     "execution_count": 19,
     "metadata": {},
     "output_type": "execute_result"
    }
   ],
   "source": [
    "df.fare_class.unique()  #This is our target for classification problem"
   ]
  },
  {
   "cell_type": "markdown",
   "id": "spiritual-journalist",
   "metadata": {},
   "source": [
    "#### Calculating the Haversine Distance"
   ]
  },
  {
   "cell_type": "code",
   "execution_count": 20,
   "id": "adaptive-variation",
   "metadata": {},
   "outputs": [],
   "source": [
    "def haversine(df):\n",
    "  \"\"\"\n",
    "  Calculate the Great Circle distance between two points\n",
    "  on the Earth (specified in decimal degrees)\n",
    "\n",
    "  \"\"\"\n",
    "  #Based on the formula X1=dropoff_latitude,X2=dropoff_longitude\n",
    "  lat1=np.radians(df['pickup_latitude'])\n",
    "  lat2=np.radians(df['dropoff_latitude'])\n",
    "\n",
    "  dlat=np.radians(df['dropoff_latitude']-df['pickup_latitude'])\n",
    "  dlong=np.radians(df['dropoff_longitude']-df['pickup_longitude'])\n",
    "  a=np.sin(dlat/2)**2 + np.cos(lat1) * np.cos(lat2) * np.sin(dlong/2)**2\n",
    "\n",
    "  c=2* np.arctan2(np.sqrt(a),np.sqrt(1-a))\n",
    "  r=6371 ##Radius of Earth in kms.Use 3956 for miles.\n",
    "  return c*r"
   ]
  },
  {
   "cell_type": "code",
   "execution_count": 21,
   "id": "laden-gregory",
   "metadata": {},
   "outputs": [],
   "source": [
    "df['Total distance']=haversine(df)"
   ]
  },
  {
   "cell_type": "code",
   "execution_count": 22,
   "id": "diverse-confusion",
   "metadata": {},
   "outputs": [
    {
     "data": {
      "text/html": [
       "<div>\n",
       "<style scoped>\n",
       "    .dataframe tbody tr th:only-of-type {\n",
       "        vertical-align: middle;\n",
       "    }\n",
       "\n",
       "    .dataframe tbody tr th {\n",
       "        vertical-align: top;\n",
       "    }\n",
       "\n",
       "    .dataframe thead th {\n",
       "        text-align: right;\n",
       "    }\n",
       "</style>\n",
       "<table border=\"1\" class=\"dataframe\">\n",
       "  <thead>\n",
       "    <tr style=\"text-align: right;\">\n",
       "      <th></th>\n",
       "      <th>fare_amount</th>\n",
       "      <th>fare_class</th>\n",
       "      <th>pickup_longitude</th>\n",
       "      <th>pickup_latitude</th>\n",
       "      <th>dropoff_longitude</th>\n",
       "      <th>dropoff_latitude</th>\n",
       "      <th>passenger_count</th>\n",
       "      <th>Year</th>\n",
       "      <th>Month</th>\n",
       "      <th>Day</th>\n",
       "      <th>Hours</th>\n",
       "      <th>Minutes</th>\n",
       "      <th>mornight</th>\n",
       "      <th>Total distance</th>\n",
       "    </tr>\n",
       "  </thead>\n",
       "  <tbody>\n",
       "    <tr>\n",
       "      <th>34415</th>\n",
       "      <td>13.7</td>\n",
       "      <td>1</td>\n",
       "      <td>-73.961724</td>\n",
       "      <td>40.780550</td>\n",
       "      <td>-73.991512</td>\n",
       "      <td>40.763791</td>\n",
       "      <td>4</td>\n",
       "      <td>2010</td>\n",
       "      <td>4</td>\n",
       "      <td>18</td>\n",
       "      <td>13</td>\n",
       "      <td>11</td>\n",
       "      <td>1</td>\n",
       "      <td>3.124883</td>\n",
       "    </tr>\n",
       "    <tr>\n",
       "      <th>89191</th>\n",
       "      <td>10.9</td>\n",
       "      <td>1</td>\n",
       "      <td>-73.965299</td>\n",
       "      <td>40.762866</td>\n",
       "      <td>-74.004577</td>\n",
       "      <td>40.742304</td>\n",
       "      <td>1</td>\n",
       "      <td>2010</td>\n",
       "      <td>4</td>\n",
       "      <td>20</td>\n",
       "      <td>11</td>\n",
       "      <td>27</td>\n",
       "      <td>0</td>\n",
       "      <td>4.021699</td>\n",
       "    </tr>\n",
       "    <tr>\n",
       "      <th>109367</th>\n",
       "      <td>8.1</td>\n",
       "      <td>0</td>\n",
       "      <td>-73.995730</td>\n",
       "      <td>40.724783</td>\n",
       "      <td>-74.005154</td>\n",
       "      <td>40.739988</td>\n",
       "      <td>2</td>\n",
       "      <td>2010</td>\n",
       "      <td>4</td>\n",
       "      <td>17</td>\n",
       "      <td>14</td>\n",
       "      <td>20</td>\n",
       "      <td>1</td>\n",
       "      <td>1.867904</td>\n",
       "    </tr>\n",
       "    <tr>\n",
       "      <th>75143</th>\n",
       "      <td>14.5</td>\n",
       "      <td>1</td>\n",
       "      <td>-73.930125</td>\n",
       "      <td>40.767052</td>\n",
       "      <td>-73.987828</td>\n",
       "      <td>40.747327</td>\n",
       "      <td>1</td>\n",
       "      <td>2010</td>\n",
       "      <td>4</td>\n",
       "      <td>18</td>\n",
       "      <td>4</td>\n",
       "      <td>38</td>\n",
       "      <td>0</td>\n",
       "      <td>5.332207</td>\n",
       "    </tr>\n",
       "    <tr>\n",
       "      <th>50595</th>\n",
       "      <td>5.7</td>\n",
       "      <td>0</td>\n",
       "      <td>-73.987283</td>\n",
       "      <td>40.744778</td>\n",
       "      <td>-73.988727</td>\n",
       "      <td>40.755765</td>\n",
       "      <td>1</td>\n",
       "      <td>2010</td>\n",
       "      <td>4</td>\n",
       "      <td>23</td>\n",
       "      <td>13</td>\n",
       "      <td>35</td>\n",
       "      <td>1</td>\n",
       "      <td>1.227739</td>\n",
       "    </tr>\n",
       "  </tbody>\n",
       "</table>\n",
       "</div>"
      ],
      "text/plain": [
       "        fare_amount  fare_class  pickup_longitude  pickup_latitude  \\\n",
       "34415          13.7           1        -73.961724        40.780550   \n",
       "89191          10.9           1        -73.965299        40.762866   \n",
       "109367          8.1           0        -73.995730        40.724783   \n",
       "75143          14.5           1        -73.930125        40.767052   \n",
       "50595           5.7           0        -73.987283        40.744778   \n",
       "\n",
       "        dropoff_longitude  dropoff_latitude  passenger_count  Year  Month  \\\n",
       "34415          -73.991512         40.763791                4  2010      4   \n",
       "89191          -74.004577         40.742304                1  2010      4   \n",
       "109367         -74.005154         40.739988                2  2010      4   \n",
       "75143          -73.987828         40.747327                1  2010      4   \n",
       "50595          -73.988727         40.755765                1  2010      4   \n",
       "\n",
       "        Day  Hours  Minutes  mornight  Total distance  \n",
       "34415    18     13       11         1        3.124883  \n",
       "89191    20     11       27         0        4.021699  \n",
       "109367   17     14       20         1        1.867904  \n",
       "75143    18      4       38         0        5.332207  \n",
       "50595    23     13       35         1        1.227739  "
      ]
     },
     "execution_count": 22,
     "metadata": {},
     "output_type": "execute_result"
    }
   ],
   "source": [
    "df.head()"
   ]
  },
  {
   "cell_type": "markdown",
   "id": "powerful-table",
   "metadata": {},
   "source": [
    "Dropping 'pickup_longitude','pickup_latitude','dropoff_longitude'and'dropoff_latitude' since these are now not required."
   ]
  },
  {
   "cell_type": "code",
   "execution_count": 23,
   "id": "russian-personal",
   "metadata": {},
   "outputs": [],
   "source": [
    "df.drop(['pickup_longitude','pickup_latitude','dropoff_longitude','dropoff_latitude'],axis=1,inplace=True)"
   ]
  },
  {
   "cell_type": "code",
   "execution_count": 24,
   "id": "headed-recorder",
   "metadata": {},
   "outputs": [
    {
     "data": {
      "text/html": [
       "<div>\n",
       "<style scoped>\n",
       "    .dataframe tbody tr th:only-of-type {\n",
       "        vertical-align: middle;\n",
       "    }\n",
       "\n",
       "    .dataframe tbody tr th {\n",
       "        vertical-align: top;\n",
       "    }\n",
       "\n",
       "    .dataframe thead th {\n",
       "        text-align: right;\n",
       "    }\n",
       "</style>\n",
       "<table border=\"1\" class=\"dataframe\">\n",
       "  <thead>\n",
       "    <tr style=\"text-align: right;\">\n",
       "      <th></th>\n",
       "      <th>fare_amount</th>\n",
       "      <th>fare_class</th>\n",
       "      <th>passenger_count</th>\n",
       "      <th>Year</th>\n",
       "      <th>Month</th>\n",
       "      <th>Day</th>\n",
       "      <th>Hours</th>\n",
       "      <th>Minutes</th>\n",
       "      <th>mornight</th>\n",
       "      <th>Total distance</th>\n",
       "    </tr>\n",
       "  </thead>\n",
       "  <tbody>\n",
       "    <tr>\n",
       "      <th>34415</th>\n",
       "      <td>13.7</td>\n",
       "      <td>1</td>\n",
       "      <td>4</td>\n",
       "      <td>2010</td>\n",
       "      <td>4</td>\n",
       "      <td>18</td>\n",
       "      <td>13</td>\n",
       "      <td>11</td>\n",
       "      <td>1</td>\n",
       "      <td>3.124883</td>\n",
       "    </tr>\n",
       "    <tr>\n",
       "      <th>89191</th>\n",
       "      <td>10.9</td>\n",
       "      <td>1</td>\n",
       "      <td>1</td>\n",
       "      <td>2010</td>\n",
       "      <td>4</td>\n",
       "      <td>20</td>\n",
       "      <td>11</td>\n",
       "      <td>27</td>\n",
       "      <td>0</td>\n",
       "      <td>4.021699</td>\n",
       "    </tr>\n",
       "    <tr>\n",
       "      <th>109367</th>\n",
       "      <td>8.1</td>\n",
       "      <td>0</td>\n",
       "      <td>2</td>\n",
       "      <td>2010</td>\n",
       "      <td>4</td>\n",
       "      <td>17</td>\n",
       "      <td>14</td>\n",
       "      <td>20</td>\n",
       "      <td>1</td>\n",
       "      <td>1.867904</td>\n",
       "    </tr>\n",
       "    <tr>\n",
       "      <th>75143</th>\n",
       "      <td>14.5</td>\n",
       "      <td>1</td>\n",
       "      <td>1</td>\n",
       "      <td>2010</td>\n",
       "      <td>4</td>\n",
       "      <td>18</td>\n",
       "      <td>4</td>\n",
       "      <td>38</td>\n",
       "      <td>0</td>\n",
       "      <td>5.332207</td>\n",
       "    </tr>\n",
       "    <tr>\n",
       "      <th>50595</th>\n",
       "      <td>5.7</td>\n",
       "      <td>0</td>\n",
       "      <td>1</td>\n",
       "      <td>2010</td>\n",
       "      <td>4</td>\n",
       "      <td>23</td>\n",
       "      <td>13</td>\n",
       "      <td>35</td>\n",
       "      <td>1</td>\n",
       "      <td>1.227739</td>\n",
       "    </tr>\n",
       "  </tbody>\n",
       "</table>\n",
       "</div>"
      ],
      "text/plain": [
       "        fare_amount  fare_class  passenger_count  Year  Month  Day  Hours  \\\n",
       "34415          13.7           1                4  2010      4   18     13   \n",
       "89191          10.9           1                1  2010      4   20     11   \n",
       "109367          8.1           0                2  2010      4   17     14   \n",
       "75143          14.5           1                1  2010      4   18      4   \n",
       "50595           5.7           0                1  2010      4   23     13   \n",
       "\n",
       "        Minutes  mornight  Total distance  \n",
       "34415        11         1        3.124883  \n",
       "89191        27         0        4.021699  \n",
       "109367       20         1        1.867904  \n",
       "75143        38         0        5.332207  \n",
       "50595        35         1        1.227739  "
      ]
     },
     "execution_count": 24,
     "metadata": {},
     "output_type": "execute_result"
    }
   ],
   "source": [
    "df.head()"
   ]
  },
  {
   "cell_type": "markdown",
   "id": "exact-warrior",
   "metadata": {},
   "source": [
    "### Storing the data in MongoDB"
   ]
  },
  {
   "cell_type": "code",
   "execution_count": 25,
   "id": "ideal-aggregate",
   "metadata": {},
   "outputs": [],
   "source": [
    "import json\n",
    "records=json.loads(df.T.to_json()).values()"
   ]
  },
  {
   "cell_type": "code",
   "execution_count": 26,
   "id": "vulnerable-increase",
   "metadata": {},
   "outputs": [],
   "source": [
    "import pymongo\n",
    "client=pymongo.MongoClient('mongodb://127.0.0.1:27017/')\n",
    "db=client['newyorktaxifare']\n",
    "col=db['rides']"
   ]
  },
  {
   "cell_type": "code",
   "execution_count": 27,
   "id": "effective-prisoner",
   "metadata": {},
   "outputs": [
    {
     "data": {
      "text/plain": [
       "dict_values([{'fare_amount': 13.7, 'fare_class': 1.0, 'passenger_count': 4.0, 'Year': 2010.0, 'Month': 4.0, 'Day': 18.0, 'Hours': 13.0, 'Minutes': 11.0, 'mornight': 1.0, 'Total distance': 3.1248829686}, {'fare_amount': 10.9, 'fare_class': 1.0, 'passenger_count': 1.0, 'Year': 2010.0, 'Month': 4.0, 'Day': 20.0, 'Hours': 11.0, 'Minutes': 27.0, 'mornight': 0.0, 'Total distance': 4.0216991748}, {'fare_amount': 8.1, 'fare_class': 0.0, 'passenger_count': 2.0, 'Year': 2010.0, 'Month': 4.0, 'Day': 17.0, 'Hours': 14.0, 'Minutes': 20.0, 'mornight': 1.0, 'Total distance': 1.8679044016}, {'fare_amount': 14.5, 'fare_class': 1.0, 'passenger_count': 1.0, 'Year': 2010.0, 'Month': 4.0, 'Day': 18.0, 'Hours': 4.0, 'Minutes': 38.0, 'mornight': 0.0, 'Total distance': 5.3322067822}, {'fare_amount': 5.7, 'fare_class': 0.0, 'passenger_count': 1.0, 'Year': 2010.0, 'Month': 4.0, 'Day': 23.0, 'Hours': 13.0, 'Minutes': 35.0, 'mornight': 1.0, 'Total distance': 1.2277391765}, {'fare_amount': 4.9, 'fare_class': 0.0, 'passenger_count': 1.0, 'Year': 2010.0, 'Month': 4.0, 'Day': 23.0, 'Hours': 4.0, 'Minutes': 29.0, 'mornight': 0.0, 'Total distance': 0.8207588309}, {'fare_amount': 14.67, 'fare_class': 1.0, 'passenger_count': 1.0, 'Year': 2010.0, 'Month': 4.0, 'Day': 21.0, 'Hours': 19.0, 'Minutes': 19.0, 'mornight': 1.0, 'Total distance': 3.6353913559}, {'fare_amount': 8.9, 'fare_class': 0.0, 'passenger_count': 1.0, 'Year': 2010.0, 'Month': 4.0, 'Day': 13.0, 'Hours': 11.0, 'Minutes': 29.0, 'mornight': 0.0, 'Total distance': 1.337200189}, {'fare_amount': 10.5, 'fare_class': 1.0, 'passenger_count': 1.0, 'Year': 2010.0, 'Month': 4.0, 'Day': 14.0, 'Hours': 8.0, 'Minutes': 14.0, 'mornight': 0.0, 'Total distance': 4.0106891188}, {'fare_amount': 8.9, 'fare_class': 0.0, 'passenger_count': 1.0, 'Year': 2010.0, 'Month': 4.0, 'Day': 21.0, 'Hours': 19.0, 'Minutes': 45.0, 'mornight': 1.0, 'Total distance': 2.788950047}, {'fare_amount': 14.1, 'fare_class': 1.0, 'passenger_count': 1.0, 'Year': 2010.0, 'Month': 4.0, 'Day': 17.0, 'Hours': 18.0, 'Minutes': 38.0, 'mornight': 1.0, 'Total distance': 4.9633266409}, {'fare_amount': 6.9, 'fare_class': 0.0, 'passenger_count': 2.0, 'Year': 2010.0, 'Month': 4.0, 'Day': 12.0, 'Hours': 5.0, 'Minutes': 26.0, 'mornight': 0.0, 'Total distance': 0.8568533296}, {'fare_amount': 11.3, 'fare_class': 1.0, 'passenger_count': 1.0, 'Year': 2010.0, 'Month': 4.0, 'Day': 23.0, 'Hours': 15.0, 'Minutes': 58.0, 'mornight': 1.0, 'Total distance': 3.5144478563}, {'fare_amount': 9.7, 'fare_class': 0.0, 'passenger_count': 1.0, 'Year': 2010.0, 'Month': 4.0, 'Day': 11.0, 'Hours': 10.0, 'Minutes': 40.0, 'mornight': 0.0, 'Total distance': 2.6392013491}, {'fare_amount': 10.1, 'fare_class': 1.0, 'passenger_count': 1.0, 'Year': 2010.0, 'Month': 4.0, 'Day': 23.0, 'Hours': 15.0, 'Minutes': 36.0, 'mornight': 1.0, 'Total distance': 3.9998443591}, {'fare_amount': 5.7, 'fare_class': 0.0, 'passenger_count': 1.0, 'Year': 2010.0, 'Month': 4.0, 'Day': 18.0, 'Hours': 10.0, 'Minutes': 2.0, 'mornight': 0.0, 'Total distance': 1.3256839622}, {'fare_amount': 16.9, 'fare_class': 1.0, 'passenger_count': 1.0, 'Year': 2010.0, 'Month': 4.0, 'Day': 11.0, 'Hours': 19.0, 'Minutes': 55.0, 'mornight': 1.0, 'Total distance': 6.3553054711}, {'fare_amount': 5.3, 'fare_class': 0.0, 'passenger_count': 1.0, 'Year': 2010.0, 'Month': 4.0, 'Day': 23.0, 'Hours': 6.0, 'Minutes': 55.0, 'mornight': 0.0, 'Total distance': 1.0349732339}, {'fare_amount': 4.5, 'fare_class': 0.0, 'passenger_count': 1.0, 'Year': 2010.0, 'Month': 4.0, 'Day': 17.0, 'Hours': 23.0, 'Minutes': 36.0, 'mornight': 1.0, 'Total distance': 0.662367379}, {'fare_amount': 7.3, 'fare_class': 0.0, 'passenger_count': 2.0, 'Year': 2010.0, 'Month': 4.0, 'Day': 24.0, 'Hours': 13.0, 'Minutes': 50.0, 'mornight': 1.0, 'Total distance': 1.6384454435}, {'fare_amount': 5.3, 'fare_class': 0.0, 'passenger_count': 3.0, 'Year': 2010.0, 'Month': 4.0, 'Day': 22.0, 'Hours': 15.0, 'Minutes': 7.0, 'mornight': 1.0, 'Total distance': 1.1755653054}, {'fare_amount': 6.1, 'fare_class': 0.0, 'passenger_count': 3.0, 'Year': 2010.0, 'Month': 4.0, 'Day': 13.0, 'Hours': 12.0, 'Minutes': 6.0, 'mornight': 1.0, 'Total distance': 1.6765309874}, {'fare_amount': 8.5, 'fare_class': 0.0, 'passenger_count': 2.0, 'Year': 2010.0, 'Month': 4.0, 'Day': 24.0, 'Hours': 20.0, 'Minutes': 29.0, 'mornight': 1.0, 'Total distance': 2.072504094}, {'fare_amount': 20.9, 'fare_class': 1.0, 'passenger_count': 2.0, 'Year': 2010.0, 'Month': 4.0, 'Day': 22.0, 'Hours': 6.0, 'Minutes': 46.0, 'mornight': 0.0, 'Total distance': 8.6323141001}, {'fare_amount': 12.1, 'fare_class': 1.0, 'passenger_count': 1.0, 'Year': 2010.0, 'Month': 4.0, 'Day': 11.0, 'Hours': 7.0, 'Minutes': 13.0, 'mornight': 0.0, 'Total distance': 4.7903535944}, {'fare_amount': 14.1, 'fare_class': 1.0, 'passenger_count': 1.0, 'Year': 2010.0, 'Month': 4.0, 'Day': 13.0, 'Hours': 21.0, 'Minutes': 51.0, 'mornight': 1.0, 'Total distance': 7.5428126969}, {'fare_amount': 6.9, 'fare_class': 0.0, 'passenger_count': 1.0, 'Year': 2010.0, 'Month': 4.0, 'Day': 20.0, 'Hours': 11.0, 'Minutes': 44.0, 'mornight': 0.0, 'Total distance': 2.7038070353}, {'fare_amount': 4.5, 'fare_class': 0.0, 'passenger_count': 1.0, 'Year': 2010.0, 'Month': 4.0, 'Day': 21.0, 'Hours': 7.0, 'Minutes': 8.0, 'mornight': 0.0, 'Total distance': 1.2531309058}, {'fare_amount': 6.1, 'fare_class': 0.0, 'passenger_count': 1.0, 'Year': 2010.0, 'Month': 4.0, 'Day': 11.0, 'Hours': 2.0, 'Minutes': 25.0, 'mornight': 0.0, 'Total distance': 1.5345651836}, {'fare_amount': 3.7, 'fare_class': 0.0, 'passenger_count': 1.0, 'Year': 2010.0, 'Month': 4.0, 'Day': 21.0, 'Hours': 6.0, 'Minutes': 7.0, 'mornight': 0.0, 'Total distance': 0.7184520613}, {'fare_amount': 4.9, 'fare_class': 0.0, 'passenger_count': 1.0, 'Year': 2010.0, 'Month': 4.0, 'Day': 23.0, 'Hours': 3.0, 'Minutes': 27.0, 'mornight': 0.0, 'Total distance': 1.3100298342}, {'fare_amount': 25.3, 'fare_class': 1.0, 'passenger_count': 1.0, 'Year': 2010.0, 'Month': 4.0, 'Day': 23.0, 'Hours': 1.0, 'Minutes': 20.0, 'mornight': 0.0, 'Total distance': 12.7968070186}, {'fare_amount': 3.7, 'fare_class': 0.0, 'passenger_count': 2.0, 'Year': 2010.0, 'Month': 4.0, 'Day': 16.0, 'Hours': 17.0, 'Minutes': 59.0, 'mornight': 1.0, 'Total distance': 0.5577799537}, {'fare_amount': 17.3, 'fare_class': 1.0, 'passenger_count': 1.0, 'Year': 2010.0, 'Month': 4.0, 'Day': 21.0, 'Hours': 14.0, 'Minutes': 9.0, 'mornight': 1.0, 'Total distance': 7.042924738}, {'fare_amount': 5.7, 'fare_class': 0.0, 'passenger_count': 1.0, 'Year': 2010.0, 'Month': 4.0, 'Day': 21.0, 'Hours': 15.0, 'Minutes': 0.0, 'mornight': 1.0, 'Total distance': 1.3437150967}, {'fare_amount': 9.7, 'fare_class': 0.0, 'passenger_count': 1.0, 'Year': 2010.0, 'Month': 4.0, 'Day': 22.0, 'Hours': 10.0, 'Minutes': 53.0, 'mornight': 0.0, 'Total distance': 2.6992120911}, {'fare_amount': 5.3, 'fare_class': 0.0, 'passenger_count': 2.0, 'Year': 2010.0, 'Month': 4.0, 'Day': 24.0, 'Hours': 17.0, 'Minutes': 45.0, 'mornight': 1.0, 'Total distance': 1.5109950427}, {'fare_amount': 4.5, 'fare_class': 0.0, 'passenger_count': 1.0, 'Year': 2010.0, 'Month': 4.0, 'Day': 19.0, 'Hours': 13.0, 'Minutes': 57.0, 'mornight': 1.0, 'Total distance': 0.7949892987}, {'fare_amount': 4.1, 'fare_class': 0.0, 'passenger_count': 1.0, 'Year': 2010.0, 'Month': 4.0, 'Day': 24.0, 'Hours': 11.0, 'Minutes': 31.0, 'mornight': 0.0, 'Total distance': 0.5526498713}, {'fare_amount': 3.7, 'fare_class': 0.0, 'passenger_count': 1.0, 'Year': 2010.0, 'Month': 4.0, 'Day': 16.0, 'Hours': 18.0, 'Minutes': 19.0, 'mornight': 1.0, 'Total distance': 0.2928679635}, {'fare_amount': 20.9, 'fare_class': 1.0, 'passenger_count': 1.0, 'Year': 2010.0, 'Month': 4.0, 'Day': 23.0, 'Hours': 19.0, 'Minutes': 54.0, 'mornight': 1.0, 'Total distance': 10.2630181668}, {'fare_amount': 8.5, 'fare_class': 0.0, 'passenger_count': 1.0, 'Year': 2010.0, 'Month': 4.0, 'Day': 16.0, 'Hours': 15.0, 'Minutes': 3.0, 'mornight': 1.0, 'Total distance': 2.0209280629}, {'fare_amount': 4.1, 'fare_class': 0.0, 'passenger_count': 1.0, 'Year': 2010.0, 'Month': 4.0, 'Day': 23.0, 'Hours': 22.0, 'Minutes': 7.0, 'mornight': 1.0, 'Total distance': 0.5860124041}, {'fare_amount': 3.3, 'fare_class': 0.0, 'passenger_count': 1.0, 'Year': 2010.0, 'Month': 4.0, 'Day': 13.0, 'Hours': 19.0, 'Minutes': 28.0, 'mornight': 1.0, 'Total distance': 0.5269132271}, {'fare_amount': 7.3, 'fare_class': 0.0, 'passenger_count': 1.0, 'Year': 2010.0, 'Month': 4.0, 'Day': 22.0, 'Hours': 17.0, 'Minutes': 15.0, 'mornight': 1.0, 'Total distance': 2.7498812087}, {'fare_amount': 7.3, 'fare_class': 0.0, 'passenger_count': 1.0, 'Year': 2010.0, 'Month': 4.0, 'Day': 16.0, 'Hours': 8.0, 'Minutes': 53.0, 'mornight': 0.0, 'Total distance': 2.6134881735}, {'fare_amount': 6.1, 'fare_class': 0.0, 'passenger_count': 3.0, 'Year': 2010.0, 'Month': 4.0, 'Day': 11.0, 'Hours': 15.0, 'Minutes': 50.0, 'mornight': 1.0, 'Total distance': 0.8030173969}, {'fare_amount': 7.3, 'fare_class': 0.0, 'passenger_count': 1.0, 'Year': 2010.0, 'Month': 4.0, 'Day': 17.0, 'Hours': 10.0, 'Minutes': 7.0, 'mornight': 0.0, 'Total distance': 1.1508937775}, {'fare_amount': 7.3, 'fare_class': 0.0, 'passenger_count': 2.0, 'Year': 2010.0, 'Month': 4.0, 'Day': 20.0, 'Hours': 5.0, 'Minutes': 55.0, 'mornight': 0.0, 'Total distance': 0.7584721247}, {'fare_amount': 4.5, 'fare_class': 0.0, 'passenger_count': 1.0, 'Year': 2010.0, 'Month': 4.0, 'Day': 24.0, 'Hours': 21.0, 'Minutes': 37.0, 'mornight': 1.0, 'Total distance': 0.7878566835}, {'fare_amount': 8.1, 'fare_class': 0.0, 'passenger_count': 1.0, 'Year': 2010.0, 'Month': 4.0, 'Day': 17.0, 'Hours': 10.0, 'Minutes': 56.0, 'mornight': 0.0, 'Total distance': 1.2971231051}, {'fare_amount': 14.5, 'fare_class': 1.0, 'passenger_count': 1.0, 'Year': 2010.0, 'Month': 4.0, 'Day': 14.0, 'Hours': 20.0, 'Minutes': 18.0, 'mornight': 1.0, 'Total distance': 5.5183967702}, {'fare_amount': 10.5, 'fare_class': 1.0, 'passenger_count': 1.0, 'Year': 2010.0, 'Month': 4.0, 'Day': 13.0, 'Hours': 23.0, 'Minutes': 55.0, 'mornight': 1.0, 'Total distance': 4.3564710732}, {'fare_amount': 8.1, 'fare_class': 0.0, 'passenger_count': 3.0, 'Year': 2010.0, 'Month': 4.0, 'Day': 14.0, 'Hours': 19.0, 'Minutes': 47.0, 'mornight': 1.0, 'Total distance': 2.4944408465}, {'fare_amount': 6.5, 'fare_class': 0.0, 'passenger_count': 1.0, 'Year': 2010.0, 'Month': 4.0, 'Day': 15.0, 'Hours': 23.0, 'Minutes': 0.0, 'mornight': 1.0, 'Total distance': 1.5997566619}, {'fare_amount': 12.9, 'fare_class': 1.0, 'passenger_count': 1.0, 'Year': 2010.0, 'Month': 4.0, 'Day': 12.0, 'Hours': 17.0, 'Minutes': 40.0, 'mornight': 1.0, 'Total distance': 5.1952996617}, {'fare_amount': 3.7, 'fare_class': 0.0, 'passenger_count': 2.0, 'Year': 2010.0, 'Month': 4.0, 'Day': 18.0, 'Hours': 1.0, 'Minutes': 16.0, 'mornight': 0.0, 'Total distance': 0.988771825}, {'fare_amount': 3.7, 'fare_class': 0.0, 'passenger_count': 1.0, 'Year': 2010.0, 'Month': 4.0, 'Day': 24.0, 'Hours': 11.0, 'Minutes': 46.0, 'mornight': 0.0, 'Total distance': 0.7700468759}, {'fare_amount': 6.9, 'fare_class': 0.0, 'passenger_count': 1.0, 'Year': 2010.0, 'Month': 4.0, 'Day': 13.0, 'Hours': 7.0, 'Minutes': 58.0, 'mornight': 0.0, 'Total distance': 0.9885585183}, {'fare_amount': 10.5, 'fare_class': 1.0, 'passenger_count': 1.0, 'Year': 2010.0, 'Month': 4.0, 'Day': 21.0, 'Hours': 7.0, 'Minutes': 13.0, 'mornight': 0.0, 'Total distance': 3.100138811}, {'fare_amount': 6.1, 'fare_class': 0.0, 'passenger_count': 1.0, 'Year': 2010.0, 'Month': 4.0, 'Day': 21.0, 'Hours': 6.0, 'Minutes': 13.0, 'mornight': 0.0, 'Total distance': 2.0121740208}, {'fare_amount': 3.7, 'fare_class': 0.0, 'passenger_count': 1.0, 'Year': 2010.0, 'Month': 4.0, 'Day': 15.0, 'Hours': 14.0, 'Minutes': 15.0, 'mornight': 1.0, 'Total distance': 0.6083145784}, {'fare_amount': 13.3, 'fare_class': 1.0, 'passenger_count': 1.0, 'Year': 2010.0, 'Month': 4.0, 'Day': 15.0, 'Hours': 12.0, 'Minutes': 22.0, 'mornight': 1.0, 'Total distance': 5.0857190046}, {'fare_amount': 7.7, 'fare_class': 0.0, 'passenger_count': 1.0, 'Year': 2010.0, 'Month': 4.0, 'Day': 15.0, 'Hours': 5.0, 'Minutes': 58.0, 'mornight': 0.0, 'Total distance': 2.8305227658}, {'fare_amount': 5.7, 'fare_class': 0.0, 'passenger_count': 1.0, 'Year': 2010.0, 'Month': 4.0, 'Day': 18.0, 'Hours': 19.0, 'Minutes': 57.0, 'mornight': 1.0, 'Total distance': 1.5023730376}, {'fare_amount': 6.5, 'fare_class': 0.0, 'passenger_count': 2.0, 'Year': 2010.0, 'Month': 4.0, 'Day': 23.0, 'Hours': 16.0, 'Minutes': 38.0, 'mornight': 1.0, 'Total distance': 1.1463693214}, {'fare_amount': 12.9, 'fare_class': 1.0, 'passenger_count': 2.0, 'Year': 2010.0, 'Month': 4.0, 'Day': 21.0, 'Hours': 21.0, 'Minutes': 35.0, 'mornight': 1.0, 'Total distance': 6.5875239743}, {'fare_amount': 11.3, 'fare_class': 1.0, 'passenger_count': 1.0, 'Year': 2010.0, 'Month': 4.0, 'Day': 20.0, 'Hours': 1.0, 'Minutes': 40.0, 'mornight': 0.0, 'Total distance': 4.7497500659}, {'fare_amount': 13.3, 'fare_class': 1.0, 'passenger_count': 2.0, 'Year': 2010.0, 'Month': 4.0, 'Day': 17.0, 'Hours': 6.0, 'Minutes': 17.0, 'mornight': 0.0, 'Total distance': 5.2929744301}, {'fare_amount': 14.1, 'fare_class': 1.0, 'passenger_count': 3.0, 'Year': 2010.0, 'Month': 4.0, 'Day': 16.0, 'Hours': 0.0, 'Minutes': 45.0, 'mornight': 0.0, 'Total distance': 6.7384225848}, {'fare_amount': 12.9, 'fare_class': 1.0, 'passenger_count': 1.0, 'Year': 2010.0, 'Month': 4.0, 'Day': 24.0, 'Hours': 21.0, 'Minutes': 54.0, 'mornight': 1.0, 'Total distance': 3.6128890993}, {'fare_amount': 5.7, 'fare_class': 0.0, 'passenger_count': 1.0, 'Year': 2010.0, 'Month': 4.0, 'Day': 20.0, 'Hours': 12.0, 'Minutes': 40.0, 'mornight': 1.0, 'Total distance': 2.1526998237}, {'fare_amount': 15.7, 'fare_class': 1.0, 'passenger_count': 1.0, 'Year': 2010.0, 'Month': 4.0, 'Day': 16.0, 'Hours': 12.0, 'Minutes': 30.0, 'mornight': 1.0, 'Total distance': 4.7044060004}, {'fare_amount': 24.9, 'fare_class': 1.0, 'passenger_count': 1.0, 'Year': 2010.0, 'Month': 4.0, 'Day': 14.0, 'Hours': 11.0, 'Minutes': 56.0, 'mornight': 0.0, 'Total distance': 11.4861239946}, {'fare_amount': 8.1, 'fare_class': 0.0, 'passenger_count': 1.0, 'Year': 2010.0, 'Month': 4.0, 'Day': 14.0, 'Hours': 17.0, 'Minutes': 17.0, 'mornight': 1.0, 'Total distance': 2.6708097472}, {'fare_amount': 12.1, 'fare_class': 1.0, 'passenger_count': 1.0, 'Year': 2010.0, 'Month': 4.0, 'Day': 18.0, 'Hours': 13.0, 'Minutes': 39.0, 'mornight': 1.0, 'Total distance': 3.8061889395}, {'fare_amount': 3.7, 'fare_class': 0.0, 'passenger_count': 2.0, 'Year': 2010.0, 'Month': 4.0, 'Day': 14.0, 'Hours': 15.0, 'Minutes': 39.0, 'mornight': 1.0, 'Total distance': 0.8023833167}, {'fare_amount': 10.1, 'fare_class': 1.0, 'passenger_count': 1.0, 'Year': 2010.0, 'Month': 4.0, 'Day': 17.0, 'Hours': 9.0, 'Minutes': 26.0, 'mornight': 0.0, 'Total distance': 4.8396285796}, {'fare_amount': 14.9, 'fare_class': 1.0, 'passenger_count': 4.0, 'Year': 2010.0, 'Month': 4.0, 'Day': 17.0, 'Hours': 18.0, 'Minutes': 53.0, 'mornight': 1.0, 'Total distance': 6.2800859545}, {'fare_amount': 4.1, 'fare_class': 0.0, 'passenger_count': 1.0, 'Year': 2010.0, 'Month': 4.0, 'Day': 22.0, 'Hours': 6.0, 'Minutes': 11.0, 'mornight': 0.0, 'Total distance': 1.1701230491}, {'fare_amount': 14.1, 'fare_class': 1.0, 'passenger_count': 1.0, 'Year': 2010.0, 'Month': 4.0, 'Day': 15.0, 'Hours': 16.0, 'Minutes': 45.0, 'mornight': 1.0, 'Total distance': 6.8346329997}, {'fare_amount': 13.7, 'fare_class': 1.0, 'passenger_count': 2.0, 'Year': 2010.0, 'Month': 4.0, 'Day': 23.0, 'Hours': 21.0, 'Minutes': 14.0, 'mornight': 1.0, 'Total distance': 6.441392209}, {'fare_amount': 16.1, 'fare_class': 1.0, 'passenger_count': 1.0, 'Year': 2010.0, 'Month': 4.0, 'Day': 13.0, 'Hours': 21.0, 'Minutes': 15.0, 'mornight': 1.0, 'Total distance': 5.1206901958}, {'fare_amount': 4.1, 'fare_class': 0.0, 'passenger_count': 1.0, 'Year': 2010.0, 'Month': 4.0, 'Day': 21.0, 'Hours': 3.0, 'Minutes': 23.0, 'mornight': 0.0, 'Total distance': 0.7872285553}, {'fare_amount': 4.5, 'fare_class': 0.0, 'passenger_count': 2.0, 'Year': 2010.0, 'Month': 4.0, 'Day': 24.0, 'Hours': 16.0, 'Minutes': 23.0, 'mornight': 1.0, 'Total distance': 1.122215822}, {'fare_amount': 10.9, 'fare_class': 1.0, 'passenger_count': 1.0, 'Year': 2010.0, 'Month': 4.0, 'Day': 18.0, 'Hours': 11.0, 'Minutes': 53.0, 'mornight': 0.0, 'Total distance': 4.2555713486}, {'fare_amount': 4.9, 'fare_class': 0.0, 'passenger_count': 1.0, 'Year': 2010.0, 'Month': 4.0, 'Day': 11.0, 'Hours': 9.0, 'Minutes': 3.0, 'mornight': 0.0, 'Total distance': 1.8919357264}, {'fare_amount': 6.5, 'fare_class': 0.0, 'passenger_count': 1.0, 'Year': 2010.0, 'Month': 4.0, 'Day': 14.0, 'Hours': 18.0, 'Minutes': 49.0, 'mornight': 1.0, 'Total distance': 2.3319936324}, {'fare_amount': 5.3, 'fare_class': 0.0, 'passenger_count': 1.0, 'Year': 2010.0, 'Month': 4.0, 'Day': 20.0, 'Hours': 7.0, 'Minutes': 18.0, 'mornight': 0.0, 'Total distance': 1.3654062611}, {'fare_amount': 6.1, 'fare_class': 0.0, 'passenger_count': 1.0, 'Year': 2010.0, 'Month': 4.0, 'Day': 14.0, 'Hours': 11.0, 'Minutes': 34.0, 'mornight': 0.0, 'Total distance': 1.6346023894}, {'fare_amount': 7.7, 'fare_class': 0.0, 'passenger_count': 2.0, 'Year': 2010.0, 'Month': 4.0, 'Day': 16.0, 'Hours': 3.0, 'Minutes': 18.0, 'mornight': 0.0, 'Total distance': 2.4046368657}, {'fare_amount': 6.1, 'fare_class': 0.0, 'passenger_count': 1.0, 'Year': 2010.0, 'Month': 4.0, 'Day': 11.0, 'Hours': 4.0, 'Minutes': 45.0, 'mornight': 0.0, 'Total distance': 1.7865103674}, {'fare_amount': 16.5, 'fare_class': 1.0, 'passenger_count': 2.0, 'Year': 2010.0, 'Month': 4.0, 'Day': 15.0, 'Hours': 22.0, 'Minutes': 59.0, 'mornight': 1.0, 'Total distance': 8.9790180239}, {'fare_amount': 8.1, 'fare_class': 0.0, 'passenger_count': 1.0, 'Year': 2010.0, 'Month': 4.0, 'Day': 22.0, 'Hours': 10.0, 'Minutes': 46.0, 'mornight': 0.0, 'Total distance': 2.0370124284}, {'fare_amount': 8.1, 'fare_class': 0.0, 'passenger_count': 2.0, 'Year': 2010.0, 'Month': 4.0, 'Day': 14.0, 'Hours': 13.0, 'Minutes': 12.0, 'mornight': 1.0, 'Total distance': 2.4909634864}, {'fare_amount': 29.47, 'fare_class': 1.0, 'passenger_count': 1.0, 'Year': 2010.0, 'Month': 4.0, 'Day': 14.0, 'Hours': 2.0, 'Minutes': 50.0, 'mornight': 0.0, 'Total distance': 9.350441633}, {'fare_amount': 17.3, 'fare_class': 1.0, 'passenger_count': 1.0, 'Year': 2010.0, 'Month': 4.0, 'Day': 15.0, 'Hours': 15.0, 'Minutes': 23.0, 'mornight': 1.0, 'Total distance': 4.5734225507}, {'fare_amount': 4.5, 'fare_class': 0.0, 'passenger_count': 1.0, 'Year': 2010.0, 'Month': 4.0, 'Day': 22.0, 'Hours': 2.0, 'Minutes': 26.0, 'mornight': 0.0, 'Total distance': 0.7189616736}, {'fare_amount': 4.5, 'fare_class': 0.0, 'passenger_count': 1.0, 'Year': 2010.0, 'Month': 4.0, 'Day': 14.0, 'Hours': 8.0, 'Minutes': 20.0, 'mornight': 0.0, 'Total distance': 0.941646571}, {'fare_amount': 5.3, 'fare_class': 0.0, 'passenger_count': 2.0, 'Year': 2010.0, 'Month': 4.0, 'Day': 19.0, 'Hours': 18.0, 'Minutes': 26.0, 'mornight': 1.0, 'Total distance': 0.6996538947}, {'fare_amount': 49.57, 'fare_class': 1.0, 'passenger_count': 1.0, 'Year': 2010.0, 'Month': 4.0, 'Day': 13.0, 'Hours': 9.0, 'Minutes': 57.0, 'mornight': 0.0, 'Total distance': 20.0926286318}, {'fare_amount': 10.9, 'fare_class': 1.0, 'passenger_count': 1.0, 'Year': 2010.0, 'Month': 4.0, 'Day': 24.0, 'Hours': 23.0, 'Minutes': 13.0, 'mornight': 1.0, 'Total distance': 3.8806032072}, {'fare_amount': 10.5, 'fare_class': 1.0, 'passenger_count': 1.0, 'Year': 2010.0, 'Month': 4.0, 'Day': 11.0, 'Hours': 20.0, 'Minutes': 52.0, 'mornight': 1.0, 'Total distance': 4.8067813471}, {'fare_amount': 6.9, 'fare_class': 0.0, 'passenger_count': 2.0, 'Year': 2010.0, 'Month': 4.0, 'Day': 24.0, 'Hours': 20.0, 'Minutes': 16.0, 'mornight': 1.0, 'Total distance': 1.9891775396}, {'fare_amount': 12.1, 'fare_class': 1.0, 'passenger_count': 1.0, 'Year': 2010.0, 'Month': 4.0, 'Day': 16.0, 'Hours': 20.0, 'Minutes': 11.0, 'mornight': 1.0, 'Total distance': 4.2498526666}, {'fare_amount': 5.3, 'fare_class': 0.0, 'passenger_count': 3.0, 'Year': 2010.0, 'Month': 4.0, 'Day': 13.0, 'Hours': 14.0, 'Minutes': 6.0, 'mornight': 1.0, 'Total distance': 1.5277236007}, {'fare_amount': 7.3, 'fare_class': 0.0, 'passenger_count': 1.0, 'Year': 2010.0, 'Month': 4.0, 'Day': 23.0, 'Hours': 20.0, 'Minutes': 7.0, 'mornight': 1.0, 'Total distance': 2.3191488213}, {'fare_amount': 7.3, 'fare_class': 0.0, 'passenger_count': 1.0, 'Year': 2010.0, 'Month': 4.0, 'Day': 23.0, 'Hours': 21.0, 'Minutes': 2.0, 'mornight': 1.0, 'Total distance': 1.3861987552}, {'fare_amount': 45.3, 'fare_class': 1.0, 'passenger_count': 2.0, 'Year': 2010.0, 'Month': 4.0, 'Day': 18.0, 'Hours': 10.0, 'Minutes': 4.0, 'mornight': 0.0, 'Total distance': 17.211646045}, {'fare_amount': 6.9, 'fare_class': 0.0, 'passenger_count': 1.0, 'Year': 2010.0, 'Month': 4.0, 'Day': 15.0, 'Hours': 8.0, 'Minutes': 50.0, 'mornight': 0.0, 'Total distance': 1.0590950126}, {'fare_amount': 9.3, 'fare_class': 0.0, 'passenger_count': 2.0, 'Year': 2010.0, 'Month': 4.0, 'Day': 22.0, 'Hours': 18.0, 'Minutes': 38.0, 'mornight': 1.0, 'Total distance': 4.0872415535}, {'fare_amount': 4.1, 'fare_class': 0.0, 'passenger_count': 1.0, 'Year': 2010.0, 'Month': 4.0, 'Day': 24.0, 'Hours': 21.0, 'Minutes': 55.0, 'mornight': 1.0, 'Total distance': 0.6335420259}, {'fare_amount': 11.7, 'fare_class': 1.0, 'passenger_count': 1.0, 'Year': 2010.0, 'Month': 4.0, 'Day': 18.0, 'Hours': 2.0, 'Minutes': 21.0, 'mornight': 0.0, 'Total distance': 6.4172383744}, {'fare_amount': 4.5, 'fare_class': 0.0, 'passenger_count': 3.0, 'Year': 2010.0, 'Month': 4.0, 'Day': 18.0, 'Hours': 0.0, 'Minutes': 17.0, 'mornight': 0.0, 'Total distance': 1.1491756792}, {'fare_amount': 5.3, 'fare_class': 0.0, 'passenger_count': 3.0, 'Year': 2010.0, 'Month': 4.0, 'Day': 24.0, 'Hours': 0.0, 'Minutes': 37.0, 'mornight': 0.0, 'Total distance': 1.3231421454}, {'fare_amount': 9.3, 'fare_class': 0.0, 'passenger_count': 1.0, 'Year': 2010.0, 'Month': 4.0, 'Day': 23.0, 'Hours': 18.0, 'Minutes': 1.0, 'mornight': 1.0, 'Total distance': 4.2114927603}, {'fare_amount': 15.7, 'fare_class': 1.0, 'passenger_count': 1.0, 'Year': 2010.0, 'Month': 4.0, 'Day': 20.0, 'Hours': 20.0, 'Minutes': 10.0, 'mornight': 1.0, 'Total distance': 4.0062467417}, {'fare_amount': 10.1, 'fare_class': 1.0, 'passenger_count': 3.0, 'Year': 2010.0, 'Month': 4.0, 'Day': 18.0, 'Hours': 10.0, 'Minutes': 4.0, 'mornight': 0.0, 'Total distance': 2.193834879}, {'fare_amount': 8.1, 'fare_class': 0.0, 'passenger_count': 1.0, 'Year': 2010.0, 'Month': 4.0, 'Day': 22.0, 'Hours': 10.0, 'Minutes': 5.0, 'mornight': 0.0, 'Total distance': 0.8646512865}, {'fare_amount': 3.7, 'fare_class': 0.0, 'passenger_count': 1.0, 'Year': 2010.0, 'Month': 4.0, 'Day': 13.0, 'Hours': 18.0, 'Minutes': 39.0, 'mornight': 1.0, 'Total distance': 0.6797027808}, {'fare_amount': 7.3, 'fare_class': 0.0, 'passenger_count': 1.0, 'Year': 2010.0, 'Month': 4.0, 'Day': 11.0, 'Hours': 5.0, 'Minutes': 31.0, 'mornight': 0.0, 'Total distance': 2.1054968418}, {'fare_amount': 6.1, 'fare_class': 0.0, 'passenger_count': 1.0, 'Year': 2010.0, 'Month': 4.0, 'Day': 23.0, 'Hours': 12.0, 'Minutes': 51.0, 'mornight': 1.0, 'Total distance': 1.7702893049}, {'fare_amount': 8.9, 'fare_class': 0.0, 'passenger_count': 1.0, 'Year': 2010.0, 'Month': 4.0, 'Day': 15.0, 'Hours': 14.0, 'Minutes': 6.0, 'mornight': 1.0, 'Total distance': 2.6213166935}, {'fare_amount': 13.7, 'fare_class': 1.0, 'passenger_count': 1.0, 'Year': 2010.0, 'Month': 4.0, 'Day': 17.0, 'Hours': 22.0, 'Minutes': 58.0, 'mornight': 1.0, 'Total distance': 4.4309546111}, {'fare_amount': 4.1, 'fare_class': 0.0, 'passenger_count': 3.0, 'Year': 2010.0, 'Month': 4.0, 'Day': 18.0, 'Hours': 14.0, 'Minutes': 1.0, 'mornight': 1.0, 'Total distance': 0.5352630804}, {'fare_amount': 11.3, 'fare_class': 1.0, 'passenger_count': 1.0, 'Year': 2010.0, 'Month': 4.0, 'Day': 21.0, 'Hours': 10.0, 'Minutes': 33.0, 'mornight': 0.0, 'Total distance': 2.7132335707}, {'fare_amount': 6.5, 'fare_class': 0.0, 'passenger_count': 1.0, 'Year': 2010.0, 'Month': 4.0, 'Day': 21.0, 'Hours': 16.0, 'Minutes': 25.0, 'mornight': 1.0, 'Total distance': 1.5399764022}, {'fare_amount': 6.5, 'fare_class': 0.0, 'passenger_count': 1.0, 'Year': 2010.0, 'Month': 4.0, 'Day': 16.0, 'Hours': 13.0, 'Minutes': 38.0, 'mornight': 1.0, 'Total distance': 1.7179618664}, {'fare_amount': 7.3, 'fare_class': 0.0, 'passenger_count': 1.0, 'Year': 2010.0, 'Month': 4.0, 'Day': 18.0, 'Hours': 9.0, 'Minutes': 50.0, 'mornight': 0.0, 'Total distance': 1.936670556}, {'fare_amount': 3.3, 'fare_class': 0.0, 'passenger_count': 1.0, 'Year': 2010.0, 'Month': 4.0, 'Day': 19.0, 'Hours': 5.0, 'Minutes': 52.0, 'mornight': 0.0, 'Total distance': 0.5209890527}, {'fare_amount': 10.5, 'fare_class': 1.0, 'passenger_count': 1.0, 'Year': 2010.0, 'Month': 4.0, 'Day': 24.0, 'Hours': 0.0, 'Minutes': 43.0, 'mornight': 0.0, 'Total distance': 4.8008713054}, {'fare_amount': 11.3, 'fare_class': 1.0, 'passenger_count': 2.0, 'Year': 2010.0, 'Month': 4.0, 'Day': 24.0, 'Hours': 8.0, 'Minutes': 1.0, 'mornight': 0.0, 'Total distance': 4.0243585066}, {'fare_amount': 7.3, 'fare_class': 0.0, 'passenger_count': 1.0, 'Year': 2010.0, 'Month': 4.0, 'Day': 23.0, 'Hours': 18.0, 'Minutes': 59.0, 'mornight': 1.0, 'Total distance': 2.5415924837}, {'fare_amount': 2.5, 'fare_class': 0.0, 'passenger_count': 2.0, 'Year': 2010.0, 'Month': 4.0, 'Day': 23.0, 'Hours': 22.0, 'Minutes': 11.0, 'mornight': 1.0, 'Total distance': 0.0138577227}, {'fare_amount': 6.5, 'fare_class': 0.0, 'passenger_count': 1.0, 'Year': 2010.0, 'Month': 4.0, 'Day': 15.0, 'Hours': 12.0, 'Minutes': 20.0, 'mornight': 1.0, 'Total distance': 1.7058825158}, {'fare_amount': 4.5, 'fare_class': 0.0, 'passenger_count': 2.0, 'Year': 2010.0, 'Month': 4.0, 'Day': 22.0, 'Hours': 15.0, 'Minutes': 48.0, 'mornight': 1.0, 'Total distance': 0.8412044693}, {'fare_amount': 10.1, 'fare_class': 1.0, 'passenger_count': 1.0, 'Year': 2010.0, 'Month': 4.0, 'Day': 12.0, 'Hours': 12.0, 'Minutes': 32.0, 'mornight': 1.0, 'Total distance': 2.8291614804}, {'fare_amount': 3.7, 'fare_class': 0.0, 'passenger_count': 1.0, 'Year': 2010.0, 'Month': 4.0, 'Day': 24.0, 'Hours': 10.0, 'Minutes': 42.0, 'mornight': 0.0, 'Total distance': 0.5741575863}, {'fare_amount': 5.3, 'fare_class': 0.0, 'passenger_count': 2.0, 'Year': 2010.0, 'Month': 4.0, 'Day': 13.0, 'Hours': 0.0, 'Minutes': 26.0, 'mornight': 0.0, 'Total distance': 1.4046637512}, {'fare_amount': 7.3, 'fare_class': 0.0, 'passenger_count': 2.0, 'Year': 2010.0, 'Month': 4.0, 'Day': 18.0, 'Hours': 8.0, 'Minutes': 42.0, 'mornight': 0.0, 'Total distance': 2.6874176832}, {'fare_amount': 6.1, 'fare_class': 0.0, 'passenger_count': 1.0, 'Year': 2010.0, 'Month': 4.0, 'Day': 12.0, 'Hours': 20.0, 'Minutes': 8.0, 'mornight': 1.0, 'Total distance': 2.7819849838}, {'fare_amount': 7.3, 'fare_class': 0.0, 'passenger_count': 2.0, 'Year': 2010.0, 'Month': 4.0, 'Day': 17.0, 'Hours': 2.0, 'Minutes': 19.0, 'mornight': 0.0, 'Total distance': 2.1596289488}, {'fare_amount': 10.1, 'fare_class': 1.0, 'passenger_count': 1.0, 'Year': 2010.0, 'Month': 4.0, 'Day': 16.0, 'Hours': 4.0, 'Minutes': 52.0, 'mornight': 0.0, 'Total distance': 2.2929300102}, {'fare_amount': 6.1, 'fare_class': 0.0, 'passenger_count': 1.0, 'Year': 2010.0, 'Month': 4.0, 'Day': 18.0, 'Hours': 6.0, 'Minutes': 54.0, 'mornight': 0.0, 'Total distance': 1.9748252327}, {'fare_amount': 5.7, 'fare_class': 0.0, 'passenger_count': 1.0, 'Year': 2010.0, 'Month': 4.0, 'Day': 13.0, 'Hours': 17.0, 'Minutes': 15.0, 'mornight': 1.0, 'Total distance': 1.2460681789}, {'fare_amount': 5.7, 'fare_class': 0.0, 'passenger_count': 1.0, 'Year': 2010.0, 'Month': 4.0, 'Day': 15.0, 'Hours': 9.0, 'Minutes': 18.0, 'mornight': 0.0, 'Total distance': 1.202263028}, {'fare_amount': 4.1, 'fare_class': 0.0, 'passenger_count': 1.0, 'Year': 2010.0, 'Month': 4.0, 'Day': 12.0, 'Hours': 16.0, 'Minutes': 58.0, 'mornight': 1.0, 'Total distance': 0.8970752825}, {'fare_amount': 4.9, 'fare_class': 0.0, 'passenger_count': 2.0, 'Year': 2010.0, 'Month': 4.0, 'Day': 22.0, 'Hours': 3.0, 'Minutes': 46.0, 'mornight': 0.0, 'Total distance': 1.6059024399}, {'fare_amount': 10.1, 'fare_class': 1.0, 'passenger_count': 1.0, 'Year': 2010.0, 'Month': 4.0, 'Day': 13.0, 'Hours': 17.0, 'Minutes': 28.0, 'mornight': 1.0, 'Total distance': 2.7651213839}, {'fare_amount': 18.1, 'fare_class': 1.0, 'passenger_count': 1.0, 'Year': 2010.0, 'Month': 4.0, 'Day': 19.0, 'Hours': 4.0, 'Minutes': 2.0, 'mornight': 0.0, 'Total distance': 5.5839904659}, {'fare_amount': 20.5, 'fare_class': 1.0, 'passenger_count': 1.0, 'Year': 2010.0, 'Month': 4.0, 'Day': 11.0, 'Hours': 0.0, 'Minutes': 25.0, 'mornight': 0.0, 'Total distance': 8.2378554545}, {'fare_amount': 7.3, 'fare_class': 0.0, 'passenger_count': 1.0, 'Year': 2010.0, 'Month': 4.0, 'Day': 22.0, 'Hours': 20.0, 'Minutes': 2.0, 'mornight': 1.0, 'Total distance': 2.0556243098}, {'fare_amount': 6.9, 'fare_class': 0.0, 'passenger_count': 3.0, 'Year': 2010.0, 'Month': 4.0, 'Day': 19.0, 'Hours': 10.0, 'Minutes': 6.0, 'mornight': 0.0, 'Total distance': 1.800472863}, {'fare_amount': 12.9, 'fare_class': 1.0, 'passenger_count': 1.0, 'Year': 2010.0, 'Month': 4.0, 'Day': 22.0, 'Hours': 18.0, 'Minutes': 18.0, 'mornight': 1.0, 'Total distance': 5.2186065911}, {'fare_amount': 10.9, 'fare_class': 1.0, 'passenger_count': 1.0, 'Year': 2010.0, 'Month': 4.0, 'Day': 20.0, 'Hours': 4.0, 'Minutes': 28.0, 'mornight': 0.0, 'Total distance': 3.4959215687}, {'fare_amount': 9.7, 'fare_class': 0.0, 'passenger_count': 3.0, 'Year': 2010.0, 'Month': 4.0, 'Day': 23.0, 'Hours': 22.0, 'Minutes': 27.0, 'mornight': 1.0, 'Total distance': 3.0834178658}, {'fare_amount': 10.9, 'fare_class': 1.0, 'passenger_count': 1.0, 'Year': 2010.0, 'Month': 4.0, 'Day': 15.0, 'Hours': 15.0, 'Minutes': 58.0, 'mornight': 1.0, 'Total distance': 3.4389202115}, {'fare_amount': 10.5, 'fare_class': 1.0, 'passenger_count': 1.0, 'Year': 2010.0, 'Month': 4.0, 'Day': 17.0, 'Hours': 19.0, 'Minutes': 48.0, 'mornight': 1.0, 'Total distance': 3.2952311495}, {'fare_amount': 14.9, 'fare_class': 1.0, 'passenger_count': 3.0, 'Year': 2010.0, 'Month': 4.0, 'Day': 17.0, 'Hours': 13.0, 'Minutes': 33.0, 'mornight': 1.0, 'Total distance': 6.658283946}, {'fare_amount': 8.1, 'fare_class': 0.0, 'passenger_count': 2.0, 'Year': 2010.0, 'Month': 4.0, 'Day': 14.0, 'Hours': 14.0, 'Minutes': 30.0, 'mornight': 1.0, 'Total distance': 2.890955771}, {'fare_amount': 5.7, 'fare_class': 0.0, 'passenger_count': 1.0, 'Year': 2010.0, 'Month': 4.0, 'Day': 14.0, 'Hours': 2.0, 'Minutes': 10.0, 'mornight': 0.0, 'Total distance': 1.2684543007}, {'fare_amount': 5.7, 'fare_class': 0.0, 'passenger_count': 1.0, 'Year': 2010.0, 'Month': 4.0, 'Day': 18.0, 'Hours': 0.0, 'Minutes': 51.0, 'mornight': 0.0, 'Total distance': 1.2278158081}, {'fare_amount': 6.5, 'fare_class': 0.0, 'passenger_count': 1.0, 'Year': 2010.0, 'Month': 4.0, 'Day': 13.0, 'Hours': 10.0, 'Minutes': 50.0, 'mornight': 0.0, 'Total distance': 1.342698911}, {'fare_amount': 8.5, 'fare_class': 0.0, 'passenger_count': 1.0, 'Year': 2010.0, 'Month': 4.0, 'Day': 16.0, 'Hours': 13.0, 'Minutes': 49.0, 'mornight': 1.0, 'Total distance': 2.2492153123}, {'fare_amount': 10.9, 'fare_class': 1.0, 'passenger_count': 1.0, 'Year': 2010.0, 'Month': 4.0, 'Day': 15.0, 'Hours': 15.0, 'Minutes': 52.0, 'mornight': 1.0, 'Total distance': 3.6802227997}, {'fare_amount': 5.3, 'fare_class': 0.0, 'passenger_count': 2.0, 'Year': 2010.0, 'Month': 4.0, 'Day': 14.0, 'Hours': 17.0, 'Minutes': 0.0, 'mornight': 1.0, 'Total distance': 1.5683031524}, {'fare_amount': 10.1, 'fare_class': 1.0, 'passenger_count': 1.0, 'Year': 2010.0, 'Month': 4.0, 'Day': 18.0, 'Hours': 15.0, 'Minutes': 39.0, 'mornight': 1.0, 'Total distance': 4.0816137145}, {'fare_amount': 22.5, 'fare_class': 1.0, 'passenger_count': 1.0, 'Year': 2010.0, 'Month': 4.0, 'Day': 22.0, 'Hours': 8.0, 'Minutes': 26.0, 'mornight': 0.0, 'Total distance': 9.7609748837}, {'fare_amount': 3.7, 'fare_class': 0.0, 'passenger_count': 2.0, 'Year': 2010.0, 'Month': 4.0, 'Day': 23.0, 'Hours': 17.0, 'Minutes': 52.0, 'mornight': 1.0, 'Total distance': 0.6450633218}, {'fare_amount': 17.7, 'fare_class': 1.0, 'passenger_count': 1.0, 'Year': 2010.0, 'Month': 4.0, 'Day': 18.0, 'Hours': 21.0, 'Minutes': 3.0, 'mornight': 1.0, 'Total distance': 6.7938300578}, {'fare_amount': 8.5, 'fare_class': 0.0, 'passenger_count': 1.0, 'Year': 2010.0, 'Month': 4.0, 'Day': 11.0, 'Hours': 8.0, 'Minutes': 56.0, 'mornight': 0.0, 'Total distance': 2.5017926041}, {'fare_amount': 6.9, 'fare_class': 0.0, 'passenger_count': 2.0, 'Year': 2010.0, 'Month': 4.0, 'Day': 22.0, 'Hours': 21.0, 'Minutes': 55.0, 'mornight': 1.0, 'Total distance': 2.5003878971}, {'fare_amount': 4.9, 'fare_class': 0.0, 'passenger_count': 1.0, 'Year': 2010.0, 'Month': 4.0, 'Day': 15.0, 'Hours': 5.0, 'Minutes': 46.0, 'mornight': 0.0, 'Total distance': 0.900565872}, {'fare_amount': 6.1, 'fare_class': 0.0, 'passenger_count': 3.0, 'Year': 2010.0, 'Month': 4.0, 'Day': 19.0, 'Hours': 5.0, 'Minutes': 13.0, 'mornight': 0.0, 'Total distance': 1.688943588}, {'fare_amount': 6.9, 'fare_class': 0.0, 'passenger_count': 1.0, 'Year': 2010.0, 'Month': 4.0, 'Day': 16.0, 'Hours': 6.0, 'Minutes': 2.0, 'mornight': 0.0, 'Total distance': 2.5929700324}, {'fare_amount': 4.9, 'fare_class': 0.0, 'passenger_count': 1.0, 'Year': 2010.0, 'Month': 4.0, 'Day': 12.0, 'Hours': 5.0, 'Minutes': 59.0, 'mornight': 0.0, 'Total distance': 1.3165244526}, {'fare_amount': 4.5, 'fare_class': 0.0, 'passenger_count': 1.0, 'Year': 2010.0, 'Month': 4.0, 'Day': 13.0, 'Hours': 17.0, 'Minutes': 40.0, 'mornight': 1.0, 'Total distance': 1.2961087726}, {'fare_amount': 10.1, 'fare_class': 1.0, 'passenger_count': 1.0, 'Year': 2010.0, 'Month': 4.0, 'Day': 23.0, 'Hours': 5.0, 'Minutes': 38.0, 'mornight': 0.0, 'Total distance': 1.9444407342}, {'fare_amount': 4.5, 'fare_class': 0.0, 'passenger_count': 1.0, 'Year': 2010.0, 'Month': 4.0, 'Day': 15.0, 'Hours': 19.0, 'Minutes': 21.0, 'mornight': 1.0, 'Total distance': 0.9595957043}, {'fare_amount': 3.7, 'fare_class': 0.0, 'passenger_count': 1.0, 'Year': 2010.0, 'Month': 4.0, 'Day': 19.0, 'Hours': 5.0, 'Minutes': 17.0, 'mornight': 0.0, 'Total distance': 0.721977823}, {'fare_amount': 6.1, 'fare_class': 0.0, 'passenger_count': 2.0, 'Year': 2010.0, 'Month': 4.0, 'Day': 15.0, 'Hours': 6.0, 'Minutes': 39.0, 'mornight': 0.0, 'Total distance': 1.1407871008}, {'fare_amount': 7.3, 'fare_class': 0.0, 'passenger_count': 2.0, 'Year': 2010.0, 'Month': 4.0, 'Day': 17.0, 'Hours': 14.0, 'Minutes': 46.0, 'mornight': 1.0, 'Total distance': 2.5399222747}, {'fare_amount': 28.1, 'fare_class': 1.0, 'passenger_count': 2.0, 'Year': 2010.0, 'Month': 4.0, 'Day': 20.0, 'Hours': 13.0, 'Minutes': 15.0, 'mornight': 1.0, 'Total distance': 13.21168022}, {'fare_amount': 5.3, 'fare_class': 0.0, 'passenger_count': 1.0, 'Year': 2010.0, 'Month': 4.0, 'Day': 22.0, 'Hours': 20.0, 'Minutes': 30.0, 'mornight': 1.0, 'Total distance': 1.1704642446}, {'fare_amount': 6.9, 'fare_class': 0.0, 'passenger_count': 2.0, 'Year': 2010.0, 'Month': 4.0, 'Day': 14.0, 'Hours': 14.0, 'Minutes': 41.0, 'mornight': 1.0, 'Total distance': 2.2706860237}, {'fare_amount': 13.3, 'fare_class': 1.0, 'passenger_count': 1.0, 'Year': 2010.0, 'Month': 4.0, 'Day': 13.0, 'Hours': 0.0, 'Minutes': 3.0, 'mornight': 0.0, 'Total distance': 9.5072810315}, {'fare_amount': 4.9, 'fare_class': 0.0, 'passenger_count': 1.0, 'Year': 2010.0, 'Month': 4.0, 'Day': 16.0, 'Hours': 11.0, 'Minutes': 13.0, 'mornight': 0.0, 'Total distance': 0.4576080838}, {'fare_amount': 10.1, 'fare_class': 1.0, 'passenger_count': 2.0, 'Year': 2010.0, 'Month': 4.0, 'Day': 18.0, 'Hours': 7.0, 'Minutes': 11.0, 'mornight': 0.0, 'Total distance': 3.2833666393}, {'fare_amount': 15.7, 'fare_class': 1.0, 'passenger_count': 1.0, 'Year': 2010.0, 'Month': 4.0, 'Day': 17.0, 'Hours': 0.0, 'Minutes': 12.0, 'mornight': 0.0, 'Total distance': 8.2439381115}, {'fare_amount': 37.6, 'fare_class': 1.0, 'passenger_count': 1.0, 'Year': 2010.0, 'Month': 4.0, 'Day': 23.0, 'Hours': 7.0, 'Minutes': 25.0, 'mornight': 0.0, 'Total distance': 12.8870186626}, {'fare_amount': 9.3, 'fare_class': 0.0, 'passenger_count': 1.0, 'Year': 2010.0, 'Month': 4.0, 'Day': 11.0, 'Hours': 15.0, 'Minutes': 48.0, 'mornight': 1.0, 'Total distance': 3.453278259}, {'fare_amount': 12.1, 'fare_class': 1.0, 'passenger_count': 4.0, 'Year': 2010.0, 'Month': 4.0, 'Day': 20.0, 'Hours': 7.0, 'Minutes': 50.0, 'mornight': 0.0, 'Total distance': 4.3209537014}, {'fare_amount': 45.0, 'fare_class': 1.0, 'passenger_count': 1.0, 'Year': 2010.0, 'Month': 4.0, 'Day': 20.0, 'Hours': 0.0, 'Minutes': 18.0, 'mornight': 0.0, 'Total distance': 20.939058624}, {'fare_amount': 12.5, 'fare_class': 1.0, 'passenger_count': 1.0, 'Year': 2010.0, 'Month': 4.0, 'Day': 21.0, 'Hours': 6.0, 'Minutes': 15.0, 'mornight': 0.0, 'Total distance': 5.4999846158}, {'fare_amount': 6.5, 'fare_class': 0.0, 'passenger_count': 1.0, 'Year': 2010.0, 'Month': 4.0, 'Day': 17.0, 'Hours': 7.0, 'Minutes': 39.0, 'mornight': 0.0, 'Total distance': 2.3003833701}, {'fare_amount': 9.7, 'fare_class': 0.0, 'passenger_count': 3.0, 'Year': 2010.0, 'Month': 4.0, 'Day': 24.0, 'Hours': 13.0, 'Minutes': 18.0, 'mornight': 1.0, 'Total distance': 3.4239564174}, {'fare_amount': 13.3, 'fare_class': 1.0, 'passenger_count': 2.0, 'Year': 2010.0, 'Month': 4.0, 'Day': 15.0, 'Hours': 6.0, 'Minutes': 33.0, 'mornight': 0.0, 'Total distance': 5.2953215553}, {'fare_amount': 32.67, 'fare_class': 1.0, 'passenger_count': 2.0, 'Year': 2010.0, 'Month': 4.0, 'Day': 21.0, 'Hours': 7.0, 'Minutes': 31.0, 'mornight': 0.0, 'Total distance': 9.6314842523}, {'fare_amount': 6.9, 'fare_class': 0.0, 'passenger_count': 1.0, 'Year': 2010.0, 'Month': 4.0, 'Day': 13.0, 'Hours': 7.0, 'Minutes': 12.0, 'mornight': 0.0, 'Total distance': 5.9513316405}, {'fare_amount': 6.9, 'fare_class': 0.0, 'passenger_count': 2.0, 'Year': 2010.0, 'Month': 4.0, 'Day': 14.0, 'Hours': 10.0, 'Minutes': 34.0, 'mornight': 0.0, 'Total distance': 1.2276632909}, {'fare_amount': 4.9, 'fare_class': 0.0, 'passenger_count': 1.0, 'Year': 2010.0, 'Month': 4.0, 'Day': 17.0, 'Hours': 5.0, 'Minutes': 32.0, 'mornight': 0.0, 'Total distance': 1.3821210548}, {'fare_amount': 4.9, 'fare_class': 0.0, 'passenger_count': 1.0, 'Year': 2010.0, 'Month': 4.0, 'Day': 15.0, 'Hours': 4.0, 'Minutes': 58.0, 'mornight': 0.0, 'Total distance': 1.1855569606}, {'fare_amount': 4.5, 'fare_class': 0.0, 'passenger_count': 1.0, 'Year': 2010.0, 'Month': 4.0, 'Day': 11.0, 'Hours': 9.0, 'Minutes': 34.0, 'mornight': 0.0, 'Total distance': 0.8686443384}, {'fare_amount': 7.7, 'fare_class': 0.0, 'passenger_count': 5.0, 'Year': 2010.0, 'Month': 4.0, 'Day': 20.0, 'Hours': 19.0, 'Minutes': 33.0, 'mornight': 1.0, 'Total distance': 2.1237188972}, {'fare_amount': 7.7, 'fare_class': 0.0, 'passenger_count': 1.0, 'Year': 2010.0, 'Month': 4.0, 'Day': 15.0, 'Hours': 14.0, 'Minutes': 14.0, 'mornight': 1.0, 'Total distance': 3.5412992762}, {'fare_amount': 8.1, 'fare_class': 0.0, 'passenger_count': 1.0, 'Year': 2010.0, 'Month': 4.0, 'Day': 22.0, 'Hours': 4.0, 'Minutes': 26.0, 'mornight': 0.0, 'Total distance': 2.2602696428}, {'fare_amount': 9.3, 'fare_class': 0.0, 'passenger_count': 2.0, 'Year': 2010.0, 'Month': 4.0, 'Day': 23.0, 'Hours': 16.0, 'Minutes': 11.0, 'mornight': 1.0, 'Total distance': 2.3869564629}, {'fare_amount': 7.3, 'fare_class': 0.0, 'passenger_count': 1.0, 'Year': 2010.0, 'Month': 4.0, 'Day': 22.0, 'Hours': 8.0, 'Minutes': 48.0, 'mornight': 0.0, 'Total distance': 1.9164915638}, {'fare_amount': 19.7, 'fare_class': 1.0, 'passenger_count': 1.0, 'Year': 2010.0, 'Month': 4.0, 'Day': 24.0, 'Hours': 15.0, 'Minutes': 55.0, 'mornight': 1.0, 'Total distance': 9.5338365785}, {'fare_amount': 6.5, 'fare_class': 0.0, 'passenger_count': 1.0, 'Year': 2010.0, 'Month': 4.0, 'Day': 21.0, 'Hours': 19.0, 'Minutes': 16.0, 'mornight': 1.0, 'Total distance': 1.7469419637}, {'fare_amount': 6.9, 'fare_class': 0.0, 'passenger_count': 1.0, 'Year': 2010.0, 'Month': 4.0, 'Day': 23.0, 'Hours': 8.0, 'Minutes': 9.0, 'mornight': 0.0, 'Total distance': 2.6341651474}, {'fare_amount': 6.1, 'fare_class': 0.0, 'passenger_count': 3.0, 'Year': 2010.0, 'Month': 4.0, 'Day': 18.0, 'Hours': 10.0, 'Minutes': 2.0, 'mornight': 0.0, 'Total distance': 1.3238445904}, {'fare_amount': 8.5, 'fare_class': 0.0, 'passenger_count': 1.0, 'Year': 2010.0, 'Month': 4.0, 'Day': 18.0, 'Hours': 4.0, 'Minutes': 27.0, 'mornight': 0.0, 'Total distance': 2.7208126139}, {'fare_amount': 4.9, 'fare_class': 0.0, 'passenger_count': 1.0, 'Year': 2010.0, 'Month': 4.0, 'Day': 19.0, 'Hours': 6.0, 'Minutes': 4.0, 'mornight': 0.0, 'Total distance': 0.5185235256}, {'fare_amount': 12.1, 'fare_class': 1.0, 'passenger_count': 1.0, 'Year': 2010.0, 'Month': 4.0, 'Day': 21.0, 'Hours': 15.0, 'Minutes': 28.0, 'mornight': 1.0, 'Total distance': 5.2441113318}, {'fare_amount': 16.5, 'fare_class': 1.0, 'passenger_count': 1.0, 'Year': 2010.0, 'Month': 4.0, 'Day': 22.0, 'Hours': 19.0, 'Minutes': 59.0, 'mornight': 1.0, 'Total distance': 3.3208247241}, {'fare_amount': 10.5, 'fare_class': 1.0, 'passenger_count': 1.0, 'Year': 2010.0, 'Month': 4.0, 'Day': 15.0, 'Hours': 5.0, 'Minutes': 17.0, 'mornight': 0.0, 'Total distance': 2.412185899}, {'fare_amount': 5.3, 'fare_class': 0.0, 'passenger_count': 2.0, 'Year': 2010.0, 'Month': 4.0, 'Day': 15.0, 'Hours': 18.0, 'Minutes': 17.0, 'mornight': 1.0, 'Total distance': 0.5942251573}, {'fare_amount': 8.1, 'fare_class': 0.0, 'passenger_count': 1.0, 'Year': 2010.0, 'Month': 4.0, 'Day': 12.0, 'Hours': 1.0, 'Minutes': 37.0, 'mornight': 0.0, 'Total distance': 3.0504610503}, {'fare_amount': 8.1, 'fare_class': 0.0, 'passenger_count': 2.0, 'Year': 2010.0, 'Month': 4.0, 'Day': 21.0, 'Hours': 18.0, 'Minutes': 52.0, 'mornight': 1.0, 'Total distance': 0.8182698793}, {'fare_amount': 5.7, 'fare_class': 0.0, 'passenger_count': 1.0, 'Year': 2010.0, 'Month': 4.0, 'Day': 17.0, 'Hours': 20.0, 'Minutes': 41.0, 'mornight': 1.0, 'Total distance': 1.3443365702}, {'fare_amount': 4.5, 'fare_class': 0.0, 'passenger_count': 1.0, 'Year': 2010.0, 'Month': 4.0, 'Day': 15.0, 'Hours': 11.0, 'Minutes': 3.0, 'mornight': 0.0, 'Total distance': 1.3864924266}, {'fare_amount': 18.5, 'fare_class': 1.0, 'passenger_count': 1.0, 'Year': 2010.0, 'Month': 4.0, 'Day': 11.0, 'Hours': 21.0, 'Minutes': 7.0, 'mornight': 1.0, 'Total distance': 7.1063192812}, {'fare_amount': 4.1, 'fare_class': 0.0, 'passenger_count': 1.0, 'Year': 2010.0, 'Month': 4.0, 'Day': 16.0, 'Hours': 1.0, 'Minutes': 37.0, 'mornight': 0.0, 'Total distance': 0.7382639463}, {'fare_amount': 8.1, 'fare_class': 0.0, 'passenger_count': 1.0, 'Year': 2010.0, 'Month': 4.0, 'Day': 13.0, 'Hours': 9.0, 'Minutes': 56.0, 'mornight': 0.0, 'Total distance': 3.1134062134}, {'fare_amount': 8.9, 'fare_class': 0.0, 'passenger_count': 1.0, 'Year': 2010.0, 'Month': 4.0, 'Day': 21.0, 'Hours': 15.0, 'Minutes': 38.0, 'mornight': 1.0, 'Total distance': 2.1900153528}, {'fare_amount': 5.7, 'fare_class': 0.0, 'passenger_count': 1.0, 'Year': 2010.0, 'Month': 4.0, 'Day': 23.0, 'Hours': 4.0, 'Minutes': 39.0, 'mornight': 0.0, 'Total distance': 1.3072326461}, {'fare_amount': 6.9, 'fare_class': 0.0, 'passenger_count': 1.0, 'Year': 2010.0, 'Month': 4.0, 'Day': 23.0, 'Hours': 10.0, 'Minutes': 43.0, 'mornight': 0.0, 'Total distance': 0.7780015689}, {'fare_amount': 4.5, 'fare_class': 0.0, 'passenger_count': 2.0, 'Year': 2010.0, 'Month': 4.0, 'Day': 24.0, 'Hours': 20.0, 'Minutes': 31.0, 'mornight': 1.0, 'Total distance': 1.1534751512}, {'fare_amount': 6.9, 'fare_class': 0.0, 'passenger_count': 1.0, 'Year': 2010.0, 'Month': 4.0, 'Day': 18.0, 'Hours': 12.0, 'Minutes': 20.0, 'mornight': 1.0, 'Total distance': 1.0880187843}, {'fare_amount': 14.1, 'fare_class': 1.0, 'passenger_count': 1.0, 'Year': 2010.0, 'Month': 4.0, 'Day': 20.0, 'Hours': 4.0, 'Minutes': 45.0, 'mornight': 0.0, 'Total distance': 4.1208610285}, {'fare_amount': 6.1, 'fare_class': 0.0, 'passenger_count': 1.0, 'Year': 2010.0, 'Month': 4.0, 'Day': 15.0, 'Hours': 16.0, 'Minutes': 34.0, 'mornight': 1.0, 'Total distance': 1.9278282561}, {'fare_amount': 14.1, 'fare_class': 1.0, 'passenger_count': 1.0, 'Year': 2010.0, 'Month': 4.0, 'Day': 20.0, 'Hours': 6.0, 'Minutes': 17.0, 'mornight': 0.0, 'Total distance': 3.9535797693}, {'fare_amount': 46.1, 'fare_class': 1.0, 'passenger_count': 1.0, 'Year': 2010.0, 'Month': 4.0, 'Day': 18.0, 'Hours': 17.0, 'Minutes': 24.0, 'mornight': 1.0, 'Total distance': 24.6186808833}, {'fare_amount': 6.9, 'fare_class': 0.0, 'passenger_count': 1.0, 'Year': 2010.0, 'Month': 4.0, 'Day': 12.0, 'Hours': 16.0, 'Minutes': 27.0, 'mornight': 1.0, 'Total distance': 1.9309305368}, {'fare_amount': 15.3, 'fare_class': 1.0, 'passenger_count': 1.0, 'Year': 2010.0, 'Month': 4.0, 'Day': 17.0, 'Hours': 19.0, 'Minutes': 41.0, 'mornight': 1.0, 'Total distance': 6.4174684071}, {'fare_amount': 5.3, 'fare_class': 0.0, 'passenger_count': 2.0, 'Year': 2010.0, 'Month': 4.0, 'Day': 12.0, 'Hours': 17.0, 'Minutes': 21.0, 'mornight': 1.0, 'Total distance': 1.7897223235}, {'fare_amount': 5.7, 'fare_class': 0.0, 'passenger_count': 4.0, 'Year': 2010.0, 'Month': 4.0, 'Day': 23.0, 'Hours': 19.0, 'Minutes': 16.0, 'mornight': 1.0, 'Total distance': 1.4370989852}, {'fare_amount': 9.3, 'fare_class': 0.0, 'passenger_count': 2.0, 'Year': 2010.0, 'Month': 4.0, 'Day': 15.0, 'Hours': 6.0, 'Minutes': 34.0, 'mornight': 0.0, 'Total distance': 3.6409120704}, {'fare_amount': 11.3, 'fare_class': 1.0, 'passenger_count': 1.0, 'Year': 2010.0, 'Month': 4.0, 'Day': 15.0, 'Hours': 16.0, 'Minutes': 10.0, 'mornight': 1.0, 'Total distance': 4.4506295502}, {'fare_amount': 5.7, 'fare_class': 0.0, 'passenger_count': 1.0, 'Year': 2010.0, 'Month': 4.0, 'Day': 22.0, 'Hours': 17.0, 'Minutes': 31.0, 'mornight': 1.0, 'Total distance': 1.34268468}, {'fare_amount': 27.47, 'fare_class': 1.0, 'passenger_count': 1.0, 'Year': 2010.0, 'Month': 4.0, 'Day': 14.0, 'Hours': 5.0, 'Minutes': 43.0, 'mornight': 0.0, 'Total distance': 10.1452631423}, {'fare_amount': 3.7, 'fare_class': 0.0, 'passenger_count': 2.0, 'Year': 2010.0, 'Month': 4.0, 'Day': 21.0, 'Hours': 22.0, 'Minutes': 6.0, 'mornight': 1.0, 'Total distance': 0.8662364038}, {'fare_amount': 3.7, 'fare_class': 0.0, 'passenger_count': 1.0, 'Year': 2010.0, 'Month': 4.0, 'Day': 20.0, 'Hours': 2.0, 'Minutes': 31.0, 'mornight': 0.0, 'Total distance': 0.723424535}, {'fare_amount': 9.3, 'fare_class': 0.0, 'passenger_count': 1.0, 'Year': 2010.0, 'Month': 4.0, 'Day': 16.0, 'Hours': 13.0, 'Minutes': 25.0, 'mornight': 1.0, 'Total distance': 3.0451862603}, {'fare_amount': 5.7, 'fare_class': 0.0, 'passenger_count': 1.0, 'Year': 2010.0, 'Month': 4.0, 'Day': 14.0, 'Hours': 2.0, 'Minutes': 21.0, 'mornight': 0.0, 'Total distance': 1.6713367192}, {'fare_amount': 5.3, 'fare_class': 0.0, 'passenger_count': 2.0, 'Year': 2010.0, 'Month': 4.0, 'Day': 23.0, 'Hours': 17.0, 'Minutes': 26.0, 'mornight': 1.0, 'Total distance': 0.7225577359}, {'fare_amount': 16.5, 'fare_class': 1.0, 'passenger_count': 4.0, 'Year': 2010.0, 'Month': 4.0, 'Day': 21.0, 'Hours': 9.0, 'Minutes': 9.0, 'mornight': 0.0, 'Total distance': 5.578576544}, {'fare_amount': 25.3, 'fare_class': 1.0, 'passenger_count': 1.0, 'Year': 2010.0, 'Month': 4.0, 'Day': 12.0, 'Hours': 16.0, 'Minutes': 8.0, 'mornight': 1.0, 'Total distance': 10.8831496756}, {'fare_amount': 10.5, 'fare_class': 1.0, 'passenger_count': 2.0, 'Year': 2010.0, 'Month': 4.0, 'Day': 15.0, 'Hours': 16.0, 'Minutes': 56.0, 'mornight': 1.0, 'Total distance': 0.1654823626}, {'fare_amount': 4.5, 'fare_class': 0.0, 'passenger_count': 1.0, 'Year': 2010.0, 'Month': 4.0, 'Day': 24.0, 'Hours': 15.0, 'Minutes': 46.0, 'mornight': 1.0, 'Total distance': 1.2175312441}, {'fare_amount': 14.9, 'fare_class': 1.0, 'passenger_count': 1.0, 'Year': 2010.0, 'Month': 4.0, 'Day': 11.0, 'Hours': 4.0, 'Minutes': 26.0, 'mornight': 0.0, 'Total distance': 7.9837569077}, {'fare_amount': 26.0, 'fare_class': 1.0, 'passenger_count': 1.0, 'Year': 2010.0, 'Month': 4.0, 'Day': 21.0, 'Hours': 10.0, 'Minutes': 38.0, 'mornight': 0.0, 'Total distance': 7.9184232528}, {'fare_amount': 9.3, 'fare_class': 0.0, 'passenger_count': 1.0, 'Year': 2010.0, 'Month': 4.0, 'Day': 17.0, 'Hours': 21.0, 'Minutes': 59.0, 'mornight': 1.0, 'Total distance': 2.5817385794}, {'fare_amount': 9.3, 'fare_class': 0.0, 'passenger_count': 1.0, 'Year': 2010.0, 'Month': 4.0, 'Day': 23.0, 'Hours': 4.0, 'Minutes': 20.0, 'mornight': 0.0, 'Total distance': 2.4599995176}, {'fare_amount': 3.7, 'fare_class': 0.0, 'passenger_count': 1.0, 'Year': 2010.0, 'Month': 4.0, 'Day': 19.0, 'Hours': 20.0, 'Minutes': 51.0, 'mornight': 1.0, 'Total distance': 0.8511426865}, {'fare_amount': 8.1, 'fare_class': 0.0, 'passenger_count': 1.0, 'Year': 2010.0, 'Month': 4.0, 'Day': 14.0, 'Hours': 3.0, 'Minutes': 4.0, 'mornight': 0.0, 'Total distance': 2.4591239434}, {'fare_amount': 6.9, 'fare_class': 0.0, 'passenger_count': 1.0, 'Year': 2010.0, 'Month': 4.0, 'Day': 14.0, 'Hours': 15.0, 'Minutes': 42.0, 'mornight': 1.0, 'Total distance': 2.2262841396}, {'fare_amount': 15.7, 'fare_class': 1.0, 'passenger_count': 1.0, 'Year': 2010.0, 'Month': 4.0, 'Day': 16.0, 'Hours': 18.0, 'Minutes': 41.0, 'mornight': 1.0, 'Total distance': 5.9642683666}, {'fare_amount': 2.9, 'fare_class': 0.0, 'passenger_count': 1.0, 'Year': 2010.0, 'Month': 4.0, 'Day': 15.0, 'Hours': 5.0, 'Minutes': 50.0, 'mornight': 0.0, 'Total distance': 0.3207131699}, {'fare_amount': 49.57, 'fare_class': 1.0, 'passenger_count': 1.0, 'Year': 2010.0, 'Month': 4.0, 'Day': 11.0, 'Hours': 15.0, 'Minutes': 59.0, 'mornight': 1.0, 'Total distance': 20.6460222296}, {'fare_amount': 33.07, 'fare_class': 1.0, 'passenger_count': 1.0, 'Year': 2010.0, 'Month': 4.0, 'Day': 12.0, 'Hours': 5.0, 'Minutes': 20.0, 'mornight': 0.0, 'Total distance': 10.6154914093}, {'fare_amount': 12.9, 'fare_class': 1.0, 'passenger_count': 1.0, 'Year': 2010.0, 'Month': 4.0, 'Day': 13.0, 'Hours': 7.0, 'Minutes': 35.0, 'mornight': 0.0, 'Total distance': 5.8386232569}, {'fare_amount': 12.5, 'fare_class': 1.0, 'passenger_count': 1.0, 'Year': 2010.0, 'Month': 4.0, 'Day': 19.0, 'Hours': 3.0, 'Minutes': 12.0, 'mornight': 0.0, 'Total distance': 4.9802353282}, {'fare_amount': 8.1, 'fare_class': 0.0, 'passenger_count': 1.0, 'Year': 2010.0, 'Month': 4.0, 'Day': 14.0, 'Hours': 9.0, 'Minutes': 1.0, 'mornight': 0.0, 'Total distance': 2.4421310371}, {'fare_amount': 7.3, 'fare_class': 0.0, 'passenger_count': 1.0, 'Year': 2010.0, 'Month': 4.0, 'Day': 21.0, 'Hours': 17.0, 'Minutes': 42.0, 'mornight': 1.0, 'Total distance': 2.0252451414}, {'fare_amount': 11.3, 'fare_class': 1.0, 'passenger_count': 2.0, 'Year': 2010.0, 'Month': 4.0, 'Day': 23.0, 'Hours': 20.0, 'Minutes': 39.0, 'mornight': 1.0, 'Total distance': 4.1612206484}, {'fare_amount': 5.3, 'fare_class': 0.0, 'passenger_count': 1.0, 'Year': 2010.0, 'Month': 4.0, 'Day': 14.0, 'Hours': 6.0, 'Minutes': 51.0, 'mornight': 0.0, 'Total distance': 0.7189765528}, {'fare_amount': 12.5, 'fare_class': 1.0, 'passenger_count': 1.0, 'Year': 2010.0, 'Month': 4.0, 'Day': 17.0, 'Hours': 8.0, 'Minutes': 31.0, 'mornight': 0.0, 'Total distance': 6.2660818346}, {'fare_amount': 32.67, 'fare_class': 1.0, 'passenger_count': 2.0, 'Year': 2010.0, 'Month': 4.0, 'Day': 11.0, 'Hours': 15.0, 'Minutes': 4.0, 'mornight': 1.0, 'Total distance': 10.3143059801}, {'fare_amount': 6.9, 'fare_class': 0.0, 'passenger_count': 2.0, 'Year': 2010.0, 'Month': 4.0, 'Day': 14.0, 'Hours': 12.0, 'Minutes': 44.0, 'mornight': 1.0, 'Total distance': 1.7620529507}, {'fare_amount': 8.5, 'fare_class': 0.0, 'passenger_count': 1.0, 'Year': 2010.0, 'Month': 4.0, 'Day': 21.0, 'Hours': 9.0, 'Minutes': 18.0, 'mornight': 0.0, 'Total distance': 3.1065983671}, {'fare_amount': 7.3, 'fare_class': 0.0, 'passenger_count': 1.0, 'Year': 2010.0, 'Month': 4.0, 'Day': 17.0, 'Hours': 17.0, 'Minutes': 42.0, 'mornight': 1.0, 'Total distance': 2.2665507447}, {'fare_amount': 6.5, 'fare_class': 0.0, 'passenger_count': 1.0, 'Year': 2010.0, 'Month': 4.0, 'Day': 18.0, 'Hours': 5.0, 'Minutes': 50.0, 'mornight': 0.0, 'Total distance': 2.9165654012}, {'fare_amount': 21.3, 'fare_class': 1.0, 'passenger_count': 1.0, 'Year': 2010.0, 'Month': 4.0, 'Day': 16.0, 'Hours': 9.0, 'Minutes': 53.0, 'mornight': 0.0, 'Total distance': 7.7297736242}, {'fare_amount': 5.3, 'fare_class': 0.0, 'passenger_count': 4.0, 'Year': 2010.0, 'Month': 4.0, 'Day': 24.0, 'Hours': 17.0, 'Minutes': 2.0, 'mornight': 1.0, 'Total distance': 1.0136823228}, {'fare_amount': 11.7, 'fare_class': 1.0, 'passenger_count': 1.0, 'Year': 2010.0, 'Month': 4.0, 'Day': 17.0, 'Hours': 6.0, 'Minutes': 53.0, 'mornight': 0.0, 'Total distance': 5.1775920521}, {'fare_amount': 4.9, 'fare_class': 0.0, 'passenger_count': 1.0, 'Year': 2010.0, 'Month': 4.0, 'Day': 19.0, 'Hours': 22.0, 'Minutes': 19.0, 'mornight': 1.0, 'Total distance': 0.7378874491}, {'fare_amount': 8.1, 'fare_class': 0.0, 'passenger_count': 1.0, 'Year': 2010.0, 'Month': 4.0, 'Day': 21.0, 'Hours': 13.0, 'Minutes': 37.0, 'mornight': 1.0, 'Total distance': 2.6157221597}, {'fare_amount': 8.1, 'fare_class': 0.0, 'passenger_count': 1.0, 'Year': 2010.0, 'Month': 4.0, 'Day': 13.0, 'Hours': 18.0, 'Minutes': 5.0, 'mornight': 1.0, 'Total distance': 2.2631230492}, {'fare_amount': 18.5, 'fare_class': 1.0, 'passenger_count': 2.0, 'Year': 2010.0, 'Month': 4.0, 'Day': 16.0, 'Hours': 19.0, 'Minutes': 27.0, 'mornight': 1.0, 'Total distance': 5.2574268825}, {'fare_amount': 4.9, 'fare_class': 0.0, 'passenger_count': 1.0, 'Year': 2010.0, 'Month': 4.0, 'Day': 14.0, 'Hours': 10.0, 'Minutes': 39.0, 'mornight': 0.0, 'Total distance': 1.1173206875}, {'fare_amount': 4.9, 'fare_class': 0.0, 'passenger_count': 1.0, 'Year': 2010.0, 'Month': 4.0, 'Day': 12.0, 'Hours': 15.0, 'Minutes': 42.0, 'mornight': 1.0, 'Total distance': 1.0434013431}, {'fare_amount': 18.1, 'fare_class': 1.0, 'passenger_count': 1.0, 'Year': 2010.0, 'Month': 4.0, 'Day': 23.0, 'Hours': 21.0, 'Minutes': 51.0, 'mornight': 1.0, 'Total distance': 5.9881564115}, {'fare_amount': 6.5, 'fare_class': 0.0, 'passenger_count': 1.0, 'Year': 2010.0, 'Month': 4.0, 'Day': 14.0, 'Hours': 15.0, 'Minutes': 49.0, 'mornight': 1.0, 'Total distance': 2.2401010981}, {'fare_amount': 4.9, 'fare_class': 0.0, 'passenger_count': 5.0, 'Year': 2010.0, 'Month': 4.0, 'Day': 21.0, 'Hours': 13.0, 'Minutes': 44.0, 'mornight': 1.0, 'Total distance': 1.1100827324}, {'fare_amount': 5.3, 'fare_class': 0.0, 'passenger_count': 1.0, 'Year': 2010.0, 'Month': 4.0, 'Day': 19.0, 'Hours': 8.0, 'Minutes': 30.0, 'mornight': 0.0, 'Total distance': 0.7753670807}, {'fare_amount': 6.5, 'fare_class': 0.0, 'passenger_count': 1.0, 'Year': 2010.0, 'Month': 4.0, 'Day': 11.0, 'Hours': 6.0, 'Minutes': 41.0, 'mornight': 0.0, 'Total distance': 2.5044197977}, {'fare_amount': 6.5, 'fare_class': 0.0, 'passenger_count': 1.0, 'Year': 2010.0, 'Month': 4.0, 'Day': 16.0, 'Hours': 7.0, 'Minutes': 3.0, 'mornight': 0.0, 'Total distance': 0.8579020646}, {'fare_amount': 7.7, 'fare_class': 0.0, 'passenger_count': 1.0, 'Year': 2010.0, 'Month': 4.0, 'Day': 15.0, 'Hours': 12.0, 'Minutes': 40.0, 'mornight': 1.0, 'Total distance': 2.1369603148}, {'fare_amount': 10.5, 'fare_class': 1.0, 'passenger_count': 1.0, 'Year': 2010.0, 'Month': 4.0, 'Day': 16.0, 'Hours': 7.0, 'Minutes': 22.0, 'mornight': 0.0, 'Total distance': 2.1190874978}, {'fare_amount': 14.5, 'fare_class': 1.0, 'passenger_count': 1.0, 'Year': 2010.0, 'Month': 4.0, 'Day': 12.0, 'Hours': 7.0, 'Minutes': 5.0, 'mornight': 0.0, 'Total distance': 4.821658557}, {'fare_amount': 17.3, 'fare_class': 1.0, 'passenger_count': 1.0, 'Year': 2010.0, 'Month': 4.0, 'Day': 14.0, 'Hours': 19.0, 'Minutes': 34.0, 'mornight': 1.0, 'Total distance': 7.7014474147}, {'fare_amount': 4.9, 'fare_class': 0.0, 'passenger_count': 1.0, 'Year': 2010.0, 'Month': 4.0, 'Day': 17.0, 'Hours': 5.0, 'Minutes': 31.0, 'mornight': 0.0, 'Total distance': 1.7186546295}, {'fare_amount': 6.1, 'fare_class': 0.0, 'passenger_count': 1.0, 'Year': 2010.0, 'Month': 4.0, 'Day': 20.0, 'Hours': 13.0, 'Minutes': 34.0, 'mornight': 1.0, 'Total distance': 1.8141327859}, {'fare_amount': 14.5, 'fare_class': 1.0, 'passenger_count': 1.0, 'Year': 2010.0, 'Month': 4.0, 'Day': 18.0, 'Hours': 17.0, 'Minutes': 36.0, 'mornight': 1.0, 'Total distance': 1.6561037601}, {'fare_amount': 14.1, 'fare_class': 1.0, 'passenger_count': 2.0, 'Year': 2010.0, 'Month': 4.0, 'Day': 15.0, 'Hours': 12.0, 'Minutes': 24.0, 'mornight': 1.0, 'Total distance': 5.2481223147}, {'fare_amount': 26.27, 'fare_class': 1.0, 'passenger_count': 1.0, 'Year': 2010.0, 'Month': 4.0, 'Day': 15.0, 'Hours': 5.0, 'Minutes': 3.0, 'mornight': 0.0, 'Total distance': 9.651713049}, {'fare_amount': 23.7, 'fare_class': 1.0, 'passenger_count': 2.0, 'Year': 2010.0, 'Month': 4.0, 'Day': 23.0, 'Hours': 23.0, 'Minutes': 59.0, 'mornight': 1.0, 'Total distance': 7.4211154209}, {'fare_amount': 3.7, 'fare_class': 0.0, 'passenger_count': 1.0, 'Year': 2010.0, 'Month': 4.0, 'Day': 17.0, 'Hours': 5.0, 'Minutes': 23.0, 'mornight': 0.0, 'Total distance': 0.3958426008}, {'fare_amount': 3.7, 'fare_class': 0.0, 'passenger_count': 1.0, 'Year': 2010.0, 'Month': 4.0, 'Day': 17.0, 'Hours': 5.0, 'Minutes': 55.0, 'mornight': 0.0, 'Total distance': 0.9082750213}, {'fare_amount': 5.7, 'fare_class': 0.0, 'passenger_count': 1.0, 'Year': 2010.0, 'Month': 4.0, 'Day': 18.0, 'Hours': 12.0, 'Minutes': 27.0, 'mornight': 1.0, 'Total distance': 1.3268225753}, {'fare_amount': 10.1, 'fare_class': 1.0, 'passenger_count': 1.0, 'Year': 2010.0, 'Month': 4.0, 'Day': 17.0, 'Hours': 9.0, 'Minutes': 2.0, 'mornight': 0.0, 'Total distance': 0.7141058879}, {'fare_amount': 6.9, 'fare_class': 0.0, 'passenger_count': 1.0, 'Year': 2010.0, 'Month': 4.0, 'Day': 18.0, 'Hours': 11.0, 'Minutes': 59.0, 'mornight': 0.0, 'Total distance': 2.7155842986}, {'fare_amount': 11.3, 'fare_class': 1.0, 'passenger_count': 1.0, 'Year': 2010.0, 'Month': 4.0, 'Day': 14.0, 'Hours': 15.0, 'Minutes': 32.0, 'mornight': 1.0, 'Total distance': 4.7150221091}, {'fare_amount': 49.57, 'fare_class': 1.0, 'passenger_count': 1.0, 'Year': 2010.0, 'Month': 4.0, 'Day': 22.0, 'Hours': 2.0, 'Minutes': 2.0, 'mornight': 0.0, 'Total distance': 19.6738158687}, {'fare_amount': 19.7, 'fare_class': 1.0, 'passenger_count': 1.0, 'Year': 2010.0, 'Month': 4.0, 'Day': 23.0, 'Hours': 4.0, 'Minutes': 22.0, 'mornight': 0.0, 'Total distance': 7.303304852}, {'fare_amount': 5.7, 'fare_class': 0.0, 'passenger_count': 1.0, 'Year': 2010.0, 'Month': 4.0, 'Day': 15.0, 'Hours': 15.0, 'Minutes': 53.0, 'mornight': 1.0, 'Total distance': 1.1236914808}, {'fare_amount': 4.9, 'fare_class': 0.0, 'passenger_count': 1.0, 'Year': 2010.0, 'Month': 4.0, 'Day': 13.0, 'Hours': 19.0, 'Minutes': 27.0, 'mornight': 1.0, 'Total distance': 1.5885958361}, {'fare_amount': 10.5, 'fare_class': 1.0, 'passenger_count': 1.0, 'Year': 2010.0, 'Month': 4.0, 'Day': 16.0, 'Hours': 6.0, 'Minutes': 15.0, 'mornight': 0.0, 'Total distance': 2.6272401013}, {'fare_amount': 14.9, 'fare_class': 1.0, 'passenger_count': 1.0, 'Year': 2010.0, 'Month': 4.0, 'Day': 23.0, 'Hours': 15.0, 'Minutes': 32.0, 'mornight': 1.0, 'Total distance': 5.0332760001}, {'fare_amount': 10.9, 'fare_class': 1.0, 'passenger_count': 2.0, 'Year': 2010.0, 'Month': 4.0, 'Day': 23.0, 'Hours': 14.0, 'Minutes': 7.0, 'mornight': 1.0, 'Total distance': 2.5925278783}, {'fare_amount': 7.3, 'fare_class': 0.0, 'passenger_count': 1.0, 'Year': 2010.0, 'Month': 4.0, 'Day': 21.0, 'Hours': 10.0, 'Minutes': 3.0, 'mornight': 0.0, 'Total distance': 1.5070552097}, {'fare_amount': 7.3, 'fare_class': 0.0, 'passenger_count': 1.0, 'Year': 2010.0, 'Month': 4.0, 'Day': 15.0, 'Hours': 7.0, 'Minutes': 43.0, 'mornight': 0.0, 'Total distance': 1.6657165482}, {'fare_amount': 7.3, 'fare_class': 0.0, 'passenger_count': 1.0, 'Year': 2010.0, 'Month': 4.0, 'Day': 15.0, 'Hours': 7.0, 'Minutes': 28.0, 'mornight': 0.0, 'Total distance': 2.0286788724}, {'fare_amount': 8.5, 'fare_class': 0.0, 'passenger_count': 1.0, 'Year': 2010.0, 'Month': 4.0, 'Day': 22.0, 'Hours': 17.0, 'Minutes': 50.0, 'mornight': 1.0, 'Total distance': 3.628471578}, {'fare_amount': 8.5, 'fare_class': 0.0, 'passenger_count': 2.0, 'Year': 2010.0, 'Month': 4.0, 'Day': 22.0, 'Hours': 8.0, 'Minutes': 55.0, 'mornight': 0.0, 'Total distance': 1.6592197654}, {'fare_amount': 8.1, 'fare_class': 0.0, 'passenger_count': 2.0, 'Year': 2010.0, 'Month': 4.0, 'Day': 24.0, 'Hours': 10.0, 'Minutes': 16.0, 'mornight': 0.0, 'Total distance': 2.983512304}, {'fare_amount': 6.1, 'fare_class': 0.0, 'passenger_count': 2.0, 'Year': 2010.0, 'Month': 4.0, 'Day': 11.0, 'Hours': 9.0, 'Minutes': 52.0, 'mornight': 0.0, 'Total distance': 1.4579197992}, {'fare_amount': 10.9, 'fare_class': 1.0, 'passenger_count': 1.0, 'Year': 2010.0, 'Month': 4.0, 'Day': 15.0, 'Hours': 18.0, 'Minutes': 17.0, 'mornight': 1.0, 'Total distance': 3.9182315379}, {'fare_amount': 7.7, 'fare_class': 0.0, 'passenger_count': 5.0, 'Year': 2010.0, 'Month': 4.0, 'Day': 17.0, 'Hours': 20.0, 'Minutes': 16.0, 'mornight': 1.0, 'Total distance': 2.5381465447}, {'fare_amount': 5.3, 'fare_class': 0.0, 'passenger_count': 1.0, 'Year': 2010.0, 'Month': 4.0, 'Day': 12.0, 'Hours': 2.0, 'Minutes': 58.0, 'mornight': 0.0, 'Total distance': 1.5337006486}, {'fare_amount': 6.9, 'fare_class': 0.0, 'passenger_count': 1.0, 'Year': 2010.0, 'Month': 4.0, 'Day': 22.0, 'Hours': 4.0, 'Minutes': 51.0, 'mornight': 0.0, 'Total distance': 1.7782765184}, {'fare_amount': 5.3, 'fare_class': 0.0, 'passenger_count': 1.0, 'Year': 2010.0, 'Month': 4.0, 'Day': 11.0, 'Hours': 18.0, 'Minutes': 49.0, 'mornight': 1.0, 'Total distance': 1.1875975471}, {'fare_amount': 5.3, 'fare_class': 0.0, 'passenger_count': 1.0, 'Year': 2010.0, 'Month': 4.0, 'Day': 20.0, 'Hours': 18.0, 'Minutes': 33.0, 'mornight': 1.0, 'Total distance': 1.5146036039}, {'fare_amount': 4.5, 'fare_class': 0.0, 'passenger_count': 2.0, 'Year': 2010.0, 'Month': 4.0, 'Day': 15.0, 'Hours': 18.0, 'Minutes': 3.0, 'mornight': 1.0, 'Total distance': 0.9484483574}, {'fare_amount': 49.57, 'fare_class': 1.0, 'passenger_count': 1.0, 'Year': 2010.0, 'Month': 4.0, 'Day': 23.0, 'Hours': 6.0, 'Minutes': 9.0, 'mornight': 0.0, 'Total distance': 23.3700125926}, {'fare_amount': 16.1, 'fare_class': 1.0, 'passenger_count': 1.0, 'Year': 2010.0, 'Month': 4.0, 'Day': 24.0, 'Hours': 16.0, 'Minutes': 29.0, 'mornight': 1.0, 'Total distance': 4.1477941527}, {'fare_amount': 24.5, 'fare_class': 1.0, 'passenger_count': 1.0, 'Year': 2010.0, 'Month': 4.0, 'Day': 11.0, 'Hours': 14.0, 'Minutes': 14.0, 'mornight': 1.0, 'Total distance': 7.5306231413}, {'fare_amount': 28.5, 'fare_class': 1.0, 'passenger_count': 1.0, 'Year': 2010.0, 'Month': 4.0, 'Day': 21.0, 'Hours': 14.0, 'Minutes': 17.0, 'mornight': 1.0, 'Total distance': 6.3262559866}, {'fare_amount': 4.9, 'fare_class': 0.0, 'passenger_count': 1.0, 'Year': 2010.0, 'Month': 4.0, 'Day': 17.0, 'Hours': 9.0, 'Minutes': 8.0, 'mornight': 0.0, 'Total distance': 0.7127841551}, {'fare_amount': 4.1, 'fare_class': 0.0, 'passenger_count': 1.0, 'Year': 2010.0, 'Month': 4.0, 'Day': 14.0, 'Hours': 7.0, 'Minutes': 24.0, 'mornight': 0.0, 'Total distance': 0.5042439138}, {'fare_amount': 8.9, 'fare_class': 0.0, 'passenger_count': 2.0, 'Year': 2010.0, 'Month': 4.0, 'Day': 20.0, 'Hours': 17.0, 'Minutes': 48.0, 'mornight': 1.0, 'Total distance': 3.2673126633}, {'fare_amount': 4.5, 'fare_class': 0.0, 'passenger_count': 3.0, 'Year': 2010.0, 'Month': 4.0, 'Day': 17.0, 'Hours': 14.0, 'Minutes': 51.0, 'mornight': 1.0, 'Total distance': 0.8851082167}, {'fare_amount': 10.1, 'fare_class': 1.0, 'passenger_count': 2.0, 'Year': 2010.0, 'Month': 4.0, 'Day': 21.0, 'Hours': 11.0, 'Minutes': 10.0, 'mornight': 0.0, 'Total distance': 3.2087627265}, {'fare_amount': 5.7, 'fare_class': 0.0, 'passenger_count': 4.0, 'Year': 2010.0, 'Month': 4.0, 'Day': 17.0, 'Hours': 20.0, 'Minutes': 30.0, 'mornight': 1.0, 'Total distance': 1.7056124496}, {'fare_amount': 10.9, 'fare_class': 1.0, 'passenger_count': 2.0, 'Year': 2010.0, 'Month': 4.0, 'Day': 22.0, 'Hours': 14.0, 'Minutes': 40.0, 'mornight': 1.0, 'Total distance': 4.7429484851}, {'fare_amount': 8.9, 'fare_class': 0.0, 'passenger_count': 1.0, 'Year': 2010.0, 'Month': 4.0, 'Day': 15.0, 'Hours': 7.0, 'Minutes': 57.0, 'mornight': 0.0, 'Total distance': 0.6016430496}, {'fare_amount': 6.9, 'fare_class': 0.0, 'passenger_count': 3.0, 'Year': 2010.0, 'Month': 4.0, 'Day': 12.0, 'Hours': 17.0, 'Minutes': 17.0, 'mornight': 1.0, 'Total distance': 1.9857050441}, {'fare_amount': 6.9, 'fare_class': 0.0, 'passenger_count': 1.0, 'Year': 2010.0, 'Month': 4.0, 'Day': 19.0, 'Hours': 5.0, 'Minutes': 0.0, 'mornight': 0.0, 'Total distance': 2.0166030634}, {'fare_amount': 9.3, 'fare_class': 0.0, 'passenger_count': 1.0, 'Year': 2010.0, 'Month': 4.0, 'Day': 24.0, 'Hours': 3.0, 'Minutes': 3.0, 'mornight': 0.0, 'Total distance': 3.5060738284}, {'fare_amount': 14.1, 'fare_class': 1.0, 'passenger_count': 1.0, 'Year': 2010.0, 'Month': 4.0, 'Day': 20.0, 'Hours': 17.0, 'Minutes': 39.0, 'mornight': 1.0, 'Total distance': 4.3318095486}, {'fare_amount': 28.5, 'fare_class': 1.0, 'passenger_count': 3.0, 'Year': 2010.0, 'Month': 4.0, 'Day': 15.0, 'Hours': 17.0, 'Minutes': 15.0, 'mornight': 1.0, 'Total distance': 12.6395470314}, {'fare_amount': 8.5, 'fare_class': 0.0, 'passenger_count': 1.0, 'Year': 2010.0, 'Month': 4.0, 'Day': 20.0, 'Hours': 3.0, 'Minutes': 11.0, 'mornight': 0.0, 'Total distance': 2.6839451221}, {'fare_amount': 4.1, 'fare_class': 0.0, 'passenger_count': 1.0, 'Year': 2010.0, 'Month': 4.0, 'Day': 15.0, 'Hours': 15.0, 'Minutes': 42.0, 'mornight': 1.0, 'Total distance': 1.2136071602}, {'fare_amount': 4.5, 'fare_class': 0.0, 'passenger_count': 1.0, 'Year': 2010.0, 'Month': 4.0, 'Day': 12.0, 'Hours': 6.0, 'Minutes': 25.0, 'mornight': 0.0, 'Total distance': 0.9952840889}, {'fare_amount': 49.57, 'fare_class': 1.0, 'passenger_count': 1.0, 'Year': 2010.0, 'Month': 4.0, 'Day': 24.0, 'Hours': 7.0, 'Minutes': 0.0, 'mornight': 0.0, 'Total distance': 21.3333124726}, {'fare_amount': 6.5, 'fare_class': 0.0, 'passenger_count': 1.0, 'Year': 2010.0, 'Month': 4.0, 'Day': 12.0, 'Hours': 1.0, 'Minutes': 22.0, 'mornight': 0.0, 'Total distance': 1.9712173507}, {'fare_amount': 4.5, 'fare_class': 0.0, 'passenger_count': 1.0, 'Year': 2010.0, 'Month': 4.0, 'Day': 24.0, 'Hours': 6.0, 'Minutes': 43.0, 'mornight': 0.0, 'Total distance': 0.7754332613}, {'fare_amount': 22.1, 'fare_class': 1.0, 'passenger_count': 1.0, 'Year': 2010.0, 'Month': 4.0, 'Day': 19.0, 'Hours': 20.0, 'Minutes': 5.0, 'mornight': 1.0, 'Total distance': 11.2679951895}, {'fare_amount': 5.3, 'fare_class': 0.0, 'passenger_count': 1.0, 'Year': 2010.0, 'Month': 4.0, 'Day': 13.0, 'Hours': 8.0, 'Minutes': 37.0, 'mornight': 0.0, 'Total distance': 1.0124942009}, {'fare_amount': 7.3, 'fare_class': 0.0, 'passenger_count': 1.0, 'Year': 2010.0, 'Month': 4.0, 'Day': 23.0, 'Hours': 23.0, 'Minutes': 18.0, 'mornight': 1.0, 'Total distance': 2.5254886312}, {'fare_amount': 5.7, 'fare_class': 0.0, 'passenger_count': 1.0, 'Year': 2010.0, 'Month': 4.0, 'Day': 12.0, 'Hours': 11.0, 'Minutes': 20.0, 'mornight': 0.0, 'Total distance': 1.4440077608}, {'fare_amount': 12.1, 'fare_class': 1.0, 'passenger_count': 1.0, 'Year': 2010.0, 'Month': 4.0, 'Day': 13.0, 'Hours': 21.0, 'Minutes': 45.0, 'mornight': 1.0, 'Total distance': 4.55575598}, {'fare_amount': 16.1, 'fare_class': 1.0, 'passenger_count': 2.0, 'Year': 2010.0, 'Month': 4.0, 'Day': 20.0, 'Hours': 10.0, 'Minutes': 41.0, 'mornight': 0.0, 'Total distance': 4.861591355}, {'fare_amount': 8.1, 'fare_class': 0.0, 'passenger_count': 1.0, 'Year': 2010.0, 'Month': 4.0, 'Day': 16.0, 'Hours': 5.0, 'Minutes': 44.0, 'mornight': 0.0, 'Total distance': 1.8556765532}, {'fare_amount': 4.1, 'fare_class': 0.0, 'passenger_count': 1.0, 'Year': 2010.0, 'Month': 4.0, 'Day': 21.0, 'Hours': 21.0, 'Minutes': 44.0, 'mornight': 1.0, 'Total distance': 0.9187328736}, {'fare_amount': 6.9, 'fare_class': 0.0, 'passenger_count': 2.0, 'Year': 2010.0, 'Month': 4.0, 'Day': 13.0, 'Hours': 9.0, 'Minutes': 50.0, 'mornight': 0.0, 'Total distance': 1.0592945704}, {'fare_amount': 13.3, 'fare_class': 1.0, 'passenger_count': 2.0, 'Year': 2010.0, 'Month': 4.0, 'Day': 16.0, 'Hours': 21.0, 'Minutes': 58.0, 'mornight': 1.0, 'Total distance': 5.7769210466}, {'fare_amount': 10.1, 'fare_class': 1.0, 'passenger_count': 1.0, 'Year': 2010.0, 'Month': 4.0, 'Day': 17.0, 'Hours': 13.0, 'Minutes': 51.0, 'mornight': 1.0, 'Total distance': 3.5998709756}, {'fare_amount': 8.9, 'fare_class': 0.0, 'passenger_count': 1.0, 'Year': 2010.0, 'Month': 4.0, 'Day': 14.0, 'Hours': 8.0, 'Minutes': 13.0, 'mornight': 0.0, 'Total distance': 1.498299674}, {'fare_amount': 5.7, 'fare_class': 0.0, 'passenger_count': 1.0, 'Year': 2010.0, 'Month': 4.0, 'Day': 18.0, 'Hours': 9.0, 'Minutes': 19.0, 'mornight': 0.0, 'Total distance': 0.9587422598}, {'fare_amount': 14.1, 'fare_class': 1.0, 'passenger_count': 1.0, 'Year': 2010.0, 'Month': 4.0, 'Day': 23.0, 'Hours': 21.0, 'Minutes': 13.0, 'mornight': 1.0, 'Total distance': 5.4480108405}, {'fare_amount': 4.9, 'fare_class': 0.0, 'passenger_count': 1.0, 'Year': 2010.0, 'Month': 4.0, 'Day': 12.0, 'Hours': 8.0, 'Minutes': 33.0, 'mornight': 0.0, 'Total distance': 0.9370463092}, {'fare_amount': 7.7, 'fare_class': 0.0, 'passenger_count': 1.0, 'Year': 2010.0, 'Month': 4.0, 'Day': 13.0, 'Hours': 6.0, 'Minutes': 17.0, 'mornight': 0.0, 'Total distance': 2.286724546}, {'fare_amount': 12.9, 'fare_class': 1.0, 'passenger_count': 1.0, 'Year': 2010.0, 'Month': 4.0, 'Day': 24.0, 'Hours': 20.0, 'Minutes': 7.0, 'mornight': 1.0, 'Total distance': 4.2808854275}, {'fare_amount': 6.5, 'fare_class': 0.0, 'passenger_count': 1.0, 'Year': 2010.0, 'Month': 4.0, 'Day': 17.0, 'Hours': 18.0, 'Minutes': 16.0, 'mornight': 1.0, 'Total distance': 1.6599553856}, {'fare_amount': 11.3, 'fare_class': 1.0, 'passenger_count': 4.0, 'Year': 2010.0, 'Month': 4.0, 'Day': 17.0, 'Hours': 22.0, 'Minutes': 32.0, 'mornight': 1.0, 'Total distance': 3.8863803786}, {'fare_amount': 6.9, 'fare_class': 0.0, 'passenger_count': 1.0, 'Year': 2010.0, 'Month': 4.0, 'Day': 20.0, 'Hours': 6.0, 'Minutes': 51.0, 'mornight': 0.0, 'Total distance': 1.3140194528}, {'fare_amount': 6.9, 'fare_class': 0.0, 'passenger_count': 1.0, 'Year': 2010.0, 'Month': 4.0, 'Day': 16.0, 'Hours': 4.0, 'Minutes': 22.0, 'mornight': 0.0, 'Total distance': 1.3684682368}, {'fare_amount': 19.3, 'fare_class': 1.0, 'passenger_count': 1.0, 'Year': 2010.0, 'Month': 4.0, 'Day': 24.0, 'Hours': 4.0, 'Minutes': 26.0, 'mornight': 0.0, 'Total distance': 2.0885854833}, {'fare_amount': 8.1, 'fare_class': 0.0, 'passenger_count': 2.0, 'Year': 2010.0, 'Month': 4.0, 'Day': 20.0, 'Hours': 18.0, 'Minutes': 54.0, 'mornight': 1.0, 'Total distance': 3.0285316518}, {'fare_amount': 7.3, 'fare_class': 0.0, 'passenger_count': 1.0, 'Year': 2010.0, 'Month': 4.0, 'Day': 23.0, 'Hours': 11.0, 'Minutes': 8.0, 'mornight': 0.0, 'Total distance': 1.6945449225}, {'fare_amount': 9.3, 'fare_class': 0.0, 'passenger_count': 1.0, 'Year': 2010.0, 'Month': 4.0, 'Day': 24.0, 'Hours': 11.0, 'Minutes': 25.0, 'mornight': 0.0, 'Total distance': 3.7149778454}, {'fare_amount': 9.7, 'fare_class': 0.0, 'passenger_count': 1.0, 'Year': 2010.0, 'Month': 4.0, 'Day': 20.0, 'Hours': 10.0, 'Minutes': 59.0, 'mornight': 0.0, 'Total distance': 2.8107936791}, {'fare_amount': 6.1, 'fare_class': 0.0, 'passenger_count': 1.0, 'Year': 2010.0, 'Month': 4.0, 'Day': 12.0, 'Hours': 13.0, 'Minutes': 48.0, 'mornight': 1.0, 'Total distance': 1.5957799633}, {'fare_amount': 6.5, 'fare_class': 0.0, 'passenger_count': 2.0, 'Year': 2010.0, 'Month': 4.0, 'Day': 21.0, 'Hours': 5.0, 'Minutes': 7.0, 'mornight': 0.0, 'Total distance': 1.398059977}, {'fare_amount': 6.9, 'fare_class': 0.0, 'passenger_count': 2.0, 'Year': 2010.0, 'Month': 4.0, 'Day': 11.0, 'Hours': 9.0, 'Minutes': 3.0, 'mornight': 0.0, 'Total distance': 1.4134164328}, {'fare_amount': 8.1, 'fare_class': 0.0, 'passenger_count': 1.0, 'Year': 2010.0, 'Month': 4.0, 'Day': 15.0, 'Hours': 5.0, 'Minutes': 9.0, 'mornight': 0.0, 'Total distance': 1.8513515054}, {'fare_amount': 14.1, 'fare_class': 1.0, 'passenger_count': 2.0, 'Year': 2010.0, 'Month': 4.0, 'Day': 17.0, 'Hours': 23.0, 'Minutes': 17.0, 'mornight': 1.0, 'Total distance': 3.7359974126}, {'fare_amount': 10.1, 'fare_class': 1.0, 'passenger_count': 1.0, 'Year': 2010.0, 'Month': 4.0, 'Day': 14.0, 'Hours': 7.0, 'Minutes': 45.0, 'mornight': 0.0, 'Total distance': 2.6464004685}, {'fare_amount': 7.3, 'fare_class': 0.0, 'passenger_count': 1.0, 'Year': 2010.0, 'Month': 4.0, 'Day': 20.0, 'Hours': 11.0, 'Minutes': 7.0, 'mornight': 0.0, 'Total distance': 2.0784149052}, {'fare_amount': 5.3, 'fare_class': 0.0, 'passenger_count': 1.0, 'Year': 2010.0, 'Month': 4.0, 'Day': 17.0, 'Hours': 4.0, 'Minutes': 5.0, 'mornight': 0.0, 'Total distance': 0.8001770852}, {'fare_amount': 6.5, 'fare_class': 0.0, 'passenger_count': 1.0, 'Year': 2010.0, 'Month': 4.0, 'Day': 20.0, 'Hours': 12.0, 'Minutes': 48.0, 'mornight': 1.0, 'Total distance': 1.5466576293}, {'fare_amount': 7.3, 'fare_class': 0.0, 'passenger_count': 1.0, 'Year': 2010.0, 'Month': 4.0, 'Day': 21.0, 'Hours': 14.0, 'Minutes': 30.0, 'mornight': 1.0, 'Total distance': 2.4751019307}, {'fare_amount': 5.7, 'fare_class': 0.0, 'passenger_count': 1.0, 'Year': 2010.0, 'Month': 4.0, 'Day': 16.0, 'Hours': 4.0, 'Minutes': 56.0, 'mornight': 0.0, 'Total distance': 1.4642980484}, {'fare_amount': 6.1, 'fare_class': 0.0, 'passenger_count': 1.0, 'Year': 2010.0, 'Month': 4.0, 'Day': 23.0, 'Hours': 20.0, 'Minutes': 55.0, 'mornight': 1.0, 'Total distance': 1.450443715}, {'fare_amount': 8.9, 'fare_class': 0.0, 'passenger_count': 1.0, 'Year': 2010.0, 'Month': 4.0, 'Day': 21.0, 'Hours': 16.0, 'Minutes': 49.0, 'mornight': 1.0, 'Total distance': 3.1619645643}, {'fare_amount': 8.5, 'fare_class': 0.0, 'passenger_count': 1.0, 'Year': 2010.0, 'Month': 4.0, 'Day': 14.0, 'Hours': 17.0, 'Minutes': 4.0, 'mornight': 1.0, 'Total distance': 2.7201162166}, {'fare_amount': 8.9, 'fare_class': 0.0, 'passenger_count': 1.0, 'Year': 2010.0, 'Month': 4.0, 'Day': 15.0, 'Hours': 4.0, 'Minutes': 52.0, 'mornight': 0.0, 'Total distance': 2.539299461}, {'fare_amount': 10.1, 'fare_class': 1.0, 'passenger_count': 1.0, 'Year': 2010.0, 'Month': 4.0, 'Day': 23.0, 'Hours': 17.0, 'Minutes': 21.0, 'mornight': 1.0, 'Total distance': 3.8885063016}, {'fare_amount': 9.3, 'fare_class': 0.0, 'passenger_count': 1.0, 'Year': 2010.0, 'Month': 4.0, 'Day': 13.0, 'Hours': 5.0, 'Minutes': 59.0, 'mornight': 0.0, 'Total distance': 1.4614292265}, {'fare_amount': 5.3, 'fare_class': 0.0, 'passenger_count': 1.0, 'Year': 2010.0, 'Month': 4.0, 'Day': 20.0, 'Hours': 21.0, 'Minutes': 3.0, 'mornight': 1.0, 'Total distance': 1.1392654385}, {'fare_amount': 4.5, 'fare_class': 0.0, 'passenger_count': 1.0, 'Year': 2010.0, 'Month': 4.0, 'Day': 15.0, 'Hours': 19.0, 'Minutes': 27.0, 'mornight': 1.0, 'Total distance': 1.5167597355}, {'fare_amount': 11.7, 'fare_class': 1.0, 'passenger_count': 1.0, 'Year': 2010.0, 'Month': 4.0, 'Day': 22.0, 'Hours': 20.0, 'Minutes': 49.0, 'mornight': 1.0, 'Total distance': 5.4151051099}, {'fare_amount': 8.9, 'fare_class': 0.0, 'passenger_count': 1.0, 'Year': 2010.0, 'Month': 4.0, 'Day': 20.0, 'Hours': 16.0, 'Minutes': 38.0, 'mornight': 1.0, 'Total distance': 3.4540040962}, {'fare_amount': 13.3, 'fare_class': 1.0, 'passenger_count': 1.0, 'Year': 2010.0, 'Month': 4.0, 'Day': 20.0, 'Hours': 9.0, 'Minutes': 51.0, 'mornight': 0.0, 'Total distance': 3.523891015}, {'fare_amount': 23.3, 'fare_class': 1.0, 'passenger_count': 1.0, 'Year': 2010.0, 'Month': 4.0, 'Day': 21.0, 'Hours': 10.0, 'Minutes': 7.0, 'mornight': 0.0, 'Total distance': 11.8717589857}, {'fare_amount': 14.9, 'fare_class': 1.0, 'passenger_count': 1.0, 'Year': 2010.0, 'Month': 4.0, 'Day': 12.0, 'Hours': 8.0, 'Minutes': 56.0, 'mornight': 0.0, 'Total distance': 1.8204348994}, {'fare_amount': 12.1, 'fare_class': 1.0, 'passenger_count': 1.0, 'Year': 2010.0, 'Month': 4.0, 'Day': 13.0, 'Hours': 16.0, 'Minutes': 43.0, 'mornight': 1.0, 'Total distance': 4.0334297899}, {'fare_amount': 12.1, 'fare_class': 1.0, 'passenger_count': 2.0, 'Year': 2010.0, 'Month': 4.0, 'Day': 22.0, 'Hours': 10.0, 'Minutes': 46.0, 'mornight': 0.0, 'Total distance': 4.3624407762}, {'fare_amount': 5.7, 'fare_class': 0.0, 'passenger_count': 1.0, 'Year': 2010.0, 'Month': 4.0, 'Day': 22.0, 'Hours': 23.0, 'Minutes': 57.0, 'mornight': 1.0, 'Total distance': 0.90628504}, {'fare_amount': 6.5, 'fare_class': 0.0, 'passenger_count': 1.0, 'Year': 2010.0, 'Month': 4.0, 'Day': 18.0, 'Hours': 15.0, 'Minutes': 42.0, 'mornight': 1.0, 'Total distance': 1.5981590408}, {'fare_amount': 4.9, 'fare_class': 0.0, 'passenger_count': 1.0, 'Year': 2010.0, 'Month': 4.0, 'Day': 17.0, 'Hours': 18.0, 'Minutes': 56.0, 'mornight': 1.0, 'Total distance': 0.7999822094}, {'fare_amount': 6.1, 'fare_class': 0.0, 'passenger_count': 1.0, 'Year': 2010.0, 'Month': 4.0, 'Day': 14.0, 'Hours': 22.0, 'Minutes': 15.0, 'mornight': 1.0, 'Total distance': 1.6739678401}, {'fare_amount': 16.9, 'fare_class': 1.0, 'passenger_count': 1.0, 'Year': 2010.0, 'Month': 4.0, 'Day': 13.0, 'Hours': 17.0, 'Minutes': 16.0, 'mornight': 1.0, 'Total distance': 6.7214710567}, {'fare_amount': 16.9, 'fare_class': 1.0, 'passenger_count': 1.0, 'Year': 2010.0, 'Month': 4.0, 'Day': 15.0, 'Hours': 8.0, 'Minutes': 18.0, 'mornight': 0.0, 'Total distance': 5.0173233728}, {'fare_amount': 15.3, 'fare_class': 1.0, 'passenger_count': 2.0, 'Year': 2010.0, 'Month': 4.0, 'Day': 19.0, 'Hours': 14.0, 'Minutes': 16.0, 'mornight': 1.0, 'Total distance': 5.6416691146}, {'fare_amount': 4.5, 'fare_class': 0.0, 'passenger_count': 1.0, 'Year': 2010.0, 'Month': 4.0, 'Day': 11.0, 'Hours': 19.0, 'Minutes': 11.0, 'mornight': 1.0, 'Total distance': 1.379319698}, {'fare_amount': 10.9, 'fare_class': 1.0, 'passenger_count': 1.0, 'Year': 2010.0, 'Month': 4.0, 'Day': 24.0, 'Hours': 4.0, 'Minutes': 56.0, 'mornight': 0.0, 'Total distance': 3.7650517799}, {'fare_amount': 5.7, 'fare_class': 0.0, 'passenger_count': 1.0, 'Year': 2010.0, 'Month': 4.0, 'Day': 20.0, 'Hours': 12.0, 'Minutes': 43.0, 'mornight': 1.0, 'Total distance': 1.4222729806}, {'fare_amount': 16.9, 'fare_class': 1.0, 'passenger_count': 1.0, 'Year': 2010.0, 'Month': 4.0, 'Day': 14.0, 'Hours': 8.0, 'Minutes': 0.0, 'mornight': 0.0, 'Total distance': 3.9431332243}, {'fare_amount': 14.5, 'fare_class': 1.0, 'passenger_count': 1.0, 'Year': 2010.0, 'Month': 4.0, 'Day': 22.0, 'Hours': 5.0, 'Minutes': 47.0, 'mornight': 0.0, 'Total distance': 4.8448939629}, {'fare_amount': 10.5, 'fare_class': 1.0, 'passenger_count': 1.0, 'Year': 2010.0, 'Month': 4.0, 'Day': 12.0, 'Hours': 13.0, 'Minutes': 30.0, 'mornight': 1.0, 'Total distance': 4.3393161219}, {'fare_amount': 5.3, 'fare_class': 0.0, 'passenger_count': 1.0, 'Year': 2010.0, 'Month': 4.0, 'Day': 22.0, 'Hours': 18.0, 'Minutes': 16.0, 'mornight': 1.0, 'Total distance': 1.43818194}, {'fare_amount': 6.5, 'fare_class': 0.0, 'passenger_count': 1.0, 'Year': 2010.0, 'Month': 4.0, 'Day': 17.0, 'Hours': 16.0, 'Minutes': 29.0, 'mornight': 1.0, 'Total distance': 2.7025935353}, {'fare_amount': 16.9, 'fare_class': 1.0, 'passenger_count': 2.0, 'Year': 2010.0, 'Month': 4.0, 'Day': 22.0, 'Hours': 6.0, 'Minutes': 22.0, 'mornight': 0.0, 'Total distance': 5.8086340429}, {'fare_amount': 5.7, 'fare_class': 0.0, 'passenger_count': 4.0, 'Year': 2010.0, 'Month': 4.0, 'Day': 24.0, 'Hours': 11.0, 'Minutes': 6.0, 'mornight': 0.0, 'Total distance': 0.879980033}, {'fare_amount': 10.1, 'fare_class': 1.0, 'passenger_count': 2.0, 'Year': 2010.0, 'Month': 4.0, 'Day': 17.0, 'Hours': 0.0, 'Minutes': 3.0, 'mornight': 0.0, 'Total distance': 5.2274937498}, {'fare_amount': 4.5, 'fare_class': 0.0, 'passenger_count': 1.0, 'Year': 2010.0, 'Month': 4.0, 'Day': 16.0, 'Hours': 22.0, 'Minutes': 57.0, 'mornight': 1.0, 'Total distance': 0.9112142557}, {'fare_amount': 6.9, 'fare_class': 0.0, 'passenger_count': 1.0, 'Year': 2010.0, 'Month': 4.0, 'Day': 19.0, 'Hours': 14.0, 'Minutes': 20.0, 'mornight': 1.0, 'Total distance': 2.5651316037}, {'fare_amount': 21.3, 'fare_class': 1.0, 'passenger_count': 5.0, 'Year': 2010.0, 'Month': 4.0, 'Day': 15.0, 'Hours': 2.0, 'Minutes': 6.0, 'mornight': 0.0, 'Total distance': 4.9407625048}, {'fare_amount': 18.5, 'fare_class': 1.0, 'passenger_count': 1.0, 'Year': 2010.0, 'Month': 4.0, 'Day': 24.0, 'Hours': 8.0, 'Minutes': 25.0, 'mornight': 0.0, 'Total distance': 6.4702162805}, {'fare_amount': 5.7, 'fare_class': 0.0, 'passenger_count': 1.0, 'Year': 2010.0, 'Month': 4.0, 'Day': 12.0, 'Hours': 17.0, 'Minutes': 0.0, 'mornight': 1.0, 'Total distance': 1.8218280658}, {'fare_amount': 6.1, 'fare_class': 0.0, 'passenger_count': 1.0, 'Year': 2010.0, 'Month': 4.0, 'Day': 22.0, 'Hours': 10.0, 'Minutes': 11.0, 'mornight': 0.0, 'Total distance': 1.7540874757}, {'fare_amount': 7.3, 'fare_class': 0.0, 'passenger_count': 1.0, 'Year': 2010.0, 'Month': 4.0, 'Day': 13.0, 'Hours': 3.0, 'Minutes': 49.0, 'mornight': 0.0, 'Total distance': 2.0633659205}, {'fare_amount': 15.3, 'fare_class': 1.0, 'passenger_count': 1.0, 'Year': 2010.0, 'Month': 4.0, 'Day': 13.0, 'Hours': 16.0, 'Minutes': 18.0, 'mornight': 1.0, 'Total distance': 5.6572994605}, {'fare_amount': 11.7, 'fare_class': 1.0, 'passenger_count': 1.0, 'Year': 2010.0, 'Month': 4.0, 'Day': 14.0, 'Hours': 10.0, 'Minutes': 31.0, 'mornight': 0.0, 'Total distance': 4.5204530681}, {'fare_amount': 11.3, 'fare_class': 1.0, 'passenger_count': 1.0, 'Year': 2010.0, 'Month': 4.0, 'Day': 11.0, 'Hours': 16.0, 'Minutes': 16.0, 'mornight': 1.0, 'Total distance': 9.3146269248}, {'fare_amount': 7.3, 'fare_class': 0.0, 'passenger_count': 1.0, 'Year': 2010.0, 'Month': 4.0, 'Day': 21.0, 'Hours': 11.0, 'Minutes': 7.0, 'mornight': 0.0, 'Total distance': 1.7558796662}, {'fare_amount': 11.7, 'fare_class': 1.0, 'passenger_count': 1.0, 'Year': 2010.0, 'Month': 4.0, 'Day': 24.0, 'Hours': 18.0, 'Minutes': 57.0, 'mornight': 1.0, 'Total distance': 3.5313636388}, {'fare_amount': 5.7, 'fare_class': 0.0, 'passenger_count': 3.0, 'Year': 2010.0, 'Month': 4.0, 'Day': 11.0, 'Hours': 15.0, 'Minutes': 52.0, 'mornight': 1.0, 'Total distance': 1.3390195846}, {'fare_amount': 7.7, 'fare_class': 0.0, 'passenger_count': 1.0, 'Year': 2010.0, 'Month': 4.0, 'Day': 13.0, 'Hours': 13.0, 'Minutes': 6.0, 'mornight': 1.0, 'Total distance': 1.6781242436}, {'fare_amount': 12.1, 'fare_class': 1.0, 'passenger_count': 1.0, 'Year': 2010.0, 'Month': 4.0, 'Day': 22.0, 'Hours': 6.0, 'Minutes': 51.0, 'mornight': 0.0, 'Total distance': 4.0477482651}, {'fare_amount': 5.7, 'fare_class': 0.0, 'passenger_count': 1.0, 'Year': 2010.0, 'Month': 4.0, 'Day': 11.0, 'Hours': 0.0, 'Minutes': 37.0, 'mornight': 0.0, 'Total distance': 1.5215944504}, {'fare_amount': 10.5, 'fare_class': 1.0, 'passenger_count': 1.0, 'Year': 2010.0, 'Month': 4.0, 'Day': 15.0, 'Hours': 1.0, 'Minutes': 8.0, 'mornight': 0.0, 'Total distance': 4.6911191906}, {'fare_amount': 3.7, 'fare_class': 0.0, 'passenger_count': 1.0, 'Year': 2010.0, 'Month': 4.0, 'Day': 12.0, 'Hours': 7.0, 'Minutes': 38.0, 'mornight': 0.0, 'Total distance': 0.8411575737}, {'fare_amount': 9.3, 'fare_class': 0.0, 'passenger_count': 1.0, 'Year': 2010.0, 'Month': 4.0, 'Day': 24.0, 'Hours': 17.0, 'Minutes': 37.0, 'mornight': 1.0, 'Total distance': 4.3090665771}, {'fare_amount': 6.1, 'fare_class': 0.0, 'passenger_count': 1.0, 'Year': 2010.0, 'Month': 4.0, 'Day': 21.0, 'Hours': 8.0, 'Minutes': 38.0, 'mornight': 0.0, 'Total distance': 2.1093231447}, {'fare_amount': 16.5, 'fare_class': 1.0, 'passenger_count': 2.0, 'Year': 2010.0, 'Month': 4.0, 'Day': 24.0, 'Hours': 14.0, 'Minutes': 16.0, 'mornight': 1.0, 'Total distance': 2.648799869}, {'fare_amount': 11.3, 'fare_class': 1.0, 'passenger_count': 1.0, 'Year': 2010.0, 'Month': 4.0, 'Day': 13.0, 'Hours': 16.0, 'Minutes': 19.0, 'mornight': 1.0, 'Total distance': 5.8138065179}, {'fare_amount': 6.1, 'fare_class': 0.0, 'passenger_count': 1.0, 'Year': 2010.0, 'Month': 4.0, 'Day': 13.0, 'Hours': 14.0, 'Minutes': 8.0, 'mornight': 1.0, 'Total distance': 1.4341526619}, {'fare_amount': 11.3, 'fare_class': 1.0, 'passenger_count': 1.0, 'Year': 2010.0, 'Month': 4.0, 'Day': 14.0, 'Hours': 8.0, 'Minutes': 27.0, 'mornight': 0.0, 'Total distance': 2.6039198787}, {'fare_amount': 14.5, 'fare_class': 1.0, 'passenger_count': 2.0, 'Year': 2010.0, 'Month': 4.0, 'Day': 22.0, 'Hours': 21.0, 'Minutes': 7.0, 'mornight': 1.0, 'Total distance': 6.5631404486}, {'fare_amount': 4.9, 'fare_class': 0.0, 'passenger_count': 1.0, 'Year': 2010.0, 'Month': 4.0, 'Day': 13.0, 'Hours': 8.0, 'Minutes': 58.0, 'mornight': 0.0, 'Total distance': 1.1431697177}, {'fare_amount': 9.7, 'fare_class': 0.0, 'passenger_count': 1.0, 'Year': 2010.0, 'Month': 4.0, 'Day': 15.0, 'Hours': 5.0, 'Minutes': 34.0, 'mornight': 0.0, 'Total distance': 3.1702531044}, {'fare_amount': 5.7, 'fare_class': 0.0, 'passenger_count': 1.0, 'Year': 2010.0, 'Month': 4.0, 'Day': 13.0, 'Hours': 12.0, 'Minutes': 39.0, 'mornight': 1.0, 'Total distance': 1.4710101151}, {'fare_amount': 8.5, 'fare_class': 0.0, 'passenger_count': 1.0, 'Year': 2010.0, 'Month': 4.0, 'Day': 20.0, 'Hours': 16.0, 'Minutes': 52.0, 'mornight': 1.0, 'Total distance': 2.1328396388}, {'fare_amount': 16.5, 'fare_class': 1.0, 'passenger_count': 1.0, 'Year': 2010.0, 'Month': 4.0, 'Day': 21.0, 'Hours': 10.0, 'Minutes': 33.0, 'mornight': 0.0, 'Total distance': 6.0052847246}, {'fare_amount': 10.9, 'fare_class': 1.0, 'passenger_count': 2.0, 'Year': 2010.0, 'Month': 4.0, 'Day': 23.0, 'Hours': 21.0, 'Minutes': 9.0, 'mornight': 1.0, 'Total distance': 4.2413225368}, {'fare_amount': 7.3, 'fare_class': 0.0, 'passenger_count': 3.0, 'Year': 2010.0, 'Month': 4.0, 'Day': 24.0, 'Hours': 16.0, 'Minutes': 2.0, 'mornight': 1.0, 'Total distance': 2.4935483235}, {'fare_amount': 8.1, 'fare_class': 0.0, 'passenger_count': 1.0, 'Year': 2010.0, 'Month': 4.0, 'Day': 21.0, 'Hours': 13.0, 'Minutes': 39.0, 'mornight': 1.0, 'Total distance': 2.1666504441}, {'fare_amount': 6.9, 'fare_class': 0.0, 'passenger_count': 1.0, 'Year': 2010.0, 'Month': 4.0, 'Day': 22.0, 'Hours': 14.0, 'Minutes': 30.0, 'mornight': 1.0, 'Total distance': 0.6932639458}, {'fare_amount': 7.7, 'fare_class': 0.0, 'passenger_count': 2.0, 'Year': 2010.0, 'Month': 4.0, 'Day': 21.0, 'Hours': 9.0, 'Minutes': 53.0, 'mornight': 0.0, 'Total distance': 1.6023868527}, {'fare_amount': 5.3, 'fare_class': 0.0, 'passenger_count': 1.0, 'Year': 2010.0, 'Month': 4.0, 'Day': 23.0, 'Hours': 19.0, 'Minutes': 42.0, 'mornight': 1.0, 'Total distance': 0.6202036798}, {'fare_amount': 9.3, 'fare_class': 0.0, 'passenger_count': 1.0, 'Year': 2010.0, 'Month': 4.0, 'Day': 17.0, 'Hours': 22.0, 'Minutes': 1.0, 'mornight': 1.0, 'Total distance': 3.6075554342}, {'fare_amount': 9.7, 'fare_class': 0.0, 'passenger_count': 1.0, 'Year': 2010.0, 'Month': 4.0, 'Day': 19.0, 'Hours': 21.0, 'Minutes': 8.0, 'mornight': 1.0, 'Total distance': 3.9643199194}, {'fare_amount': 16.1, 'fare_class': 1.0, 'passenger_count': 1.0, 'Year': 2010.0, 'Month': 4.0, 'Day': 21.0, 'Hours': 3.0, 'Minutes': 33.0, 'mornight': 0.0, 'Total distance': 6.0580944558}, {'fare_amount': 9.7, 'fare_class': 0.0, 'passenger_count': 2.0, 'Year': 2010.0, 'Month': 4.0, 'Day': 24.0, 'Hours': 10.0, 'Minutes': 4.0, 'mornight': 0.0, 'Total distance': 3.5939144911}, {'fare_amount': 6.9, 'fare_class': 0.0, 'passenger_count': 1.0, 'Year': 2010.0, 'Month': 4.0, 'Day': 23.0, 'Hours': 15.0, 'Minutes': 20.0, 'mornight': 1.0, 'Total distance': 1.4330551805}, {'fare_amount': 5.7, 'fare_class': 0.0, 'passenger_count': 4.0, 'Year': 2010.0, 'Month': 4.0, 'Day': 13.0, 'Hours': 9.0, 'Minutes': 8.0, 'mornight': 0.0, 'Total distance': 1.7404445264}, {'fare_amount': 45.0, 'fare_class': 1.0, 'passenger_count': 1.0, 'Year': 2010.0, 'Month': 4.0, 'Day': 15.0, 'Hours': 16.0, 'Minutes': 17.0, 'mornight': 1.0, 'Total distance': 10.8560372312}, {'fare_amount': 8.9, 'fare_class': 0.0, 'passenger_count': 2.0, 'Year': 2010.0, 'Month': 4.0, 'Day': 12.0, 'Hours': 19.0, 'Minutes': 58.0, 'mornight': 1.0, 'Total distance': 3.1846331102}, {'fare_amount': 22.9, 'fare_class': 1.0, 'passenger_count': 3.0, 'Year': 2010.0, 'Month': 4.0, 'Day': 23.0, 'Hours': 21.0, 'Minutes': 24.0, 'mornight': 1.0, 'Total distance': 11.2139423911}, {'fare_amount': 8.1, 'fare_class': 0.0, 'passenger_count': 1.0, 'Year': 2010.0, 'Month': 4.0, 'Day': 24.0, 'Hours': 17.0, 'Minutes': 22.0, 'mornight': 1.0, 'Total distance': 2.9939756347}, {'fare_amount': 14.5, 'fare_class': 1.0, 'passenger_count': 1.0, 'Year': 2010.0, 'Month': 4.0, 'Day': 20.0, 'Hours': 11.0, 'Minutes': 15.0, 'mornight': 0.0, 'Total distance': 6.0669092203}, {'fare_amount': 8.5, 'fare_class': 0.0, 'passenger_count': 5.0, 'Year': 2010.0, 'Month': 4.0, 'Day': 23.0, 'Hours': 15.0, 'Minutes': 4.0, 'mornight': 1.0, 'Total distance': 0.9156718205}, {'fare_amount': 8.1, 'fare_class': 0.0, 'passenger_count': 1.0, 'Year': 2010.0, 'Month': 4.0, 'Day': 15.0, 'Hours': 22.0, 'Minutes': 22.0, 'mornight': 1.0, 'Total distance': 3.986229968}, {'fare_amount': 7.3, 'fare_class': 0.0, 'passenger_count': 1.0, 'Year': 2010.0, 'Month': 4.0, 'Day': 14.0, 'Hours': 20.0, 'Minutes': 58.0, 'mornight': 1.0, 'Total distance': 1.5524332049}, {'fare_amount': 4.5, 'fare_class': 0.0, 'passenger_count': 1.0, 'Year': 2010.0, 'Month': 4.0, 'Day': 24.0, 'Hours': 21.0, 'Minutes': 58.0, 'mornight': 1.0, 'Total distance': 0.5839345556}, {'fare_amount': 8.5, 'fare_class': 0.0, 'passenger_count': 1.0, 'Year': 2010.0, 'Month': 4.0, 'Day': 18.0, 'Hours': 21.0, 'Minutes': 33.0, 'mornight': 1.0, 'Total distance': 4.3762218705}, {'fare_amount': 6.5, 'fare_class': 0.0, 'passenger_count': 1.0, 'Year': 2010.0, 'Month': 4.0, 'Day': 11.0, 'Hours': 4.0, 'Minutes': 57.0, 'mornight': 0.0, 'Total distance': 2.4768933763}, {'fare_amount': 7.7, 'fare_class': 0.0, 'passenger_count': 1.0, 'Year': 2010.0, 'Month': 4.0, 'Day': 21.0, 'Hours': 14.0, 'Minutes': 10.0, 'mornight': 1.0, 'Total distance': 1.6521047861}, {'fare_amount': 8.5, 'fare_class': 0.0, 'passenger_count': 1.0, 'Year': 2010.0, 'Month': 4.0, 'Day': 19.0, 'Hours': 15.0, 'Minutes': 22.0, 'mornight': 1.0, 'Total distance': 3.8871440163}, {'fare_amount': 7.7, 'fare_class': 0.0, 'passenger_count': 5.0, 'Year': 2010.0, 'Month': 4.0, 'Day': 15.0, 'Hours': 11.0, 'Minutes': 17.0, 'mornight': 0.0, 'Total distance': 2.2389998945}, {'fare_amount': 8.9, 'fare_class': 0.0, 'passenger_count': 1.0, 'Year': 2010.0, 'Month': 4.0, 'Day': 23.0, 'Hours': 11.0, 'Minutes': 46.0, 'mornight': 0.0, 'Total distance': 2.5953383027}, {'fare_amount': 4.1, 'fare_class': 0.0, 'passenger_count': 1.0, 'Year': 2010.0, 'Month': 4.0, 'Day': 13.0, 'Hours': 13.0, 'Minutes': 18.0, 'mornight': 1.0, 'Total distance': 0.9891109758}, {'fare_amount': 8.9, 'fare_class': 0.0, 'passenger_count': 1.0, 'Year': 2010.0, 'Month': 4.0, 'Day': 13.0, 'Hours': 11.0, 'Minutes': 11.0, 'mornight': 0.0, 'Total distance': 2.3066045757}, {'fare_amount': 19.3, 'fare_class': 1.0, 'passenger_count': 4.0, 'Year': 2010.0, 'Month': 4.0, 'Day': 14.0, 'Hours': 14.0, 'Minutes': 20.0, 'mornight': 1.0, 'Total distance': 6.3456667178}, {'fare_amount': 6.9, 'fare_class': 0.0, 'passenger_count': 2.0, 'Year': 2010.0, 'Month': 4.0, 'Day': 20.0, 'Hours': 16.0, 'Minutes': 31.0, 'mornight': 1.0, 'Total distance': 1.8482989699}, {'fare_amount': 6.9, 'fare_class': 0.0, 'passenger_count': 1.0, 'Year': 2010.0, 'Month': 4.0, 'Day': 15.0, 'Hours': 3.0, 'Minutes': 3.0, 'mornight': 0.0, 'Total distance': 2.3412116249}, {'fare_amount': 11.7, 'fare_class': 1.0, 'passenger_count': 1.0, 'Year': 2010.0, 'Month': 4.0, 'Day': 18.0, 'Hours': 18.0, 'Minutes': 3.0, 'mornight': 1.0, 'Total distance': 5.0712890668}, {'fare_amount': 5.7, 'fare_class': 0.0, 'passenger_count': 1.0, 'Year': 2010.0, 'Month': 4.0, 'Day': 21.0, 'Hours': 12.0, 'Minutes': 3.0, 'mornight': 1.0, 'Total distance': 0.6622575281}, {'fare_amount': 10.5, 'fare_class': 1.0, 'passenger_count': 1.0, 'Year': 2010.0, 'Month': 4.0, 'Day': 15.0, 'Hours': 16.0, 'Minutes': 17.0, 'mornight': 1.0, 'Total distance': 3.124947252}, {'fare_amount': 12.1, 'fare_class': 1.0, 'passenger_count': 2.0, 'Year': 2010.0, 'Month': 4.0, 'Day': 23.0, 'Hours': 21.0, 'Minutes': 24.0, 'mornight': 1.0, 'Total distance': 3.4683260418}, {'fare_amount': 6.1, 'fare_class': 0.0, 'passenger_count': 2.0, 'Year': 2010.0, 'Month': 4.0, 'Day': 19.0, 'Hours': 20.0, 'Minutes': 19.0, 'mornight': 1.0, 'Total distance': 1.7521574281}, {'fare_amount': 10.1, 'fare_class': 1.0, 'passenger_count': 3.0, 'Year': 2010.0, 'Month': 4.0, 'Day': 18.0, 'Hours': 7.0, 'Minutes': 33.0, 'mornight': 0.0, 'Total distance': 4.9476593676}, {'fare_amount': 6.1, 'fare_class': 0.0, 'passenger_count': 1.0, 'Year': 2010.0, 'Month': 4.0, 'Day': 23.0, 'Hours': 5.0, 'Minutes': 13.0, 'mornight': 0.0, 'Total distance': 1.2918737652}, {'fare_amount': 17.3, 'fare_class': 1.0, 'passenger_count': 2.0, 'Year': 2010.0, 'Month': 4.0, 'Day': 17.0, 'Hours': 16.0, 'Minutes': 27.0, 'mornight': 1.0, 'Total distance': 6.4093545523}, {'fare_amount': 6.9, 'fare_class': 0.0, 'passenger_count': 1.0, 'Year': 2010.0, 'Month': 4.0, 'Day': 14.0, 'Hours': 8.0, 'Minutes': 34.0, 'mornight': 0.0, 'Total distance': 2.1793816401}, {'fare_amount': 7.3, 'fare_class': 0.0, 'passenger_count': 1.0, 'Year': 2010.0, 'Month': 4.0, 'Day': 11.0, 'Hours': 16.0, 'Minutes': 28.0, 'mornight': 1.0, 'Total distance': 2.0689925186}, {'fare_amount': 5.7, 'fare_class': 0.0, 'passenger_count': 1.0, 'Year': 2010.0, 'Month': 4.0, 'Day': 20.0, 'Hours': 4.0, 'Minutes': 51.0, 'mornight': 0.0, 'Total distance': 1.4230139881}, {'fare_amount': 3.7, 'fare_class': 0.0, 'passenger_count': 2.0, 'Year': 2010.0, 'Month': 4.0, 'Day': 24.0, 'Hours': 12.0, 'Minutes': 40.0, 'mornight': 1.0, 'Total distance': 0.9938493596}, {'fare_amount': 12.9, 'fare_class': 1.0, 'passenger_count': 4.0, 'Year': 2010.0, 'Month': 4.0, 'Day': 23.0, 'Hours': 14.0, 'Minutes': 53.0, 'mornight': 1.0, 'Total distance': 3.5306926267}, {'fare_amount': 10.9, 'fare_class': 1.0, 'passenger_count': 1.0, 'Year': 2010.0, 'Month': 4.0, 'Day': 13.0, 'Hours': 20.0, 'Minutes': 40.0, 'mornight': 1.0, 'Total distance': 5.6580178705}, {'fare_amount': 4.5, 'fare_class': 0.0, 'passenger_count': 1.0, 'Year': 2010.0, 'Month': 4.0, 'Day': 17.0, 'Hours': 9.0, 'Minutes': 31.0, 'mornight': 0.0, 'Total distance': 1.1394419689}, {'fare_amount': 10.9, 'fare_class': 1.0, 'passenger_count': 1.0, 'Year': 2010.0, 'Month': 4.0, 'Day': 23.0, 'Hours': 23.0, 'Minutes': 14.0, 'mornight': 1.0, 'Total distance': 4.3376502632}, {'fare_amount': 14.1, 'fare_class': 1.0, 'passenger_count': 1.0, 'Year': 2010.0, 'Month': 4.0, 'Day': 23.0, 'Hours': 15.0, 'Minutes': 9.0, 'mornight': 1.0, 'Total distance': 3.747911084}, {'fare_amount': 4.1, 'fare_class': 0.0, 'passenger_count': 1.0, 'Year': 2010.0, 'Month': 4.0, 'Day': 21.0, 'Hours': 9.0, 'Minutes': 20.0, 'mornight': 0.0, 'Total distance': 0.9174356891}, {'fare_amount': 15.3, 'fare_class': 1.0, 'passenger_count': 1.0, 'Year': 2010.0, 'Month': 4.0, 'Day': 16.0, 'Hours': 4.0, 'Minutes': 48.0, 'mornight': 0.0, 'Total distance': 6.5254550498}, {'fare_amount': 10.5, 'fare_class': 1.0, 'passenger_count': 1.0, 'Year': 2010.0, 'Month': 4.0, 'Day': 16.0, 'Hours': 16.0, 'Minutes': 10.0, 'mornight': 1.0, 'Total distance': 3.4270101368}, {'fare_amount': 8.5, 'fare_class': 0.0, 'passenger_count': 1.0, 'Year': 2010.0, 'Month': 4.0, 'Day': 16.0, 'Hours': 7.0, 'Minutes': 20.0, 'mornight': 0.0, 'Total distance': 3.3334437109}, {'fare_amount': 2.5, 'fare_class': 0.0, 'passenger_count': 1.0, 'Year': 2010.0, 'Month': 4.0, 'Day': 22.0, 'Hours': 1.0, 'Minutes': 0.0, 'mornight': 0.0, 'Total distance': 0.060576212}, {'fare_amount': 7.7, 'fare_class': 0.0, 'passenger_count': 1.0, 'Year': 2010.0, 'Month': 4.0, 'Day': 14.0, 'Hours': 19.0, 'Minutes': 41.0, 'mornight': 1.0, 'Total distance': 3.3563588781}, {'fare_amount': 4.5, 'fare_class': 0.0, 'passenger_count': 2.0, 'Year': 2010.0, 'Month': 4.0, 'Day': 23.0, 'Hours': 12.0, 'Minutes': 37.0, 'mornight': 1.0, 'Total distance': 0.6784023378}, {'fare_amount': 4.9, 'fare_class': 0.0, 'passenger_count': 1.0, 'Year': 2010.0, 'Month': 4.0, 'Day': 12.0, 'Hours': 15.0, 'Minutes': 7.0, 'mornight': 1.0, 'Total distance': 1.1931001603}, {'fare_amount': 4.5, 'fare_class': 0.0, 'passenger_count': 1.0, 'Year': 2010.0, 'Month': 4.0, 'Day': 23.0, 'Hours': 12.0, 'Minutes': 59.0, 'mornight': 1.0, 'Total distance': 1.498851886}, {'fare_amount': 7.3, 'fare_class': 0.0, 'passenger_count': 1.0, 'Year': 2010.0, 'Month': 4.0, 'Day': 18.0, 'Hours': 11.0, 'Minutes': 10.0, 'mornight': 0.0, 'Total distance': 2.0251461648}, {'fare_amount': 10.5, 'fare_class': 1.0, 'passenger_count': 2.0, 'Year': 2010.0, 'Month': 4.0, 'Day': 24.0, 'Hours': 15.0, 'Minutes': 49.0, 'mornight': 1.0, 'Total distance': 0.0783155072}, {'fare_amount': 5.7, 'fare_class': 0.0, 'passenger_count': 1.0, 'Year': 2010.0, 'Month': 4.0, 'Day': 15.0, 'Hours': 14.0, 'Minutes': 41.0, 'mornight': 1.0, 'Total distance': 1.1290694421}, {'fare_amount': 5.3, 'fare_class': 0.0, 'passenger_count': 1.0, 'Year': 2010.0, 'Month': 4.0, 'Day': 18.0, 'Hours': 6.0, 'Minutes': 24.0, 'mornight': 0.0, 'Total distance': 2.1585182824}, {'fare_amount': 23.7, 'fare_class': 1.0, 'passenger_count': 1.0, 'Year': 2010.0, 'Month': 4.0, 'Day': 20.0, 'Hours': 12.0, 'Minutes': 33.0, 'mornight': 1.0, 'Total distance': 8.2248639797}, {'fare_amount': 14.1, 'fare_class': 1.0, 'passenger_count': 1.0, 'Year': 2010.0, 'Month': 4.0, 'Day': 16.0, 'Hours': 4.0, 'Minutes': 26.0, 'mornight': 0.0, 'Total distance': 4.7906097399}, {'fare_amount': 8.9, 'fare_class': 0.0, 'passenger_count': 2.0, 'Year': 2010.0, 'Month': 4.0, 'Day': 18.0, 'Hours': 14.0, 'Minutes': 21.0, 'mornight': 1.0, 'Total distance': 2.2513959926}, {'fare_amount': 13.7, 'fare_class': 1.0, 'passenger_count': 4.0, 'Year': 2010.0, 'Month': 4.0, 'Day': 12.0, 'Hours': 14.0, 'Minutes': 2.0, 'mornight': 1.0, 'Total distance': 3.8691959016}, {'fare_amount': 12.5, 'fare_class': 1.0, 'passenger_count': 1.0, 'Year': 2010.0, 'Month': 4.0, 'Day': 20.0, 'Hours': 16.0, 'Minutes': 37.0, 'mornight': 1.0, 'Total distance': 2.5202793542}, {'fare_amount': 6.1, 'fare_class': 0.0, 'passenger_count': 1.0, 'Year': 2010.0, 'Month': 4.0, 'Day': 18.0, 'Hours': 8.0, 'Minutes': 10.0, 'mornight': 0.0, 'Total distance': 2.1457808226}, {'fare_amount': 7.3, 'fare_class': 0.0, 'passenger_count': 1.0, 'Year': 2010.0, 'Month': 4.0, 'Day': 14.0, 'Hours': 8.0, 'Minutes': 51.0, 'mornight': 0.0, 'Total distance': 0.9459285428}, {'fare_amount': 5.3, 'fare_class': 0.0, 'passenger_count': 1.0, 'Year': 2010.0, 'Month': 4.0, 'Day': 20.0, 'Hours': 20.0, 'Minutes': 24.0, 'mornight': 1.0, 'Total distance': 1.5858621637}, {'fare_amount': 2.9, 'fare_class': 0.0, 'passenger_count': 1.0, 'Year': 2010.0, 'Month': 4.0, 'Day': 18.0, 'Hours': 3.0, 'Minutes': 3.0, 'mornight': 0.0, 'Total distance': 0.3865329825}, {'fare_amount': 11.3, 'fare_class': 1.0, 'passenger_count': 1.0, 'Year': 2010.0, 'Month': 4.0, 'Day': 22.0, 'Hours': 7.0, 'Minutes': 13.0, 'mornight': 0.0, 'Total distance': 3.6450187818}, {'fare_amount': 11.7, 'fare_class': 1.0, 'passenger_count': 1.0, 'Year': 2010.0, 'Month': 4.0, 'Day': 11.0, 'Hours': 17.0, 'Minutes': 55.0, 'mornight': 1.0, 'Total distance': 4.7913840036}, {'fare_amount': 9.3, 'fare_class': 0.0, 'passenger_count': 1.0, 'Year': 2010.0, 'Month': 4.0, 'Day': 24.0, 'Hours': 7.0, 'Minutes': 48.0, 'mornight': 0.0, 'Total distance': 2.3815822045}, {'fare_amount': 8.1, 'fare_class': 0.0, 'passenger_count': 1.0, 'Year': 2010.0, 'Month': 4.0, 'Day': 19.0, 'Hours': 14.0, 'Minutes': 39.0, 'mornight': 1.0, 'Total distance': 2.401907382}, {'fare_amount': 3.3, 'fare_class': 0.0, 'passenger_count': 1.0, 'Year': 2010.0, 'Month': 4.0, 'Day': 17.0, 'Hours': 10.0, 'Minutes': 18.0, 'mornight': 0.0, 'Total distance': 0.5301196846}, {'fare_amount': 5.3, 'fare_class': 0.0, 'passenger_count': 1.0, 'Year': 2010.0, 'Month': 4.0, 'Day': 12.0, 'Hours': 18.0, 'Minutes': 27.0, 'mornight': 1.0, 'Total distance': 1.2966087728}, {'fare_amount': 4.5, 'fare_class': 0.0, 'passenger_count': 2.0, 'Year': 2010.0, 'Month': 4.0, 'Day': 22.0, 'Hours': 22.0, 'Minutes': 55.0, 'mornight': 1.0, 'Total distance': 1.0356004888}, {'fare_amount': 8.9, 'fare_class': 0.0, 'passenger_count': 1.0, 'Year': 2010.0, 'Month': 4.0, 'Day': 15.0, 'Hours': 11.0, 'Minutes': 54.0, 'mornight': 0.0, 'Total distance': 1.9397702781}, {'fare_amount': 4.1, 'fare_class': 0.0, 'passenger_count': 1.0, 'Year': 2010.0, 'Month': 4.0, 'Day': 23.0, 'Hours': 18.0, 'Minutes': 20.0, 'mornight': 1.0, 'Total distance': 1.0408144034}, {'fare_amount': 6.5, 'fare_class': 0.0, 'passenger_count': 3.0, 'Year': 2010.0, 'Month': 4.0, 'Day': 22.0, 'Hours': 8.0, 'Minutes': 6.0, 'mornight': 0.0, 'Total distance': 1.1957914522}, {'fare_amount': 3.3, 'fare_class': 0.0, 'passenger_count': 1.0, 'Year': 2010.0, 'Month': 4.0, 'Day': 16.0, 'Hours': 14.0, 'Minutes': 39.0, 'mornight': 1.0, 'Total distance': 0.5314025789}, {'fare_amount': 6.9, 'fare_class': 0.0, 'passenger_count': 1.0, 'Year': 2010.0, 'Month': 4.0, 'Day': 14.0, 'Hours': 6.0, 'Minutes': 1.0, 'mornight': 0.0, 'Total distance': 1.75809645}, {'fare_amount': 4.9, 'fare_class': 0.0, 'passenger_count': 1.0, 'Year': 2010.0, 'Month': 4.0, 'Day': 17.0, 'Hours': 1.0, 'Minutes': 16.0, 'mornight': 0.0, 'Total distance': 1.4278442994}, {'fare_amount': 19.7, 'fare_class': 1.0, 'passenger_count': 1.0, 'Year': 2010.0, 'Month': 4.0, 'Day': 11.0, 'Hours': 16.0, 'Minutes': 58.0, 'mornight': 1.0, 'Total distance': 9.4224152292}, {'fare_amount': 6.1, 'fare_class': 0.0, 'passenger_count': 2.0, 'Year': 2010.0, 'Month': 4.0, 'Day': 22.0, 'Hours': 16.0, 'Minutes': 42.0, 'mornight': 1.0, 'Total distance': 1.4859542735}, {'fare_amount': 4.1, 'fare_class': 0.0, 'passenger_count': 1.0, 'Year': 2010.0, 'Month': 4.0, 'Day': 22.0, 'Hours': 20.0, 'Minutes': 50.0, 'mornight': 1.0, 'Total distance': 0.5407376159}, {'fare_amount': 3.7, 'fare_class': 0.0, 'passenger_count': 1.0, 'Year': 2010.0, 'Month': 4.0, 'Day': 24.0, 'Hours': 14.0, 'Minutes': 34.0, 'mornight': 1.0, 'Total distance': 0.6346568815}, {'fare_amount': 4.9, 'fare_class': 0.0, 'passenger_count': 1.0, 'Year': 2010.0, 'Month': 4.0, 'Day': 14.0, 'Hours': 17.0, 'Minutes': 22.0, 'mornight': 1.0, 'Total distance': 1.3266219296}, {'fare_amount': 10.5, 'fare_class': 1.0, 'passenger_count': 2.0, 'Year': 2010.0, 'Month': 4.0, 'Day': 24.0, 'Hours': 6.0, 'Minutes': 11.0, 'mornight': 0.0, 'Total distance': 5.0696300533}, {'fare_amount': 10.1, 'fare_class': 1.0, 'passenger_count': 1.0, 'Year': 2010.0, 'Month': 4.0, 'Day': 20.0, 'Hours': 10.0, 'Minutes': 7.0, 'mornight': 0.0, 'Total distance': 1.5045249546}, {'fare_amount': 33.47, 'fare_class': 1.0, 'passenger_count': 1.0, 'Year': 2010.0, 'Month': 4.0, 'Day': 23.0, 'Hours': 22.0, 'Minutes': 52.0, 'mornight': 1.0, 'Total distance': 15.1367640925}, {'fare_amount': 6.1, 'fare_class': 0.0, 'passenger_count': 1.0, 'Year': 2010.0, 'Month': 4.0, 'Day': 21.0, 'Hours': 14.0, 'Minutes': 34.0, 'mornight': 1.0, 'Total distance': 1.2679183331}, {'fare_amount': 8.9, 'fare_class': 0.0, 'passenger_count': 4.0, 'Year': 2010.0, 'Month': 4.0, 'Day': 16.0, 'Hours': 15.0, 'Minutes': 9.0, 'mornight': 1.0, 'Total distance': 2.7041516528}, {'fare_amount': 5.7, 'fare_class': 0.0, 'passenger_count': 1.0, 'Year': 2010.0, 'Month': 4.0, 'Day': 23.0, 'Hours': 17.0, 'Minutes': 5.0, 'mornight': 1.0, 'Total distance': 1.1972407101}, {'fare_amount': 4.9, 'fare_class': 0.0, 'passenger_count': 1.0, 'Year': 2010.0, 'Month': 4.0, 'Day': 19.0, 'Hours': 23.0, 'Minutes': 49.0, 'mornight': 1.0, 'Total distance': 1.622512322}, {'fare_amount': 10.5, 'fare_class': 1.0, 'passenger_count': 1.0, 'Year': 2010.0, 'Month': 4.0, 'Day': 13.0, 'Hours': 20.0, 'Minutes': 9.0, 'mornight': 1.0, 'Total distance': 3.422530064}, {'fare_amount': 3.3, 'fare_class': 0.0, 'passenger_count': 1.0, 'Year': 2010.0, 'Month': 4.0, 'Day': 20.0, 'Hours': 7.0, 'Minutes': 50.0, 'mornight': 0.0, 'Total distance': 0.5334651851}, {'fare_amount': 45.0, 'fare_class': 1.0, 'passenger_count': 1.0, 'Year': 2010.0, 'Month': 4.0, 'Day': 16.0, 'Hours': 17.0, 'Minutes': 48.0, 'mornight': 1.0, 'Total distance': 20.9138715922}, {'fare_amount': 5.3, 'fare_class': 0.0, 'passenger_count': 1.0, 'Year': 2010.0, 'Month': 4.0, 'Day': 17.0, 'Hours': 10.0, 'Minutes': 51.0, 'mornight': 0.0, 'Total distance': 0.8298701502}, {'fare_amount': 8.5, 'fare_class': 0.0, 'passenger_count': 1.0, 'Year': 2010.0, 'Month': 4.0, 'Day': 15.0, 'Hours': 10.0, 'Minutes': 47.0, 'mornight': 0.0, 'Total distance': 2.2521608985}, {'fare_amount': 7.3, 'fare_class': 0.0, 'passenger_count': 1.0, 'Year': 2010.0, 'Month': 4.0, 'Day': 14.0, 'Hours': 2.0, 'Minutes': 34.0, 'mornight': 0.0, 'Total distance': 3.3910999148}, {'fare_amount': 4.9, 'fare_class': 0.0, 'passenger_count': 1.0, 'Year': 2010.0, 'Month': 4.0, 'Day': 14.0, 'Hours': 12.0, 'Minutes': 6.0, 'mornight': 1.0, 'Total distance': 0.8994483283}, {'fare_amount': 9.3, 'fare_class': 0.0, 'passenger_count': 1.0, 'Year': 2010.0, 'Month': 4.0, 'Day': 15.0, 'Hours': 14.0, 'Minutes': 55.0, 'mornight': 1.0, 'Total distance': 2.0380928876}, {'fare_amount': 48.1, 'fare_class': 1.0, 'passenger_count': 1.0, 'Year': 2010.0, 'Month': 4.0, 'Day': 23.0, 'Hours': 13.0, 'Minutes': 9.0, 'mornight': 1.0, 'Total distance': 18.0248209771}, {'fare_amount': 6.9, 'fare_class': 0.0, 'passenger_count': 1.0, 'Year': 2010.0, 'Month': 4.0, 'Day': 16.0, 'Hours': 7.0, 'Minutes': 35.0, 'mornight': 0.0, 'Total distance': 1.8252893156}, {'fare_amount': 17.3, 'fare_class': 1.0, 'passenger_count': 1.0, 'Year': 2010.0, 'Month': 4.0, 'Day': 12.0, 'Hours': 8.0, 'Minutes': 28.0, 'mornight': 0.0, 'Total distance': 0.9797863255}, {'fare_amount': 5.7, 'fare_class': 0.0, 'passenger_count': 2.0, 'Year': 2010.0, 'Month': 4.0, 'Day': 19.0, 'Hours': 16.0, 'Minutes': 29.0, 'mornight': 1.0, 'Total distance': 1.8165179438}, {'fare_amount': 14.9, 'fare_class': 1.0, 'passenger_count': 1.0, 'Year': 2010.0, 'Month': 4.0, 'Day': 15.0, 'Hours': 9.0, 'Minutes': 45.0, 'mornight': 0.0, 'Total distance': 5.3112929679}, {'fare_amount': 22.1, 'fare_class': 1.0, 'passenger_count': 1.0, 'Year': 2010.0, 'Month': 4.0, 'Day': 18.0, 'Hours': 10.0, 'Minutes': 9.0, 'mornight': 0.0, 'Total distance': 2.4835603639}, {'fare_amount': 8.5, 'fare_class': 0.0, 'passenger_count': 1.0, 'Year': 2010.0, 'Month': 4.0, 'Day': 18.0, 'Hours': 20.0, 'Minutes': 29.0, 'mornight': 1.0, 'Total distance': 3.8863767687}, {'fare_amount': 6.1, 'fare_class': 0.0, 'passenger_count': 1.0, 'Year': 2010.0, 'Month': 4.0, 'Day': 11.0, 'Hours': 7.0, 'Minutes': 33.0, 'mornight': 0.0, 'Total distance': 1.7746580909}, {'fare_amount': 22.9, 'fare_class': 1.0, 'passenger_count': 2.0, 'Year': 2010.0, 'Month': 4.0, 'Day': 13.0, 'Hours': 18.0, 'Minutes': 41.0, 'mornight': 1.0, 'Total distance': 4.341191548}, {'fare_amount': 7.7, 'fare_class': 0.0, 'passenger_count': 1.0, 'Year': 2010.0, 'Month': 4.0, 'Day': 20.0, 'Hours': 9.0, 'Minutes': 12.0, 'mornight': 0.0, 'Total distance': 1.5014895414}, {'fare_amount': 15.3, 'fare_class': 1.0, 'passenger_count': 1.0, 'Year': 2010.0, 'Month': 4.0, 'Day': 13.0, 'Hours': 4.0, 'Minutes': 10.0, 'mornight': 0.0, 'Total distance': 6.4806495829}, {'fare_amount': 13.3, 'fare_class': 1.0, 'passenger_count': 1.0, 'Year': 2010.0, 'Month': 4.0, 'Day': 16.0, 'Hours': 11.0, 'Minutes': 0.0, 'mornight': 0.0, 'Total distance': 5.1043390415}, {'fare_amount': 6.1, 'fare_class': 0.0, 'passenger_count': 1.0, 'Year': 2010.0, 'Month': 4.0, 'Day': 22.0, 'Hours': 19.0, 'Minutes': 37.0, 'mornight': 1.0, 'Total distance': 1.8331348416}, {'fare_amount': 5.3, 'fare_class': 0.0, 'passenger_count': 2.0, 'Year': 2010.0, 'Month': 4.0, 'Day': 14.0, 'Hours': 19.0, 'Minutes': 11.0, 'mornight': 1.0, 'Total distance': 2.2210679235}, {'fare_amount': 14.1, 'fare_class': 1.0, 'passenger_count': 1.0, 'Year': 2010.0, 'Month': 4.0, 'Day': 19.0, 'Hours': 5.0, 'Minutes': 26.0, 'mornight': 0.0, 'Total distance': 6.5524502309}, {'fare_amount': 4.9, 'fare_class': 0.0, 'passenger_count': 1.0, 'Year': 2010.0, 'Month': 4.0, 'Day': 24.0, 'Hours': 15.0, 'Minutes': 37.0, 'mornight': 1.0, 'Total distance': 0.8519790836}, {'fare_amount': 10.1, 'fare_class': 1.0, 'passenger_count': 1.0, 'Year': 2010.0, 'Month': 4.0, 'Day': 14.0, 'Hours': 14.0, 'Minutes': 35.0, 'mornight': 1.0, 'Total distance': 2.3780514596}, {'fare_amount': 6.5, 'fare_class': 0.0, 'passenger_count': 1.0, 'Year': 2010.0, 'Month': 4.0, 'Day': 20.0, 'Hours': 21.0, 'Minutes': 27.0, 'mornight': 1.0, 'Total distance': 1.4924525595}, {'fare_amount': 22.1, 'fare_class': 1.0, 'passenger_count': 4.0, 'Year': 2010.0, 'Month': 4.0, 'Day': 11.0, 'Hours': 11.0, 'Minutes': 11.0, 'mornight': 0.0, 'Total distance': 7.3092855372}, {'fare_amount': 8.1, 'fare_class': 0.0, 'passenger_count': 1.0, 'Year': 2010.0, 'Month': 4.0, 'Day': 24.0, 'Hours': 17.0, 'Minutes': 59.0, 'mornight': 1.0, 'Total distance': 2.9869223017}, {'fare_amount': 12.1, 'fare_class': 1.0, 'passenger_count': 1.0, 'Year': 2010.0, 'Month': 4.0, 'Day': 21.0, 'Hours': 15.0, 'Minutes': 15.0, 'mornight': 1.0, 'Total distance': 5.3035593047}, {'fare_amount': 4.1, 'fare_class': 0.0, 'passenger_count': 1.0, 'Year': 2010.0, 'Month': 4.0, 'Day': 19.0, 'Hours': 21.0, 'Minutes': 14.0, 'mornight': 1.0, 'Total distance': 0.7457523688}, {'fare_amount': 15.7, 'fare_class': 1.0, 'passenger_count': 2.0, 'Year': 2010.0, 'Month': 4.0, 'Day': 18.0, 'Hours': 14.0, 'Minutes': 52.0, 'mornight': 1.0, 'Total distance': 4.9526962047}, {'fare_amount': 20.1, 'fare_class': 1.0, 'passenger_count': 1.0, 'Year': 2010.0, 'Month': 4.0, 'Day': 11.0, 'Hours': 7.0, 'Minutes': 31.0, 'mornight': 0.0, 'Total distance': 7.5705667648}, {'fare_amount': 5.7, 'fare_class': 0.0, 'passenger_count': 1.0, 'Year': 2010.0, 'Month': 4.0, 'Day': 11.0, 'Hours': 16.0, 'Minutes': 7.0, 'mornight': 1.0, 'Total distance': 2.0712271366}, {'fare_amount': 3.7, 'fare_class': 0.0, 'passenger_count': 1.0, 'Year': 2010.0, 'Month': 4.0, 'Day': 16.0, 'Hours': 17.0, 'Minutes': 21.0, 'mornight': 1.0, 'Total distance': 0.5548139773}, {'fare_amount': 6.1, 'fare_class': 0.0, 'passenger_count': 1.0, 'Year': 2010.0, 'Month': 4.0, 'Day': 19.0, 'Hours': 6.0, 'Minutes': 27.0, 'mornight': 0.0, 'Total distance': 1.9372791414}, {'fare_amount': 10.1, 'fare_class': 1.0, 'passenger_count': 1.0, 'Year': 2010.0, 'Month': 4.0, 'Day': 21.0, 'Hours': 17.0, 'Minutes': 30.0, 'mornight': 1.0, 'Total distance': 2.790939122}, {'fare_amount': 6.5, 'fare_class': 0.0, 'passenger_count': 1.0, 'Year': 2010.0, 'Month': 4.0, 'Day': 12.0, 'Hours': 19.0, 'Minutes': 57.0, 'mornight': 1.0, 'Total distance': 1.8868073647}, {'fare_amount': 10.5, 'fare_class': 1.0, 'passenger_count': 2.0, 'Year': 2010.0, 'Month': 4.0, 'Day': 23.0, 'Hours': 4.0, 'Minutes': 29.0, 'mornight': 0.0, 'Total distance': 3.1430871089}, {'fare_amount': 14.1, 'fare_class': 1.0, 'passenger_count': 1.0, 'Year': 2010.0, 'Month': 4.0, 'Day': 16.0, 'Hours': 2.0, 'Minutes': 45.0, 'mornight': 0.0, 'Total distance': 7.5211601705}, {'fare_amount': 4.5, 'fare_class': 0.0, 'passenger_count': 1.0, 'Year': 2010.0, 'Month': 4.0, 'Day': 13.0, 'Hours': 4.0, 'Minutes': 12.0, 'mornight': 0.0, 'Total distance': 0.6855478304}, {'fare_amount': 3.7, 'fare_class': 0.0, 'passenger_count': 1.0, 'Year': 2010.0, 'Month': 4.0, 'Day': 23.0, 'Hours': 23.0, 'Minutes': 39.0, 'mornight': 1.0, 'Total distance': 0.431525548}, {'fare_amount': 6.1, 'fare_class': 0.0, 'passenger_count': 2.0, 'Year': 2010.0, 'Month': 4.0, 'Day': 11.0, 'Hours': 9.0, 'Minutes': 37.0, 'mornight': 0.0, 'Total distance': 1.5037655245}, {'fare_amount': 6.5, 'fare_class': 0.0, 'passenger_count': 2.0, 'Year': 2010.0, 'Month': 4.0, 'Day': 16.0, 'Hours': 9.0, 'Minutes': 27.0, 'mornight': 0.0, 'Total distance': 1.8766774398}, {'fare_amount': 6.1, 'fare_class': 0.0, 'passenger_count': 1.0, 'Year': 2010.0, 'Month': 4.0, 'Day': 20.0, 'Hours': 12.0, 'Minutes': 4.0, 'mornight': 1.0, 'Total distance': 1.2602967928}, {'fare_amount': 13.3, 'fare_class': 1.0, 'passenger_count': 1.0, 'Year': 2010.0, 'Month': 4.0, 'Day': 22.0, 'Hours': 15.0, 'Minutes': 21.0, 'mornight': 1.0, 'Total distance': 3.4080943137}, {'fare_amount': 7.7, 'fare_class': 0.0, 'passenger_count': 1.0, 'Year': 2010.0, 'Month': 4.0, 'Day': 23.0, 'Hours': 4.0, 'Minutes': 42.0, 'mornight': 0.0, 'Total distance': 1.3327203162}, {'fare_amount': 8.1, 'fare_class': 0.0, 'passenger_count': 1.0, 'Year': 2010.0, 'Month': 4.0, 'Day': 19.0, 'Hours': 15.0, 'Minutes': 21.0, 'mornight': 1.0, 'Total distance': 3.1221162344}, {'fare_amount': 4.9, 'fare_class': 0.0, 'passenger_count': 2.0, 'Year': 2010.0, 'Month': 4.0, 'Day': 12.0, 'Hours': 10.0, 'Minutes': 32.0, 'mornight': 0.0, 'Total distance': 0.838513365}, {'fare_amount': 8.5, 'fare_class': 0.0, 'passenger_count': 2.0, 'Year': 2010.0, 'Month': 4.0, 'Day': 19.0, 'Hours': 7.0, 'Minutes': 23.0, 'mornight': 0.0, 'Total distance': 2.4067258542}, {'fare_amount': 15.7, 'fare_class': 1.0, 'passenger_count': 1.0, 'Year': 2010.0, 'Month': 4.0, 'Day': 19.0, 'Hours': 18.0, 'Minutes': 21.0, 'mornight': 1.0, 'Total distance': 6.1273002965}, {'fare_amount': 6.5, 'fare_class': 0.0, 'passenger_count': 1.0, 'Year': 2010.0, 'Month': 4.0, 'Day': 16.0, 'Hours': 13.0, 'Minutes': 51.0, 'mornight': 1.0, 'Total distance': 2.7949227355}, {'fare_amount': 4.9, 'fare_class': 0.0, 'passenger_count': 1.0, 'Year': 2010.0, 'Month': 4.0, 'Day': 13.0, 'Hours': 17.0, 'Minutes': 13.0, 'mornight': 1.0, 'Total distance': 1.6169333936}, {'fare_amount': 5.3, 'fare_class': 0.0, 'passenger_count': 1.0, 'Year': 2010.0, 'Month': 4.0, 'Day': 23.0, 'Hours': 18.0, 'Minutes': 54.0, 'mornight': 1.0, 'Total distance': 1.6826402606}, {'fare_amount': 4.9, 'fare_class': 0.0, 'passenger_count': 1.0, 'Year': 2010.0, 'Month': 4.0, 'Day': 24.0, 'Hours': 6.0, 'Minutes': 37.0, 'mornight': 0.0, 'Total distance': 1.0094825925}, {'fare_amount': 3.3, 'fare_class': 0.0, 'passenger_count': 1.0, 'Year': 2010.0, 'Month': 4.0, 'Day': 11.0, 'Hours': 10.0, 'Minutes': 26.0, 'mornight': 0.0, 'Total distance': 0.5214881542}, {'fare_amount': 8.1, 'fare_class': 0.0, 'passenger_count': 1.0, 'Year': 2010.0, 'Month': 4.0, 'Day': 21.0, 'Hours': 7.0, 'Minutes': 38.0, 'mornight': 0.0, 'Total distance': 2.1114729824}, {'fare_amount': 12.5, 'fare_class': 1.0, 'passenger_count': 3.0, 'Year': 2010.0, 'Month': 4.0, 'Day': 24.0, 'Hours': 14.0, 'Minutes': 21.0, 'mornight': 1.0, 'Total distance': 4.0775750843}, {'fare_amount': 6.1, 'fare_class': 0.0, 'passenger_count': 1.0, 'Year': 2010.0, 'Month': 4.0, 'Day': 22.0, 'Hours': 7.0, 'Minutes': 19.0, 'mornight': 0.0, 'Total distance': 1.031299659}, {'fare_amount': 19.7, 'fare_class': 1.0, 'passenger_count': 2.0, 'Year': 2010.0, 'Month': 4.0, 'Day': 15.0, 'Hours': 12.0, 'Minutes': 7.0, 'mornight': 1.0, 'Total distance': 8.6400889761}, {'fare_amount': 11.3, 'fare_class': 1.0, 'passenger_count': 1.0, 'Year': 2010.0, 'Month': 4.0, 'Day': 12.0, 'Hours': 18.0, 'Minutes': 7.0, 'mornight': 1.0, 'Total distance': 5.2505434277}, {'fare_amount': 6.9, 'fare_class': 0.0, 'passenger_count': 1.0, 'Year': 2010.0, 'Month': 4.0, 'Day': 21.0, 'Hours': 19.0, 'Minutes': 39.0, 'mornight': 1.0, 'Total distance': 2.1430488168}, {'fare_amount': 7.3, 'fare_class': 0.0, 'passenger_count': 1.0, 'Year': 2010.0, 'Month': 4.0, 'Day': 17.0, 'Hours': 8.0, 'Minutes': 6.0, 'mornight': 0.0, 'Total distance': 2.3626993163}, {'fare_amount': 7.3, 'fare_class': 0.0, 'passenger_count': 1.0, 'Year': 2010.0, 'Month': 4.0, 'Day': 22.0, 'Hours': 8.0, 'Minutes': 11.0, 'mornight': 0.0, 'Total distance': 1.2020130145}, {'fare_amount': 6.5, 'fare_class': 0.0, 'passenger_count': 1.0, 'Year': 2010.0, 'Month': 4.0, 'Day': 19.0, 'Hours': 4.0, 'Minutes': 32.0, 'mornight': 0.0, 'Total distance': 1.717261013}, {'fare_amount': 4.1, 'fare_class': 0.0, 'passenger_count': 1.0, 'Year': 2010.0, 'Month': 4.0, 'Day': 13.0, 'Hours': 14.0, 'Minutes': 30.0, 'mornight': 1.0, 'Total distance': 0.7015988079}, {'fare_amount': 6.9, 'fare_class': 0.0, 'passenger_count': 2.0, 'Year': 2010.0, 'Month': 4.0, 'Day': 11.0, 'Hours': 9.0, 'Minutes': 16.0, 'mornight': 0.0, 'Total distance': 1.2057916666}, {'fare_amount': 17.3, 'fare_class': 1.0, 'passenger_count': 1.0, 'Year': 2010.0, 'Month': 4.0, 'Day': 20.0, 'Hours': 4.0, 'Minutes': 43.0, 'mornight': 0.0, 'Total distance': 5.9768656138}, {'fare_amount': 4.1, 'fare_class': 0.0, 'passenger_count': 2.0, 'Year': 2010.0, 'Month': 4.0, 'Day': 23.0, 'Hours': 13.0, 'Minutes': 7.0, 'mornight': 1.0, 'Total distance': 0.6358682918}, {'fare_amount': 4.1, 'fare_class': 0.0, 'passenger_count': 1.0, 'Year': 2010.0, 'Month': 4.0, 'Day': 18.0, 'Hours': 13.0, 'Minutes': 1.0, 'mornight': 1.0, 'Total distance': 1.2521834093}, {'fare_amount': 10.5, 'fare_class': 1.0, 'passenger_count': 1.0, 'Year': 2010.0, 'Month': 4.0, 'Day': 17.0, 'Hours': 10.0, 'Minutes': 1.0, 'mornight': 0.0, 'Total distance': 4.1650416035}, {'fare_amount': 7.7, 'fare_class': 0.0, 'passenger_count': 1.0, 'Year': 2010.0, 'Month': 4.0, 'Day': 15.0, 'Hours': 14.0, 'Minutes': 47.0, 'mornight': 1.0, 'Total distance': 2.5807495768}, {'fare_amount': 5.7, 'fare_class': 0.0, 'passenger_count': 1.0, 'Year': 2010.0, 'Month': 4.0, 'Day': 24.0, 'Hours': 19.0, 'Minutes': 48.0, 'mornight': 1.0, 'Total distance': 1.5240133596}, {'fare_amount': 11.3, 'fare_class': 1.0, 'passenger_count': 1.0, 'Year': 2010.0, 'Month': 4.0, 'Day': 13.0, 'Hours': 10.0, 'Minutes': 20.0, 'mornight': 0.0, 'Total distance': 4.5814674707}, {'fare_amount': 15.3, 'fare_class': 1.0, 'passenger_count': 1.0, 'Year': 2010.0, 'Month': 4.0, 'Day': 24.0, 'Hours': 8.0, 'Minutes': 40.0, 'mornight': 0.0, 'Total distance': 4.9627022118}, {'fare_amount': 6.5, 'fare_class': 0.0, 'passenger_count': 1.0, 'Year': 2010.0, 'Month': 4.0, 'Day': 11.0, 'Hours': 14.0, 'Minutes': 11.0, 'mornight': 1.0, 'Total distance': 1.4229216654}, {'fare_amount': 7.3, 'fare_class': 0.0, 'passenger_count': 1.0, 'Year': 2010.0, 'Month': 4.0, 'Day': 18.0, 'Hours': 14.0, 'Minutes': 10.0, 'mornight': 1.0, 'Total distance': 2.2098243317}, {'fare_amount': 3.7, 'fare_class': 0.0, 'passenger_count': 1.0, 'Year': 2010.0, 'Month': 4.0, 'Day': 23.0, 'Hours': 20.0, 'Minutes': 37.0, 'mornight': 1.0, 'Total distance': 0.8643858281}, {'fare_amount': 9.3, 'fare_class': 0.0, 'passenger_count': 1.0, 'Year': 2010.0, 'Month': 4.0, 'Day': 17.0, 'Hours': 20.0, 'Minutes': 49.0, 'mornight': 1.0, 'Total distance': 3.23145674}, {'fare_amount': 4.9, 'fare_class': 0.0, 'passenger_count': 2.0, 'Year': 2010.0, 'Month': 4.0, 'Day': 17.0, 'Hours': 21.0, 'Minutes': 29.0, 'mornight': 1.0, 'Total distance': 0.7154788612}, {'fare_amount': 20.9, 'fare_class': 1.0, 'passenger_count': 1.0, 'Year': 2010.0, 'Month': 4.0, 'Day': 15.0, 'Hours': 5.0, 'Minutes': 4.0, 'mornight': 0.0, 'Total distance': 9.8812248056}, {'fare_amount': 5.3, 'fare_class': 0.0, 'passenger_count': 1.0, 'Year': 2010.0, 'Month': 4.0, 'Day': 15.0, 'Hours': 20.0, 'Minutes': 36.0, 'mornight': 1.0, 'Total distance': 1.794245481}, {'fare_amount': 18.1, 'fare_class': 1.0, 'passenger_count': 2.0, 'Year': 2010.0, 'Month': 4.0, 'Day': 17.0, 'Hours': 21.0, 'Minutes': 28.0, 'mornight': 1.0, 'Total distance': 6.8942928464}, {'fare_amount': 25.07, 'fare_class': 1.0, 'passenger_count': 1.0, 'Year': 2010.0, 'Month': 4.0, 'Day': 12.0, 'Hours': 0.0, 'Minutes': 50.0, 'mornight': 0.0, 'Total distance': 10.1043532992}, {'fare_amount': 4.5, 'fare_class': 0.0, 'passenger_count': 1.0, 'Year': 2010.0, 'Month': 4.0, 'Day': 20.0, 'Hours': 7.0, 'Minutes': 31.0, 'mornight': 0.0, 'Total distance': 0.6961375979}, {'fare_amount': 4.9, 'fare_class': 0.0, 'passenger_count': 1.0, 'Year': 2010.0, 'Month': 4.0, 'Day': 12.0, 'Hours': 5.0, 'Minutes': 24.0, 'mornight': 0.0, 'Total distance': 0.8905920256}, {'fare_amount': 6.1, 'fare_class': 0.0, 'passenger_count': 4.0, 'Year': 2010.0, 'Month': 4.0, 'Day': 15.0, 'Hours': 15.0, 'Minutes': 11.0, 'mornight': 1.0, 'Total distance': 1.3827922834}, {'fare_amount': 4.1, 'fare_class': 0.0, 'passenger_count': 1.0, 'Year': 2010.0, 'Month': 4.0, 'Day': 19.0, 'Hours': 12.0, 'Minutes': 47.0, 'mornight': 1.0, 'Total distance': 0.3773234803}, {'fare_amount': 7.7, 'fare_class': 0.0, 'passenger_count': 2.0, 'Year': 2010.0, 'Month': 4.0, 'Day': 24.0, 'Hours': 10.0, 'Minutes': 59.0, 'mornight': 0.0, 'Total distance': 2.1303854598}, {'fare_amount': 6.5, 'fare_class': 0.0, 'passenger_count': 1.0, 'Year': 2010.0, 'Month': 4.0, 'Day': 20.0, 'Hours': 17.0, 'Minutes': 53.0, 'mornight': 1.0, 'Total distance': 2.2396463683}, {'fare_amount': 4.1, 'fare_class': 0.0, 'passenger_count': 1.0, 'Year': 2010.0, 'Month': 4.0, 'Day': 19.0, 'Hours': 5.0, 'Minutes': 5.0, 'mornight': 0.0, 'Total distance': 0.690751113}, {'fare_amount': 17.3, 'fare_class': 1.0, 'passenger_count': 1.0, 'Year': 2010.0, 'Month': 4.0, 'Day': 24.0, 'Hours': 17.0, 'Minutes': 3.0, 'mornight': 1.0, 'Total distance': 7.6622240342}, {'fare_amount': 6.5, 'fare_class': 0.0, 'passenger_count': 1.0, 'Year': 2010.0, 'Month': 4.0, 'Day': 23.0, 'Hours': 5.0, 'Minutes': 46.0, 'mornight': 0.0, 'Total distance': 1.5029051019}, {'fare_amount': 8.9, 'fare_class': 0.0, 'passenger_count': 1.0, 'Year': 2010.0, 'Month': 4.0, 'Day': 20.0, 'Hours': 17.0, 'Minutes': 48.0, 'mornight': 1.0, 'Total distance': 3.7001630674}, {'fare_amount': 5.7, 'fare_class': 0.0, 'passenger_count': 1.0, 'Year': 2010.0, 'Month': 4.0, 'Day': 16.0, 'Hours': 6.0, 'Minutes': 53.0, 'mornight': 0.0, 'Total distance': 1.3411667237}, {'fare_amount': 6.9, 'fare_class': 0.0, 'passenger_count': 1.0, 'Year': 2010.0, 'Month': 4.0, 'Day': 12.0, 'Hours': 20.0, 'Minutes': 53.0, 'mornight': 1.0, 'Total distance': 3.257502632}, {'fare_amount': 4.5, 'fare_class': 0.0, 'passenger_count': 3.0, 'Year': 2010.0, 'Month': 4.0, 'Day': 22.0, 'Hours': 4.0, 'Minutes': 25.0, 'mornight': 0.0, 'Total distance': 1.2189080281}, {'fare_amount': 3.3, 'fare_class': 0.0, 'passenger_count': 1.0, 'Year': 2010.0, 'Month': 4.0, 'Day': 13.0, 'Hours': 11.0, 'Minutes': 49.0, 'mornight': 0.0, 'Total distance': 0.7183773421}, {'fare_amount': 5.3, 'fare_class': 0.0, 'passenger_count': 2.0, 'Year': 2010.0, 'Month': 4.0, 'Day': 21.0, 'Hours': 19.0, 'Minutes': 2.0, 'mornight': 1.0, 'Total distance': 0.826930503}, {'fare_amount': 17.3, 'fare_class': 1.0, 'passenger_count': 3.0, 'Year': 2010.0, 'Month': 4.0, 'Day': 23.0, 'Hours': 15.0, 'Minutes': 58.0, 'mornight': 1.0, 'Total distance': 7.3524628257}, {'fare_amount': 5.3, 'fare_class': 0.0, 'passenger_count': 5.0, 'Year': 2010.0, 'Month': 4.0, 'Day': 19.0, 'Hours': 8.0, 'Minutes': 56.0, 'mornight': 0.0, 'Total distance': 1.3597918158}, {'fare_amount': 4.9, 'fare_class': 0.0, 'passenger_count': 1.0, 'Year': 2010.0, 'Month': 4.0, 'Day': 16.0, 'Hours': 14.0, 'Minutes': 56.0, 'mornight': 1.0, 'Total distance': 1.5215864354}, {'fare_amount': 8.9, 'fare_class': 0.0, 'passenger_count': 1.0, 'Year': 2010.0, 'Month': 4.0, 'Day': 22.0, 'Hours': 18.0, 'Minutes': 35.0, 'mornight': 1.0, 'Total distance': 2.3705794101}, {'fare_amount': 4.5, 'fare_class': 0.0, 'passenger_count': 1.0, 'Year': 2010.0, 'Month': 4.0, 'Day': 12.0, 'Hours': 12.0, 'Minutes': 24.0, 'mornight': 1.0, 'Total distance': 11.9546159258}, {'fare_amount': 18.5, 'fare_class': 1.0, 'passenger_count': 1.0, 'Year': 2010.0, 'Month': 4.0, 'Day': 24.0, 'Hours': 11.0, 'Minutes': 22.0, 'mornight': 0.0, 'Total distance': 5.4993155843}, {'fare_amount': 9.3, 'fare_class': 0.0, 'passenger_count': 1.0, 'Year': 2010.0, 'Month': 4.0, 'Day': 23.0, 'Hours': 7.0, 'Minutes': 3.0, 'mornight': 0.0, 'Total distance': 2.2437168215}, {'fare_amount': 5.3, 'fare_class': 0.0, 'passenger_count': 1.0, 'Year': 2010.0, 'Month': 4.0, 'Day': 20.0, 'Hours': 8.0, 'Minutes': 17.0, 'mornight': 0.0, 'Total distance': 0.5828918318}, {'fare_amount': 8.1, 'fare_class': 0.0, 'passenger_count': 1.0, 'Year': 2010.0, 'Month': 4.0, 'Day': 17.0, 'Hours': 10.0, 'Minutes': 6.0, 'mornight': 0.0, 'Total distance': 1.7837606992}, {'fare_amount': 12.5, 'fare_class': 1.0, 'passenger_count': 1.0, 'Year': 2010.0, 'Month': 4.0, 'Day': 16.0, 'Hours': 2.0, 'Minutes': 19.0, 'mornight': 0.0, 'Total distance': 4.6229187882}, {'fare_amount': 9.7, 'fare_class': 0.0, 'passenger_count': 1.0, 'Year': 2010.0, 'Month': 4.0, 'Day': 15.0, 'Hours': 5.0, 'Minutes': 7.0, 'mornight': 0.0, 'Total distance': 3.1707809485}, {'fare_amount': 10.1, 'fare_class': 1.0, 'passenger_count': 1.0, 'Year': 2010.0, 'Month': 4.0, 'Day': 22.0, 'Hours': 15.0, 'Minutes': 51.0, 'mornight': 1.0, 'Total distance': 3.0649715902}, {'fare_amount': 5.7, 'fare_class': 0.0, 'passenger_count': 1.0, 'Year': 2010.0, 'Month': 4.0, 'Day': 14.0, 'Hours': 14.0, 'Minutes': 53.0, 'mornight': 1.0, 'Total distance': 2.5413478889}, {'fare_amount': 5.7, 'fare_class': 0.0, 'passenger_count': 1.0, 'Year': 2010.0, 'Month': 4.0, 'Day': 23.0, 'Hours': 10.0, 'Minutes': 34.0, 'mornight': 0.0, 'Total distance': 1.8256547234}, {'fare_amount': 13.7, 'fare_class': 1.0, 'passenger_count': 1.0, 'Year': 2010.0, 'Month': 4.0, 'Day': 23.0, 'Hours': 7.0, 'Minutes': 50.0, 'mornight': 0.0, 'Total distance': 5.3228014686}, {'fare_amount': 7.7, 'fare_class': 0.0, 'passenger_count': 1.0, 'Year': 2010.0, 'Month': 4.0, 'Day': 18.0, 'Hours': 16.0, 'Minutes': 11.0, 'mornight': 1.0, 'Total distance': 3.2065004718}, {'fare_amount': 8.9, 'fare_class': 0.0, 'passenger_count': 1.0, 'Year': 2010.0, 'Month': 4.0, 'Day': 21.0, 'Hours': 15.0, 'Minutes': 18.0, 'mornight': 1.0, 'Total distance': 3.045464722}, {'fare_amount': 6.1, 'fare_class': 0.0, 'passenger_count': 1.0, 'Year': 2010.0, 'Month': 4.0, 'Day': 23.0, 'Hours': 4.0, 'Minutes': 55.0, 'mornight': 0.0, 'Total distance': 2.1963328124}, {'fare_amount': 49.57, 'fare_class': 1.0, 'passenger_count': 2.0, 'Year': 2010.0, 'Month': 4.0, 'Day': 11.0, 'Hours': 10.0, 'Minutes': 58.0, 'mornight': 0.0, 'Total distance': 21.410531732}, {'fare_amount': 9.3, 'fare_class': 0.0, 'passenger_count': 1.0, 'Year': 2010.0, 'Month': 4.0, 'Day': 14.0, 'Hours': 11.0, 'Minutes': 19.0, 'mornight': 0.0, 'Total distance': 0.8046431192}, {'fare_amount': 11.3, 'fare_class': 1.0, 'passenger_count': 1.0, 'Year': 2010.0, 'Month': 4.0, 'Day': 16.0, 'Hours': 14.0, 'Minutes': 29.0, 'mornight': 1.0, 'Total distance': 4.4114041803}, {'fare_amount': 7.7, 'fare_class': 0.0, 'passenger_count': 1.0, 'Year': 2010.0, 'Month': 4.0, 'Day': 16.0, 'Hours': 9.0, 'Minutes': 37.0, 'mornight': 0.0, 'Total distance': 1.5698248112}, {'fare_amount': 5.7, 'fare_class': 0.0, 'passenger_count': 1.0, 'Year': 2010.0, 'Month': 4.0, 'Day': 23.0, 'Hours': 8.0, 'Minutes': 56.0, 'mornight': 0.0, 'Total distance': 1.5846517966}, {'fare_amount': 5.3, 'fare_class': 0.0, 'passenger_count': 1.0, 'Year': 2010.0, 'Month': 4.0, 'Day': 23.0, 'Hours': 3.0, 'Minutes': 21.0, 'mornight': 0.0, 'Total distance': 0.7086490593}, {'fare_amount': 10.5, 'fare_class': 1.0, 'passenger_count': 2.0, 'Year': 2010.0, 'Month': 4.0, 'Day': 18.0, 'Hours': 14.0, 'Minutes': 24.0, 'mornight': 1.0, 'Total distance': 1.7711109198}, {'fare_amount': 5.7, 'fare_class': 0.0, 'passenger_count': 1.0, 'Year': 2010.0, 'Month': 4.0, 'Day': 17.0, 'Hours': 8.0, 'Minutes': 7.0, 'mornight': 0.0, 'Total distance': 1.4482250194}, {'fare_amount': 9.7, 'fare_class': 0.0, 'passenger_count': 2.0, 'Year': 2010.0, 'Month': 4.0, 'Day': 14.0, 'Hours': 5.0, 'Minutes': 53.0, 'mornight': 0.0, 'Total distance': 2.0264858724}, {'fare_amount': 29.47, 'fare_class': 1.0, 'passenger_count': 1.0, 'Year': 2010.0, 'Month': 4.0, 'Day': 13.0, 'Hours': 5.0, 'Minutes': 47.0, 'mornight': 0.0, 'Total distance': 9.8748148631}, {'fare_amount': 14.1, 'fare_class': 1.0, 'passenger_count': 1.0, 'Year': 2010.0, 'Month': 4.0, 'Day': 19.0, 'Hours': 20.0, 'Minutes': 23.0, 'mornight': 1.0, 'Total distance': 7.5440240741}, {'fare_amount': 8.9, 'fare_class': 0.0, 'passenger_count': 1.0, 'Year': 2010.0, 'Month': 4.0, 'Day': 14.0, 'Hours': 13.0, 'Minutes': 29.0, 'mornight': 1.0, 'Total distance': 4.3741905914}, {'fare_amount': 28.5, 'fare_class': 1.0, 'passenger_count': 3.0, 'Year': 2010.0, 'Month': 4.0, 'Day': 16.0, 'Hours': 17.0, 'Minutes': 36.0, 'mornight': 1.0, 'Total distance': 5.0301451239}, {'fare_amount': 4.1, 'fare_class': 0.0, 'passenger_count': 2.0, 'Year': 2010.0, 'Month': 4.0, 'Day': 13.0, 'Hours': 16.0, 'Minutes': 2.0, 'mornight': 1.0, 'Total distance': 0.9606257212}, {'fare_amount': 7.3, 'fare_class': 0.0, 'passenger_count': 1.0, 'Year': 2010.0, 'Month': 4.0, 'Day': 11.0, 'Hours': 17.0, 'Minutes': 49.0, 'mornight': 1.0, 'Total distance': 2.0022020565}, {'fare_amount': 4.9, 'fare_class': 0.0, 'passenger_count': 1.0, 'Year': 2010.0, 'Month': 4.0, 'Day': 12.0, 'Hours': 19.0, 'Minutes': 42.0, 'mornight': 1.0, 'Total distance': 1.2406369001}, {'fare_amount': 5.3, 'fare_class': 0.0, 'passenger_count': 1.0, 'Year': 2010.0, 'Month': 4.0, 'Day': 17.0, 'Hours': 18.0, 'Minutes': 22.0, 'mornight': 1.0, 'Total distance': 1.5137137146}, {'fare_amount': 5.3, 'fare_class': 0.0, 'passenger_count': 1.0, 'Year': 2010.0, 'Month': 4.0, 'Day': 19.0, 'Hours': 5.0, 'Minutes': 48.0, 'mornight': 0.0, 'Total distance': 0.9983893062}, {'fare_amount': 7.3, 'fare_class': 0.0, 'passenger_count': 1.0, 'Year': 2010.0, 'Month': 4.0, 'Day': 17.0, 'Hours': 14.0, 'Minutes': 4.0, 'mornight': 1.0, 'Total distance': 1.830734824}, {'fare_amount': 5.7, 'fare_class': 0.0, 'passenger_count': 1.0, 'Year': 2010.0, 'Month': 4.0, 'Day': 23.0, 'Hours': 12.0, 'Minutes': 6.0, 'mornight': 1.0, 'Total distance': 1.1628546743}, {'fare_amount': 5.3, 'fare_class': 0.0, 'passenger_count': 1.0, 'Year': 2010.0, 'Month': 4.0, 'Day': 16.0, 'Hours': 21.0, 'Minutes': 20.0, 'mornight': 1.0, 'Total distance': 1.6517088872}, {'fare_amount': 5.7, 'fare_class': 0.0, 'passenger_count': 4.0, 'Year': 2010.0, 'Month': 4.0, 'Day': 15.0, 'Hours': 23.0, 'Minutes': 33.0, 'mornight': 1.0, 'Total distance': 1.318245448}, {'fare_amount': 5.3, 'fare_class': 0.0, 'passenger_count': 1.0, 'Year': 2010.0, 'Month': 4.0, 'Day': 15.0, 'Hours': 19.0, 'Minutes': 58.0, 'mornight': 1.0, 'Total distance': 1.7751068718}, {'fare_amount': 14.9, 'fare_class': 1.0, 'passenger_count': 2.0, 'Year': 2010.0, 'Month': 4.0, 'Day': 15.0, 'Hours': 20.0, 'Minutes': 10.0, 'mornight': 1.0, 'Total distance': 6.5570118811}, {'fare_amount': 8.9, 'fare_class': 0.0, 'passenger_count': 1.0, 'Year': 2010.0, 'Month': 4.0, 'Day': 21.0, 'Hours': 15.0, 'Minutes': 18.0, 'mornight': 1.0, 'Total distance': 3.2765643968}, {'fare_amount': 10.1, 'fare_class': 1.0, 'passenger_count': 1.0, 'Year': 2010.0, 'Month': 4.0, 'Day': 16.0, 'Hours': 7.0, 'Minutes': 21.0, 'mornight': 0.0, 'Total distance': 2.9713207251}, {'fare_amount': 7.3, 'fare_class': 0.0, 'passenger_count': 2.0, 'Year': 2010.0, 'Month': 4.0, 'Day': 16.0, 'Hours': 0.0, 'Minutes': 52.0, 'mornight': 0.0, 'Total distance': 1.9789792658}, {'fare_amount': 6.9, 'fare_class': 0.0, 'passenger_count': 2.0, 'Year': 2010.0, 'Month': 4.0, 'Day': 11.0, 'Hours': 13.0, 'Minutes': 56.0, 'mornight': 1.0, 'Total distance': 1.7208129545}, {'fare_amount': 11.3, 'fare_class': 1.0, 'passenger_count': 2.0, 'Year': 2010.0, 'Month': 4.0, 'Day': 17.0, 'Hours': 4.0, 'Minutes': 10.0, 'mornight': 0.0, 'Total distance': 4.2963331785}, {'fare_amount': 10.5, 'fare_class': 1.0, 'passenger_count': 2.0, 'Year': 2010.0, 'Month': 4.0, 'Day': 21.0, 'Hours': 21.0, 'Minutes': 10.0, 'mornight': 1.0, 'Total distance': 1.3121862145}, {'fare_amount': 24.27, 'fare_class': 1.0, 'passenger_count': 2.0, 'Year': 2010.0, 'Month': 4.0, 'Day': 12.0, 'Hours': 14.0, 'Minutes': 9.0, 'mornight': 1.0, 'Total distance': 9.0350772944}, {'fare_amount': 8.5, 'fare_class': 0.0, 'passenger_count': 1.0, 'Year': 2010.0, 'Month': 4.0, 'Day': 20.0, 'Hours': 8.0, 'Minutes': 41.0, 'mornight': 0.0, 'Total distance': 1.5824023974}, {'fare_amount': 20.9, 'fare_class': 1.0, 'passenger_count': 1.0, 'Year': 2010.0, 'Month': 4.0, 'Day': 24.0, 'Hours': 18.0, 'Minutes': 46.0, 'mornight': 1.0, 'Total distance': 5.4272368008}, {'fare_amount': 5.7, 'fare_class': 0.0, 'passenger_count': 1.0, 'Year': 2010.0, 'Month': 4.0, 'Day': 20.0, 'Hours': 17.0, 'Minutes': 56.0, 'mornight': 1.0, 'Total distance': 1.1806266168}, {'fare_amount': 6.5, 'fare_class': 0.0, 'passenger_count': 2.0, 'Year': 2010.0, 'Month': 4.0, 'Day': 24.0, 'Hours': 14.0, 'Minutes': 40.0, 'mornight': 1.0, 'Total distance': 1.144939671}, {'fare_amount': 6.5, 'fare_class': 0.0, 'passenger_count': 3.0, 'Year': 2010.0, 'Month': 4.0, 'Day': 12.0, 'Hours': 16.0, 'Minutes': 37.0, 'mornight': 1.0, 'Total distance': 1.506058925}, {'fare_amount': 4.1, 'fare_class': 0.0, 'passenger_count': 1.0, 'Year': 2010.0, 'Month': 4.0, 'Day': 24.0, 'Hours': 6.0, 'Minutes': 9.0, 'mornight': 0.0, 'Total distance': 0.551005333}, {'fare_amount': 15.7, 'fare_class': 1.0, 'passenger_count': 3.0, 'Year': 2010.0, 'Month': 4.0, 'Day': 23.0, 'Hours': 21.0, 'Minutes': 8.0, 'mornight': 1.0, 'Total distance': 7.8018683471}, {'fare_amount': 3.3, 'fare_class': 0.0, 'passenger_count': 1.0, 'Year': 2010.0, 'Month': 4.0, 'Day': 22.0, 'Hours': 4.0, 'Minutes': 27.0, 'mornight': 0.0, 'Total distance': 0.3303486587}, {'fare_amount': 11.3, 'fare_class': 1.0, 'passenger_count': 2.0, 'Year': 2010.0, 'Month': 4.0, 'Day': 17.0, 'Hours': 22.0, 'Minutes': 6.0, 'mornight': 1.0, 'Total distance': 4.1491348793}, {'fare_amount': 4.9, 'fare_class': 0.0, 'passenger_count': 1.0, 'Year': 2010.0, 'Month': 4.0, 'Day': 16.0, 'Hours': 6.0, 'Minutes': 37.0, 'mornight': 0.0, 'Total distance': 1.264074647}, {'fare_amount': 3.3, 'fare_class': 0.0, 'passenger_count': 1.0, 'Year': 2010.0, 'Month': 4.0, 'Day': 15.0, 'Hours': 22.0, 'Minutes': 57.0, 'mornight': 1.0, 'Total distance': 0.7697685678}, {'fare_amount': 4.9, 'fare_class': 0.0, 'passenger_count': 1.0, 'Year': 2010.0, 'Month': 4.0, 'Day': 19.0, 'Hours': 10.0, 'Minutes': 19.0, 'mornight': 0.0, 'Total distance': 1.2810837675}, {'fare_amount': 12.5, 'fare_class': 1.0, 'passenger_count': 1.0, 'Year': 2010.0, 'Month': 4.0, 'Day': 15.0, 'Hours': 16.0, 'Minutes': 11.0, 'mornight': 1.0, 'Total distance': 0.2857358318}, {'fare_amount': 12.5, 'fare_class': 1.0, 'passenger_count': 1.0, 'Year': 2010.0, 'Month': 4.0, 'Day': 20.0, 'Hours': 6.0, 'Minutes': 32.0, 'mornight': 0.0, 'Total distance': 3.7820331353}, {'fare_amount': 10.9, 'fare_class': 1.0, 'passenger_count': 1.0, 'Year': 2010.0, 'Month': 4.0, 'Day': 18.0, 'Hours': 12.0, 'Minutes': 6.0, 'mornight': 1.0, 'Total distance': 1.9894069117}, {'fare_amount': 11.7, 'fare_class': 1.0, 'passenger_count': 1.0, 'Year': 2010.0, 'Month': 4.0, 'Day': 18.0, 'Hours': 10.0, 'Minutes': 59.0, 'mornight': 0.0, 'Total distance': 4.7372694927}, {'fare_amount': 3.7, 'fare_class': 0.0, 'passenger_count': 1.0, 'Year': 2010.0, 'Month': 4.0, 'Day': 22.0, 'Hours': 15.0, 'Minutes': 29.0, 'mornight': 1.0, 'Total distance': 0.7265064472}, {'fare_amount': 4.1, 'fare_class': 0.0, 'passenger_count': 2.0, 'Year': 2010.0, 'Month': 4.0, 'Day': 17.0, 'Hours': 16.0, 'Minutes': 13.0, 'mornight': 1.0, 'Total distance': 1.1156632185}, {'fare_amount': 7.7, 'fare_class': 0.0, 'passenger_count': 1.0, 'Year': 2010.0, 'Month': 4.0, 'Day': 17.0, 'Hours': 14.0, 'Minutes': 59.0, 'mornight': 1.0, 'Total distance': 1.6294712908}, {'fare_amount': 10.9, 'fare_class': 1.0, 'passenger_count': 1.0, 'Year': 2010.0, 'Month': 4.0, 'Day': 17.0, 'Hours': 19.0, 'Minutes': 0.0, 'mornight': 1.0, 'Total distance': 2.3934579188}, {'fare_amount': 9.3, 'fare_class': 0.0, 'passenger_count': 1.0, 'Year': 2010.0, 'Month': 4.0, 'Day': 13.0, 'Hours': 7.0, 'Minutes': 13.0, 'mornight': 0.0, 'Total distance': 1.5155623508}, {'fare_amount': 6.9, 'fare_class': 0.0, 'passenger_count': 1.0, 'Year': 2010.0, 'Month': 4.0, 'Day': 23.0, 'Hours': 3.0, 'Minutes': 58.0, 'mornight': 0.0, 'Total distance': 1.6647972195}, {'fare_amount': 16.5, 'fare_class': 1.0, 'passenger_count': 1.0, 'Year': 2010.0, 'Month': 4.0, 'Day': 21.0, 'Hours': 22.0, 'Minutes': 27.0, 'mornight': 1.0, 'Total distance': 8.0283108951}, {'fare_amount': 9.7, 'fare_class': 0.0, 'passenger_count': 1.0, 'Year': 2010.0, 'Month': 4.0, 'Day': 16.0, 'Hours': 12.0, 'Minutes': 21.0, 'mornight': 1.0, 'Total distance': 1.647067365}, {'fare_amount': 11.3, 'fare_class': 1.0, 'passenger_count': 1.0, 'Year': 2010.0, 'Month': 4.0, 'Day': 17.0, 'Hours': 8.0, 'Minutes': 58.0, 'mornight': 0.0, 'Total distance': 4.4845388553}, {'fare_amount': 7.3, 'fare_class': 0.0, 'passenger_count': 1.0, 'Year': 2010.0, 'Month': 4.0, 'Day': 24.0, 'Hours': 16.0, 'Minutes': 38.0, 'mornight': 1.0, 'Total distance': 1.3920522866}, {'fare_amount': 8.9, 'fare_class': 0.0, 'passenger_count': 1.0, 'Year': 2010.0, 'Month': 4.0, 'Day': 15.0, 'Hours': 18.0, 'Minutes': 12.0, 'mornight': 1.0, 'Total distance': 3.4115522014}, {'fare_amount': 14.5, 'fare_class': 1.0, 'passenger_count': 1.0, 'Year': 2010.0, 'Month': 4.0, 'Day': 15.0, 'Hours': 3.0, 'Minutes': 50.0, 'mornight': 0.0, 'Total distance': 6.5378795752}, {'fare_amount': 17.7, 'fare_class': 1.0, 'passenger_count': 1.0, 'Year': 2010.0, 'Month': 4.0, 'Day': 18.0, 'Hours': 4.0, 'Minutes': 47.0, 'mornight': 0.0, 'Total distance': 8.284032118}, {'fare_amount': 4.9, 'fare_class': 0.0, 'passenger_count': 4.0, 'Year': 2010.0, 'Month': 4.0, 'Day': 24.0, 'Hours': 23.0, 'Minutes': 28.0, 'mornight': 1.0, 'Total distance': 1.1594888439}, {'fare_amount': 12.5, 'fare_class': 1.0, 'passenger_count': 1.0, 'Year': 2010.0, 'Month': 4.0, 'Day': 11.0, 'Hours': 13.0, 'Minutes': 36.0, 'mornight': 1.0, 'Total distance': 5.8839768214}, {'fare_amount': 3.7, 'fare_class': 0.0, 'passenger_count': 1.0, 'Year': 2010.0, 'Month': 4.0, 'Day': 24.0, 'Hours': 9.0, 'Minutes': 1.0, 'mornight': 0.0, 'Total distance': 1.1086822818}, {'fare_amount': 8.1, 'fare_class': 0.0, 'passenger_count': 1.0, 'Year': 2010.0, 'Month': 4.0, 'Day': 23.0, 'Hours': 12.0, 'Minutes': 1.0, 'mornight': 1.0, 'Total distance': 1.591311897}, {'fare_amount': 8.1, 'fare_class': 0.0, 'passenger_count': 2.0, 'Year': 2010.0, 'Month': 4.0, 'Day': 18.0, 'Hours': 14.0, 'Minutes': 24.0, 'mornight': 1.0, 'Total distance': 1.6577698959}, {'fare_amount': 9.3, 'fare_class': 0.0, 'passenger_count': 1.0, 'Year': 2010.0, 'Month': 4.0, 'Day': 12.0, 'Hours': 14.0, 'Minutes': 25.0, 'mornight': 1.0, 'Total distance': 2.186424676}, {'fare_amount': 6.1, 'fare_class': 0.0, 'passenger_count': 2.0, 'Year': 2010.0, 'Month': 4.0, 'Day': 16.0, 'Hours': 21.0, 'Minutes': 34.0, 'mornight': 1.0, 'Total distance': 1.6645207806}, {'fare_amount': 9.3, 'fare_class': 0.0, 'passenger_count': 1.0, 'Year': 2010.0, 'Month': 4.0, 'Day': 24.0, 'Hours': 7.0, 'Minutes': 41.0, 'mornight': 0.0, 'Total distance': 3.3500302493}, {'fare_amount': 8.1, 'fare_class': 0.0, 'passenger_count': 2.0, 'Year': 2010.0, 'Month': 4.0, 'Day': 23.0, 'Hours': 13.0, 'Minutes': 51.0, 'mornight': 1.0, 'Total distance': 1.8290676354}, {'fare_amount': 13.7, 'fare_class': 1.0, 'passenger_count': 4.0, 'Year': 2010.0, 'Month': 4.0, 'Day': 18.0, 'Hours': 7.0, 'Minutes': 42.0, 'mornight': 0.0, 'Total distance': 6.4840313958}, {'fare_amount': 4.9, 'fare_class': 0.0, 'passenger_count': 1.0, 'Year': 2010.0, 'Month': 4.0, 'Day': 16.0, 'Hours': 13.0, 'Minutes': 1.0, 'mornight': 1.0, 'Total distance': 1.3104912346}, {'fare_amount': 6.5, 'fare_class': 0.0, 'passenger_count': 1.0, 'Year': 2010.0, 'Month': 4.0, 'Day': 16.0, 'Hours': 11.0, 'Minutes': 1.0, 'mornight': 0.0, 'Total distance': 2.9439698219}, {'fare_amount': 3.3, 'fare_class': 0.0, 'passenger_count': 2.0, 'Year': 2010.0, 'Month': 4.0, 'Day': 20.0, 'Hours': 11.0, 'Minutes': 52.0, 'mornight': 0.0, 'Total distance': 0.6447733096}, {'fare_amount': 26.9, 'fare_class': 1.0, 'passenger_count': 1.0, 'Year': 2010.0, 'Month': 4.0, 'Day': 14.0, 'Hours': 6.0, 'Minutes': 55.0, 'mornight': 0.0, 'Total distance': 13.3491003934}, {'fare_amount': 12.5, 'fare_class': 1.0, 'passenger_count': 1.0, 'Year': 2010.0, 'Month': 4.0, 'Day': 14.0, 'Hours': 9.0, 'Minutes': 51.0, 'mornight': 0.0, 'Total distance': 4.8161042311}, {'fare_amount': 7.3, 'fare_class': 0.0, 'passenger_count': 1.0, 'Year': 2010.0, 'Month': 4.0, 'Day': 22.0, 'Hours': 17.0, 'Minutes': 34.0, 'mornight': 1.0, 'Total distance': 2.0684027423}, {'fare_amount': 6.1, 'fare_class': 0.0, 'passenger_count': 1.0, 'Year': 2010.0, 'Month': 4.0, 'Day': 19.0, 'Hours': 10.0, 'Minutes': 53.0, 'mornight': 0.0, 'Total distance': 1.5445832342}, {'fare_amount': 7.7, 'fare_class': 0.0, 'passenger_count': 1.0, 'Year': 2010.0, 'Month': 4.0, 'Day': 15.0, 'Hours': 13.0, 'Minutes': 30.0, 'mornight': 1.0, 'Total distance': 2.0466776883}, {'fare_amount': 4.9, 'fare_class': 0.0, 'passenger_count': 1.0, 'Year': 2010.0, 'Month': 4.0, 'Day': 13.0, 'Hours': 18.0, 'Minutes': 29.0, 'mornight': 1.0, 'Total distance': 0.9764580521}, {'fare_amount': 6.1, 'fare_class': 0.0, 'passenger_count': 1.0, 'Year': 2010.0, 'Month': 4.0, 'Day': 23.0, 'Hours': 15.0, 'Minutes': 42.0, 'mornight': 1.0, 'Total distance': 1.4873673249}, {'fare_amount': 4.5, 'fare_class': 0.0, 'passenger_count': 1.0, 'Year': 2010.0, 'Month': 4.0, 'Day': 20.0, 'Hours': 15.0, 'Minutes': 52.0, 'mornight': 1.0, 'Total distance': 1.6597902422}, {'fare_amount': 10.5, 'fare_class': 1.0, 'passenger_count': 1.0, 'Year': 2010.0, 'Month': 4.0, 'Day': 15.0, 'Hours': 19.0, 'Minutes': 50.0, 'mornight': 1.0, 'Total distance': 2.8141540127}, {'fare_amount': 4.5, 'fare_class': 0.0, 'passenger_count': 1.0, 'Year': 2010.0, 'Month': 4.0, 'Day': 19.0, 'Hours': 14.0, 'Minutes': 7.0, 'mornight': 1.0, 'Total distance': 1.2715008826}, {'fare_amount': 4.5, 'fare_class': 0.0, 'passenger_count': 1.0, 'Year': 2010.0, 'Month': 4.0, 'Day': 17.0, 'Hours': 21.0, 'Minutes': 17.0, 'mornight': 1.0, 'Total distance': 1.6945038391}, {'fare_amount': 7.7, 'fare_class': 0.0, 'passenger_count': 1.0, 'Year': 2010.0, 'Month': 4.0, 'Day': 17.0, 'Hours': 7.0, 'Minutes': 46.0, 'mornight': 0.0, 'Total distance': 2.6338310662}, {'fare_amount': 7.3, 'fare_class': 0.0, 'passenger_count': 1.0, 'Year': 2010.0, 'Month': 4.0, 'Day': 12.0, 'Hours': 17.0, 'Minutes': 50.0, 'mornight': 1.0, 'Total distance': 2.3826972819}, {'fare_amount': 19.7, 'fare_class': 1.0, 'passenger_count': 1.0, 'Year': 2010.0, 'Month': 4.0, 'Day': 20.0, 'Hours': 5.0, 'Minutes': 40.0, 'mornight': 0.0, 'Total distance': 10.3032878356}, {'fare_amount': 6.1, 'fare_class': 0.0, 'passenger_count': 1.0, 'Year': 2010.0, 'Month': 4.0, 'Day': 16.0, 'Hours': 13.0, 'Minutes': 59.0, 'mornight': 1.0, 'Total distance': 1.5266005653}, {'fare_amount': 16.5, 'fare_class': 1.0, 'passenger_count': 1.0, 'Year': 2010.0, 'Month': 4.0, 'Day': 18.0, 'Hours': 9.0, 'Minutes': 48.0, 'mornight': 0.0, 'Total distance': 9.8240313988}, {'fare_amount': 10.9, 'fare_class': 1.0, 'passenger_count': 4.0, 'Year': 2010.0, 'Month': 4.0, 'Day': 21.0, 'Hours': 10.0, 'Minutes': 9.0, 'mornight': 0.0, 'Total distance': 4.184008723}, {'fare_amount': 10.9, 'fare_class': 1.0, 'passenger_count': 1.0, 'Year': 2010.0, 'Month': 4.0, 'Day': 20.0, 'Hours': 15.0, 'Minutes': 22.0, 'mornight': 1.0, 'Total distance': 4.0509070932}, {'fare_amount': 8.9, 'fare_class': 0.0, 'passenger_count': 1.0, 'Year': 2010.0, 'Month': 4.0, 'Day': 14.0, 'Hours': 19.0, 'Minutes': 22.0, 'mornight': 1.0, 'Total distance': 2.9013278733}, {'fare_amount': 4.1, 'fare_class': 0.0, 'passenger_count': 1.0, 'Year': 2010.0, 'Month': 4.0, 'Day': 18.0, 'Hours': 13.0, 'Minutes': 59.0, 'mornight': 1.0, 'Total distance': 1.0486768278}, {'fare_amount': 19.7, 'fare_class': 1.0, 'passenger_count': 2.0, 'Year': 2010.0, 'Month': 4.0, 'Day': 18.0, 'Hours': 15.0, 'Minutes': 30.0, 'mornight': 1.0, 'Total distance': 7.202599133}, {'fare_amount': 14.5, 'fare_class': 1.0, 'passenger_count': 1.0, 'Year': 2010.0, 'Month': 4.0, 'Day': 21.0, 'Hours': 7.0, 'Minutes': 58.0, 'mornight': 0.0, 'Total distance': 2.2481490832}, {'fare_amount': 7.3, 'fare_class': 0.0, 'passenger_count': 1.0, 'Year': 2010.0, 'Month': 4.0, 'Day': 15.0, 'Hours': 22.0, 'Minutes': 3.0, 'mornight': 1.0, 'Total distance': 2.0145159673}, {'fare_amount': 6.5, 'fare_class': 0.0, 'passenger_count': 1.0, 'Year': 2010.0, 'Month': 4.0, 'Day': 16.0, 'Hours': 13.0, 'Minutes': 42.0, 'mornight': 1.0, 'Total distance': 1.0378611432}, {'fare_amount': 3.3, 'fare_class': 0.0, 'passenger_count': 1.0, 'Year': 2010.0, 'Month': 4.0, 'Day': 17.0, 'Hours': 7.0, 'Minutes': 59.0, 'mornight': 0.0, 'Total distance': 0.7481355219}, {'fare_amount': 9.3, 'fare_class': 0.0, 'passenger_count': 1.0, 'Year': 2010.0, 'Month': 4.0, 'Day': 20.0, 'Hours': 4.0, 'Minutes': 9.0, 'mornight': 0.0, 'Total distance': 3.2904089056}, {'fare_amount': 6.5, 'fare_class': 0.0, 'passenger_count': 1.0, 'Year': 2010.0, 'Month': 4.0, 'Day': 13.0, 'Hours': 8.0, 'Minutes': 6.0, 'mornight': 0.0, 'Total distance': 1.2028214536}, {'fare_amount': 5.3, 'fare_class': 0.0, 'passenger_count': 4.0, 'Year': 2010.0, 'Month': 4.0, 'Day': 23.0, 'Hours': 15.0, 'Minutes': 29.0, 'mornight': 1.0, 'Total distance': 0.8878615125}, {'fare_amount': 11.3, 'fare_class': 1.0, 'passenger_count': 2.0, 'Year': 2010.0, 'Month': 4.0, 'Day': 17.0, 'Hours': 13.0, 'Minutes': 13.0, 'mornight': 1.0, 'Total distance': 3.4525283672}, {'fare_amount': 6.1, 'fare_class': 0.0, 'passenger_count': 2.0, 'Year': 2010.0, 'Month': 4.0, 'Day': 18.0, 'Hours': 9.0, 'Minutes': 46.0, 'mornight': 0.0, 'Total distance': 1.6410798785}, {'fare_amount': 14.5, 'fare_class': 1.0, 'passenger_count': 2.0, 'Year': 2010.0, 'Month': 4.0, 'Day': 19.0, 'Hours': 8.0, 'Minutes': 26.0, 'mornight': 0.0, 'Total distance': 5.9183788726}, {'fare_amount': 5.7, 'fare_class': 0.0, 'passenger_count': 1.0, 'Year': 2010.0, 'Month': 4.0, 'Day': 23.0, 'Hours': 6.0, 'Minutes': 43.0, 'mornight': 0.0, 'Total distance': 1.142545032}, {'fare_amount': 11.3, 'fare_class': 1.0, 'passenger_count': 1.0, 'Year': 2010.0, 'Month': 4.0, 'Day': 18.0, 'Hours': 12.0, 'Minutes': 1.0, 'mornight': 1.0, 'Total distance': 4.3487465714}, {'fare_amount': 35.87, 'fare_class': 1.0, 'passenger_count': 1.0, 'Year': 2010.0, 'Month': 4.0, 'Day': 18.0, 'Hours': 18.0, 'Minutes': 11.0, 'mornight': 1.0, 'Total distance': 13.6038427816}, {'fare_amount': 5.7, 'fare_class': 0.0, 'passenger_count': 1.0, 'Year': 2010.0, 'Month': 4.0, 'Day': 22.0, 'Hours': 10.0, 'Minutes': 18.0, 'mornight': 0.0, 'Total distance': 1.0030633249}, {'fare_amount': 9.7, 'fare_class': 0.0, 'passenger_count': 1.0, 'Year': 2010.0, 'Month': 4.0, 'Day': 22.0, 'Hours': 7.0, 'Minutes': 34.0, 'mornight': 0.0, 'Total distance': 3.0353043338}, {'fare_amount': 8.9, 'fare_class': 0.0, 'passenger_count': 1.0, 'Year': 2010.0, 'Month': 4.0, 'Day': 23.0, 'Hours': 15.0, 'Minutes': 45.0, 'mornight': 1.0, 'Total distance': 4.1721078226}, {'fare_amount': 7.7, 'fare_class': 0.0, 'passenger_count': 1.0, 'Year': 2010.0, 'Month': 4.0, 'Day': 12.0, 'Hours': 14.0, 'Minutes': 39.0, 'mornight': 1.0, 'Total distance': 1.3922078151}, {'fare_amount': 4.1, 'fare_class': 0.0, 'passenger_count': 1.0, 'Year': 2010.0, 'Month': 4.0, 'Day': 13.0, 'Hours': 15.0, 'Minutes': 21.0, 'mornight': 1.0, 'Total distance': 0.5833849398}, {'fare_amount': 6.1, 'fare_class': 0.0, 'passenger_count': 1.0, 'Year': 2010.0, 'Month': 4.0, 'Day': 12.0, 'Hours': 0.0, 'Minutes': 42.0, 'mornight': 0.0, 'Total distance': 2.0001115492}, {'fare_amount': 6.1, 'fare_class': 0.0, 'passenger_count': 2.0, 'Year': 2010.0, 'Month': 4.0, 'Day': 14.0, 'Hours': 14.0, 'Minutes': 31.0, 'mornight': 1.0, 'Total distance': 1.9119884461}, {'fare_amount': 7.3, 'fare_class': 0.0, 'passenger_count': 1.0, 'Year': 2010.0, 'Month': 4.0, 'Day': 24.0, 'Hours': 10.0, 'Minutes': 50.0, 'mornight': 0.0, 'Total distance': 1.7173153713}, {'fare_amount': 4.5, 'fare_class': 0.0, 'passenger_count': 1.0, 'Year': 2010.0, 'Month': 4.0, 'Day': 14.0, 'Hours': 19.0, 'Minutes': 47.0, 'mornight': 1.0, 'Total distance': 1.0224855136}, {'fare_amount': 8.5, 'fare_class': 0.0, 'passenger_count': 1.0, 'Year': 2010.0, 'Month': 4.0, 'Day': 16.0, 'Hours': 6.0, 'Minutes': 37.0, 'mornight': 0.0, 'Total distance': 1.4759402064}, {'fare_amount': 49.57, 'fare_class': 1.0, 'passenger_count': 1.0, 'Year': 2010.0, 'Month': 4.0, 'Day': 15.0, 'Hours': 12.0, 'Minutes': 28.0, 'mornight': 1.0, 'Total distance': 20.1916198361}, {'fare_amount': 5.7, 'fare_class': 0.0, 'passenger_count': 2.0, 'Year': 2010.0, 'Month': 4.0, 'Day': 24.0, 'Hours': 15.0, 'Minutes': 7.0, 'mornight': 1.0, 'Total distance': 0.6066903469}, {'fare_amount': 12.5, 'fare_class': 1.0, 'passenger_count': 1.0, 'Year': 2010.0, 'Month': 4.0, 'Day': 21.0, 'Hours': 6.0, 'Minutes': 6.0, 'mornight': 0.0, 'Total distance': 3.9955108274}, {'fare_amount': 6.9, 'fare_class': 0.0, 'passenger_count': 1.0, 'Year': 2010.0, 'Month': 4.0, 'Day': 23.0, 'Hours': 15.0, 'Minutes': 20.0, 'mornight': 1.0, 'Total distance': 1.0508381769}, {'fare_amount': 10.5, 'fare_class': 1.0, 'passenger_count': 2.0, 'Year': 2010.0, 'Month': 4.0, 'Day': 24.0, 'Hours': 7.0, 'Minutes': 35.0, 'mornight': 0.0, 'Total distance': 4.0849603859}, {'fare_amount': 8.5, 'fare_class': 0.0, 'passenger_count': 1.0, 'Year': 2010.0, 'Month': 4.0, 'Day': 23.0, 'Hours': 15.0, 'Minutes': 51.0, 'mornight': 1.0, 'Total distance': 2.9132472809}, {'fare_amount': 20.5, 'fare_class': 1.0, 'passenger_count': 1.0, 'Year': 2010.0, 'Month': 4.0, 'Day': 18.0, 'Hours': 13.0, 'Minutes': 40.0, 'mornight': 1.0, 'Total distance': 5.9303665381}, {'fare_amount': 6.5, 'fare_class': 0.0, 'passenger_count': 1.0, 'Year': 2010.0, 'Month': 4.0, 'Day': 12.0, 'Hours': 18.0, 'Minutes': 21.0, 'mornight': 1.0, 'Total distance': 1.9899683468}, {'fare_amount': 6.5, 'fare_class': 0.0, 'passenger_count': 1.0, 'Year': 2010.0, 'Month': 4.0, 'Day': 13.0, 'Hours': 13.0, 'Minutes': 22.0, 'mornight': 1.0, 'Total distance': 1.5159801584}, {'fare_amount': 6.1, 'fare_class': 0.0, 'passenger_count': 2.0, 'Year': 2010.0, 'Month': 4.0, 'Day': 13.0, 'Hours': 4.0, 'Minutes': 42.0, 'mornight': 0.0, 'Total distance': 1.6653609971}, {'fare_amount': 6.9, 'fare_class': 0.0, 'passenger_count': 1.0, 'Year': 2010.0, 'Month': 4.0, 'Day': 15.0, 'Hours': 2.0, 'Minutes': 47.0, 'mornight': 0.0, 'Total distance': 2.9974700868}, {'fare_amount': 8.9, 'fare_class': 0.0, 'passenger_count': 2.0, 'Year': 2010.0, 'Month': 4.0, 'Day': 16.0, 'Hours': 21.0, 'Minutes': 4.0, 'mornight': 1.0, 'Total distance': 2.7963874129}, {'fare_amount': 10.9, 'fare_class': 1.0, 'passenger_count': 1.0, 'Year': 2010.0, 'Month': 4.0, 'Day': 24.0, 'Hours': 22.0, 'Minutes': 50.0, 'mornight': 1.0, 'Total distance': 5.2204677719}, {'fare_amount': 6.9, 'fare_class': 0.0, 'passenger_count': 1.0, 'Year': 2010.0, 'Month': 4.0, 'Day': 14.0, 'Hours': 17.0, 'Minutes': 15.0, 'mornight': 1.0, 'Total distance': 2.8115155915}, {'fare_amount': 8.9, 'fare_class': 0.0, 'passenger_count': 1.0, 'Year': 2010.0, 'Month': 4.0, 'Day': 18.0, 'Hours': 17.0, 'Minutes': 24.0, 'mornight': 1.0, 'Total distance': 1.9242429051}, {'fare_amount': 6.9, 'fare_class': 0.0, 'passenger_count': 1.0, 'Year': 2010.0, 'Month': 4.0, 'Day': 22.0, 'Hours': 6.0, 'Minutes': 31.0, 'mornight': 0.0, 'Total distance': 1.0124350203}, {'fare_amount': 4.5, 'fare_class': 0.0, 'passenger_count': 1.0, 'Year': 2010.0, 'Month': 4.0, 'Day': 22.0, 'Hours': 15.0, 'Minutes': 28.0, 'mornight': 1.0, 'Total distance': 1.0580550614}, {'fare_amount': 23.47, 'fare_class': 1.0, 'passenger_count': 2.0, 'Year': 2010.0, 'Month': 4.0, 'Day': 14.0, 'Hours': 17.0, 'Minutes': 48.0, 'mornight': 1.0, 'Total distance': 6.0499424543}, {'fare_amount': 12.1, 'fare_class': 1.0, 'passenger_count': 1.0, 'Year': 2010.0, 'Month': 4.0, 'Day': 17.0, 'Hours': 21.0, 'Minutes': 51.0, 'mornight': 1.0, 'Total distance': 6.4646836087}, {'fare_amount': 8.1, 'fare_class': 0.0, 'passenger_count': 1.0, 'Year': 2010.0, 'Month': 4.0, 'Day': 23.0, 'Hours': 22.0, 'Minutes': 57.0, 'mornight': 1.0, 'Total distance': 2.346255706}, {'fare_amount': 10.5, 'fare_class': 1.0, 'passenger_count': 1.0, 'Year': 2010.0, 'Month': 4.0, 'Day': 24.0, 'Hours': 20.0, 'Minutes': 9.0, 'mornight': 1.0, 'Total distance': 3.1187991453}, {'fare_amount': 25.7, 'fare_class': 1.0, 'passenger_count': 1.0, 'Year': 2010.0, 'Month': 4.0, 'Day': 16.0, 'Hours': 8.0, 'Minutes': 7.0, 'mornight': 0.0, 'Total distance': 13.3362317909}, {'fare_amount': 9.7, 'fare_class': 0.0, 'passenger_count': 1.0, 'Year': 2010.0, 'Month': 4.0, 'Day': 12.0, 'Hours': 19.0, 'Minutes': 49.0, 'mornight': 1.0, 'Total distance': 2.6212377646}, {'fare_amount': 8.5, 'fare_class': 0.0, 'passenger_count': 1.0, 'Year': 2010.0, 'Month': 4.0, 'Day': 13.0, 'Hours': 2.0, 'Minutes': 58.0, 'mornight': 0.0, 'Total distance': 3.137497337}, {'fare_amount': 6.1, 'fare_class': 0.0, 'passenger_count': 1.0, 'Year': 2010.0, 'Month': 4.0, 'Day': 21.0, 'Hours': 14.0, 'Minutes': 31.0, 'mornight': 1.0, 'Total distance': 1.1371294444}, {'fare_amount': 5.3, 'fare_class': 0.0, 'passenger_count': 1.0, 'Year': 2010.0, 'Month': 4.0, 'Day': 12.0, 'Hours': 16.0, 'Minutes': 26.0, 'mornight': 1.0, 'Total distance': 0.8826741945}, {'fare_amount': 5.7, 'fare_class': 0.0, 'passenger_count': 1.0, 'Year': 2010.0, 'Month': 4.0, 'Day': 13.0, 'Hours': 13.0, 'Minutes': 44.0, 'mornight': 1.0, 'Total distance': 1.7492369706}, {'fare_amount': 11.3, 'fare_class': 1.0, 'passenger_count': 1.0, 'Year': 2010.0, 'Month': 4.0, 'Day': 18.0, 'Hours': 5.0, 'Minutes': 12.0, 'mornight': 0.0, 'Total distance': 5.5507534309}, {'fare_amount': 5.0, 'fare_class': 0.0, 'passenger_count': 1.0, 'Year': 2010.0, 'Month': 4.0, 'Day': 19.0, 'Hours': 21.0, 'Minutes': 42.0, 'mornight': 1.0, 'Total distance': 0.8179849147}, {'fare_amount': 5.3, 'fare_class': 0.0, 'passenger_count': 1.0, 'Year': 2010.0, 'Month': 4.0, 'Day': 16.0, 'Hours': 9.0, 'Minutes': 18.0, 'mornight': 0.0, 'Total distance': 0.9841321152}, {'fare_amount': 14.1, 'fare_class': 1.0, 'passenger_count': 3.0, 'Year': 2010.0, 'Month': 4.0, 'Day': 24.0, 'Hours': 7.0, 'Minutes': 39.0, 'mornight': 0.0, 'Total distance': 4.4443866845}, {'fare_amount': 6.9, 'fare_class': 0.0, 'passenger_count': 4.0, 'Year': 2010.0, 'Month': 4.0, 'Day': 23.0, 'Hours': 22.0, 'Minutes': 6.0, 'mornight': 1.0, 'Total distance': 3.0551768945}, {'fare_amount': 49.57, 'fare_class': 1.0, 'passenger_count': 2.0, 'Year': 2010.0, 'Month': 4.0, 'Day': 12.0, 'Hours': 13.0, 'Minutes': 6.0, 'mornight': 1.0, 'Total distance': 2.0242777674}, {'fare_amount': 12.5, 'fare_class': 1.0, 'passenger_count': 1.0, 'Year': 2010.0, 'Month': 4.0, 'Day': 23.0, 'Hours': 3.0, 'Minutes': 44.0, 'mornight': 0.0, 'Total distance': 4.4407983908}, {'fare_amount': 4.1, 'fare_class': 0.0, 'passenger_count': 1.0, 'Year': 2010.0, 'Month': 4.0, 'Day': 18.0, 'Hours': 10.0, 'Minutes': 38.0, 'mornight': 0.0, 'Total distance': 0.7085108615}, {'fare_amount': 6.1, 'fare_class': 0.0, 'passenger_count': 1.0, 'Year': 2010.0, 'Month': 4.0, 'Day': 19.0, 'Hours': 22.0, 'Minutes': 55.0, 'mornight': 1.0, 'Total distance': 1.6614067212}, {'fare_amount': 7.3, 'fare_class': 0.0, 'passenger_count': 1.0, 'Year': 2010.0, 'Month': 4.0, 'Day': 24.0, 'Hours': 17.0, 'Minutes': 12.0, 'mornight': 1.0, 'Total distance': 3.2443409551}, {'fare_amount': 14.5, 'fare_class': 1.0, 'passenger_count': 1.0, 'Year': 2010.0, 'Month': 4.0, 'Day': 18.0, 'Hours': 12.0, 'Minutes': 18.0, 'mornight': 1.0, 'Total distance': 3.5196462642}, {'fare_amount': 4.9, 'fare_class': 0.0, 'passenger_count': 2.0, 'Year': 2010.0, 'Month': 4.0, 'Day': 15.0, 'Hours': 15.0, 'Minutes': 29.0, 'mornight': 1.0, 'Total distance': 1.6238075311}, {'fare_amount': 6.1, 'fare_class': 0.0, 'passenger_count': 1.0, 'Year': 2010.0, 'Month': 4.0, 'Day': 23.0, 'Hours': 17.0, 'Minutes': 15.0, 'mornight': 1.0, 'Total distance': 1.9993062693}, {'fare_amount': 6.9, 'fare_class': 0.0, 'passenger_count': 1.0, 'Year': 2010.0, 'Month': 4.0, 'Day': 14.0, 'Hours': 11.0, 'Minutes': 25.0, 'mornight': 0.0, 'Total distance': 1.3084352524}, {'fare_amount': 7.3, 'fare_class': 0.0, 'passenger_count': 1.0, 'Year': 2010.0, 'Month': 4.0, 'Day': 18.0, 'Hours': 16.0, 'Minutes': 36.0, 'mornight': 1.0, 'Total distance': 2.7232043566}, {'fare_amount': 5.7, 'fare_class': 0.0, 'passenger_count': 2.0, 'Year': 2010.0, 'Month': 4.0, 'Day': 13.0, 'Hours': 3.0, 'Minutes': 54.0, 'mornight': 0.0, 'Total distance': 0.9982777937}, {'fare_amount': 13.7, 'fare_class': 1.0, 'passenger_count': 1.0, 'Year': 2010.0, 'Month': 4.0, 'Day': 11.0, 'Hours': 0.0, 'Minutes': 18.0, 'mornight': 0.0, 'Total distance': 4.9514263244}, {'fare_amount': 6.5, 'fare_class': 0.0, 'passenger_count': 1.0, 'Year': 2010.0, 'Month': 4.0, 'Day': 17.0, 'Hours': 20.0, 'Minutes': 13.0, 'mornight': 1.0, 'Total distance': 1.7995378848}, {'fare_amount': 8.9, 'fare_class': 0.0, 'passenger_count': 1.0, 'Year': 2010.0, 'Month': 4.0, 'Day': 23.0, 'Hours': 4.0, 'Minutes': 58.0, 'mornight': 0.0, 'Total distance': 2.6524193807}, {'fare_amount': 16.9, 'fare_class': 1.0, 'passenger_count': 1.0, 'Year': 2010.0, 'Month': 4.0, 'Day': 22.0, 'Hours': 3.0, 'Minutes': 5.0, 'mornight': 0.0, 'Total distance': 7.153270227}, {'fare_amount': 10.1, 'fare_class': 1.0, 'passenger_count': 1.0, 'Year': 2010.0, 'Month': 4.0, 'Day': 16.0, 'Hours': 17.0, 'Minutes': 0.0, 'mornight': 1.0, 'Total distance': 2.5794448395}, {'fare_amount': 49.57, 'fare_class': 1.0, 'passenger_count': 3.0, 'Year': 2010.0, 'Month': 4.0, 'Day': 13.0, 'Hours': 1.0, 'Minutes': 39.0, 'mornight': 0.0, 'Total distance': 21.2186766516}, {'fare_amount': 11.3, 'fare_class': 1.0, 'passenger_count': 1.0, 'Year': 2010.0, 'Month': 4.0, 'Day': 24.0, 'Hours': 6.0, 'Minutes': 26.0, 'mornight': 0.0, 'Total distance': 4.6501612853}, {'fare_amount': 10.1, 'fare_class': 1.0, 'passenger_count': 2.0, 'Year': 2010.0, 'Month': 4.0, 'Day': 16.0, 'Hours': 11.0, 'Minutes': 0.0, 'mornight': 0.0, 'Total distance': 2.1412816009}, {'fare_amount': 7.7, 'fare_class': 0.0, 'passenger_count': 1.0, 'Year': 2010.0, 'Month': 4.0, 'Day': 14.0, 'Hours': 20.0, 'Minutes': 4.0, 'mornight': 1.0, 'Total distance': 1.225349724}, {'fare_amount': 2.9, 'fare_class': 0.0, 'passenger_count': 1.0, 'Year': 2010.0, 'Month': 4.0, 'Day': 14.0, 'Hours': 21.0, 'Minutes': 40.0, 'mornight': 1.0, 'Total distance': 0.1371069791}, {'fare_amount': 15.3, 'fare_class': 1.0, 'passenger_count': 1.0, 'Year': 2010.0, 'Month': 4.0, 'Day': 24.0, 'Hours': 19.0, 'Minutes': 24.0, 'mornight': 1.0, 'Total distance': 5.040687971}, {'fare_amount': 6.1, 'fare_class': 0.0, 'passenger_count': 1.0, 'Year': 2010.0, 'Month': 4.0, 'Day': 22.0, 'Hours': 12.0, 'Minutes': 51.0, 'mornight': 1.0, 'Total distance': 1.9508345392}, {'fare_amount': 11.7, 'fare_class': 1.0, 'passenger_count': 1.0, 'Year': 2010.0, 'Month': 4.0, 'Day': 18.0, 'Hours': 2.0, 'Minutes': 25.0, 'mornight': 0.0, 'Total distance': 4.2056198098}, {'fare_amount': 11.7, 'fare_class': 1.0, 'passenger_count': 1.0, 'Year': 2010.0, 'Month': 4.0, 'Day': 14.0, 'Hours': 13.0, 'Minutes': 57.0, 'mornight': 1.0, 'Total distance': 2.6672741842}, {'fare_amount': 11.3, 'fare_class': 1.0, 'passenger_count': 1.0, 'Year': 2010.0, 'Month': 4.0, 'Day': 20.0, 'Hours': 12.0, 'Minutes': 3.0, 'mornight': 1.0, 'Total distance': 2.4001357351}, {'fare_amount': 7.7, 'fare_class': 0.0, 'passenger_count': 2.0, 'Year': 2010.0, 'Month': 4.0, 'Day': 23.0, 'Hours': 14.0, 'Minutes': 52.0, 'mornight': 1.0, 'Total distance': 0.9575604717}, {'fare_amount': 5.3, 'fare_class': 0.0, 'passenger_count': 1.0, 'Year': 2010.0, 'Month': 4.0, 'Day': 24.0, 'Hours': 17.0, 'Minutes': 35.0, 'mornight': 1.0, 'Total distance': 1.4767760757}, {'fare_amount': 6.9, 'fare_class': 0.0, 'passenger_count': 1.0, 'Year': 2010.0, 'Month': 4.0, 'Day': 17.0, 'Hours': 6.0, 'Minutes': 49.0, 'mornight': 0.0, 'Total distance': 1.453052423}, {'fare_amount': 10.1, 'fare_class': 1.0, 'passenger_count': 1.0, 'Year': 2010.0, 'Month': 4.0, 'Day': 24.0, 'Hours': 20.0, 'Minutes': 11.0, 'mornight': 1.0, 'Total distance': 3.32008188}, {'fare_amount': 7.7, 'fare_class': 0.0, 'passenger_count': 1.0, 'Year': 2010.0, 'Month': 4.0, 'Day': 24.0, 'Hours': 9.0, 'Minutes': 0.0, 'mornight': 0.0, 'Total distance': 3.116359612}, {'fare_amount': 7.3, 'fare_class': 0.0, 'passenger_count': 1.0, 'Year': 2010.0, 'Month': 4.0, 'Day': 18.0, 'Hours': 12.0, 'Minutes': 33.0, 'mornight': 1.0, 'Total distance': 2.3430641454}, {'fare_amount': 5.7, 'fare_class': 0.0, 'passenger_count': 1.0, 'Year': 2010.0, 'Month': 4.0, 'Day': 18.0, 'Hours': 4.0, 'Minutes': 51.0, 'mornight': 0.0, 'Total distance': 1.6565560374}, {'fare_amount': 11.3, 'fare_class': 1.0, 'passenger_count': 1.0, 'Year': 2010.0, 'Month': 4.0, 'Day': 19.0, 'Hours': 6.0, 'Minutes': 5.0, 'mornight': 0.0, 'Total distance': 5.0211889385}, {'fare_amount': 8.5, 'fare_class': 0.0, 'passenger_count': 1.0, 'Year': 2010.0, 'Month': 4.0, 'Day': 23.0, 'Hours': 2.0, 'Minutes': 46.0, 'mornight': 0.0, 'Total distance': 3.8451984466}, {'fare_amount': 12.5, 'fare_class': 1.0, 'passenger_count': 3.0, 'Year': 2010.0, 'Month': 4.0, 'Day': 22.0, 'Hours': 16.0, 'Minutes': 45.0, 'mornight': 1.0, 'Total distance': 4.0421032531}, {'fare_amount': 4.5, 'fare_class': 0.0, 'passenger_count': 1.0, 'Year': 2010.0, 'Month': 4.0, 'Day': 14.0, 'Hours': 7.0, 'Minutes': 31.0, 'mornight': 0.0, 'Total distance': 0.8033062553}, {'fare_amount': 5.3, 'fare_class': 0.0, 'passenger_count': 2.0, 'Year': 2010.0, 'Month': 4.0, 'Day': 16.0, 'Hours': 22.0, 'Minutes': 29.0, 'mornight': 1.0, 'Total distance': 1.1452248366}, {'fare_amount': 5.7, 'fare_class': 0.0, 'passenger_count': 1.0, 'Year': 2010.0, 'Month': 4.0, 'Day': 16.0, 'Hours': 11.0, 'Minutes': 8.0, 'mornight': 0.0, 'Total distance': 0.9085867513}, {'fare_amount': 7.3, 'fare_class': 0.0, 'passenger_count': 2.0, 'Year': 2010.0, 'Month': 4.0, 'Day': 13.0, 'Hours': 5.0, 'Minutes': 44.0, 'mornight': 0.0, 'Total distance': 0.1824249809}, {'fare_amount': 6.9, 'fare_class': 0.0, 'passenger_count': 5.0, 'Year': 2010.0, 'Month': 4.0, 'Day': 12.0, 'Hours': 18.0, 'Minutes': 0.0, 'mornight': 1.0, 'Total distance': 1.5362930507}, {'fare_amount': 5.3, 'fare_class': 0.0, 'passenger_count': 1.0, 'Year': 2010.0, 'Month': 4.0, 'Day': 16.0, 'Hours': 22.0, 'Minutes': 3.0, 'mornight': 1.0, 'Total distance': 0.871363209}, {'fare_amount': 6.1, 'fare_class': 0.0, 'passenger_count': 1.0, 'Year': 2010.0, 'Month': 4.0, 'Day': 18.0, 'Hours': 18.0, 'Minutes': 28.0, 'mornight': 1.0, 'Total distance': 1.1749992135}, {'fare_amount': 8.5, 'fare_class': 0.0, 'passenger_count': 1.0, 'Year': 2010.0, 'Month': 4.0, 'Day': 18.0, 'Hours': 16.0, 'Minutes': 0.0, 'mornight': 1.0, 'Total distance': 1.9377523921}, {'fare_amount': 7.7, 'fare_class': 0.0, 'passenger_count': 1.0, 'Year': 2010.0, 'Month': 4.0, 'Day': 23.0, 'Hours': 20.0, 'Minutes': 35.0, 'mornight': 1.0, 'Total distance': 2.3424904231}, {'fare_amount': 11.3, 'fare_class': 1.0, 'passenger_count': 1.0, 'Year': 2010.0, 'Month': 4.0, 'Day': 23.0, 'Hours': 0.0, 'Minutes': 3.0, 'mornight': 0.0, 'Total distance': 5.0396204075}, {'fare_amount': 17.3, 'fare_class': 1.0, 'passenger_count': 1.0, 'Year': 2010.0, 'Month': 4.0, 'Day': 16.0, 'Hours': 6.0, 'Minutes': 58.0, 'mornight': 0.0, 'Total distance': 9.6441959232}, {'fare_amount': 5.7, 'fare_class': 0.0, 'passenger_count': 2.0, 'Year': 2010.0, 'Month': 4.0, 'Day': 20.0, 'Hours': 8.0, 'Minutes': 1.0, 'mornight': 0.0, 'Total distance': 0.9164333565}, {'fare_amount': 17.7, 'fare_class': 1.0, 'passenger_count': 1.0, 'Year': 2010.0, 'Month': 4.0, 'Day': 13.0, 'Hours': 4.0, 'Minutes': 12.0, 'mornight': 0.0, 'Total distance': 5.5674400162}, {'fare_amount': 10.1, 'fare_class': 1.0, 'passenger_count': 1.0, 'Year': 2010.0, 'Month': 4.0, 'Day': 12.0, 'Hours': 11.0, 'Minutes': 13.0, 'mornight': 0.0, 'Total distance': 3.8578490161}, {'fare_amount': 4.9, 'fare_class': 0.0, 'passenger_count': 1.0, 'Year': 2010.0, 'Month': 4.0, 'Day': 11.0, 'Hours': 20.0, 'Minutes': 29.0, 'mornight': 1.0, 'Total distance': 1.1027084523}, {'fare_amount': 8.1, 'fare_class': 0.0, 'passenger_count': 1.0, 'Year': 2010.0, 'Month': 4.0, 'Day': 19.0, 'Hours': 20.0, 'Minutes': 32.0, 'mornight': 1.0, 'Total distance': 3.3633702842}, {'fare_amount': 45.0, 'fare_class': 1.0, 'passenger_count': 1.0, 'Year': 2010.0, 'Month': 4.0, 'Day': 18.0, 'Hours': 18.0, 'Minutes': 51.0, 'mornight': 1.0, 'Total distance': 22.6273331184}, {'fare_amount': 6.9, 'fare_class': 0.0, 'passenger_count': 1.0, 'Year': 2010.0, 'Month': 4.0, 'Day': 22.0, 'Hours': 16.0, 'Minutes': 16.0, 'mornight': 1.0, 'Total distance': 1.0988926578}, {'fare_amount': 6.9, 'fare_class': 0.0, 'passenger_count': 1.0, 'Year': 2010.0, 'Month': 4.0, 'Day': 24.0, 'Hours': 16.0, 'Minutes': 0.0, 'mornight': 1.0, 'Total distance': 1.0761297674}, {'fare_amount': 28.5, 'fare_class': 1.0, 'passenger_count': 1.0, 'Year': 2010.0, 'Month': 4.0, 'Day': 14.0, 'Hours': 20.0, 'Minutes': 41.0, 'mornight': 1.0, 'Total distance': 10.9171109326}, {'fare_amount': 8.9, 'fare_class': 0.0, 'passenger_count': 1.0, 'Year': 2010.0, 'Month': 4.0, 'Day': 13.0, 'Hours': 17.0, 'Minutes': 34.0, 'mornight': 1.0, 'Total distance': 3.982613217}, {'fare_amount': 40.4, 'fare_class': 1.0, 'passenger_count': 1.0, 'Year': 2010.0, 'Month': 4.0, 'Day': 23.0, 'Hours': 8.0, 'Minutes': 6.0, 'mornight': 0.0, 'Total distance': 2.4988381389}, {'fare_amount': 5.7, 'fare_class': 0.0, 'passenger_count': 5.0, 'Year': 2010.0, 'Month': 4.0, 'Day': 13.0, 'Hours': 3.0, 'Minutes': 49.0, 'mornight': 0.0, 'Total distance': 1.4039895446}, {'fare_amount': 8.9, 'fare_class': 0.0, 'passenger_count': 1.0, 'Year': 2010.0, 'Month': 4.0, 'Day': 20.0, 'Hours': 3.0, 'Minutes': 57.0, 'mornight': 0.0, 'Total distance': 3.1292130549}, {'fare_amount': 6.9, 'fare_class': 0.0, 'passenger_count': 2.0, 'Year': 2010.0, 'Month': 4.0, 'Day': 12.0, 'Hours': 3.0, 'Minutes': 35.0, 'mornight': 0.0, 'Total distance': 1.2734537084}, {'fare_amount': 6.1, 'fare_class': 0.0, 'passenger_count': 2.0, 'Year': 2010.0, 'Month': 4.0, 'Day': 16.0, 'Hours': 5.0, 'Minutes': 1.0, 'mornight': 0.0, 'Total distance': 1.5403670993}, {'fare_amount': 6.9, 'fare_class': 0.0, 'passenger_count': 2.0, 'Year': 2010.0, 'Month': 4.0, 'Day': 16.0, 'Hours': 19.0, 'Minutes': 28.0, 'mornight': 1.0, 'Total distance': 2.6006908517}, {'fare_amount': 7.7, 'fare_class': 0.0, 'passenger_count': 1.0, 'Year': 2010.0, 'Month': 4.0, 'Day': 16.0, 'Hours': 6.0, 'Minutes': 54.0, 'mornight': 0.0, 'Total distance': 1.8213878408}, {'fare_amount': 7.3, 'fare_class': 0.0, 'passenger_count': 1.0, 'Year': 2010.0, 'Month': 4.0, 'Day': 13.0, 'Hours': 4.0, 'Minutes': 52.0, 'mornight': 0.0, 'Total distance': 2.1728626175}, {'fare_amount': 15.7, 'fare_class': 1.0, 'passenger_count': 1.0, 'Year': 2010.0, 'Month': 4.0, 'Day': 23.0, 'Hours': 6.0, 'Minutes': 15.0, 'mornight': 0.0, 'Total distance': 6.2076820319}, {'fare_amount': 6.1, 'fare_class': 0.0, 'passenger_count': 1.0, 'Year': 2010.0, 'Month': 4.0, 'Day': 12.0, 'Hours': 11.0, 'Minutes': 53.0, 'mornight': 0.0, 'Total distance': 1.4198923361}, {'fare_amount': 6.5, 'fare_class': 0.0, 'passenger_count': 1.0, 'Year': 2010.0, 'Month': 4.0, 'Day': 15.0, 'Hours': 4.0, 'Minutes': 14.0, 'mornight': 0.0, 'Total distance': 2.2444941609}, {'fare_amount': 8.9, 'fare_class': 0.0, 'passenger_count': 2.0, 'Year': 2010.0, 'Month': 4.0, 'Day': 20.0, 'Hours': 17.0, 'Minutes': 1.0, 'mornight': 1.0, 'Total distance': 2.3654501418}, {'fare_amount': 10.5, 'fare_class': 1.0, 'passenger_count': 1.0, 'Year': 2010.0, 'Month': 4.0, 'Day': 19.0, 'Hours': 7.0, 'Minutes': 51.0, 'mornight': 0.0, 'Total distance': 2.3711914092}, {'fare_amount': 7.3, 'fare_class': 0.0, 'passenger_count': 2.0, 'Year': 2010.0, 'Month': 4.0, 'Day': 22.0, 'Hours': 15.0, 'Minutes': 0.0, 'mornight': 1.0, 'Total distance': 1.2726198934}, {'fare_amount': 46.5, 'fare_class': 1.0, 'passenger_count': 2.0, 'Year': 2010.0, 'Month': 4.0, 'Day': 20.0, 'Hours': 9.0, 'Minutes': 27.0, 'mornight': 0.0, 'Total distance': 15.2731216549}, {'fare_amount': 27.47, 'fare_class': 1.0, 'passenger_count': 1.0, 'Year': 2010.0, 'Month': 4.0, 'Day': 20.0, 'Hours': 15.0, 'Minutes': 33.0, 'mornight': 1.0, 'Total distance': 10.1319048288}, {'fare_amount': 19.7, 'fare_class': 1.0, 'passenger_count': 2.0, 'Year': 2010.0, 'Month': 4.0, 'Day': 19.0, 'Hours': 17.0, 'Minutes': 8.0, 'mornight': 1.0, 'Total distance': 5.1088909398}, {'fare_amount': 10.9, 'fare_class': 1.0, 'passenger_count': 1.0, 'Year': 2010.0, 'Month': 4.0, 'Day': 16.0, 'Hours': 11.0, 'Minutes': 8.0, 'mornight': 0.0, 'Total distance': 2.5094162032}, {'fare_amount': 7.3, 'fare_class': 0.0, 'passenger_count': 1.0, 'Year': 2010.0, 'Month': 4.0, 'Day': 18.0, 'Hours': 3.0, 'Minutes': 53.0, 'mornight': 0.0, 'Total distance': 3.8421676556}, {'fare_amount': 24.5, 'fare_class': 1.0, 'passenger_count': 1.0, 'Year': 2010.0, 'Month': 4.0, 'Day': 18.0, 'Hours': 8.0, 'Minutes': 37.0, 'mornight': 0.0, 'Total distance': 8.6041380885}, {'fare_amount': 26.5, 'fare_class': 1.0, 'passenger_count': 1.0, 'Year': 2010.0, 'Month': 4.0, 'Day': 11.0, 'Hours': 12.0, 'Minutes': 44.0, 'mornight': 1.0, 'Total distance': 9.4973250752}, {'fare_amount': 11.3, 'fare_class': 1.0, 'passenger_count': 1.0, 'Year': 2010.0, 'Month': 4.0, 'Day': 15.0, 'Hours': 11.0, 'Minutes': 26.0, 'mornight': 0.0, 'Total distance': 3.7133698765}, {'fare_amount': 5.7, 'fare_class': 0.0, 'passenger_count': 1.0, 'Year': 2010.0, 'Month': 4.0, 'Day': 23.0, 'Hours': 10.0, 'Minutes': 42.0, 'mornight': 0.0, 'Total distance': 1.6616768427}, {'fare_amount': 16.9, 'fare_class': 1.0, 'passenger_count': 1.0, 'Year': 2010.0, 'Month': 4.0, 'Day': 18.0, 'Hours': 21.0, 'Minutes': 9.0, 'mornight': 1.0, 'Total distance': 8.0977058112}, {'fare_amount': 4.5, 'fare_class': 0.0, 'passenger_count': 1.0, 'Year': 2010.0, 'Month': 4.0, 'Day': 22.0, 'Hours': 15.0, 'Minutes': 37.0, 'mornight': 1.0, 'Total distance': 1.5690016432}, {'fare_amount': 3.7, 'fare_class': 0.0, 'passenger_count': 1.0, 'Year': 2010.0, 'Month': 4.0, 'Day': 14.0, 'Hours': 1.0, 'Minutes': 39.0, 'mornight': 0.0, 'Total distance': 0.7351662575}, {'fare_amount': 6.9, 'fare_class': 0.0, 'passenger_count': 5.0, 'Year': 2010.0, 'Month': 4.0, 'Day': 20.0, 'Hours': 8.0, 'Minutes': 16.0, 'mornight': 0.0, 'Total distance': 1.8376173102}, {'fare_amount': 12.9, 'fare_class': 1.0, 'passenger_count': 2.0, 'Year': 2010.0, 'Month': 4.0, 'Day': 17.0, 'Hours': 16.0, 'Minutes': 10.0, 'mornight': 1.0, 'Total distance': 3.4761562424}, {'fare_amount': 4.1, 'fare_class': 0.0, 'passenger_count': 2.0, 'Year': 2010.0, 'Month': 4.0, 'Day': 24.0, 'Hours': 13.0, 'Minutes': 2.0, 'mornight': 1.0, 'Total distance': 1.311212112}, {'fare_amount': 8.5, 'fare_class': 0.0, 'passenger_count': 1.0, 'Year': 2010.0, 'Month': 4.0, 'Day': 23.0, 'Hours': 16.0, 'Minutes': 52.0, 'mornight': 1.0, 'Total distance': 3.4978445512}, {'fare_amount': 4.5, 'fare_class': 0.0, 'passenger_count': 1.0, 'Year': 2010.0, 'Month': 4.0, 'Day': 22.0, 'Hours': 4.0, 'Minutes': 26.0, 'mornight': 0.0, 'Total distance': 0.3243868783}, {'fare_amount': 4.1, 'fare_class': 0.0, 'passenger_count': 1.0, 'Year': 2010.0, 'Month': 4.0, 'Day': 14.0, 'Hours': 12.0, 'Minutes': 8.0, 'mornight': 1.0, 'Total distance': 1.0986733025}, {'fare_amount': 10.9, 'fare_class': 1.0, 'passenger_count': 1.0, 'Year': 2010.0, 'Month': 4.0, 'Day': 24.0, 'Hours': 16.0, 'Minutes': 53.0, 'mornight': 1.0, 'Total distance': 3.9910835559}, {'fare_amount': 3.7, 'fare_class': 0.0, 'passenger_count': 1.0, 'Year': 2010.0, 'Month': 4.0, 'Day': 22.0, 'Hours': 23.0, 'Minutes': 8.0, 'mornight': 1.0, 'Total distance': 0.5538141306}, {'fare_amount': 5.7, 'fare_class': 0.0, 'passenger_count': 3.0, 'Year': 2010.0, 'Month': 4.0, 'Day': 18.0, 'Hours': 15.0, 'Minutes': 12.0, 'mornight': 1.0, 'Total distance': 2.5034932833}, {'fare_amount': 6.9, 'fare_class': 0.0, 'passenger_count': 1.0, 'Year': 2010.0, 'Month': 4.0, 'Day': 19.0, 'Hours': 20.0, 'Minutes': 42.0, 'mornight': 1.0, 'Total distance': 2.3971846483}, {'fare_amount': 5.3, 'fare_class': 0.0, 'passenger_count': 1.0, 'Year': 2010.0, 'Month': 4.0, 'Day': 20.0, 'Hours': 16.0, 'Minutes': 36.0, 'mornight': 1.0, 'Total distance': 1.2702051365}, {'fare_amount': 2.5, 'fare_class': 0.0, 'passenger_count': 1.0, 'Year': 2010.0, 'Month': 4.0, 'Day': 16.0, 'Hours': 10.0, 'Minutes': 12.0, 'mornight': 0.0, 'Total distance': 0.0514630991}, {'fare_amount': 15.7, 'fare_class': 1.0, 'passenger_count': 1.0, 'Year': 2010.0, 'Month': 4.0, 'Day': 11.0, 'Hours': 11.0, 'Minutes': 0.0, 'mornight': 0.0, 'Total distance': 8.3875651665}, {'fare_amount': 6.5, 'fare_class': 0.0, 'passenger_count': 1.0, 'Year': 2010.0, 'Month': 4.0, 'Day': 17.0, 'Hours': 17.0, 'Minutes': 49.0, 'mornight': 1.0, 'Total distance': 1.4060468651}, {'fare_amount': 2.9, 'fare_class': 0.0, 'passenger_count': 1.0, 'Year': 2010.0, 'Month': 4.0, 'Day': 12.0, 'Hours': 21.0, 'Minutes': 29.0, 'mornight': 1.0, 'Total distance': 0.4488229262}, {'fare_amount': 6.1, 'fare_class': 0.0, 'passenger_count': 1.0, 'Year': 2010.0, 'Month': 4.0, 'Day': 20.0, 'Hours': 2.0, 'Minutes': 25.0, 'mornight': 0.0, 'Total distance': 1.5354106625}, {'fare_amount': 45.0, 'fare_class': 1.0, 'passenger_count': 1.0, 'Year': 2010.0, 'Month': 4.0, 'Day': 23.0, 'Hours': 5.0, 'Minutes': 18.0, 'mornight': 0.0, 'Total distance': 19.8779325963}, {'fare_amount': 5.3, 'fare_class': 0.0, 'passenger_count': 1.0, 'Year': 2010.0, 'Month': 4.0, 'Day': 14.0, 'Hours': 16.0, 'Minutes': 29.0, 'mornight': 1.0, 'Total distance': 2.340167768}, {'fare_amount': 8.9, 'fare_class': 0.0, 'passenger_count': 1.0, 'Year': 2010.0, 'Month': 4.0, 'Day': 13.0, 'Hours': 19.0, 'Minutes': 2.0, 'mornight': 1.0, 'Total distance': 3.0800132366}, {'fare_amount': 3.7, 'fare_class': 0.0, 'passenger_count': 1.0, 'Year': 2010.0, 'Month': 4.0, 'Day': 22.0, 'Hours': 13.0, 'Minutes': 47.0, 'mornight': 1.0, 'Total distance': 0.8632280165}, {'fare_amount': 11.7, 'fare_class': 1.0, 'passenger_count': 2.0, 'Year': 2010.0, 'Month': 4.0, 'Day': 21.0, 'Hours': 16.0, 'Minutes': 11.0, 'mornight': 1.0, 'Total distance': 2.9364627996}, {'fare_amount': 10.1, 'fare_class': 1.0, 'passenger_count': 2.0, 'Year': 2010.0, 'Month': 4.0, 'Day': 13.0, 'Hours': 0.0, 'Minutes': 19.0, 'mornight': 0.0, 'Total distance': 2.8527458079}, {'fare_amount': 25.3, 'fare_class': 1.0, 'passenger_count': 1.0, 'Year': 2010.0, 'Month': 4.0, 'Day': 19.0, 'Hours': 17.0, 'Minutes': 43.0, 'mornight': 1.0, 'Total distance': 14.1879829642}, {'fare_amount': 5.7, 'fare_class': 0.0, 'passenger_count': 1.0, 'Year': 2010.0, 'Month': 4.0, 'Day': 13.0, 'Hours': 2.0, 'Minutes': 59.0, 'mornight': 0.0, 'Total distance': 1.1504757394}, {'fare_amount': 15.7, 'fare_class': 1.0, 'passenger_count': 1.0, 'Year': 2010.0, 'Month': 4.0, 'Day': 11.0, 'Hours': 13.0, 'Minutes': 28.0, 'mornight': 1.0, 'Total distance': 1.5175845819}, {'fare_amount': 5.3, 'fare_class': 0.0, 'passenger_count': 1.0, 'Year': 2010.0, 'Month': 4.0, 'Day': 15.0, 'Hours': 13.0, 'Minutes': 53.0, 'mornight': 1.0, 'Total distance': 1.6048666903}, {'fare_amount': 8.1, 'fare_class': 0.0, 'passenger_count': 2.0, 'Year': 2010.0, 'Month': 4.0, 'Day': 20.0, 'Hours': 4.0, 'Minutes': 44.0, 'mornight': 0.0, 'Total distance': 2.051465131}, {'fare_amount': 9.3, 'fare_class': 0.0, 'passenger_count': 2.0, 'Year': 2010.0, 'Month': 4.0, 'Day': 13.0, 'Hours': 20.0, 'Minutes': 20.0, 'mornight': 1.0, 'Total distance': 3.2208173175}, {'fare_amount': 6.9, 'fare_class': 0.0, 'passenger_count': 1.0, 'Year': 2010.0, 'Month': 4.0, 'Day': 11.0, 'Hours': 8.0, 'Minutes': 26.0, 'mornight': 0.0, 'Total distance': 1.503295196}, {'fare_amount': 8.1, 'fare_class': 0.0, 'passenger_count': 1.0, 'Year': 2010.0, 'Month': 4.0, 'Day': 22.0, 'Hours': 10.0, 'Minutes': 46.0, 'mornight': 0.0, 'Total distance': 1.9032844044}, {'fare_amount': 10.1, 'fare_class': 1.0, 'passenger_count': 1.0, 'Year': 2010.0, 'Month': 4.0, 'Day': 24.0, 'Hours': 14.0, 'Minutes': 36.0, 'mornight': 1.0, 'Total distance': 3.936518605}, {'fare_amount': 6.1, 'fare_class': 0.0, 'passenger_count': 3.0, 'Year': 2010.0, 'Month': 4.0, 'Day': 14.0, 'Hours': 3.0, 'Minutes': 36.0, 'mornight': 0.0, 'Total distance': 2.0227815631}, {'fare_amount': 9.3, 'fare_class': 0.0, 'passenger_count': 1.0, 'Year': 2010.0, 'Month': 4.0, 'Day': 18.0, 'Hours': 10.0, 'Minutes': 7.0, 'mornight': 0.0, 'Total distance': 1.9725407296}, {'fare_amount': 11.3, 'fare_class': 1.0, 'passenger_count': 1.0, 'Year': 2010.0, 'Month': 4.0, 'Day': 21.0, 'Hours': 4.0, 'Minutes': 14.0, 'mornight': 0.0, 'Total distance': 4.8423086489}, {'fare_amount': 3.7, 'fare_class': 0.0, 'passenger_count': 1.0, 'Year': 2010.0, 'Month': 4.0, 'Day': 24.0, 'Hours': 20.0, 'Minutes': 24.0, 'mornight': 1.0, 'Total distance': 0.9814441533}, {'fare_amount': 7.7, 'fare_class': 0.0, 'passenger_count': 1.0, 'Year': 2010.0, 'Month': 4.0, 'Day': 22.0, 'Hours': 2.0, 'Minutes': 48.0, 'mornight': 0.0, 'Total distance': 3.317413648}, {'fare_amount': 7.7, 'fare_class': 0.0, 'passenger_count': 1.0, 'Year': 2010.0, 'Month': 4.0, 'Day': 20.0, 'Hours': 18.0, 'Minutes': 4.0, 'mornight': 1.0, 'Total distance': 2.1209034924}, {'fare_amount': 4.9, 'fare_class': 0.0, 'passenger_count': 1.0, 'Year': 2010.0, 'Month': 4.0, 'Day': 20.0, 'Hours': 15.0, 'Minutes': 46.0, 'mornight': 1.0, 'Total distance': 1.1883454321}, {'fare_amount': 4.5, 'fare_class': 0.0, 'passenger_count': 1.0, 'Year': 2010.0, 'Month': 4.0, 'Day': 23.0, 'Hours': 15.0, 'Minutes': 19.0, 'mornight': 1.0, 'Total distance': 1.4015772702}, {'fare_amount': 3.7, 'fare_class': 0.0, 'passenger_count': 1.0, 'Year': 2010.0, 'Month': 4.0, 'Day': 15.0, 'Hours': 4.0, 'Minutes': 43.0, 'mornight': 0.0, 'Total distance': 0.4140935537}, {'fare_amount': 5.7, 'fare_class': 0.0, 'passenger_count': 3.0, 'Year': 2010.0, 'Month': 4.0, 'Day': 20.0, 'Hours': 13.0, 'Minutes': 30.0, 'mornight': 1.0, 'Total distance': 1.7502885487}, {'fare_amount': 12.5, 'fare_class': 1.0, 'passenger_count': 1.0, 'Year': 2010.0, 'Month': 4.0, 'Day': 11.0, 'Hours': 19.0, 'Minutes': 19.0, 'mornight': 1.0, 'Total distance': 4.9052791207}, {'fare_amount': 4.1, 'fare_class': 0.0, 'passenger_count': 1.0, 'Year': 2010.0, 'Month': 4.0, 'Day': 22.0, 'Hours': 10.0, 'Minutes': 26.0, 'mornight': 0.0, 'Total distance': 0.9313134827}, {'fare_amount': 9.7, 'fare_class': 0.0, 'passenger_count': 1.0, 'Year': 2010.0, 'Month': 4.0, 'Day': 11.0, 'Hours': 10.0, 'Minutes': 29.0, 'mornight': 0.0, 'Total distance': 2.7506957487}, {'fare_amount': 12.5, 'fare_class': 1.0, 'passenger_count': 3.0, 'Year': 2010.0, 'Month': 4.0, 'Day': 23.0, 'Hours': 15.0, 'Minutes': 38.0, 'mornight': 1.0, 'Total distance': 4.3798987934}, {'fare_amount': 6.9, 'fare_class': 0.0, 'passenger_count': 1.0, 'Year': 2010.0, 'Month': 4.0, 'Day': 16.0, 'Hours': 14.0, 'Minutes': 24.0, 'mornight': 1.0, 'Total distance': 2.0173043883}, {'fare_amount': 8.1, 'fare_class': 0.0, 'passenger_count': 1.0, 'Year': 2010.0, 'Month': 4.0, 'Day': 16.0, 'Hours': 22.0, 'Minutes': 18.0, 'mornight': 1.0, 'Total distance': 3.939292491}, {'fare_amount': 6.1, 'fare_class': 0.0, 'passenger_count': 2.0, 'Year': 2010.0, 'Month': 4.0, 'Day': 13.0, 'Hours': 17.0, 'Minutes': 4.0, 'mornight': 1.0, 'Total distance': 2.20560997}, {'fare_amount': 6.9, 'fare_class': 0.0, 'passenger_count': 1.0, 'Year': 2010.0, 'Month': 4.0, 'Day': 22.0, 'Hours': 9.0, 'Minutes': 55.0, 'mornight': 0.0, 'Total distance': 1.5990346201}, {'fare_amount': 32.67, 'fare_class': 1.0, 'passenger_count': 5.0, 'Year': 2010.0, 'Month': 4.0, 'Day': 22.0, 'Hours': 10.0, 'Minutes': 15.0, 'mornight': 0.0, 'Total distance': 9.2141251232}, {'fare_amount': 5.3, 'fare_class': 0.0, 'passenger_count': 1.0, 'Year': 2010.0, 'Month': 4.0, 'Day': 14.0, 'Hours': 18.0, 'Minutes': 6.0, 'mornight': 1.0, 'Total distance': 1.453939849}, {'fare_amount': 4.9, 'fare_class': 0.0, 'passenger_count': 2.0, 'Year': 2010.0, 'Month': 4.0, 'Day': 14.0, 'Hours': 12.0, 'Minutes': 59.0, 'mornight': 1.0, 'Total distance': 1.474541785}, {'fare_amount': 15.3, 'fare_class': 1.0, 'passenger_count': 1.0, 'Year': 2010.0, 'Month': 4.0, 'Day': 20.0, 'Hours': 1.0, 'Minutes': 24.0, 'mornight': 0.0, 'Total distance': 6.3912911042}, {'fare_amount': 25.7, 'fare_class': 1.0, 'passenger_count': 1.0, 'Year': 2010.0, 'Month': 4.0, 'Day': 21.0, 'Hours': 10.0, 'Minutes': 30.0, 'mornight': 0.0, 'Total distance': 9.0895488429}, {'fare_amount': 28.1, 'fare_class': 1.0, 'passenger_count': 1.0, 'Year': 2010.0, 'Month': 4.0, 'Day': 18.0, 'Hours': 13.0, 'Minutes': 3.0, 'mornight': 1.0, 'Total distance': 13.5181074681}, {'fare_amount': 49.57, 'fare_class': 1.0, 'passenger_count': 1.0, 'Year': 2010.0, 'Month': 4.0, 'Day': 19.0, 'Hours': 13.0, 'Minutes': 14.0, 'mornight': 1.0, 'Total distance': 20.8143857062}, {'fare_amount': 8.5, 'fare_class': 0.0, 'passenger_count': 2.0, 'Year': 2010.0, 'Month': 4.0, 'Day': 24.0, 'Hours': 7.0, 'Minutes': 15.0, 'mornight': 0.0, 'Total distance': 3.2227126433}, {'fare_amount': 25.47, 'fare_class': 1.0, 'passenger_count': 1.0, 'Year': 2010.0, 'Month': 4.0, 'Day': 22.0, 'Hours': 5.0, 'Minutes': 16.0, 'mornight': 0.0, 'Total distance': 8.3940429513}, {'fare_amount': 4.1, 'fare_class': 0.0, 'passenger_count': 2.0, 'Year': 2010.0, 'Month': 4.0, 'Day': 21.0, 'Hours': 15.0, 'Minutes': 19.0, 'mornight': 1.0, 'Total distance': 0.9660070502}, {'fare_amount': 14.5, 'fare_class': 1.0, 'passenger_count': 1.0, 'Year': 2010.0, 'Month': 4.0, 'Day': 24.0, 'Hours': 6.0, 'Minutes': 1.0, 'mornight': 0.0, 'Total distance': 5.5099462795}, {'fare_amount': 22.1, 'fare_class': 1.0, 'passenger_count': 1.0, 'Year': 2010.0, 'Month': 4.0, 'Day': 14.0, 'Hours': 8.0, 'Minutes': 49.0, 'mornight': 0.0, 'Total distance': 7.9001564995}, {'fare_amount': 6.1, 'fare_class': 0.0, 'passenger_count': 1.0, 'Year': 2010.0, 'Month': 4.0, 'Day': 22.0, 'Hours': 7.0, 'Minutes': 34.0, 'mornight': 0.0, 'Total distance': 1.1949858831}, {'fare_amount': 9.7, 'fare_class': 0.0, 'passenger_count': 3.0, 'Year': 2010.0, 'Month': 4.0, 'Day': 24.0, 'Hours': 13.0, 'Minutes': 29.0, 'mornight': 1.0, 'Total distance': 2.4055466303}, {'fare_amount': 9.7, 'fare_class': 0.0, 'passenger_count': 1.0, 'Year': 2010.0, 'Month': 4.0, 'Day': 16.0, 'Hours': 7.0, 'Minutes': 23.0, 'mornight': 0.0, 'Total distance': 3.1251604797}, {'fare_amount': 4.5, 'fare_class': 0.0, 'passenger_count': 1.0, 'Year': 2010.0, 'Month': 4.0, 'Day': 17.0, 'Hours': 16.0, 'Minutes': 22.0, 'mornight': 1.0, 'Total distance': 1.1306457145}, {'fare_amount': 5.3, 'fare_class': 0.0, 'passenger_count': 1.0, 'Year': 2010.0, 'Month': 4.0, 'Day': 23.0, 'Hours': 5.0, 'Minutes': 39.0, 'mornight': 0.0, 'Total distance': 1.1145821457}, {'fare_amount': 4.1, 'fare_class': 0.0, 'passenger_count': 1.0, 'Year': 2010.0, 'Month': 4.0, 'Day': 11.0, 'Hours': 10.0, 'Minutes': 42.0, 'mornight': 0.0, 'Total distance': 0.7960269748}, {'fare_amount': 11.7, 'fare_class': 1.0, 'passenger_count': 1.0, 'Year': 2010.0, 'Month': 4.0, 'Day': 12.0, 'Hours': 0.0, 'Minutes': 20.0, 'mornight': 0.0, 'Total distance': 5.7364776607}, {'fare_amount': 7.3, 'fare_class': 0.0, 'passenger_count': 3.0, 'Year': 2010.0, 'Month': 4.0, 'Day': 13.0, 'Hours': 10.0, 'Minutes': 31.0, 'mornight': 0.0, 'Total distance': 2.6752489276}, {'fare_amount': 4.5, 'fare_class': 0.0, 'passenger_count': 1.0, 'Year': 2010.0, 'Month': 4.0, 'Day': 22.0, 'Hours': 2.0, 'Minutes': 41.0, 'mornight': 0.0, 'Total distance': 0.715156436}, {'fare_amount': 10.1, 'fare_class': 1.0, 'passenger_count': 2.0, 'Year': 2010.0, 'Month': 4.0, 'Day': 23.0, 'Hours': 15.0, 'Minutes': 53.0, 'mornight': 1.0, 'Total distance': 2.2144953207}, {'fare_amount': 7.7, 'fare_class': 0.0, 'passenger_count': 1.0, 'Year': 2010.0, 'Month': 4.0, 'Day': 15.0, 'Hours': 10.0, 'Minutes': 56.0, 'mornight': 0.0, 'Total distance': 1.9302451146}, {'fare_amount': 11.7, 'fare_class': 1.0, 'passenger_count': 1.0, 'Year': 2010.0, 'Month': 4.0, 'Day': 14.0, 'Hours': 9.0, 'Minutes': 34.0, 'mornight': 0.0, 'Total distance': 4.6969775963}, {'fare_amount': 8.5, 'fare_class': 0.0, 'passenger_count': 1.0, 'Year': 2010.0, 'Month': 4.0, 'Day': 24.0, 'Hours': 23.0, 'Minutes': 15.0, 'mornight': 1.0, 'Total distance': 2.6938363669}, {'fare_amount': 8.1, 'fare_class': 0.0, 'passenger_count': 2.0, 'Year': 2010.0, 'Month': 4.0, 'Day': 13.0, 'Hours': 18.0, 'Minutes': 11.0, 'mornight': 1.0, 'Total distance': 1.3872417328}, {'fare_amount': 4.5, 'fare_class': 0.0, 'passenger_count': 2.0, 'Year': 2010.0, 'Month': 4.0, 'Day': 20.0, 'Hours': 18.0, 'Minutes': 51.0, 'mornight': 1.0, 'Total distance': 0.9697786935}, {'fare_amount': 6.5, 'fare_class': 0.0, 'passenger_count': 1.0, 'Year': 2010.0, 'Month': 4.0, 'Day': 19.0, 'Hours': 16.0, 'Minutes': 20.0, 'mornight': 1.0, 'Total distance': 1.5586127629}, {'fare_amount': 4.9, 'fare_class': 0.0, 'passenger_count': 2.0, 'Year': 2010.0, 'Month': 4.0, 'Day': 22.0, 'Hours': 5.0, 'Minutes': 40.0, 'mornight': 0.0, 'Total distance': 0.9165588718}, {'fare_amount': 10.5, 'fare_class': 1.0, 'passenger_count': 1.0, 'Year': 2010.0, 'Month': 4.0, 'Day': 17.0, 'Hours': 6.0, 'Minutes': 42.0, 'mornight': 0.0, 'Total distance': 1.0376253303}, {'fare_amount': 12.5, 'fare_class': 1.0, 'passenger_count': 2.0, 'Year': 2010.0, 'Month': 4.0, 'Day': 17.0, 'Hours': 14.0, 'Minutes': 46.0, 'mornight': 1.0, 'Total distance': 0.1471175852}, {'fare_amount': 6.1, 'fare_class': 0.0, 'passenger_count': 2.0, 'Year': 2010.0, 'Month': 4.0, 'Day': 20.0, 'Hours': 4.0, 'Minutes': 1.0, 'mornight': 0.0, 'Total distance': 1.8826133425}, {'fare_amount': 8.1, 'fare_class': 0.0, 'passenger_count': 2.0, 'Year': 2010.0, 'Month': 4.0, 'Day': 19.0, 'Hours': 10.0, 'Minutes': 56.0, 'mornight': 0.0, 'Total distance': 1.9461071677}, {'fare_amount': 8.9, 'fare_class': 0.0, 'passenger_count': 1.0, 'Year': 2010.0, 'Month': 4.0, 'Day': 18.0, 'Hours': 6.0, 'Minutes': 59.0, 'mornight': 0.0, 'Total distance': 2.1028341421}, {'fare_amount': 18.5, 'fare_class': 1.0, 'passenger_count': 1.0, 'Year': 2010.0, 'Month': 4.0, 'Day': 22.0, 'Hours': 7.0, 'Minutes': 17.0, 'mornight': 0.0, 'Total distance': 5.0561220285}, {'fare_amount': 5.7, 'fare_class': 0.0, 'passenger_count': 1.0, 'Year': 2010.0, 'Month': 4.0, 'Day': 22.0, 'Hours': 15.0, 'Minutes': 13.0, 'mornight': 1.0, 'Total distance': 1.3389572901}, {'fare_amount': 42.1, 'fare_class': 1.0, 'passenger_count': 1.0, 'Year': 2010.0, 'Month': 4.0, 'Day': 19.0, 'Hours': 19.0, 'Minutes': 0.0, 'mornight': 1.0, 'Total distance': 17.3054106386}, {'fare_amount': 8.5, 'fare_class': 0.0, 'passenger_count': 1.0, 'Year': 2010.0, 'Month': 4.0, 'Day': 13.0, 'Hours': 3.0, 'Minutes': 47.0, 'mornight': 0.0, 'Total distance': 1.9307478492}, {'fare_amount': 6.9, 'fare_class': 0.0, 'passenger_count': 1.0, 'Year': 2010.0, 'Month': 4.0, 'Day': 14.0, 'Hours': 12.0, 'Minutes': 21.0, 'mornight': 1.0, 'Total distance': 1.3573646967}, {'fare_amount': 10.1, 'fare_class': 1.0, 'passenger_count': 2.0, 'Year': 2010.0, 'Month': 4.0, 'Day': 22.0, 'Hours': 15.0, 'Minutes': 44.0, 'mornight': 1.0, 'Total distance': 1.5638891373}, {'fare_amount': 3.3, 'fare_class': 0.0, 'passenger_count': 1.0, 'Year': 2010.0, 'Month': 4.0, 'Day': 13.0, 'Hours': 7.0, 'Minutes': 42.0, 'mornight': 0.0, 'Total distance': 0.4985836529}, {'fare_amount': 28.9, 'fare_class': 1.0, 'passenger_count': 1.0, 'Year': 2010.0, 'Month': 4.0, 'Day': 18.0, 'Hours': 4.0, 'Minutes': 25.0, 'mornight': 0.0, 'Total distance': 16.4355405602}, {'fare_amount': 24.9, 'fare_class': 1.0, 'passenger_count': 1.0, 'Year': 2010.0, 'Month': 4.0, 'Day': 16.0, 'Hours': 12.0, 'Minutes': 39.0, 'mornight': 1.0, 'Total distance': 9.5878991328}, {'fare_amount': 5.7, 'fare_class': 0.0, 'passenger_count': 1.0, 'Year': 2010.0, 'Month': 4.0, 'Day': 15.0, 'Hours': 20.0, 'Minutes': 28.0, 'mornight': 1.0, 'Total distance': 0.9248600455}, {'fare_amount': 13.7, 'fare_class': 1.0, 'passenger_count': 1.0, 'Year': 2010.0, 'Month': 4.0, 'Day': 23.0, 'Hours': 2.0, 'Minutes': 4.0, 'mornight': 0.0, 'Total distance': 5.1399718561}, {'fare_amount': 4.1, 'fare_class': 0.0, 'passenger_count': 1.0, 'Year': 2010.0, 'Month': 4.0, 'Day': 19.0, 'Hours': 0.0, 'Minutes': 34.0, 'mornight': 0.0, 'Total distance': 0.9506109644}, {'fare_amount': 8.9, 'fare_class': 0.0, 'passenger_count': 1.0, 'Year': 2010.0, 'Month': 4.0, 'Day': 13.0, 'Hours': 18.0, 'Minutes': 29.0, 'mornight': 1.0, 'Total distance': 4.0455592977}, {'fare_amount': 24.5, 'fare_class': 1.0, 'passenger_count': 1.0, 'Year': 2010.0, 'Month': 4.0, 'Day': 15.0, 'Hours': 9.0, 'Minutes': 57.0, 'mornight': 0.0, 'Total distance': 12.2349109183}, {'fare_amount': 5.7, 'fare_class': 0.0, 'passenger_count': 1.0, 'Year': 2010.0, 'Month': 4.0, 'Day': 11.0, 'Hours': 7.0, 'Minutes': 3.0, 'mornight': 0.0, 'Total distance': 1.5784347518}, {'fare_amount': 25.47, 'fare_class': 1.0, 'passenger_count': 1.0, 'Year': 2010.0, 'Month': 4.0, 'Day': 23.0, 'Hours': 9.0, 'Minutes': 53.0, 'mornight': 0.0, 'Total distance': 6.7897183683}, {'fare_amount': 10.5, 'fare_class': 1.0, 'passenger_count': 1.0, 'Year': 2010.0, 'Month': 4.0, 'Day': 24.0, 'Hours': 13.0, 'Minutes': 25.0, 'mornight': 1.0, 'Total distance': 2.9180161814}, {'fare_amount': 36.5, 'fare_class': 1.0, 'passenger_count': 3.0, 'Year': 2010.0, 'Month': 4.0, 'Day': 11.0, 'Hours': 0.0, 'Minutes': 45.0, 'mornight': 0.0, 'Total distance': 16.459383625}, {'fare_amount': 6.1, 'fare_class': 0.0, 'passenger_count': 1.0, 'Year': 2010.0, 'Month': 4.0, 'Day': 18.0, 'Hours': 11.0, 'Minutes': 50.0, 'mornight': 0.0, 'Total distance': 1.5171737271}, {'fare_amount': 5.7, 'fare_class': 0.0, 'passenger_count': 1.0, 'Year': 2010.0, 'Month': 4.0, 'Day': 16.0, 'Hours': 6.0, 'Minutes': 35.0, 'mornight': 0.0, 'Total distance': 0.8993830984}, {'fare_amount': 12.1, 'fare_class': 1.0, 'passenger_count': 2.0, 'Year': 2010.0, 'Month': 4.0, 'Day': 16.0, 'Hours': 3.0, 'Minutes': 38.0, 'mornight': 0.0, 'Total distance': 5.4959869826}, {'fare_amount': 6.9, 'fare_class': 0.0, 'passenger_count': 1.0, 'Year': 2010.0, 'Month': 4.0, 'Day': 20.0, 'Hours': 9.0, 'Minutes': 25.0, 'mornight': 0.0, 'Total distance': 0.9612124723}, {'fare_amount': 3.7, 'fare_class': 0.0, 'passenger_count': 2.0, 'Year': 2010.0, 'Month': 4.0, 'Day': 21.0, 'Hours': 10.0, 'Minutes': 2.0, 'mornight': 0.0, 'Total distance': 0.8582621443}, {'fare_amount': 3.7, 'fare_class': 0.0, 'passenger_count': 2.0, 'Year': 2010.0, 'Month': 4.0, 'Day': 17.0, 'Hours': 10.0, 'Minutes': 24.0, 'mornight': 0.0, 'Total distance': 0.4521807341}, {'fare_amount': 12.5, 'fare_class': 1.0, 'passenger_count': 1.0, 'Year': 2010.0, 'Month': 4.0, 'Day': 13.0, 'Hours': 13.0, 'Minutes': 12.0, 'mornight': 1.0, 'Total distance': 2.0246230528}, {'fare_amount': 24.5, 'fare_class': 1.0, 'passenger_count': 2.0, 'Year': 2010.0, 'Month': 4.0, 'Day': 11.0, 'Hours': 18.0, 'Minutes': 1.0, 'mornight': 1.0, 'Total distance': 11.3421137064}, {'fare_amount': 36.67, 'fare_class': 1.0, 'passenger_count': 1.0, 'Year': 2010.0, 'Month': 4.0, 'Day': 18.0, 'Hours': 9.0, 'Minutes': 13.0, 'mornight': 0.0, 'Total distance': 8.5839911047}, {'fare_amount': 28.5, 'fare_class': 1.0, 'passenger_count': 2.0, 'Year': 2010.0, 'Month': 4.0, 'Day': 24.0, 'Hours': 7.0, 'Minutes': 47.0, 'mornight': 0.0, 'Total distance': 10.0500525826}, {'fare_amount': 6.5, 'fare_class': 0.0, 'passenger_count': 1.0, 'Year': 2010.0, 'Month': 4.0, 'Day': 18.0, 'Hours': 4.0, 'Minutes': 11.0, 'mornight': 0.0, 'Total distance': 0.9393205367}, {'fare_amount': 7.7, 'fare_class': 0.0, 'passenger_count': 2.0, 'Year': 2010.0, 'Month': 4.0, 'Day': 14.0, 'Hours': 20.0, 'Minutes': 15.0, 'mornight': 1.0, 'Total distance': 2.4815442924}, {'fare_amount': 5.7, 'fare_class': 0.0, 'passenger_count': 2.0, 'Year': 2010.0, 'Month': 4.0, 'Day': 14.0, 'Hours': 6.0, 'Minutes': 40.0, 'mornight': 0.0, 'Total distance': 1.8019931935}, {'fare_amount': 11.3, 'fare_class': 1.0, 'passenger_count': 1.0, 'Year': 2010.0, 'Month': 4.0, 'Day': 20.0, 'Hours': 15.0, 'Minutes': 31.0, 'mornight': 1.0, 'Total distance': 4.3552829853}, {'fare_amount': 11.7, 'fare_class': 1.0, 'passenger_count': 1.0, 'Year': 2010.0, 'Month': 4.0, 'Day': 16.0, 'Hours': 9.0, 'Minutes': 45.0, 'mornight': 0.0, 'Total distance': 1.9849783313}, {'fare_amount': 12.5, 'fare_class': 1.0, 'passenger_count': 1.0, 'Year': 2010.0, 'Month': 4.0, 'Day': 16.0, 'Hours': 20.0, 'Minutes': 33.0, 'mornight': 1.0, 'Total distance': 5.62468977}, {'fare_amount': 6.1, 'fare_class': 0.0, 'passenger_count': 1.0, 'Year': 2010.0, 'Month': 4.0, 'Day': 12.0, 'Hours': 7.0, 'Minutes': 9.0, 'mornight': 0.0, 'Total distance': 2.4977653638}, {'fare_amount': 6.5, 'fare_class': 0.0, 'passenger_count': 1.0, 'Year': 2010.0, 'Month': 4.0, 'Day': 24.0, 'Hours': 17.0, 'Minutes': 34.0, 'mornight': 1.0, 'Total distance': 2.0202852137}, {'fare_amount': 12.5, 'fare_class': 1.0, 'passenger_count': 1.0, 'Year': 2010.0, 'Month': 4.0, 'Day': 15.0, 'Hours': 10.0, 'Minutes': 30.0, 'mornight': 0.0, 'Total distance': 3.8955762598}, {'fare_amount': 5.7, 'fare_class': 0.0, 'passenger_count': 1.0, 'Year': 2010.0, 'Month': 4.0, 'Day': 16.0, 'Hours': 10.0, 'Minutes': 4.0, 'mornight': 0.0, 'Total distance': 1.4369334572}, {'fare_amount': 10.1, 'fare_class': 1.0, 'passenger_count': 3.0, 'Year': 2010.0, 'Month': 4.0, 'Day': 18.0, 'Hours': 11.0, 'Minutes': 15.0, 'mornight': 0.0, 'Total distance': 2.6686907359}, {'fare_amount': 7.7, 'fare_class': 0.0, 'passenger_count': 1.0, 'Year': 2010.0, 'Month': 4.0, 'Day': 12.0, 'Hours': 16.0, 'Minutes': 35.0, 'mornight': 1.0, 'Total distance': 1.3936962748}, {'fare_amount': 4.9, 'fare_class': 0.0, 'passenger_count': 1.0, 'Year': 2010.0, 'Month': 4.0, 'Day': 16.0, 'Hours': 5.0, 'Minutes': 41.0, 'mornight': 0.0, 'Total distance': 0.5201007966}, {'fare_amount': 29.3, 'fare_class': 1.0, 'passenger_count': 1.0, 'Year': 2010.0, 'Month': 4.0, 'Day': 12.0, 'Hours': 21.0, 'Minutes': 37.0, 'mornight': 1.0, 'Total distance': 17.7991205111}, {'fare_amount': 18.9, 'fare_class': 1.0, 'passenger_count': 1.0, 'Year': 2010.0, 'Month': 4.0, 'Day': 15.0, 'Hours': 18.0, 'Minutes': 45.0, 'mornight': 1.0, 'Total distance': 5.730905082}, {'fare_amount': 4.1, 'fare_class': 0.0, 'passenger_count': 1.0, 'Year': 2010.0, 'Month': 4.0, 'Day': 17.0, 'Hours': 8.0, 'Minutes': 7.0, 'mornight': 0.0, 'Total distance': 0.7760891759}, {'fare_amount': 10.5, 'fare_class': 1.0, 'passenger_count': 1.0, 'Year': 2010.0, 'Month': 4.0, 'Day': 18.0, 'Hours': 8.0, 'Minutes': 47.0, 'mornight': 0.0, 'Total distance': 3.3101825171}, {'fare_amount': 6.5, 'fare_class': 0.0, 'passenger_count': 2.0, 'Year': 2010.0, 'Month': 4.0, 'Day': 23.0, 'Hours': 17.0, 'Minutes': 33.0, 'mornight': 1.0, 'Total distance': 2.7028352992}, {'fare_amount': 16.5, 'fare_class': 1.0, 'passenger_count': 1.0, 'Year': 2010.0, 'Month': 4.0, 'Day': 24.0, 'Hours': 19.0, 'Minutes': 13.0, 'mornight': 1.0, 'Total distance': 5.8846743627}, {'fare_amount': 14.1, 'fare_class': 1.0, 'passenger_count': 1.0, 'Year': 2010.0, 'Month': 4.0, 'Day': 19.0, 'Hours': 12.0, 'Minutes': 34.0, 'mornight': 1.0, 'Total distance': 5.2607031232}, {'fare_amount': 5.3, 'fare_class': 0.0, 'passenger_count': 1.0, 'Year': 2010.0, 'Month': 4.0, 'Day': 20.0, 'Hours': 15.0, 'Minutes': 50.0, 'mornight': 1.0, 'Total distance': 1.6909187992}, {'fare_amount': 11.7, 'fare_class': 1.0, 'passenger_count': 2.0, 'Year': 2010.0, 'Month': 4.0, 'Day': 19.0, 'Hours': 11.0, 'Minutes': 7.0, 'mornight': 0.0, 'Total distance': 4.3695543097}, {'fare_amount': 8.1, 'fare_class': 0.0, 'passenger_count': 1.0, 'Year': 2010.0, 'Month': 4.0, 'Day': 20.0, 'Hours': 20.0, 'Minutes': 6.0, 'mornight': 1.0, 'Total distance': 3.8513483735}, {'fare_amount': 10.5, 'fare_class': 1.0, 'passenger_count': 1.0, 'Year': 2010.0, 'Month': 4.0, 'Day': 18.0, 'Hours': 10.0, 'Minutes': 53.0, 'mornight': 0.0, 'Total distance': 4.0064164286}, {'fare_amount': 7.7, 'fare_class': 0.0, 'passenger_count': 1.0, 'Year': 2010.0, 'Month': 4.0, 'Day': 13.0, 'Hours': 10.0, 'Minutes': 9.0, 'mornight': 0.0, 'Total distance': 3.2697292767}, {'fare_amount': 9.3, 'fare_class': 0.0, 'passenger_count': 1.0, 'Year': 2010.0, 'Month': 4.0, 'Day': 22.0, 'Hours': 7.0, 'Minutes': 3.0, 'mornight': 0.0, 'Total distance': 3.8246087148}, {'fare_amount': 6.5, 'fare_class': 0.0, 'passenger_count': 3.0, 'Year': 2010.0, 'Month': 4.0, 'Day': 12.0, 'Hours': 9.0, 'Minutes': 48.0, 'mornight': 0.0, 'Total distance': 9.2242273216}, {'fare_amount': 12.1, 'fare_class': 1.0, 'passenger_count': 1.0, 'Year': 2010.0, 'Month': 4.0, 'Day': 13.0, 'Hours': 18.0, 'Minutes': 18.0, 'mornight': 1.0, 'Total distance': 5.2199818726}, {'fare_amount': 10.1, 'fare_class': 1.0, 'passenger_count': 2.0, 'Year': 2010.0, 'Month': 4.0, 'Day': 11.0, 'Hours': 15.0, 'Minutes': 43.0, 'mornight': 1.0, 'Total distance': 1.9708597526}, {'fare_amount': 17.3, 'fare_class': 1.0, 'passenger_count': 1.0, 'Year': 2010.0, 'Month': 4.0, 'Day': 18.0, 'Hours': 22.0, 'Minutes': 50.0, 'mornight': 1.0, 'Total distance': 7.3686227736}, {'fare_amount': 14.9, 'fare_class': 1.0, 'passenger_count': 1.0, 'Year': 2010.0, 'Month': 4.0, 'Day': 12.0, 'Hours': 23.0, 'Minutes': 31.0, 'mornight': 1.0, 'Total distance': 5.5425970534}, {'fare_amount': 13.7, 'fare_class': 1.0, 'passenger_count': 2.0, 'Year': 2010.0, 'Month': 4.0, 'Day': 21.0, 'Hours': 4.0, 'Minutes': 58.0, 'mornight': 0.0, 'Total distance': 5.2886936108}, {'fare_amount': 6.5, 'fare_class': 0.0, 'passenger_count': 2.0, 'Year': 2010.0, 'Month': 4.0, 'Day': 13.0, 'Hours': 13.0, 'Minutes': 51.0, 'mornight': 1.0, 'Total distance': 2.4028353121}, {'fare_amount': 13.7, 'fare_class': 1.0, 'passenger_count': 2.0, 'Year': 2010.0, 'Month': 4.0, 'Day': 23.0, 'Hours': 20.0, 'Minutes': 3.0, 'mornight': 1.0, 'Total distance': 5.10728631}, {'fare_amount': 16.1, 'fare_class': 1.0, 'passenger_count': 2.0, 'Year': 2010.0, 'Month': 4.0, 'Day': 19.0, 'Hours': 18.0, 'Minutes': 53.0, 'mornight': 1.0, 'Total distance': 7.5625478598}, {'fare_amount': 14.5, 'fare_class': 1.0, 'passenger_count': 1.0, 'Year': 2010.0, 'Month': 4.0, 'Day': 15.0, 'Hours': 17.0, 'Minutes': 2.0, 'mornight': 1.0, 'Total distance': 7.0024716709}, {'fare_amount': 4.5, 'fare_class': 0.0, 'passenger_count': 1.0, 'Year': 2010.0, 'Month': 4.0, 'Day': 12.0, 'Hours': 8.0, 'Minutes': 19.0, 'mornight': 0.0, 'Total distance': 1.0942828665}, {'fare_amount': 16.9, 'fare_class': 1.0, 'passenger_count': 1.0, 'Year': 2010.0, 'Month': 4.0, 'Day': 24.0, 'Hours': 19.0, 'Minutes': 55.0, 'mornight': 1.0, 'Total distance': 6.4721347713}, {'fare_amount': 5.3, 'fare_class': 0.0, 'passenger_count': 1.0, 'Year': 2010.0, 'Month': 4.0, 'Day': 12.0, 'Hours': 9.0, 'Minutes': 56.0, 'mornight': 0.0, 'Total distance': 1.6289188126}, {'fare_amount': 4.5, 'fare_class': 0.0, 'passenger_count': 2.0, 'Year': 2010.0, 'Month': 4.0, 'Day': 14.0, 'Hours': 7.0, 'Minutes': 36.0, 'mornight': 0.0, 'Total distance': 1.3912956188}, {'fare_amount': 16.99, 'fare_class': 1.0, 'passenger_count': 2.0, 'Year': 2010.0, 'Month': 4.0, 'Day': 15.0, 'Hours': 18.0, 'Minutes': 49.0, 'mornight': 1.0, 'Total distance': 9.2809134496}, {'fare_amount': 7.3, 'fare_class': 0.0, 'passenger_count': 4.0, 'Year': 2010.0, 'Month': 4.0, 'Day': 24.0, 'Hours': 7.0, 'Minutes': 2.0, 'mornight': 0.0, 'Total distance': 2.4207641081}, {'fare_amount': 6.5, 'fare_class': 0.0, 'passenger_count': 1.0, 'Year': 2010.0, 'Month': 4.0, 'Day': 22.0, 'Hours': 8.0, 'Minutes': 17.0, 'mornight': 0.0, 'Total distance': 1.4721728441}, {'fare_amount': 4.5, 'fare_class': 0.0, 'passenger_count': 1.0, 'Year': 2010.0, 'Month': 4.0, 'Day': 17.0, 'Hours': 17.0, 'Minutes': 42.0, 'mornight': 1.0, 'Total distance': 1.1151376739}, {'fare_amount': 13.7, 'fare_class': 1.0, 'passenger_count': 1.0, 'Year': 2010.0, 'Month': 4.0, 'Day': 22.0, 'Hours': 19.0, 'Minutes': 6.0, 'mornight': 1.0, 'Total distance': 5.653802808}, {'fare_amount': 6.5, 'fare_class': 0.0, 'passenger_count': 1.0, 'Year': 2010.0, 'Month': 4.0, 'Day': 24.0, 'Hours': 11.0, 'Minutes': 34.0, 'mornight': 0.0, 'Total distance': 3.0509632213}, {'fare_amount': 14.9, 'fare_class': 1.0, 'passenger_count': 5.0, 'Year': 2010.0, 'Month': 4.0, 'Day': 23.0, 'Hours': 0.0, 'Minutes': 10.0, 'mornight': 0.0, 'Total distance': 7.1349011005}, {'fare_amount': 6.1, 'fare_class': 0.0, 'passenger_count': 2.0, 'Year': 2010.0, 'Month': 4.0, 'Day': 16.0, 'Hours': 18.0, 'Minutes': 54.0, 'mornight': 1.0, 'Total distance': 0.8211780874}, {'fare_amount': 15.7, 'fare_class': 1.0, 'passenger_count': 1.0, 'Year': 2010.0, 'Month': 4.0, 'Day': 14.0, 'Hours': 12.0, 'Minutes': 13.0, 'mornight': 1.0, 'Total distance': 4.9344424665}, {'fare_amount': 12.9, 'fare_class': 1.0, 'passenger_count': 2.0, 'Year': 2010.0, 'Month': 4.0, 'Day': 24.0, 'Hours': 22.0, 'Minutes': 29.0, 'mornight': 1.0, 'Total distance': 6.8331524673}, {'fare_amount': 3.7, 'fare_class': 0.0, 'passenger_count': 1.0, 'Year': 2010.0, 'Month': 4.0, 'Day': 11.0, 'Hours': 5.0, 'Minutes': 47.0, 'mornight': 0.0, 'Total distance': 0.8583127943}, {'fare_amount': 6.9, 'fare_class': 0.0, 'passenger_count': 1.0, 'Year': 2010.0, 'Month': 4.0, 'Day': 22.0, 'Hours': 16.0, 'Minutes': 4.0, 'mornight': 1.0, 'Total distance': 0.820853866}, {'fare_amount': 6.5, 'fare_class': 0.0, 'passenger_count': 2.0, 'Year': 2010.0, 'Month': 4.0, 'Day': 24.0, 'Hours': 18.0, 'Minutes': 37.0, 'mornight': 1.0, 'Total distance': 1.766106274}, {'fare_amount': 11.3, 'fare_class': 1.0, 'passenger_count': 1.0, 'Year': 2010.0, 'Month': 4.0, 'Day': 24.0, 'Hours': 18.0, 'Minutes': 43.0, 'mornight': 1.0, 'Total distance': 2.8423948455}, {'fare_amount': 5.7, 'fare_class': 0.0, 'passenger_count': 1.0, 'Year': 2010.0, 'Month': 4.0, 'Day': 14.0, 'Hours': 16.0, 'Minutes': 3.0, 'mornight': 1.0, 'Total distance': 1.5820835859}, {'fare_amount': 13.3, 'fare_class': 1.0, 'passenger_count': 1.0, 'Year': 2010.0, 'Month': 4.0, 'Day': 18.0, 'Hours': 23.0, 'Minutes': 33.0, 'mornight': 1.0, 'Total distance': 7.2172862606}, {'fare_amount': 5.3, 'fare_class': 0.0, 'passenger_count': 1.0, 'Year': 2010.0, 'Month': 4.0, 'Day': 24.0, 'Hours': 15.0, 'Minutes': 31.0, 'mornight': 1.0, 'Total distance': 1.4305005697}, {'fare_amount': 5.7, 'fare_class': 0.0, 'passenger_count': 1.0, 'Year': 2010.0, 'Month': 4.0, 'Day': 23.0, 'Hours': 4.0, 'Minutes': 23.0, 'mornight': 0.0, 'Total distance': 1.0367820302}, {'fare_amount': 10.5, 'fare_class': 1.0, 'passenger_count': 2.0, 'Year': 2010.0, 'Month': 4.0, 'Day': 18.0, 'Hours': 2.0, 'Minutes': 10.0, 'mornight': 0.0, 'Total distance': 3.9609700184}, {'fare_amount': 4.5, 'fare_class': 0.0, 'passenger_count': 1.0, 'Year': 2010.0, 'Month': 4.0, 'Day': 16.0, 'Hours': 3.0, 'Minutes': 58.0, 'mornight': 0.0, 'Total distance': 1.3640844734}, {'fare_amount': 10.9, 'fare_class': 1.0, 'passenger_count': 1.0, 'Year': 2010.0, 'Month': 4.0, 'Day': 20.0, 'Hours': 10.0, 'Minutes': 49.0, 'mornight': 0.0, 'Total distance': 2.356402138}, {'fare_amount': 14.1, 'fare_class': 1.0, 'passenger_count': 1.0, 'Year': 2010.0, 'Month': 4.0, 'Day': 16.0, 'Hours': 6.0, 'Minutes': 27.0, 'mornight': 0.0, 'Total distance': 6.054370703}, {'fare_amount': 6.1, 'fare_class': 0.0, 'passenger_count': 1.0, 'Year': 2010.0, 'Month': 4.0, 'Day': 13.0, 'Hours': 13.0, 'Minutes': 8.0, 'mornight': 1.0, 'Total distance': 1.3782680891}, {'fare_amount': 4.9, 'fare_class': 0.0, 'passenger_count': 1.0, 'Year': 2010.0, 'Month': 4.0, 'Day': 14.0, 'Hours': 17.0, 'Minutes': 9.0, 'mornight': 1.0, 'Total distance': 1.1669952557}, {'fare_amount': 4.9, 'fare_class': 0.0, 'passenger_count': 1.0, 'Year': 2010.0, 'Month': 4.0, 'Day': 15.0, 'Hours': 1.0, 'Minutes': 34.0, 'mornight': 0.0, 'Total distance': 1.9860153964}, {'fare_amount': 8.5, 'fare_class': 0.0, 'passenger_count': 1.0, 'Year': 2010.0, 'Month': 4.0, 'Day': 13.0, 'Hours': 8.0, 'Minutes': 57.0, 'mornight': 0.0, 'Total distance': 2.2069577272}, {'fare_amount': 33.07, 'fare_class': 1.0, 'passenger_count': 2.0, 'Year': 2010.0, 'Month': 4.0, 'Day': 23.0, 'Hours': 7.0, 'Minutes': 11.0, 'mornight': 0.0, 'Total distance': 9.657596763}, {'fare_amount': 4.9, 'fare_class': 0.0, 'passenger_count': 1.0, 'Year': 2010.0, 'Month': 4.0, 'Day': 16.0, 'Hours': 22.0, 'Minutes': 47.0, 'mornight': 1.0, 'Total distance': 0.9454592558}, {'fare_amount': 8.1, 'fare_class': 0.0, 'passenger_count': 4.0, 'Year': 2010.0, 'Month': 4.0, 'Day': 21.0, 'Hours': 6.0, 'Minutes': 34.0, 'mornight': 0.0, 'Total distance': 3.3986872529}, {'fare_amount': 4.9, 'fare_class': 0.0, 'passenger_count': 2.0, 'Year': 2010.0, 'Month': 4.0, 'Day': 11.0, 'Hours': 17.0, 'Minutes': 22.0, 'mornight': 1.0, 'Total distance': 1.3895023565}, {'fare_amount': 11.7, 'fare_class': 1.0, 'passenger_count': 1.0, 'Year': 2010.0, 'Month': 4.0, 'Day': 19.0, 'Hours': 11.0, 'Minutes': 57.0, 'mornight': 0.0, 'Total distance': 4.9474245778}, {'fare_amount': 13.3, 'fare_class': 1.0, 'passenger_count': 3.0, 'Year': 2010.0, 'Month': 4.0, 'Day': 24.0, 'Hours': 16.0, 'Minutes': 0.0, 'mornight': 1.0, 'Total distance': 3.6239215841}, {'fare_amount': 7.3, 'fare_class': 0.0, 'passenger_count': 2.0, 'Year': 2010.0, 'Month': 4.0, 'Day': 18.0, 'Hours': 10.0, 'Minutes': 0.0, 'mornight': 0.0, 'Total distance': 1.4105899732}, {'fare_amount': 7.3, 'fare_class': 0.0, 'passenger_count': 1.0, 'Year': 2010.0, 'Month': 4.0, 'Day': 11.0, 'Hours': 5.0, 'Minutes': 54.0, 'mornight': 0.0, 'Total distance': 2.3868766783}, {'fare_amount': 11.3, 'fare_class': 1.0, 'passenger_count': 1.0, 'Year': 2010.0, 'Month': 4.0, 'Day': 12.0, 'Hours': 19.0, 'Minutes': 48.0, 'mornight': 1.0, 'Total distance': 4.473717197}, {'fare_amount': 5.7, 'fare_class': 0.0, 'passenger_count': 1.0, 'Year': 2010.0, 'Month': 4.0, 'Day': 13.0, 'Hours': 4.0, 'Minutes': 15.0, 'mornight': 0.0, 'Total distance': 1.0098541372}, {'fare_amount': 4.9, 'fare_class': 0.0, 'passenger_count': 1.0, 'Year': 2010.0, 'Month': 4.0, 'Day': 20.0, 'Hours': 7.0, 'Minutes': 5.0, 'mornight': 0.0, 'Total distance': 0.5803956357}, {'fare_amount': 6.1, 'fare_class': 0.0, 'passenger_count': 2.0, 'Year': 2010.0, 'Month': 4.0, 'Day': 13.0, 'Hours': 19.0, 'Minutes': 29.0, 'mornight': 1.0, 'Total distance': 1.7041149037}, {'fare_amount': 20.9, 'fare_class': 1.0, 'passenger_count': 1.0, 'Year': 2010.0, 'Month': 4.0, 'Day': 16.0, 'Hours': 13.0, 'Minutes': 32.0, 'mornight': 1.0, 'Total distance': 4.8107456465}, {'fare_amount': 3.7, 'fare_class': 0.0, 'passenger_count': 1.0, 'Year': 2010.0, 'Month': 4.0, 'Day': 14.0, 'Hours': 9.0, 'Minutes': 11.0, 'mornight': 0.0, 'Total distance': 0.2454740887}, {'fare_amount': 5.3, 'fare_class': 0.0, 'passenger_count': 1.0, 'Year': 2010.0, 'Month': 4.0, 'Day': 15.0, 'Hours': 13.0, 'Minutes': 41.0, 'mornight': 1.0, 'Total distance': 1.1480431468}, {'fare_amount': 12.1, 'fare_class': 1.0, 'passenger_count': 1.0, 'Year': 2010.0, 'Month': 4.0, 'Day': 23.0, 'Hours': 11.0, 'Minutes': 38.0, 'mornight': 0.0, 'Total distance': 3.1249291861}, {'fare_amount': 6.9, 'fare_class': 0.0, 'passenger_count': 1.0, 'Year': 2010.0, 'Month': 4.0, 'Day': 14.0, 'Hours': 4.0, 'Minutes': 40.0, 'mornight': 0.0, 'Total distance': 2.095458362}, {'fare_amount': 8.1, 'fare_class': 0.0, 'passenger_count': 1.0, 'Year': 2010.0, 'Month': 4.0, 'Day': 14.0, 'Hours': 19.0, 'Minutes': 26.0, 'mornight': 1.0, 'Total distance': 3.6885493826}, {'fare_amount': 18.9, 'fare_class': 1.0, 'passenger_count': 1.0, 'Year': 2010.0, 'Month': 4.0, 'Day': 17.0, 'Hours': 21.0, 'Minutes': 39.0, 'mornight': 1.0, 'Total distance': 9.1039927722}, {'fare_amount': 3.7, 'fare_class': 0.0, 'passenger_count': 1.0, 'Year': 2010.0, 'Month': 4.0, 'Day': 15.0, 'Hours': 16.0, 'Minutes': 20.0, 'mornight': 1.0, 'Total distance': 0.5509802067}, {'fare_amount': 6.5, 'fare_class': 0.0, 'passenger_count': 1.0, 'Year': 2010.0, 'Month': 4.0, 'Day': 11.0, 'Hours': 16.0, 'Minutes': 7.0, 'mornight': 1.0, 'Total distance': 0.7677363999}, {'fare_amount': 6.9, 'fare_class': 0.0, 'passenger_count': 1.0, 'Year': 2010.0, 'Month': 4.0, 'Day': 12.0, 'Hours': 18.0, 'Minutes': 42.0, 'mornight': 1.0, 'Total distance': 2.0100888818}, {'fare_amount': 6.5, 'fare_class': 0.0, 'passenger_count': 1.0, 'Year': 2010.0, 'Month': 4.0, 'Day': 19.0, 'Hours': 10.0, 'Minutes': 42.0, 'mornight': 0.0, 'Total distance': 2.186202674}, {'fare_amount': 33.07, 'fare_class': 1.0, 'passenger_count': 1.0, 'Year': 2010.0, 'Month': 4.0, 'Day': 19.0, 'Hours': 6.0, 'Minutes': 30.0, 'mornight': 0.0, 'Total distance': 10.1435053626}, {'fare_amount': 8.9, 'fare_class': 0.0, 'passenger_count': 1.0, 'Year': 2010.0, 'Month': 4.0, 'Day': 12.0, 'Hours': 16.0, 'Minutes': 58.0, 'mornight': 1.0, 'Total distance': 4.6442387918}, {'fare_amount': 3.7, 'fare_class': 0.0, 'passenger_count': 1.0, 'Year': 2010.0, 'Month': 4.0, 'Day': 17.0, 'Hours': 3.0, 'Minutes': 45.0, 'mornight': 0.0, 'Total distance': 0.529088255}, {'fare_amount': 10.1, 'fare_class': 1.0, 'passenger_count': 1.0, 'Year': 2010.0, 'Month': 4.0, 'Day': 14.0, 'Hours': 9.0, 'Minutes': 6.0, 'mornight': 0.0, 'Total distance': 2.2797505459}, {'fare_amount': 9.3, 'fare_class': 0.0, 'passenger_count': 1.0, 'Year': 2010.0, 'Month': 4.0, 'Day': 22.0, 'Hours': 15.0, 'Minutes': 6.0, 'mornight': 1.0, 'Total distance': 3.8209833486}, {'fare_amount': 8.1, 'fare_class': 0.0, 'passenger_count': 1.0, 'Year': 2010.0, 'Month': 4.0, 'Day': 12.0, 'Hours': 13.0, 'Minutes': 27.0, 'mornight': 1.0, 'Total distance': 1.7008309861}, {'fare_amount': 5.7, 'fare_class': 0.0, 'passenger_count': 1.0, 'Year': 2010.0, 'Month': 4.0, 'Day': 14.0, 'Hours': 16.0, 'Minutes': 2.0, 'mornight': 1.0, 'Total distance': 1.5316558978}, {'fare_amount': 4.5, 'fare_class': 0.0, 'passenger_count': 2.0, 'Year': 2010.0, 'Month': 4.0, 'Day': 15.0, 'Hours': 0.0, 'Minutes': 3.0, 'mornight': 0.0, 'Total distance': 0.9500946477}, {'fare_amount': 34.5, 'fare_class': 1.0, 'passenger_count': 1.0, 'Year': 2010.0, 'Month': 4.0, 'Day': 21.0, 'Hours': 16.0, 'Minutes': 15.0, 'mornight': 1.0, 'Total distance': 14.8588879124}, {'fare_amount': 6.1, 'fare_class': 0.0, 'passenger_count': 1.0, 'Year': 2010.0, 'Month': 4.0, 'Day': 23.0, 'Hours': 20.0, 'Minutes': 39.0, 'mornight': 1.0, 'Total distance': 2.0284068306}, {'fare_amount': 10.1, 'fare_class': 1.0, 'passenger_count': 2.0, 'Year': 2010.0, 'Month': 4.0, 'Day': 11.0, 'Hours': 15.0, 'Minutes': 37.0, 'mornight': 1.0, 'Total distance': 3.5029084604}, {'fare_amount': 12.9, 'fare_class': 1.0, 'passenger_count': 1.0, 'Year': 2010.0, 'Month': 4.0, 'Day': 18.0, 'Hours': 0.0, 'Minutes': 25.0, 'mornight': 0.0, 'Total distance': 6.5157703374}, {'fare_amount': 10.1, 'fare_class': 1.0, 'passenger_count': 1.0, 'Year': 2010.0, 'Month': 4.0, 'Day': 15.0, 'Hours': 11.0, 'Minutes': 7.0, 'mornight': 0.0, 'Total distance': 2.9638146737}, {'fare_amount': 4.9, 'fare_class': 0.0, 'passenger_count': 1.0, 'Year': 2010.0, 'Month': 4.0, 'Day': 24.0, 'Hours': 14.0, 'Minutes': 49.0, 'mornight': 1.0, 'Total distance': 1.1371243622}, {'fare_amount': 4.5, 'fare_class': 0.0, 'passenger_count': 1.0, 'Year': 2010.0, 'Month': 4.0, 'Day': 20.0, 'Hours': 6.0, 'Minutes': 19.0, 'mornight': 0.0, 'Total distance': 1.4786945028}, {'fare_amount': 9.7, 'fare_class': 0.0, 'passenger_count': 1.0, 'Year': 2010.0, 'Month': 4.0, 'Day': 22.0, 'Hours': 5.0, 'Minutes': 26.0, 'mornight': 0.0, 'Total distance': 3.5592476124}, {'fare_amount': 5.3, 'fare_class': 0.0, 'passenger_count': 1.0, 'Year': 2010.0, 'Month': 4.0, 'Day': 11.0, 'Hours': 19.0, 'Minutes': 55.0, 'mornight': 1.0, 'Total distance': 1.9990382149}, {'fare_amount': 10.1, 'fare_class': 1.0, 'passenger_count': 1.0, 'Year': 2010.0, 'Month': 4.0, 'Day': 12.0, 'Hours': 16.0, 'Minutes': 25.0, 'mornight': 1.0, 'Total distance': 3.7206627549}, {'fare_amount': 3.7, 'fare_class': 0.0, 'passenger_count': 1.0, 'Year': 2010.0, 'Month': 4.0, 'Day': 12.0, 'Hours': 18.0, 'Minutes': 19.0, 'mornight': 1.0, 'Total distance': 3.7899720432}, {'fare_amount': 4.9, 'fare_class': 0.0, 'passenger_count': 2.0, 'Year': 2010.0, 'Month': 4.0, 'Day': 15.0, 'Hours': 13.0, 'Minutes': 35.0, 'mornight': 1.0, 'Total distance': 1.4489180352}, {'fare_amount': 13.3, 'fare_class': 1.0, 'passenger_count': 2.0, 'Year': 2010.0, 'Month': 4.0, 'Day': 24.0, 'Hours': 16.0, 'Minutes': 29.0, 'mornight': 1.0, 'Total distance': 4.406075199}, {'fare_amount': 4.5, 'fare_class': 0.0, 'passenger_count': 1.0, 'Year': 2010.0, 'Month': 4.0, 'Day': 17.0, 'Hours': 21.0, 'Minutes': 30.0, 'mornight': 1.0, 'Total distance': 1.1747573421}, {'fare_amount': 4.9, 'fare_class': 0.0, 'passenger_count': 1.0, 'Year': 2010.0, 'Month': 4.0, 'Day': 18.0, 'Hours': 23.0, 'Minutes': 45.0, 'mornight': 1.0, 'Total distance': 1.4699072089}, {'fare_amount': 4.9, 'fare_class': 0.0, 'passenger_count': 1.0, 'Year': 2010.0, 'Month': 4.0, 'Day': 15.0, 'Hours': 6.0, 'Minutes': 15.0, 'mornight': 0.0, 'Total distance': 0.8058753897}, {'fare_amount': 6.9, 'fare_class': 0.0, 'passenger_count': 1.0, 'Year': 2010.0, 'Month': 4.0, 'Day': 20.0, 'Hours': 7.0, 'Minutes': 32.0, 'mornight': 0.0, 'Total distance': 2.6949807081}, {'fare_amount': 9.7, 'fare_class': 0.0, 'passenger_count': 2.0, 'Year': 2010.0, 'Month': 4.0, 'Day': 16.0, 'Hours': 3.0, 'Minutes': 28.0, 'mornight': 0.0, 'Total distance': 3.8444477194}, {'fare_amount': 7.7, 'fare_class': 0.0, 'passenger_count': 1.0, 'Year': 2010.0, 'Month': 4.0, 'Day': 23.0, 'Hours': 21.0, 'Minutes': 49.0, 'mornight': 1.0, 'Total distance': 2.212932547}, {'fare_amount': 4.5, 'fare_class': 0.0, 'passenger_count': 2.0, 'Year': 2010.0, 'Month': 4.0, 'Day': 21.0, 'Hours': 15.0, 'Minutes': 14.0, 'mornight': 1.0, 'Total distance': 0.7952580223}, {'fare_amount': 4.9, 'fare_class': 0.0, 'passenger_count': 2.0, 'Year': 2010.0, 'Month': 4.0, 'Day': 19.0, 'Hours': 19.0, 'Minutes': 57.0, 'mornight': 1.0, 'Total distance': 1.2679172185}, {'fare_amount': 7.7, 'fare_class': 0.0, 'passenger_count': 1.0, 'Year': 2010.0, 'Month': 4.0, 'Day': 14.0, 'Hours': 14.0, 'Minutes': 50.0, 'mornight': 1.0, 'Total distance': 2.6481464034}, {'fare_amount': 6.9, 'fare_class': 0.0, 'passenger_count': 1.0, 'Year': 2010.0, 'Month': 4.0, 'Day': 11.0, 'Hours': 3.0, 'Minutes': 3.0, 'mornight': 0.0, 'Total distance': 2.9890523272}, {'fare_amount': 4.9, 'fare_class': 0.0, 'passenger_count': 1.0, 'Year': 2010.0, 'Month': 4.0, 'Day': 17.0, 'Hours': 10.0, 'Minutes': 22.0, 'mornight': 0.0, 'Total distance': 0.8353050235}, {'fare_amount': 9.7, 'fare_class': 0.0, 'passenger_count': 1.0, 'Year': 2010.0, 'Month': 4.0, 'Day': 21.0, 'Hours': 10.0, 'Minutes': 9.0, 'mornight': 0.0, 'Total distance': 3.6813884291}, {'fare_amount': 9.3, 'fare_class': 0.0, 'passenger_count': 1.0, 'Year': 2010.0, 'Month': 4.0, 'Day': 19.0, 'Hours': 13.0, 'Minutes': 57.0, 'mornight': 1.0, 'Total distance': 2.6520404624}, {'fare_amount': 11.3, 'fare_class': 1.0, 'passenger_count': 1.0, 'Year': 2010.0, 'Month': 4.0, 'Day': 12.0, 'Hours': 21.0, 'Minutes': 1.0, 'mornight': 1.0, 'Total distance': 1.0038030953}, {'fare_amount': 4.9, 'fare_class': 0.0, 'passenger_count': 1.0, 'Year': 2010.0, 'Month': 4.0, 'Day': 24.0, 'Hours': 9.0, 'Minutes': 18.0, 'mornight': 0.0, 'Total distance': 0.6495696339}, {'fare_amount': 8.1, 'fare_class': 0.0, 'passenger_count': 2.0, 'Year': 2010.0, 'Month': 4.0, 'Day': 24.0, 'Hours': 11.0, 'Minutes': 31.0, 'mornight': 0.0, 'Total distance': 2.4841056313}, {'fare_amount': 12.5, 'fare_class': 1.0, 'passenger_count': 1.0, 'Year': 2010.0, 'Month': 4.0, 'Day': 12.0, 'Hours': 17.0, 'Minutes': 1.0, 'mornight': 1.0, 'Total distance': 5.517912038}, {'fare_amount': 4.9, 'fare_class': 0.0, 'passenger_count': 1.0, 'Year': 2010.0, 'Month': 4.0, 'Day': 19.0, 'Hours': 9.0, 'Minutes': 46.0, 'mornight': 0.0, 'Total distance': 1.664485203}, {'fare_amount': 17.3, 'fare_class': 1.0, 'passenger_count': 1.0, 'Year': 2010.0, 'Month': 4.0, 'Day': 20.0, 'Hours': 14.0, 'Minutes': 16.0, 'mornight': 1.0, 'Total distance': 8.8830615239}, {'fare_amount': 14.5, 'fare_class': 1.0, 'passenger_count': 1.0, 'Year': 2010.0, 'Month': 4.0, 'Day': 13.0, 'Hours': 5.0, 'Minutes': 52.0, 'mornight': 0.0, 'Total distance': 5.5693739636}, {'fare_amount': 3.7, 'fare_class': 0.0, 'passenger_count': 1.0, 'Year': 2010.0, 'Month': 4.0, 'Day': 15.0, 'Hours': 16.0, 'Minutes': 1.0, 'mornight': 1.0, 'Total distance': 0.8195962745}, {'fare_amount': 28.67, 'fare_class': 1.0, 'passenger_count': 1.0, 'Year': 2010.0, 'Month': 4.0, 'Day': 22.0, 'Hours': 7.0, 'Minutes': 4.0, 'mornight': 0.0, 'Total distance': 10.6924235472}, {'fare_amount': 9.3, 'fare_class': 0.0, 'passenger_count': 1.0, 'Year': 2010.0, 'Month': 4.0, 'Day': 13.0, 'Hours': 18.0, 'Minutes': 12.0, 'mornight': 1.0, 'Total distance': 4.0642222916}, {'fare_amount': 11.7, 'fare_class': 1.0, 'passenger_count': 1.0, 'Year': 2010.0, 'Month': 4.0, 'Day': 19.0, 'Hours': 18.0, 'Minutes': 56.0, 'mornight': 1.0, 'Total distance': 4.5987079171}, {'fare_amount': 15.87, 'fare_class': 1.0, 'passenger_count': 1.0, 'Year': 2010.0, 'Month': 4.0, 'Day': 17.0, 'Hours': 19.0, 'Minutes': 55.0, 'mornight': 1.0, 'Total distance': 4.124120091}, {'fare_amount': 12.5, 'fare_class': 1.0, 'passenger_count': 1.0, 'Year': 2010.0, 'Month': 4.0, 'Day': 21.0, 'Hours': 0.0, 'Minutes': 8.0, 'mornight': 0.0, 'Total distance': 6.2217179616}, {'fare_amount': 11.7, 'fare_class': 1.0, 'passenger_count': 1.0, 'Year': 2010.0, 'Month': 4.0, 'Day': 24.0, 'Hours': 16.0, 'Minutes': 10.0, 'mornight': 1.0, 'Total distance': 1.4405952384}, {'fare_amount': 4.5, 'fare_class': 0.0, 'passenger_count': 1.0, 'Year': 2010.0, 'Month': 4.0, 'Day': 12.0, 'Hours': 14.0, 'Minutes': 18.0, 'mornight': 1.0, 'Total distance': 1.321979282}, {'fare_amount': 6.9, 'fare_class': 0.0, 'passenger_count': 1.0, 'Year': 2010.0, 'Month': 4.0, 'Day': 21.0, 'Hours': 3.0, 'Minutes': 41.0, 'mornight': 0.0, 'Total distance': 2.5606688211}, {'fare_amount': 14.5, 'fare_class': 1.0, 'passenger_count': 3.0, 'Year': 2010.0, 'Month': 4.0, 'Day': 11.0, 'Hours': 6.0, 'Minutes': 20.0, 'mornight': 0.0, 'Total distance': 3.1428353962}, {'fare_amount': 15.3, 'fare_class': 1.0, 'passenger_count': 1.0, 'Year': 2010.0, 'Month': 4.0, 'Day': 13.0, 'Hours': 13.0, 'Minutes': 57.0, 'mornight': 1.0, 'Total distance': 5.0925869651}, {'fare_amount': 6.9, 'fare_class': 0.0, 'passenger_count': 2.0, 'Year': 2010.0, 'Month': 4.0, 'Day': 16.0, 'Hours': 20.0, 'Minutes': 5.0, 'mornight': 1.0, 'Total distance': 3.0047044279}, {'fare_amount': 8.5, 'fare_class': 0.0, 'passenger_count': 1.0, 'Year': 2010.0, 'Month': 4.0, 'Day': 14.0, 'Hours': 12.0, 'Minutes': 4.0, 'mornight': 1.0, 'Total distance': 2.6470322838}, {'fare_amount': 8.1, 'fare_class': 0.0, 'passenger_count': 5.0, 'Year': 2010.0, 'Month': 4.0, 'Day': 22.0, 'Hours': 19.0, 'Minutes': 1.0, 'mornight': 1.0, 'Total distance': 1.9740795044}, {'fare_amount': 4.5, 'fare_class': 0.0, 'passenger_count': 1.0, 'Year': 2010.0, 'Month': 4.0, 'Day': 21.0, 'Hours': 14.0, 'Minutes': 2.0, 'mornight': 1.0, 'Total distance': 0.6008687158}, {'fare_amount': 34.67, 'fare_class': 1.0, 'passenger_count': 2.0, 'Year': 2010.0, 'Month': 4.0, 'Day': 18.0, 'Hours': 10.0, 'Minutes': 8.0, 'mornight': 0.0, 'Total distance': 12.7685753807}, {'fare_amount': 7.3, 'fare_class': 0.0, 'passenger_count': 1.0, 'Year': 2010.0, 'Month': 4.0, 'Day': 19.0, 'Hours': 10.0, 'Minutes': 20.0, 'mornight': 0.0, 'Total distance': 1.43516814}, {'fare_amount': 6.1, 'fare_class': 0.0, 'passenger_count': 1.0, 'Year': 2010.0, 'Month': 4.0, 'Day': 12.0, 'Hours': 2.0, 'Minutes': 6.0, 'mornight': 0.0, 'Total distance': 2.192918767}, {'fare_amount': 4.9, 'fare_class': 0.0, 'passenger_count': 1.0, 'Year': 2010.0, 'Month': 4.0, 'Day': 12.0, 'Hours': 21.0, 'Minutes': 35.0, 'mornight': 1.0, 'Total distance': 1.289308478}, {'fare_amount': 5.7, 'fare_class': 0.0, 'passenger_count': 2.0, 'Year': 2010.0, 'Month': 4.0, 'Day': 22.0, 'Hours': 5.0, 'Minutes': 42.0, 'mornight': 0.0, 'Total distance': 1.346552747}, {'fare_amount': 6.9, 'fare_class': 0.0, 'passenger_count': 2.0, 'Year': 2010.0, 'Month': 4.0, 'Day': 13.0, 'Hours': 15.0, 'Minutes': 39.0, 'mornight': 1.0, 'Total distance': 2.4983936498}, {'fare_amount': 12.5, 'fare_class': 1.0, 'passenger_count': 1.0, 'Year': 2010.0, 'Month': 4.0, 'Day': 23.0, 'Hours': 5.0, 'Minutes': 44.0, 'mornight': 0.0, 'Total distance': 3.1778912776}, {'fare_amount': 8.5, 'fare_class': 0.0, 'passenger_count': 1.0, 'Year': 2010.0, 'Month': 4.0, 'Day': 23.0, 'Hours': 22.0, 'Minutes': 18.0, 'mornight': 1.0, 'Total distance': 4.0399250482}, {'fare_amount': 9.7, 'fare_class': 0.0, 'passenger_count': 1.0, 'Year': 2010.0, 'Month': 4.0, 'Day': 22.0, 'Hours': 18.0, 'Minutes': 33.0, 'mornight': 1.0, 'Total distance': 2.0667913506}, {'fare_amount': 22.5, 'fare_class': 1.0, 'passenger_count': 1.0, 'Year': 2010.0, 'Month': 4.0, 'Day': 23.0, 'Hours': 20.0, 'Minutes': 20.0, 'mornight': 1.0, 'Total distance': 5.5180842842}, {'fare_amount': 8.1, 'fare_class': 0.0, 'passenger_count': 1.0, 'Year': 2010.0, 'Month': 4.0, 'Day': 16.0, 'Hours': 17.0, 'Minutes': 8.0, 'mornight': 1.0, 'Total distance': 2.9527462106}, {'fare_amount': 6.1, 'fare_class': 0.0, 'passenger_count': 1.0, 'Year': 2010.0, 'Month': 4.0, 'Day': 11.0, 'Hours': 16.0, 'Minutes': 11.0, 'mornight': 1.0, 'Total distance': 1.2886133533}, {'fare_amount': 14.1, 'fare_class': 1.0, 'passenger_count': 1.0, 'Year': 2010.0, 'Month': 4.0, 'Day': 22.0, 'Hours': 21.0, 'Minutes': 4.0, 'mornight': 1.0, 'Total distance': 6.2293122544}, {'fare_amount': 6.5, 'fare_class': 0.0, 'passenger_count': 1.0, 'Year': 2010.0, 'Month': 4.0, 'Day': 16.0, 'Hours': 14.0, 'Minutes': 9.0, 'mornight': 1.0, 'Total distance': 1.7049616804}, {'fare_amount': 4.1, 'fare_class': 0.0, 'passenger_count': 1.0, 'Year': 2010.0, 'Month': 4.0, 'Day': 13.0, 'Hours': 2.0, 'Minutes': 28.0, 'mornight': 0.0, 'Total distance': 0.9354656357}, {'fare_amount': 14.5, 'fare_class': 1.0, 'passenger_count': 1.0, 'Year': 2010.0, 'Month': 4.0, 'Day': 22.0, 'Hours': 22.0, 'Minutes': 52.0, 'mornight': 1.0, 'Total distance': 6.6806690268}, {'fare_amount': 10.1, 'fare_class': 1.0, 'passenger_count': 1.0, 'Year': 2010.0, 'Month': 4.0, 'Day': 17.0, 'Hours': 15.0, 'Minutes': 44.0, 'mornight': 1.0, 'Total distance': 1.7708688275}, {'fare_amount': 3.7, 'fare_class': 0.0, 'passenger_count': 1.0, 'Year': 2010.0, 'Month': 4.0, 'Day': 17.0, 'Hours': 14.0, 'Minutes': 47.0, 'mornight': 1.0, 'Total distance': 0.7823946391}, {'fare_amount': 4.1, 'fare_class': 0.0, 'passenger_count': 1.0, 'Year': 2010.0, 'Month': 4.0, 'Day': 18.0, 'Hours': 13.0, 'Minutes': 44.0, 'mornight': 1.0, 'Total distance': 4.9574883145}, {'fare_amount': 4.5, 'fare_class': 0.0, 'passenger_count': 1.0, 'Year': 2010.0, 'Month': 4.0, 'Day': 24.0, 'Hours': 16.0, 'Minutes': 56.0, 'mornight': 1.0, 'Total distance': 1.1546338029}, {'fare_amount': 4.9, 'fare_class': 0.0, 'passenger_count': 1.0, 'Year': 2010.0, 'Month': 4.0, 'Day': 14.0, 'Hours': 2.0, 'Minutes': 28.0, 'mornight': 0.0, 'Total distance': 0.891791634}, {'fare_amount': 5.3, 'fare_class': 0.0, 'passenger_count': 1.0, 'Year': 2010.0, 'Month': 4.0, 'Day': 16.0, 'Hours': 15.0, 'Minutes': 55.0, 'mornight': 1.0, 'Total distance': 1.3093048331}, {'fare_amount': 4.9, 'fare_class': 0.0, 'passenger_count': 1.0, 'Year': 2010.0, 'Month': 4.0, 'Day': 20.0, 'Hours': 9.0, 'Minutes': 18.0, 'mornight': 0.0, 'Total distance': 0.7940528547}, {'fare_amount': 8.9, 'fare_class': 0.0, 'passenger_count': 1.0, 'Year': 2010.0, 'Month': 4.0, 'Day': 16.0, 'Hours': 19.0, 'Minutes': 27.0, 'mornight': 1.0, 'Total distance': 3.0807218087}, {'fare_amount': 14.5, 'fare_class': 1.0, 'passenger_count': 2.0, 'Year': 2010.0, 'Month': 4.0, 'Day': 23.0, 'Hours': 22.0, 'Minutes': 21.0, 'mornight': 1.0, 'Total distance': 5.7907616468}, {'fare_amount': 3.3, 'fare_class': 0.0, 'passenger_count': 2.0, 'Year': 2010.0, 'Month': 4.0, 'Day': 19.0, 'Hours': 13.0, 'Minutes': 55.0, 'mornight': 1.0, 'Total distance': 0.6555911373}, {'fare_amount': 5.3, 'fare_class': 0.0, 'passenger_count': 1.0, 'Year': 2010.0, 'Month': 4.0, 'Day': 12.0, 'Hours': 23.0, 'Minutes': 3.0, 'mornight': 1.0, 'Total distance': 1.7116601058}, {'fare_amount': 5.7, 'fare_class': 0.0, 'passenger_count': 1.0, 'Year': 2010.0, 'Month': 4.0, 'Day': 15.0, 'Hours': 10.0, 'Minutes': 20.0, 'mornight': 0.0, 'Total distance': 1.2859180454}, {'fare_amount': 8.1, 'fare_class': 0.0, 'passenger_count': 1.0, 'Year': 2010.0, 'Month': 4.0, 'Day': 16.0, 'Hours': 22.0, 'Minutes': 48.0, 'mornight': 1.0, 'Total distance': 2.7801087223}, {'fare_amount': 12.1, 'fare_class': 1.0, 'passenger_count': 1.0, 'Year': 2010.0, 'Month': 4.0, 'Day': 24.0, 'Hours': 1.0, 'Minutes': 32.0, 'mornight': 0.0, 'Total distance': 5.6177028256}, {'fare_amount': 43.7, 'fare_class': 1.0, 'passenger_count': 1.0, 'Year': 2010.0, 'Month': 4.0, 'Day': 12.0, 'Hours': 19.0, 'Minutes': 35.0, 'mornight': 1.0, 'Total distance': 20.2048238601}, {'fare_amount': 10.5, 'fare_class': 1.0, 'passenger_count': 3.0, 'Year': 2010.0, 'Month': 4.0, 'Day': 20.0, 'Hours': 21.0, 'Minutes': 49.0, 'mornight': 1.0, 'Total distance': 3.4323460967}, {'fare_amount': 3.7, 'fare_class': 0.0, 'passenger_count': 2.0, 'Year': 2010.0, 'Month': 4.0, 'Day': 18.0, 'Hours': 15.0, 'Minutes': 52.0, 'mornight': 1.0, 'Total distance': 0.6034390683}, {'fare_amount': 3.7, 'fare_class': 0.0, 'passenger_count': 1.0, 'Year': 2010.0, 'Month': 4.0, 'Day': 13.0, 'Hours': 13.0, 'Minutes': 41.0, 'mornight': 1.0, 'Total distance': 0.6702411715}, {'fare_amount': 26.1, 'fare_class': 1.0, 'passenger_count': 1.0, 'Year': 2010.0, 'Month': 4.0, 'Day': 23.0, 'Hours': 15.0, 'Minutes': 17.0, 'mornight': 1.0, 'Total distance': 13.8381741219}, {'fare_amount': 9.7, 'fare_class': 0.0, 'passenger_count': 1.0, 'Year': 2010.0, 'Month': 4.0, 'Day': 13.0, 'Hours': 8.0, 'Minutes': 38.0, 'mornight': 0.0, 'Total distance': 3.153083294}, {'fare_amount': 12.1, 'fare_class': 1.0, 'passenger_count': 2.0, 'Year': 2010.0, 'Month': 4.0, 'Day': 17.0, 'Hours': 17.0, 'Minutes': 2.0, 'mornight': 1.0, 'Total distance': 5.3798721793}, {'fare_amount': 3.7, 'fare_class': 0.0, 'passenger_count': 1.0, 'Year': 2010.0, 'Month': 4.0, 'Day': 14.0, 'Hours': 6.0, 'Minutes': 16.0, 'mornight': 0.0, 'Total distance': 0.5173265084}, {'fare_amount': 6.5, 'fare_class': 0.0, 'passenger_count': 1.0, 'Year': 2010.0, 'Month': 4.0, 'Day': 20.0, 'Hours': 2.0, 'Minutes': 47.0, 'mornight': 0.0, 'Total distance': 2.4616360016}, {'fare_amount': 4.1, 'fare_class': 0.0, 'passenger_count': 1.0, 'Year': 2010.0, 'Month': 4.0, 'Day': 11.0, 'Hours': 14.0, 'Minutes': 44.0, 'mornight': 1.0, 'Total distance': 0.7802103083}, {'fare_amount': 11.3, 'fare_class': 1.0, 'passenger_count': 2.0, 'Year': 2010.0, 'Month': 4.0, 'Day': 20.0, 'Hours': 18.0, 'Minutes': 36.0, 'mornight': 1.0, 'Total distance': 5.0819930065}, {'fare_amount': 6.5, 'fare_class': 0.0, 'passenger_count': 1.0, 'Year': 2010.0, 'Month': 4.0, 'Day': 12.0, 'Hours': 5.0, 'Minutes': 34.0, 'mornight': 0.0, 'Total distance': 1.8425324207}, {'fare_amount': 6.9, 'fare_class': 0.0, 'passenger_count': 1.0, 'Year': 2010.0, 'Month': 4.0, 'Day': 15.0, 'Hours': 23.0, 'Minutes': 8.0, 'mornight': 1.0, 'Total distance': 1.9176178397}, {'fare_amount': 10.9, 'fare_class': 1.0, 'passenger_count': 1.0, 'Year': 2010.0, 'Month': 4.0, 'Day': 16.0, 'Hours': 11.0, 'Minutes': 52.0, 'mornight': 0.0, 'Total distance': 3.2815907917}, {'fare_amount': 6.9, 'fare_class': 0.0, 'passenger_count': 1.0, 'Year': 2010.0, 'Month': 4.0, 'Day': 18.0, 'Hours': 1.0, 'Minutes': 27.0, 'mornight': 0.0, 'Total distance': 1.7125156174}, {'fare_amount': 18.5, 'fare_class': 1.0, 'passenger_count': 1.0, 'Year': 2010.0, 'Month': 4.0, 'Day': 23.0, 'Hours': 1.0, 'Minutes': 59.0, 'mornight': 0.0, 'Total distance': 7.8500675609}, {'fare_amount': 8.1, 'fare_class': 0.0, 'passenger_count': 3.0, 'Year': 2010.0, 'Month': 4.0, 'Day': 15.0, 'Hours': 5.0, 'Minutes': 55.0, 'mornight': 0.0, 'Total distance': 2.2057432787}, {'fare_amount': 32.67, 'fare_class': 1.0, 'passenger_count': 1.0, 'Year': 2010.0, 'Month': 4.0, 'Day': 11.0, 'Hours': 9.0, 'Minutes': 19.0, 'mornight': 0.0, 'Total distance': 4.8179901483}, {'fare_amount': 5.3, 'fare_class': 0.0, 'passenger_count': 1.0, 'Year': 2010.0, 'Month': 4.0, 'Day': 16.0, 'Hours': 18.0, 'Minutes': 58.0, 'mornight': 1.0, 'Total distance': 1.4588812499}, {'fare_amount': 3.7, 'fare_class': 0.0, 'passenger_count': 1.0, 'Year': 2010.0, 'Month': 4.0, 'Day': 21.0, 'Hours': 21.0, 'Minutes': 16.0, 'mornight': 1.0, 'Total distance': 1.1117940058}, {'fare_amount': 6.5, 'fare_class': 0.0, 'passenger_count': 1.0, 'Year': 2010.0, 'Month': 4.0, 'Day': 13.0, 'Hours': 14.0, 'Minutes': 17.0, 'mornight': 1.0, 'Total distance': 2.0903174748}])"
      ]
     },
     "execution_count": 27,
     "metadata": {},
     "output_type": "execute_result"
    }
   ],
   "source": [
    "records"
   ]
  },
  {
   "cell_type": "code",
   "execution_count": 28,
   "id": "emerging-cache",
   "metadata": {},
   "outputs": [
    {
     "data": {
      "text/plain": [
       "<pymongo.results.InsertManyResult at 0x1764593bf88>"
      ]
     },
     "execution_count": 28,
     "metadata": {},
     "output_type": "execute_result"
    }
   ],
   "source": [
    "col.insert_many(records)"
   ]
  },
  {
   "cell_type": "markdown",
   "id": "honey-logan",
   "metadata": {},
   "source": [
    "### Feature Selection"
   ]
  },
  {
   "cell_type": "code",
   "execution_count": 29,
   "id": "african-lawsuit",
   "metadata": {},
   "outputs": [],
   "source": [
    "X=df.iloc[:,1:]\n",
    "y=df.iloc[:,0]"
   ]
  },
  {
   "cell_type": "code",
   "execution_count": 30,
   "id": "threaded-butterfly",
   "metadata": {},
   "outputs": [
    {
     "data": {
      "text/plain": [
       "ExtraTreesRegressor()"
      ]
     },
     "execution_count": 30,
     "metadata": {},
     "output_type": "execute_result"
    }
   ],
   "source": [
    "from sklearn.ensemble import ExtraTreesRegressor\n",
    "import matplotlib.pyplot as plt\n",
    "model=ExtraTreesRegressor()\n",
    "model.fit(X,y)"
   ]
  },
  {
   "cell_type": "code",
   "execution_count": 31,
   "id": "modified-bridal",
   "metadata": {},
   "outputs": [
    {
     "data": {
      "image/png": "[encoded data removed]",
      "text/plain": [
       "<Figure size 432x288 with 1 Axes>"
      ]
     },
     "metadata": {
      "needs_background": "light"
     },
     "output_type": "display_data"
    }
   ],
   "source": [
    "##Plotting Graph of feature importance for better visualization\n",
    "\n",
    "feat_importances=pd.Series(model.feature_importances_,index=X.columns)\n",
    "feat_importances.nlargest(7).plot(kind='barh')\n",
    "plt.show()"
   ]
  },
  {
   "cell_type": "code",
   "execution_count": 32,
   "id": "invalid-national",
   "metadata": {},
   "outputs": [
    {
     "data": {
      "text/html": [
       "<div>\n",
       "<style scoped>\n",
       "    .dataframe tbody tr th:only-of-type {\n",
       "        vertical-align: middle;\n",
       "    }\n",
       "\n",
       "    .dataframe tbody tr th {\n",
       "        vertical-align: top;\n",
       "    }\n",
       "\n",
       "    .dataframe thead th {\n",
       "        text-align: right;\n",
       "    }\n",
       "</style>\n",
       "<table border=\"1\" class=\"dataframe\">\n",
       "  <thead>\n",
       "    <tr style=\"text-align: right;\">\n",
       "      <th></th>\n",
       "      <th>fare_class</th>\n",
       "      <th>passenger_count</th>\n",
       "      <th>Year</th>\n",
       "      <th>Month</th>\n",
       "      <th>Day</th>\n",
       "      <th>Hours</th>\n",
       "      <th>Minutes</th>\n",
       "      <th>mornight</th>\n",
       "      <th>Total distance</th>\n",
       "    </tr>\n",
       "  </thead>\n",
       "  <tbody>\n",
       "    <tr>\n",
       "      <th>34415</th>\n",
       "      <td>1</td>\n",
       "      <td>4</td>\n",
       "      <td>2010</td>\n",
       "      <td>4</td>\n",
       "      <td>18</td>\n",
       "      <td>13</td>\n",
       "      <td>11</td>\n",
       "      <td>1</td>\n",
       "      <td>3.124883</td>\n",
       "    </tr>\n",
       "    <tr>\n",
       "      <th>89191</th>\n",
       "      <td>1</td>\n",
       "      <td>1</td>\n",
       "      <td>2010</td>\n",
       "      <td>4</td>\n",
       "      <td>20</td>\n",
       "      <td>11</td>\n",
       "      <td>27</td>\n",
       "      <td>0</td>\n",
       "      <td>4.021699</td>\n",
       "    </tr>\n",
       "    <tr>\n",
       "      <th>109367</th>\n",
       "      <td>0</td>\n",
       "      <td>2</td>\n",
       "      <td>2010</td>\n",
       "      <td>4</td>\n",
       "      <td>17</td>\n",
       "      <td>14</td>\n",
       "      <td>20</td>\n",
       "      <td>1</td>\n",
       "      <td>1.867904</td>\n",
       "    </tr>\n",
       "    <tr>\n",
       "      <th>75143</th>\n",
       "      <td>1</td>\n",
       "      <td>1</td>\n",
       "      <td>2010</td>\n",
       "      <td>4</td>\n",
       "      <td>18</td>\n",
       "      <td>4</td>\n",
       "      <td>38</td>\n",
       "      <td>0</td>\n",
       "      <td>5.332207</td>\n",
       "    </tr>\n",
       "    <tr>\n",
       "      <th>50595</th>\n",
       "      <td>0</td>\n",
       "      <td>1</td>\n",
       "      <td>2010</td>\n",
       "      <td>4</td>\n",
       "      <td>23</td>\n",
       "      <td>13</td>\n",
       "      <td>35</td>\n",
       "      <td>1</td>\n",
       "      <td>1.227739</td>\n",
       "    </tr>\n",
       "  </tbody>\n",
       "</table>\n",
       "</div>"
      ],
      "text/plain": [
       "        fare_class  passenger_count  Year  Month  Day  Hours  Minutes  \\\n",
       "34415            1                4  2010      4   18     13       11   \n",
       "89191            1                1  2010      4   20     11       27   \n",
       "109367           0                2  2010      4   17     14       20   \n",
       "75143            1                1  2010      4   18      4       38   \n",
       "50595            0                1  2010      4   23     13       35   \n",
       "\n",
       "        mornight  Total distance  \n",
       "34415          1        3.124883  \n",
       "89191          0        4.021699  \n",
       "109367         1        1.867904  \n",
       "75143          0        5.332207  \n",
       "50595          1        1.227739  "
      ]
     },
     "execution_count": 32,
     "metadata": {},
     "output_type": "execute_result"
    }
   ],
   "source": [
    "X.head()"
   ]
  },
  {
   "cell_type": "code",
   "execution_count": 33,
   "id": "according-sheet",
   "metadata": {},
   "outputs": [
    {
     "data": {
      "text/plain": [
       "34415     13.7\n",
       "89191     10.9\n",
       "109367     8.1\n",
       "75143     14.5\n",
       "50595      5.7\n",
       "Name: fare_amount, dtype: float64"
      ]
     },
     "execution_count": 33,
     "metadata": {},
     "output_type": "execute_result"
    }
   ],
   "source": [
    "y.head()"
   ]
  },
  {
   "cell_type": "markdown",
   "id": "economic-purse",
   "metadata": {},
   "source": [
    "### Regression Model"
   ]
  },
  {
   "cell_type": "code",
   "execution_count": 34,
   "id": "productive-tablet",
   "metadata": {},
   "outputs": [],
   "source": [
    "from sklearn.model_selection import train_test_split\n",
    "X_train,X_test,y_train,y_test=train_test_split(X,y,test_size=0.3,random_state=100)"
   ]
  },
  {
   "cell_type": "code",
   "execution_count": 35,
   "id": "separated-crash",
   "metadata": {},
   "outputs": [],
   "source": [
    "import xgboost"
   ]
  },
  {
   "cell_type": "code",
   "execution_count": 36,
   "id": "answering-afghanistan",
   "metadata": {},
   "outputs": [
    {
     "data": {
      "text/plain": [
       "XGBRegressor(base_score=0.5, booster='gbtree', colsample_bylevel=1,\n",
       "             colsample_bynode=1, colsample_bytree=1, gamma=0, gpu_id=-1,\n",
       "             importance_type='gain', interaction_constraints='',\n",
       "             learning_rate=0.300000012, max_delta_step=0, max_depth=6,\n",
       "             min_child_weight=1, missing=nan, monotone_constraints='()',\n",
       "             n_estimators=100, n_jobs=4, num_parallel_tree=1, random_state=0,\n",
       "             reg_alpha=0, reg_lambda=1, scale_pos_weight=1, subsample=1,\n",
       "             tree_method='exact', validate_parameters=1, verbosity=None)"
      ]
     },
     "execution_count": 36,
     "metadata": {},
     "output_type": "execute_result"
    }
   ],
   "source": [
    "regressor=xgboost.XGBRegressor()\n",
    "regressor.fit(X_train,y_train)"
   ]
  },
  {
   "cell_type": "code",
   "execution_count": 37,
   "id": "dimensional-ancient",
   "metadata": {},
   "outputs": [],
   "source": [
    "y_pred=regressor.predict(X_test)"
   ]
  },
  {
   "cell_type": "code",
   "execution_count": 38,
   "id": "owned-digest",
   "metadata": {},
   "outputs": [],
   "source": [
    "import matplotlib.pyplot as plt\n",
    "%matplotlib inline"
   ]
  },
  {
   "cell_type": "code",
   "execution_count": 39,
   "id": "environmental-faculty",
   "metadata": {},
   "outputs": [],
   "source": [
    "import seaborn as sns"
   ]
  },
  {
   "cell_type": "code",
   "execution_count": 40,
   "id": "spread-batch",
   "metadata": {},
   "outputs": [
    {
     "name": "stderr",
     "output_type": "stream",
     "text": [
      "c:\\users\\swarnava\\appdata\\local\\programs\\python\\python37\\lib\\site-packages\\seaborn\\distributions.py:2557: FutureWarning: `distplot` is a deprecated function and will be removed in a future version. Please adapt your code to use either `displot` (a figure-level function with similar flexibility) or `histplot` (an axes-level function for histograms).\n",
      "  warnings.warn(msg, FutureWarning)\n"
     ]
    },
    {
     "data": {
      "text/plain": [
       "<AxesSubplot:xlabel='fare_amount', ylabel='Density'>"
      ]
     },
     "execution_count": 40,
     "metadata": {},
     "output_type": "execute_result"
    },
    {
     "data": {
      "image/png": "[encoded data removed]",
      "text/plain": [
       "<Figure size 432x288 with 1 Axes>"
      ]
     },
     "metadata": {
      "needs_background": "light"
     },
     "output_type": "display_data"
    }
   ],
   "source": [
    "sns.distplot(y_test-y_pred)"
   ]
  },
  {
   "cell_type": "code",
   "execution_count": 41,
   "id": "light-ethics",
   "metadata": {},
   "outputs": [
    {
     "data": {
      "text/plain": [
       "<matplotlib.collections.PathCollection at 0x17652f453c8>"
      ]
     },
     "execution_count": 41,
     "metadata": {},
     "output_type": "execute_result"
    },
    {
     "data": {
      "image/png": "[encoded data removed]",
      "text/plain": [
       "<Figure size 432x288 with 1 Axes>"
      ]
     },
     "metadata": {
      "needs_background": "light"
     },
     "output_type": "display_data"
    }
   ],
   "source": [
    "plt.scatter(y_test,y_pred)"
   ]
  },
  {
   "cell_type": "code",
   "execution_count": 42,
   "id": "lucky-notebook",
   "metadata": {},
   "outputs": [
    {
     "name": "stdout",
     "output_type": "stream",
     "text": [
      "R-Square: 0.9034141859693819\n",
      "MAE: 1.606682827260759\n",
      "MSE: 8.049489522325366\n",
      "RMSE: 2.8371622305263697\n"
     ]
    }
   ],
   "source": [
    "from sklearn import metrics\n",
    "print('R-Square:',np.sqrt(metrics.r2_score(y_test,y_pred)))\n",
    "print('MAE:',metrics.mean_absolute_error(y_test,y_pred))\n",
    "print('MSE:',metrics.mean_squared_error(y_test,y_pred))\n",
    "print('RMSE:',np.sqrt(metrics.mean_squared_error(y_test,y_pred)))"
   ]
  },
  {
   "cell_type": "markdown",
   "id": "comparable-superior",
   "metadata": {},
   "source": [
    "### Hyperparameter Tuning"
   ]
  },
  {
   "cell_type": "code",
   "execution_count": 43,
   "id": "pacific-result",
   "metadata": {},
   "outputs": [],
   "source": [
    "from sklearn.model_selection import RandomizedSearchCV"
   ]
  },
  {
   "cell_type": "code",
   "execution_count": 44,
   "id": "derived-gothic",
   "metadata": {},
   "outputs": [
    {
     "name": "stdout",
     "output_type": "stream",
     "text": [
      "[100, 200, 300, 400, 500, 600, 700, 800, 900, 1000, 1100, 1200]\n"
     ]
    }
   ],
   "source": [
    "n_estimators=[int(x) for x in np.linspace(start=100,stop=1200,num=12)]\n",
    "print(n_estimators)"
   ]
  },
  {
   "cell_type": "code",
   "execution_count": 45,
   "id": "abroad-million",
   "metadata": {},
   "outputs": [],
   "source": [
    "# RandomizedSearchCV\n",
    "\n",
    "## Number of trees in Xgboost\n",
    "n_estimators=[int(x) for x in np.linspace(start=100,stop=1200,num=12)]\n",
    "\n",
    "## Various learning rate parameters\n",
    "learning_rate=['0.05','0.1','0.2','0.3','0.5','0.6']\n",
    "\n",
    "## Maximum number of levels in tree\n",
    "max_depth=[int(x) for x in np.linspace(5,30,num=6)]\n",
    "\n",
    "## max_depth.append(None)\n",
    "\n",
    "## Subsample parameter values\n",
    "subsample=[0.7,0.6,0.8]\n",
    "\n",
    "## Minimum child weight parameters\n",
    "min_child_weight=[3,4,5,6,7]"
   ]
  },
  {
   "cell_type": "code",
   "execution_count": 46,
   "id": "stunning-planet",
   "metadata": {},
   "outputs": [
    {
     "name": "stdout",
     "output_type": "stream",
     "text": [
      "{'n_estimators': [100, 200, 300, 400, 500, 600, 700, 800, 900, 1000, 1100, 1200], 'learning_rate': ['0.05', '0.1', '0.2', '0.3', '0.5', '0.6'], 'max_depth': [5, 10, 15, 20, 25, 30], 'subsample': [0.7, 0.6, 0.8], 'min_child_weight': [3, 4, 5, 6, 7]}\n"
     ]
    }
   ],
   "source": [
    "## Create the Random grid\n",
    "\n",
    "random_grid={'n_estimators': n_estimators,\n",
    "            'learning_rate': learning_rate,\n",
    "            'max_depth': max_depth,\n",
    "            'subsample': subsample,\n",
    "            'min_child_weight': min_child_weight}\n",
    "\n",
    "print(random_grid)"
   ]
  },
  {
   "cell_type": "code",
   "execution_count": 47,
   "id": "fresh-point",
   "metadata": {},
   "outputs": [],
   "source": [
    "## Use the random_grid to search for the best parameters\n",
    "## first we create the base model to tune\n",
    "\n",
    "regressor=xgboost.XGBRegressor()"
   ]
  },
  {
   "cell_type": "code",
   "execution_count": 48,
   "id": "italian-cache",
   "metadata": {},
   "outputs": [],
   "source": [
    "## Random search of parameters using 3-folds CV\n",
    "## search accross 100 different combinations\n",
    "\n",
    "xg_random= RandomizedSearchCV(estimator=regressor,param_distributions=random_grid,scoring='neg_mean_squared_error',n_iter=5,cv=5,verbose=2,random_state=42,n_jobs=-1)"
   ]
  },
  {
   "cell_type": "code",
   "execution_count": 49,
   "id": "bearing-offer",
   "metadata": {},
   "outputs": [
    {
     "name": "stdout",
     "output_type": "stream",
     "text": [
      "Fitting 5 folds for each of 5 candidates, totalling 25 fits\n"
     ]
    },
    {
     "data": {
      "text/plain": [
       "RandomizedSearchCV(cv=5,\n",
       "                   estimator=XGBRegressor(base_score=None, booster=None,\n",
       "                                          colsample_bylevel=None,\n",
       "                                          colsample_bynode=None,\n",
       "                                          colsample_bytree=None, gamma=None,\n",
       "                                          gpu_id=None, importance_type='gain',\n",
       "                                          interaction_constraints=None,\n",
       "                                          learning_rate=None,\n",
       "                                          max_delta_step=None, max_depth=None,\n",
       "                                          min_child_weight=None, missing=nan,\n",
       "                                          monotone_constraints=None,\n",
       "                                          n_estimators=100, n...\n",
       "                                          validate_parameters=None,\n",
       "                                          verbosity=None),\n",
       "                   n_iter=5, n_jobs=-1,\n",
       "                   param_distributions={'learning_rate': ['0.05', '0.1', '0.2',\n",
       "                                                          '0.3', '0.5', '0.6'],\n",
       "                                        'max_depth': [5, 10, 15, 20, 25, 30],\n",
       "                                        'min_child_weight': [3, 4, 5, 6, 7],\n",
       "                                        'n_estimators': [100, 200, 300, 400,\n",
       "                                                         500, 600, 700, 800,\n",
       "                                                         900, 1000, 1100,\n",
       "                                                         1200],\n",
       "                                        'subsample': [0.7, 0.6, 0.8]},\n",
       "                   random_state=42, scoring='neg_mean_squared_error',\n",
       "                   verbose=2)"
      ]
     },
     "execution_count": 49,
     "metadata": {},
     "output_type": "execute_result"
    }
   ],
   "source": [
    "xg_random.fit(X_train,y_train)"
   ]
  },
  {
   "cell_type": "code",
   "execution_count": 50,
   "id": "revolutionary-hanging",
   "metadata": {},
   "outputs": [
    {
     "data": {
      "text/plain": [
       "{'subsample': 0.8,\n",
       " 'n_estimators': 1100,\n",
       " 'min_child_weight': 6,\n",
       " 'max_depth': 25,\n",
       " 'learning_rate': '0.05'}"
      ]
     },
     "execution_count": 50,
     "metadata": {},
     "output_type": "execute_result"
    }
   ],
   "source": [
    "xg_random.best_params_"
   ]
  },
  {
   "cell_type": "code",
   "execution_count": 51,
   "id": "backed-mercury",
   "metadata": {},
   "outputs": [],
   "source": [
    "y_pred=xg_random.predict(X_test)"
   ]
  },
  {
   "cell_type": "code",
   "execution_count": 52,
   "id": "thirty-serial",
   "metadata": {},
   "outputs": [
    {
     "name": "stderr",
     "output_type": "stream",
     "text": [
      "c:\\users\\swarnava\\appdata\\local\\programs\\python\\python37\\lib\\site-packages\\seaborn\\distributions.py:2557: FutureWarning: `distplot` is a deprecated function and will be removed in a future version. Please adapt your code to use either `displot` (a figure-level function with similar flexibility) or `histplot` (an axes-level function for histograms).\n",
      "  warnings.warn(msg, FutureWarning)\n"
     ]
    },
    {
     "data": {
      "text/plain": [
       "<AxesSubplot:xlabel='fare_amount', ylabel='Density'>"
      ]
     },
     "execution_count": 52,
     "metadata": {},
     "output_type": "execute_result"
    },
    {
     "data": {
      "image/png": "[encoded data removed]",
      "text/plain": [
       "<Figure size 432x288 with 1 Axes>"
      ]
     },
     "metadata": {
      "needs_background": "light"
     },
     "output_type": "display_data"
    }
   ],
   "source": [
    "sns.distplot(y_test-y_pred)"
   ]
  },
  {
   "cell_type": "code",
   "execution_count": 53,
   "id": "abroad-proxy",
   "metadata": {},
   "outputs": [
    {
     "data": {
      "text/plain": [
       "<matplotlib.collections.PathCollection at 0x17658f9e898>"
      ]
     },
     "execution_count": 53,
     "metadata": {},
     "output_type": "execute_result"
    },
    {
     "data": {
      "image/png": "[encoded data removed]",
      "text/plain": [
       "<Figure size 432x288 with 1 Axes>"
      ]
     },
     "metadata": {
      "needs_background": "light"
     },
     "output_type": "display_data"
    }
   ],
   "source": [
    "plt.scatter(y_test,y_pred)"
   ]
  },
  {
   "cell_type": "code",
   "execution_count": 54,
   "id": "improved-sampling",
   "metadata": {},
   "outputs": [
    {
     "name": "stdout",
     "output_type": "stream",
     "text": [
      "R-Square: 0.9198031106585797\n",
      "MAE: 1.6826393676333955\n",
      "MSE: 6.741179750725233\n",
      "RMSE: 2.596378198707814\n"
     ]
    }
   ],
   "source": [
    "from sklearn import metrics\n",
    "print('R-Square:',np.sqrt(metrics.r2_score(y_test,y_pred)))\n",
    "print('MAE:',metrics.mean_absolute_error(y_test,y_pred))\n",
    "print('MSE:',metrics.mean_squared_error(y_test,y_pred))\n",
    "print('RMSE:',np.sqrt(metrics.mean_squared_error(y_test,y_pred)))"
   ]
  },
  {
   "cell_type": "markdown",
   "id": "digital-legend",
   "metadata": {},
   "source": [
    "### Classification Model"
   ]
  },
  {
   "cell_type": "code",
   "execution_count": 55,
   "id": "temporal-employer",
   "metadata": {},
   "outputs": [
    {
     "data": {
      "text/html": [
       "<div>\n",
       "<style scoped>\n",
       "    .dataframe tbody tr th:only-of-type {\n",
       "        vertical-align: middle;\n",
       "    }\n",
       "\n",
       "    .dataframe tbody tr th {\n",
       "        vertical-align: top;\n",
       "    }\n",
       "\n",
       "    .dataframe thead th {\n",
       "        text-align: right;\n",
       "    }\n",
       "</style>\n",
       "<table border=\"1\" class=\"dataframe\">\n",
       "  <thead>\n",
       "    <tr style=\"text-align: right;\">\n",
       "      <th></th>\n",
       "      <th>fare_amount</th>\n",
       "      <th>fare_class</th>\n",
       "      <th>passenger_count</th>\n",
       "      <th>Year</th>\n",
       "      <th>Month</th>\n",
       "      <th>Day</th>\n",
       "      <th>Hours</th>\n",
       "      <th>Minutes</th>\n",
       "      <th>mornight</th>\n",
       "      <th>Total distance</th>\n",
       "    </tr>\n",
       "  </thead>\n",
       "  <tbody>\n",
       "    <tr>\n",
       "      <th>34415</th>\n",
       "      <td>13.7</td>\n",
       "      <td>1</td>\n",
       "      <td>4</td>\n",
       "      <td>2010</td>\n",
       "      <td>4</td>\n",
       "      <td>18</td>\n",
       "      <td>13</td>\n",
       "      <td>11</td>\n",
       "      <td>1</td>\n",
       "      <td>3.124883</td>\n",
       "    </tr>\n",
       "    <tr>\n",
       "      <th>89191</th>\n",
       "      <td>10.9</td>\n",
       "      <td>1</td>\n",
       "      <td>1</td>\n",
       "      <td>2010</td>\n",
       "      <td>4</td>\n",
       "      <td>20</td>\n",
       "      <td>11</td>\n",
       "      <td>27</td>\n",
       "      <td>0</td>\n",
       "      <td>4.021699</td>\n",
       "    </tr>\n",
       "    <tr>\n",
       "      <th>109367</th>\n",
       "      <td>8.1</td>\n",
       "      <td>0</td>\n",
       "      <td>2</td>\n",
       "      <td>2010</td>\n",
       "      <td>4</td>\n",
       "      <td>17</td>\n",
       "      <td>14</td>\n",
       "      <td>20</td>\n",
       "      <td>1</td>\n",
       "      <td>1.867904</td>\n",
       "    </tr>\n",
       "    <tr>\n",
       "      <th>75143</th>\n",
       "      <td>14.5</td>\n",
       "      <td>1</td>\n",
       "      <td>1</td>\n",
       "      <td>2010</td>\n",
       "      <td>4</td>\n",
       "      <td>18</td>\n",
       "      <td>4</td>\n",
       "      <td>38</td>\n",
       "      <td>0</td>\n",
       "      <td>5.332207</td>\n",
       "    </tr>\n",
       "    <tr>\n",
       "      <th>50595</th>\n",
       "      <td>5.7</td>\n",
       "      <td>0</td>\n",
       "      <td>1</td>\n",
       "      <td>2010</td>\n",
       "      <td>4</td>\n",
       "      <td>23</td>\n",
       "      <td>13</td>\n",
       "      <td>35</td>\n",
       "      <td>1</td>\n",
       "      <td>1.227739</td>\n",
       "    </tr>\n",
       "  </tbody>\n",
       "</table>\n",
       "</div>"
      ],
      "text/plain": [
       "        fare_amount  fare_class  passenger_count  Year  Month  Day  Hours  \\\n",
       "34415          13.7           1                4  2010      4   18     13   \n",
       "89191          10.9           1                1  2010      4   20     11   \n",
       "109367          8.1           0                2  2010      4   17     14   \n",
       "75143          14.5           1                1  2010      4   18      4   \n",
       "50595           5.7           0                1  2010      4   23     13   \n",
       "\n",
       "        Minutes  mornight  Total distance  \n",
       "34415        11         1        3.124883  \n",
       "89191        27         0        4.021699  \n",
       "109367       20         1        1.867904  \n",
       "75143        38         0        5.332207  \n",
       "50595        35         1        1.227739  "
      ]
     },
     "execution_count": 55,
     "metadata": {},
     "output_type": "execute_result"
    }
   ],
   "source": [
    "df.head()"
   ]
  },
  {
   "cell_type": "code",
   "execution_count": 56,
   "id": "worst-organization",
   "metadata": {},
   "outputs": [],
   "source": [
    "df.to_csv('final_data.csv',index=False)"
   ]
  },
  {
   "cell_type": "code",
   "execution_count": 81,
   "id": "typical-copper",
   "metadata": {},
   "outputs": [],
   "source": [
    "import pandas as pd\n",
    "df=pd.read_csv('final_data.csv',index_col=False)"
   ]
  },
  {
   "cell_type": "code",
   "execution_count": 82,
   "id": "outstanding-bouquet",
   "metadata": {},
   "outputs": [
    {
     "data": {
      "text/html": [
       "<div>\n",
       "<style scoped>\n",
       "    .dataframe tbody tr th:only-of-type {\n",
       "        vertical-align: middle;\n",
       "    }\n",
       "\n",
       "    .dataframe tbody tr th {\n",
       "        vertical-align: top;\n",
       "    }\n",
       "\n",
       "    .dataframe thead th {\n",
       "        text-align: right;\n",
       "    }\n",
       "</style>\n",
       "<table border=\"1\" class=\"dataframe\">\n",
       "  <thead>\n",
       "    <tr style=\"text-align: right;\">\n",
       "      <th></th>\n",
       "      <th>fare_amount</th>\n",
       "      <th>fare_class</th>\n",
       "      <th>passenger_count</th>\n",
       "      <th>Year</th>\n",
       "      <th>Month</th>\n",
       "      <th>Day</th>\n",
       "      <th>Hours</th>\n",
       "      <th>Minutes</th>\n",
       "      <th>mornight</th>\n",
       "      <th>Total distance</th>\n",
       "    </tr>\n",
       "  </thead>\n",
       "  <tbody>\n",
       "    <tr>\n",
       "      <th>0</th>\n",
       "      <td>13.7</td>\n",
       "      <td>1</td>\n",
       "      <td>4</td>\n",
       "      <td>2010</td>\n",
       "      <td>4</td>\n",
       "      <td>18</td>\n",
       "      <td>13</td>\n",
       "      <td>11</td>\n",
       "      <td>1</td>\n",
       "      <td>3.124883</td>\n",
       "    </tr>\n",
       "    <tr>\n",
       "      <th>1</th>\n",
       "      <td>10.9</td>\n",
       "      <td>1</td>\n",
       "      <td>1</td>\n",
       "      <td>2010</td>\n",
       "      <td>4</td>\n",
       "      <td>20</td>\n",
       "      <td>11</td>\n",
       "      <td>27</td>\n",
       "      <td>0</td>\n",
       "      <td>4.021699</td>\n",
       "    </tr>\n",
       "    <tr>\n",
       "      <th>2</th>\n",
       "      <td>8.1</td>\n",
       "      <td>0</td>\n",
       "      <td>2</td>\n",
       "      <td>2010</td>\n",
       "      <td>4</td>\n",
       "      <td>17</td>\n",
       "      <td>14</td>\n",
       "      <td>20</td>\n",
       "      <td>1</td>\n",
       "      <td>1.867904</td>\n",
       "    </tr>\n",
       "    <tr>\n",
       "      <th>3</th>\n",
       "      <td>14.5</td>\n",
       "      <td>1</td>\n",
       "      <td>1</td>\n",
       "      <td>2010</td>\n",
       "      <td>4</td>\n",
       "      <td>18</td>\n",
       "      <td>4</td>\n",
       "      <td>38</td>\n",
       "      <td>0</td>\n",
       "      <td>5.332207</td>\n",
       "    </tr>\n",
       "    <tr>\n",
       "      <th>4</th>\n",
       "      <td>5.7</td>\n",
       "      <td>0</td>\n",
       "      <td>1</td>\n",
       "      <td>2010</td>\n",
       "      <td>4</td>\n",
       "      <td>23</td>\n",
       "      <td>13</td>\n",
       "      <td>35</td>\n",
       "      <td>1</td>\n",
       "      <td>1.227739</td>\n",
       "    </tr>\n",
       "  </tbody>\n",
       "</table>\n",
       "</div>"
      ],
      "text/plain": [
       "   fare_amount  fare_class  passenger_count  Year  Month  Day  Hours  Minutes  \\\n",
       "0         13.7           1                4  2010      4   18     13       11   \n",
       "1         10.9           1                1  2010      4   20     11       27   \n",
       "2          8.1           0                2  2010      4   17     14       20   \n",
       "3         14.5           1                1  2010      4   18      4       38   \n",
       "4          5.7           0                1  2010      4   23     13       35   \n",
       "\n",
       "   mornight  Total distance  \n",
       "0         1        3.124883  \n",
       "1         0        4.021699  \n",
       "2         1        1.867904  \n",
       "3         0        5.332207  \n",
       "4         1        1.227739  "
      ]
     },
     "execution_count": 82,
     "metadata": {},
     "output_type": "execute_result"
    }
   ],
   "source": [
    "df.head()"
   ]
  },
  {
   "cell_type": "code",
   "execution_count": 85,
   "id": "hundred-pregnancy",
   "metadata": {},
   "outputs": [],
   "source": [
    "X=df.iloc[:,[0,2,3,4,5,6,7,8,9]]\n",
    "y=df.iloc[:,1]"
   ]
  },
  {
   "cell_type": "code",
   "execution_count": 86,
   "id": "prerequisite-binary",
   "metadata": {},
   "outputs": [
    {
     "data": {
      "text/html": [
       "<div>\n",
       "<style scoped>\n",
       "    .dataframe tbody tr th:only-of-type {\n",
       "        vertical-align: middle;\n",
       "    }\n",
       "\n",
       "    .dataframe tbody tr th {\n",
       "        vertical-align: top;\n",
       "    }\n",
       "\n",
       "    .dataframe thead th {\n",
       "        text-align: right;\n",
       "    }\n",
       "</style>\n",
       "<table border=\"1\" class=\"dataframe\">\n",
       "  <thead>\n",
       "    <tr style=\"text-align: right;\">\n",
       "      <th></th>\n",
       "      <th>fare_amount</th>\n",
       "      <th>passenger_count</th>\n",
       "      <th>Year</th>\n",
       "      <th>Month</th>\n",
       "      <th>Day</th>\n",
       "      <th>Hours</th>\n",
       "      <th>Minutes</th>\n",
       "      <th>mornight</th>\n",
       "      <th>Total distance</th>\n",
       "    </tr>\n",
       "  </thead>\n",
       "  <tbody>\n",
       "    <tr>\n",
       "      <th>0</th>\n",
       "      <td>13.70</td>\n",
       "      <td>4</td>\n",
       "      <td>2010</td>\n",
       "      <td>4</td>\n",
       "      <td>18</td>\n",
       "      <td>13</td>\n",
       "      <td>11</td>\n",
       "      <td>1</td>\n",
       "      <td>3.124883</td>\n",
       "    </tr>\n",
       "    <tr>\n",
       "      <th>1</th>\n",
       "      <td>10.90</td>\n",
       "      <td>1</td>\n",
       "      <td>2010</td>\n",
       "      <td>4</td>\n",
       "      <td>20</td>\n",
       "      <td>11</td>\n",
       "      <td>27</td>\n",
       "      <td>0</td>\n",
       "      <td>4.021699</td>\n",
       "    </tr>\n",
       "    <tr>\n",
       "      <th>2</th>\n",
       "      <td>8.10</td>\n",
       "      <td>2</td>\n",
       "      <td>2010</td>\n",
       "      <td>4</td>\n",
       "      <td>17</td>\n",
       "      <td>14</td>\n",
       "      <td>20</td>\n",
       "      <td>1</td>\n",
       "      <td>1.867904</td>\n",
       "    </tr>\n",
       "    <tr>\n",
       "      <th>3</th>\n",
       "      <td>14.50</td>\n",
       "      <td>1</td>\n",
       "      <td>2010</td>\n",
       "      <td>4</td>\n",
       "      <td>18</td>\n",
       "      <td>4</td>\n",
       "      <td>38</td>\n",
       "      <td>0</td>\n",
       "      <td>5.332207</td>\n",
       "    </tr>\n",
       "    <tr>\n",
       "      <th>4</th>\n",
       "      <td>5.70</td>\n",
       "      <td>1</td>\n",
       "      <td>2010</td>\n",
       "      <td>4</td>\n",
       "      <td>23</td>\n",
       "      <td>13</td>\n",
       "      <td>35</td>\n",
       "      <td>1</td>\n",
       "      <td>1.227739</td>\n",
       "    </tr>\n",
       "    <tr>\n",
       "      <th>...</th>\n",
       "      <td>...</td>\n",
       "      <td>...</td>\n",
       "      <td>...</td>\n",
       "      <td>...</td>\n",
       "      <td>...</td>\n",
       "      <td>...</td>\n",
       "      <td>...</td>\n",
       "      <td>...</td>\n",
       "      <td>...</td>\n",
       "    </tr>\n",
       "    <tr>\n",
       "      <th>1195</th>\n",
       "      <td>8.10</td>\n",
       "      <td>3</td>\n",
       "      <td>2010</td>\n",
       "      <td>4</td>\n",
       "      <td>15</td>\n",
       "      <td>5</td>\n",
       "      <td>55</td>\n",
       "      <td>0</td>\n",
       "      <td>2.205743</td>\n",
       "    </tr>\n",
       "    <tr>\n",
       "      <th>1196</th>\n",
       "      <td>32.67</td>\n",
       "      <td>1</td>\n",
       "      <td>2010</td>\n",
       "      <td>4</td>\n",
       "      <td>11</td>\n",
       "      <td>9</td>\n",
       "      <td>19</td>\n",
       "      <td>0</td>\n",
       "      <td>4.817990</td>\n",
       "    </tr>\n",
       "    <tr>\n",
       "      <th>1197</th>\n",
       "      <td>5.30</td>\n",
       "      <td>1</td>\n",
       "      <td>2010</td>\n",
       "      <td>4</td>\n",
       "      <td>16</td>\n",
       "      <td>18</td>\n",
       "      <td>58</td>\n",
       "      <td>1</td>\n",
       "      <td>1.458881</td>\n",
       "    </tr>\n",
       "    <tr>\n",
       "      <th>1198</th>\n",
       "      <td>3.70</td>\n",
       "      <td>1</td>\n",
       "      <td>2010</td>\n",
       "      <td>4</td>\n",
       "      <td>21</td>\n",
       "      <td>21</td>\n",
       "      <td>16</td>\n",
       "      <td>1</td>\n",
       "      <td>1.111794</td>\n",
       "    </tr>\n",
       "    <tr>\n",
       "      <th>1199</th>\n",
       "      <td>6.50</td>\n",
       "      <td>1</td>\n",
       "      <td>2010</td>\n",
       "      <td>4</td>\n",
       "      <td>13</td>\n",
       "      <td>14</td>\n",
       "      <td>17</td>\n",
       "      <td>1</td>\n",
       "      <td>2.090317</td>\n",
       "    </tr>\n",
       "  </tbody>\n",
       "</table>\n",
       "<p>1200 rows × 9 columns</p>\n",
       "</div>"
      ],
      "text/plain": [
       "      fare_amount  passenger_count  Year  Month  Day  Hours  Minutes  \\\n",
       "0           13.70                4  2010      4   18     13       11   \n",
       "1           10.90                1  2010      4   20     11       27   \n",
       "2            8.10                2  2010      4   17     14       20   \n",
       "3           14.50                1  2010      4   18      4       38   \n",
       "4            5.70                1  2010      4   23     13       35   \n",
       "...           ...              ...   ...    ...  ...    ...      ...   \n",
       "1195         8.10                3  2010      4   15      5       55   \n",
       "1196        32.67                1  2010      4   11      9       19   \n",
       "1197         5.30                1  2010      4   16     18       58   \n",
       "1198         3.70                1  2010      4   21     21       16   \n",
       "1199         6.50                1  2010      4   13     14       17   \n",
       "\n",
       "      mornight  Total distance  \n",
       "0            1        3.124883  \n",
       "1            0        4.021699  \n",
       "2            1        1.867904  \n",
       "3            0        5.332207  \n",
       "4            1        1.227739  \n",
       "...        ...             ...  \n",
       "1195         0        2.205743  \n",
       "1196         0        4.817990  \n",
       "1197         1        1.458881  \n",
       "1198         1        1.111794  \n",
       "1199         1        2.090317  \n",
       "\n",
       "[1200 rows x 9 columns]"
      ]
     },
     "execution_count": 86,
     "metadata": {},
     "output_type": "execute_result"
    }
   ],
   "source": [
    "X"
   ]
  },
  {
   "cell_type": "code",
   "execution_count": 65,
   "id": "failing-screw",
   "metadata": {},
   "outputs": [
    {
     "data": {
      "text/plain": [
       "0       1\n",
       "1       1\n",
       "2       0\n",
       "3       1\n",
       "4       0\n",
       "       ..\n",
       "1195    0\n",
       "1196    1\n",
       "1197    0\n",
       "1198    0\n",
       "1199    0\n",
       "Name: fare_class, Length: 1200, dtype: int64"
      ]
     },
     "execution_count": 65,
     "metadata": {},
     "output_type": "execute_result"
    }
   ],
   "source": [
    "y"
   ]
  },
  {
   "cell_type": "markdown",
   "id": "cathedral-bhutan",
   "metadata": {},
   "source": [
    "### Feature Selection"
   ]
  },
  {
   "cell_type": "code",
   "execution_count": 88,
   "id": "frequent-senior",
   "metadata": {},
   "outputs": [
    {
     "data": {
      "text/plain": [
       "ExtraTreesRegressor()"
      ]
     },
     "execution_count": 88,
     "metadata": {},
     "output_type": "execute_result"
    }
   ],
   "source": [
    "from sklearn.ensemble import ExtraTreesRegressor\n",
    "import matplotlib.pyplot as plt\n",
    "model=ExtraTreesRegressor()\n",
    "model.fit(X,y)"
   ]
  },
  {
   "cell_type": "code",
   "execution_count": 90,
   "id": "through-germany",
   "metadata": {},
   "outputs": [
    {
     "data": {
      "image/png": "[encoded data removed]",
      "text/plain": [
       "<Figure size 432x288 with 1 Axes>"
      ]
     },
     "metadata": {
      "needs_background": "light"
     },
     "output_type": "display_data"
    }
   ],
   "source": [
    "##Plot graph of feature importance for better visualizations\n",
    "\n",
    "feat_importances=pd.Series(model.feature_importances_,index=X.columns)\n",
    "feat_importances.nlargest(7).plot(kind='barh')\n",
    "plt.show()"
   ]
  },
  {
   "cell_type": "code",
   "execution_count": 91,
   "id": "intense-lawyer",
   "metadata": {},
   "outputs": [
    {
     "data": {
      "text/html": [
       "<div>\n",
       "<style scoped>\n",
       "    .dataframe tbody tr th:only-of-type {\n",
       "        vertical-align: middle;\n",
       "    }\n",
       "\n",
       "    .dataframe tbody tr th {\n",
       "        vertical-align: top;\n",
       "    }\n",
       "\n",
       "    .dataframe thead th {\n",
       "        text-align: right;\n",
       "    }\n",
       "</style>\n",
       "<table border=\"1\" class=\"dataframe\">\n",
       "  <thead>\n",
       "    <tr style=\"text-align: right;\">\n",
       "      <th></th>\n",
       "      <th>fare_amount</th>\n",
       "      <th>passenger_count</th>\n",
       "      <th>Year</th>\n",
       "      <th>Month</th>\n",
       "      <th>Day</th>\n",
       "      <th>Hours</th>\n",
       "      <th>Minutes</th>\n",
       "      <th>mornight</th>\n",
       "      <th>Total distance</th>\n",
       "    </tr>\n",
       "  </thead>\n",
       "  <tbody>\n",
       "    <tr>\n",
       "      <th>0</th>\n",
       "      <td>13.7</td>\n",
       "      <td>4</td>\n",
       "      <td>2010</td>\n",
       "      <td>4</td>\n",
       "      <td>18</td>\n",
       "      <td>13</td>\n",
       "      <td>11</td>\n",
       "      <td>1</td>\n",
       "      <td>3.124883</td>\n",
       "    </tr>\n",
       "    <tr>\n",
       "      <th>1</th>\n",
       "      <td>10.9</td>\n",
       "      <td>1</td>\n",
       "      <td>2010</td>\n",
       "      <td>4</td>\n",
       "      <td>20</td>\n",
       "      <td>11</td>\n",
       "      <td>27</td>\n",
       "      <td>0</td>\n",
       "      <td>4.021699</td>\n",
       "    </tr>\n",
       "    <tr>\n",
       "      <th>2</th>\n",
       "      <td>8.1</td>\n",
       "      <td>2</td>\n",
       "      <td>2010</td>\n",
       "      <td>4</td>\n",
       "      <td>17</td>\n",
       "      <td>14</td>\n",
       "      <td>20</td>\n",
       "      <td>1</td>\n",
       "      <td>1.867904</td>\n",
       "    </tr>\n",
       "    <tr>\n",
       "      <th>3</th>\n",
       "      <td>14.5</td>\n",
       "      <td>1</td>\n",
       "      <td>2010</td>\n",
       "      <td>4</td>\n",
       "      <td>18</td>\n",
       "      <td>4</td>\n",
       "      <td>38</td>\n",
       "      <td>0</td>\n",
       "      <td>5.332207</td>\n",
       "    </tr>\n",
       "    <tr>\n",
       "      <th>4</th>\n",
       "      <td>5.7</td>\n",
       "      <td>1</td>\n",
       "      <td>2010</td>\n",
       "      <td>4</td>\n",
       "      <td>23</td>\n",
       "      <td>13</td>\n",
       "      <td>35</td>\n",
       "      <td>1</td>\n",
       "      <td>1.227739</td>\n",
       "    </tr>\n",
       "  </tbody>\n",
       "</table>\n",
       "</div>"
      ],
      "text/plain": [
       "   fare_amount  passenger_count  Year  Month  Day  Hours  Minutes  mornight  \\\n",
       "0         13.7                4  2010      4   18     13       11         1   \n",
       "1         10.9                1  2010      4   20     11       27         0   \n",
       "2          8.1                2  2010      4   17     14       20         1   \n",
       "3         14.5                1  2010      4   18      4       38         0   \n",
       "4          5.7                1  2010      4   23     13       35         1   \n",
       "\n",
       "   Total distance  \n",
       "0        3.124883  \n",
       "1        4.021699  \n",
       "2        1.867904  \n",
       "3        5.332207  \n",
       "4        1.227739  "
      ]
     },
     "execution_count": 91,
     "metadata": {},
     "output_type": "execute_result"
    }
   ],
   "source": [
    "X.head()"
   ]
  },
  {
   "cell_type": "code",
   "execution_count": 92,
   "id": "compatible-excellence",
   "metadata": {},
   "outputs": [
    {
     "data": {
      "text/plain": [
       "0    1\n",
       "1    1\n",
       "2    0\n",
       "3    1\n",
       "4    0\n",
       "Name: fare_class, dtype: int64"
      ]
     },
     "execution_count": 92,
     "metadata": {},
     "output_type": "execute_result"
    }
   ],
   "source": [
    "y.head()"
   ]
  },
  {
   "cell_type": "code",
   "execution_count": 93,
   "id": "honest-milton",
   "metadata": {},
   "outputs": [
    {
     "data": {
      "text/plain": [
       "0    775\n",
       "1    425\n",
       "Name: fare_class, dtype: int64"
      ]
     },
     "execution_count": 93,
     "metadata": {},
     "output_type": "execute_result"
    }
   ],
   "source": [
    "y.value_counts()"
   ]
  },
  {
   "cell_type": "code",
   "execution_count": 94,
   "id": "handmade-inclusion",
   "metadata": {},
   "outputs": [],
   "source": [
    "from sklearn.model_selection import train_test_split\n",
    "X_train,X_test,y_train,y_test=train_test_split(X,y,test_size=0.3,random_state=100)"
   ]
  },
  {
   "cell_type": "code",
   "execution_count": 95,
   "id": "spectacular-athens",
   "metadata": {},
   "outputs": [],
   "source": [
    "from sklearn.ensemble import RandomForestClassifier"
   ]
  },
  {
   "cell_type": "code",
   "execution_count": 96,
   "id": "facial-ordering",
   "metadata": {},
   "outputs": [
    {
     "data": {
      "text/plain": [
       "RandomForestClassifier()"
      ]
     },
     "execution_count": 96,
     "metadata": {},
     "output_type": "execute_result"
    }
   ],
   "source": [
    "classifier=RandomForestClassifier()\n",
    "classifier.fit(X_train,y_train)"
   ]
  },
  {
   "cell_type": "code",
   "execution_count": 97,
   "id": "minimal-longer",
   "metadata": {},
   "outputs": [],
   "source": [
    "y_pred=classifier.predict(X_test)"
   ]
  },
  {
   "cell_type": "code",
   "execution_count": 98,
   "id": "timely-income",
   "metadata": {},
   "outputs": [
    {
     "name": "stdout",
     "output_type": "stream",
     "text": [
      "[[241   0]\n",
      " [  0 119]]\n",
      "1.0\n"
     ]
    }
   ],
   "source": [
    "from sklearn.metrics import confusion_matrix,accuracy_score,classification_report\n",
    "cm=confusion_matrix(y_test,y_pred)\n",
    "score=accuracy_score(y_test,y_pred)\n",
    "print(cm)\n",
    "print(score)"
   ]
  },
  {
   "cell_type": "markdown",
   "id": "arranged-details",
   "metadata": {},
   "source": [
    "seems like a overfitting problem! Let's hyperparameter tune the model.."
   ]
  },
  {
   "cell_type": "markdown",
   "id": "present-working",
   "metadata": {},
   "source": [
    "### Hyperparameter Tuning"
   ]
  },
  {
   "cell_type": "code",
   "execution_count": 114,
   "id": "falling-pharmacy",
   "metadata": {},
   "outputs": [],
   "source": [
    "from sklearn.model_selection import RandomizedSearchCV"
   ]
  },
  {
   "cell_type": "code",
   "execution_count": 115,
   "id": "twelve-rendering",
   "metadata": {},
   "outputs": [
    {
     "name": "stdout",
     "output_type": "stream",
     "text": [
      "[100, 200, 300, 400, 500, 600, 700, 800, 900, 1000, 1100, 1200]\n"
     ]
    }
   ],
   "source": [
    "n_estimators=[int(x) for x in np.linspace(start=100,stop=1200,num=12)]\n",
    "print(n_estimators)"
   ]
  },
  {
   "cell_type": "code",
   "execution_count": 122,
   "id": "transparent-application",
   "metadata": {},
   "outputs": [],
   "source": [
    "# RandomizedSearchCV\n",
    "\n",
    "## Number of trees in Xgboost\n",
    "n_estimators=[int(x) for x in np.linspace(start=100,stop=1200,num=12)]\n",
    "\n",
    "## Maximum number of levels in tree\n",
    "max_depth=[int(x) for x in np.linspace(5,30,num=6)]\n",
    "\n",
    "min_samples_split=[2,5,10,15,100]\n",
    "\n",
    "min_samples_leaf=[1,2,5,10]"
   ]
  },
  {
   "cell_type": "code",
   "execution_count": 123,
   "id": "forward-water",
   "metadata": {},
   "outputs": [
    {
     "name": "stdout",
     "output_type": "stream",
     "text": [
      "{'n_estimators': [100, 200, 300, 400, 500, 600, 700, 800, 900, 1000, 1100, 1200], 'max_depth': [5, 10, 15, 20, 25, 30], 'min_samples_split': [2, 5, 10, 15, 100], 'min_samples_leaf': [1, 2, 5, 10]}\n"
     ]
    }
   ],
   "source": [
    "random_grid={'n_estimators': n_estimators,\n",
    "            'max_depth': max_depth,\n",
    "            'min_samples_split': min_samples_split,\n",
    "            'min_samples_leaf': min_samples_leaf}\n",
    "\n",
    "print(random_grid)"
   ]
  },
  {
   "cell_type": "code",
   "execution_count": 124,
   "id": "cognitive-burton",
   "metadata": {},
   "outputs": [],
   "source": [
    "xg_random= RandomizedSearchCV(estimator=classifier,param_distributions=random_grid,scoring=None,n_iter=5,cv=5,verbose=2,n_jobs=1)"
   ]
  },
  {
   "cell_type": "code",
   "execution_count": 125,
   "id": "laden-layer",
   "metadata": {},
   "outputs": [
    {
     "name": "stdout",
     "output_type": "stream",
     "text": [
      "Fitting 5 folds for each of 5 candidates, totalling 25 fits\n",
      "[CV] END max_depth=15, min_samples_leaf=10, min_samples_split=2, n_estimators=1200; total time=   6.6s\n",
      "[CV] END max_depth=15, min_samples_leaf=10, min_samples_split=2, n_estimators=1200; total time=   6.4s\n",
      "[CV] END max_depth=15, min_samples_leaf=10, min_samples_split=2, n_estimators=1200; total time=   6.3s\n",
      "[CV] END max_depth=15, min_samples_leaf=10, min_samples_split=2, n_estimators=1200; total time=   6.7s\n",
      "[CV] END max_depth=15, min_samples_leaf=10, min_samples_split=2, n_estimators=1200; total time=   6.8s\n",
      "[CV] END max_depth=10, min_samples_leaf=2, min_samples_split=10, n_estimators=700; total time=   4.0s\n",
      "[CV] END max_depth=10, min_samples_leaf=2, min_samples_split=10, n_estimators=700; total time=   4.3s\n",
      "[CV] END max_depth=10, min_samples_leaf=2, min_samples_split=10, n_estimators=700; total time=   3.8s\n",
      "[CV] END max_depth=10, min_samples_leaf=2, min_samples_split=10, n_estimators=700; total time=   3.9s\n",
      "[CV] END max_depth=10, min_samples_leaf=2, min_samples_split=10, n_estimators=700; total time=   4.7s\n",
      "[CV] END max_depth=20, min_samples_leaf=1, min_samples_split=2, n_estimators=1200; total time=   6.7s\n",
      "[CV] END max_depth=20, min_samples_leaf=1, min_samples_split=2, n_estimators=1200; total time=   7.3s\n",
      "[CV] END max_depth=20, min_samples_leaf=1, min_samples_split=2, n_estimators=1200; total time=   6.9s\n",
      "[CV] END max_depth=20, min_samples_leaf=1, min_samples_split=2, n_estimators=1200; total time=   6.9s\n",
      "[CV] END max_depth=20, min_samples_leaf=1, min_samples_split=2, n_estimators=1200; total time=   6.9s\n",
      "[CV] END max_depth=30, min_samples_leaf=5, min_samples_split=5, n_estimators=200; total time=   1.0s\n",
      "[CV] END max_depth=30, min_samples_leaf=5, min_samples_split=5, n_estimators=200; total time=   1.1s\n",
      "[CV] END max_depth=30, min_samples_leaf=5, min_samples_split=5, n_estimators=200; total time=   1.0s\n",
      "[CV] END max_depth=30, min_samples_leaf=5, min_samples_split=5, n_estimators=200; total time=   1.0s\n",
      "[CV] END max_depth=30, min_samples_leaf=5, min_samples_split=5, n_estimators=200; total time=   1.0s\n",
      "[CV] END max_depth=10, min_samples_leaf=5, min_samples_split=15, n_estimators=400; total time=   2.0s\n",
      "[CV] END max_depth=10, min_samples_leaf=5, min_samples_split=15, n_estimators=400; total time=   2.0s\n",
      "[CV] END max_depth=10, min_samples_leaf=5, min_samples_split=15, n_estimators=400; total time=   2.0s\n",
      "[CV] END max_depth=10, min_samples_leaf=5, min_samples_split=15, n_estimators=400; total time=   2.0s\n",
      "[CV] END max_depth=10, min_samples_leaf=5, min_samples_split=15, n_estimators=400; total time=   2.0s\n"
     ]
    },
    {
     "data": {
      "text/plain": [
       "RandomizedSearchCV(cv=5, estimator=RandomForestClassifier(), n_iter=5, n_jobs=1,\n",
       "                   param_distributions={'max_depth': [5, 10, 15, 20, 25, 30],\n",
       "                                        'min_samples_leaf': [1, 2, 5, 10],\n",
       "                                        'min_samples_split': [2, 5, 10, 15,\n",
       "                                                              100],\n",
       "                                        'n_estimators': [100, 200, 300, 400,\n",
       "                                                         500, 600, 700, 800,\n",
       "                                                         900, 1000, 1100,\n",
       "                                                         1200]},\n",
       "                   verbose=2)"
      ]
     },
     "execution_count": 125,
     "metadata": {},
     "output_type": "execute_result"
    }
   ],
   "source": [
    "xg_random.fit(X_train,y_train)"
   ]
  },
  {
   "cell_type": "code",
   "execution_count": 126,
   "id": "burning-eclipse",
   "metadata": {},
   "outputs": [
    {
     "data": {
      "text/plain": [
       "{'n_estimators': 1200,\n",
       " 'min_samples_split': 2,\n",
       " 'min_samples_leaf': 10,\n",
       " 'max_depth': 15}"
      ]
     },
     "execution_count": 126,
     "metadata": {},
     "output_type": "execute_result"
    }
   ],
   "source": [
    "xg_random.best_params_"
   ]
  },
  {
   "cell_type": "code",
   "execution_count": 127,
   "id": "spare-project",
   "metadata": {},
   "outputs": [],
   "source": [
    "y_pred=xg_random.predict(X_test)"
   ]
  },
  {
   "cell_type": "code",
   "execution_count": 128,
   "id": "permanent-wedding",
   "metadata": {},
   "outputs": [
    {
     "name": "stdout",
     "output_type": "stream",
     "text": [
      "[[241   0]\n",
      " [  0 119]]\n",
      "1.0\n"
     ]
    }
   ],
   "source": [
    "from sklearn.metrics import confusion_matrix,accuracy_score,classification_report\n",
    "cm=confusion_matrix(y_test,y_pred)\n",
    "score=accuracy_score(y_test,y_pred)\n",
    "print(cm)\n",
    "print(score)"
   ]
  },
  {
   "cell_type": "markdown",
   "id": "working-eleven",
   "metadata": {},
   "source": [
    "It's not an overfitting problem!"
   ]
  }
 ],
 "metadata": {
  "kernelspec": {
   "display_name": "Python 3",
   "language": "python",
   "name": "python3"
  },
  "language_info": {
   "codemirror_mode": {
    "name": "ipython",
    "version": 3
   },
   "file_extension": ".py",
   "mimetype": "text/x-python",
   "name": "python",
   "nbconvert_exporter": "python",
   "pygments_lexer": "ipython3",
   "version": "3.7.3"
  }
 },
 "nbformat": 4,
 "nbformat_minor": 5
}
